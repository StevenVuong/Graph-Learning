{
  "nbformat": 4,
  "nbformat_minor": 0,
  "metadata": {
    "colab": {
      "name": "Spektral Basic.ipynb",
      "provenance": [],
      "collapsed_sections": []
    },
    "kernelspec": {
      "name": "python3",
      "display_name": "Python 3"
    },
    "language_info": {
      "name": "python"
    }
  },
  "cells": [
    {
      "cell_type": "markdown",
      "source": [
        "Following Tutorial from: https://graphneural.network/getting-started/\n",
        "\n",
        "Date: 21/04/22"
      ],
      "metadata": {
        "id": "GdvdE1ZhOBjl"
      }
    },
    {
      "cell_type": "code",
      "execution_count": null,
      "metadata": {
        "id": "U-wfJBSXN4IN"
      },
      "outputs": [],
      "source": [
        "!pip install spektral"
      ]
    },
    {
      "cell_type": "code",
      "source": [
        "from spektral.datasets import TUDataset\n",
        "dataset = TUDataset('PROTEINS')\n",
        "\n",
        "dataset"
      ],
      "metadata": {
        "id": "aCk9qyb1OFI-"
      },
      "execution_count": null,
      "outputs": []
    },
    {
      "cell_type": "code",
      "source": [
        "dataset[0]"
      ],
      "metadata": {
        "id": "CgapBZtbOmTd"
      },
      "execution_count": null,
      "outputs": []
    },
    {
      "cell_type": "code",
      "source": [
        "dataset[:100]"
      ],
      "metadata": {
        "id": "hMjBXNM4Om8s"
      },
      "execution_count": null,
      "outputs": []
    },
    {
      "cell_type": "code",
      "source": [
        "dataset.filter(lambda g: g.n_nodes < 500)"
      ],
      "metadata": {
        "id": "CZW9szS9On9P"
      },
      "execution_count": null,
      "outputs": []
    },
    {
      "cell_type": "code",
      "source": [
        "dataset"
      ],
      "metadata": {
        "id": "26Hc6zzNOqmI"
      },
      "execution_count": null,
      "outputs": []
    },
    {
      "cell_type": "code",
      "source": [
        "max_degree = dataset.map(lambda g: g.a.sum(-1).max(), reduce=max)"
      ],
      "metadata": {
        "id": "6lehyNHeOvCN"
      },
      "execution_count": null,
      "outputs": []
    },
    {
      "cell_type": "code",
      "source": [
        "max_degree"
      ],
      "metadata": {
        "id": "eOikdkIiO89v"
      },
      "execution_count": null,
      "outputs": []
    },
    {
      "cell_type": "code",
      "source": [
        "from spektral.transforms import Degree\n",
        "# augment nodes with one-hot-encoded degree\n",
        "dataset.apply(Degree(int(max_degree)))"
      ],
      "metadata": {
        "id": "H-OImTxmO0k3"
      },
      "execution_count": null,
      "outputs": []
    },
    {
      "cell_type": "code",
      "source": [
        "from spektral.transforms import GCNFilter\n",
        "\n",
        "dataset.apply(GCNFilter())"
      ],
      "metadata": {
        "id": "fz36hFLZO4m3"
      },
      "execution_count": null,
      "outputs": []
    },
    {
      "cell_type": "code",
      "source": [
        "from tensorflow.keras.models import Model\n",
        "from tensorflow.keras.layers import Dense, Dropout\n",
        "from spektral.layers import GCNConv, GlobalSumPool"
      ],
      "metadata": {
        "id": "elQ1p1FXPLfd"
      },
      "execution_count": null,
      "outputs": []
    },
    {
      "cell_type": "code",
      "source": [
        "class MyFirstGNN(Model):\n",
        "\n",
        "    def __init__(self, n_hidden, n_labels):\n",
        "        super().__init__()\n",
        "        self.graph_conv = GCNConv(n_hidden)\n",
        "        self.pool = GlobalSumPool()\n",
        "        self.dropout = Dropout(0.5)\n",
        "        self.dense = Dense(n_labels, 'softmax')\n",
        "\n",
        "    def call(self, inputs):\n",
        "        out = self.graph_conv(inputs)\n",
        "        out = self.dropout(out)\n",
        "        out = self.pool(out)\n",
        "        out = self.dense(out)\n",
        "\n",
        "        return out"
      ],
      "metadata": {
        "id": "VFTXrKC5Pafl"
      },
      "execution_count": null,
      "outputs": []
    },
    {
      "cell_type": "code",
      "source": [
        "model = MyFirstGNN(32, dataset.n_labels)\n",
        "model.compile('adam', 'categorical_crossentropy')"
      ],
      "metadata": {
        "id": "HFQUbXMlPtdr"
      },
      "execution_count": null,
      "outputs": []
    },
    {
      "cell_type": "code",
      "source": [
        "# must user data loader\n",
        "from spektral.data import BatchLoader\n",
        "loader = BatchLoader(dataset[:1000], batch_size=32)"
      ],
      "metadata": {
        "id": "ka3fstGvPvXD"
      },
      "execution_count": null,
      "outputs": []
    },
    {
      "cell_type": "code",
      "source": [
        "model.fit(loader.load(), steps_per_epoch=loader.steps_per_epoch, epochs=10)"
      ],
      "metadata": {
        "id": "ecFBEWyEP9OR"
      },
      "execution_count": null,
      "outputs": []
    },
    {
      "cell_type": "code",
      "source": [
        "from spektral.data import BatchLoader\n",
        "\n",
        "loader = BatchLoader(dataset[:1000], batch_size=32)"
      ],
      "metadata": {
        "id": "ThScgZ0FQP9L"
      },
      "execution_count": null,
      "outputs": []
    },
    {
      "cell_type": "code",
      "source": [
        "loss = model.evaluate(loader.load(), steps=loader.steps_per_epoch)\n",
        "\n",
        "print('Test loss: {}'.format(loss))"
      ],
      "metadata": {
        "id": "8DIBiwAaQUPC"
      },
      "execution_count": null,
      "outputs": []
    },
    {
      "cell_type": "code",
      "source": [
        "model.predict(BatchLoader(dataset[:1100], batch_size=32).load(), steps=loader.steps_per_epoch)"
      ],
      "metadata": {
        "id": "8gtptdCgQVM6"
      },
      "execution_count": null,
      "outputs": []
    },
    {
      "cell_type": "code",
      "source": [
        ""
      ],
      "metadata": {
        "id": "YGi78cIGRBpK"
      },
      "execution_count": null,
      "outputs": []
    }
  ]
}