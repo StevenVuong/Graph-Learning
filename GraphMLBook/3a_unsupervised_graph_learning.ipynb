{
 "cells": [
  {
   "cell_type": "markdown",
   "metadata": {},
   "source": [
    "# Unsupervised Graph Learning\n",
    "\n",
    "Unsupervised ML: subset of ML that do not exploit any target information during training. Where there is no teacher and no correct answer is known a *priori*. These have become a useful tool to solve downstream tasks, such as node classification, community detection etc..\n",
    "\n",
    "Given a graph, the goal of the techniques is to automatically learn a latent representation of it, in which the key structural components are somehow preserved.\n",
    "\n",
    "Due to the mathematical complexity of Graphs in non-Euclidean space, it is not always easy to define what is close to what. May be hard to say what *close* even means, two users can be connected yet share very different features, can we still consider them as \"close\"? So problems like these are the reason unsupervised ML algorithms have found large applications in graph analysis, as there is no need for manually annotated data; making use of the information in the adjacency matrix and node features without any knowledge of the downstream ML task.\n",
    "\n",
    "One of the most used solutions is to learn embeddings that preserve graph structure. Learned representation can reconstruct pair-wise node similarity e.g. **adjacency matrix**. Can encode latent relationships to discover hidden and complex patterns. Reported by paper https://arxivorg/abs/2005.03675, algorithms can be grouped into macro-groups: shallow embedding methods, autoencoders and GNNs. "
   ]
  },
  {
   "cell_type": "markdown",
   "metadata": {},
   "source": [
    "![3_1](./figures/3_1.jpg)"
   ]
  },
  {
   "cell_type": "markdown",
   "metadata": {},
   "source": [
    "## Shallow Embedding Methods\n",
    "Learn and return embedding values for learned input data\n",
    "\n",
    "### Matrix Factorisation\n",
    "General decomposition technique widely used in different domains. Consistent number of graph embedding algorithms use this technique to compute node embedding of a graph.\n",
    "Matrix factorisation learns the V and H matrices (W ~ V X H) where $V \\isin \\Re$ <sup>$m$ x $d$</sup> and  $H \\isin \\Re$ <sup>$d$ x $n$</sup> (called **source** and **abundance** matrix respectively) by minimising a loss function that can change according to the specific problem we want to solve. *d* is the number of dimensions of the generated embedding space. The loss fn. is defined by computing the reconstruction err. using the Frobenius Norm as $||W - V X H||^2_F$. \n",
    "\n",
    "Generally speaking, all the unsupervised embedding algorithms based on matrix factorisation use the same principle. They factorise an input graph expressed as a matrix in different components. Differences lie in the loss functions used in the optimisation process. Different loss functions create embedding spaces that emphasise specific graph properties.\n",
    "\n",
    "### Graph Factorisation\n",
    "GF algorithm factorises the adjacency matrix of a given graph. \n",
    "$L = 1/2 \\sum\\limits_{(i,j) \\isin E} (A$ <sub>$i,j$</sub> $- Y_i,Y_j^T)^2 + \\lambda/2 \\sum\\limits_{i}||Y_t||^2$\n",
    "May also include a regularisation term $\\lambda$ to make sure the problem remains well-posed in the absence of sufficient data. Suitable for undirected graph, has a strong symmetric factorisation. But could be limited for undirected graphs."
   ]
  },
  {
   "cell_type": "code",
   "execution_count": 1,
   "metadata": {},
   "outputs": [
    {
     "name": "stdout",
     "output_type": "stream",
     "text": [
      "[Errno 2] No such file or directory: 'gem/c_exe/gf'\n",
      "./gf not found. Reverting to Python implementation. Please compile gf, place node2vec in the path and grant executable permission\n",
      "\t\tIter id: 0, Objective: 95.0074, f1: 95.0032, f2: 0.00421903\n"
     ]
    }
   ],
   "source": [
    "import networkx as nx\n",
    "from gem.embedding.gf import GraphFactorization\n",
    "\n",
    "G = nx.barbell_graph(m1=10, m2=4)\n",
    "\n",
    "# generate d=2 dimensional embedding space\n",
    "gf = GraphFactorization(d=2, data_set=None, max_iter=10000, eta=1*10**-4, regu=1.0)\n",
    "# computation of node embeddings of input graph\n",
    "gf.learn_embedding(graph=G)\n",
    "# extracted computed embedding by calling gf.get_embedding()\n",
    "embeddings = gf.get_embedding()"
   ]
  },
  {
   "cell_type": "code",
   "execution_count": 2,
   "metadata": {},
   "outputs": [
    {
     "data": {
      "text/plain": [
       "<matplotlib.collections.PathCollection at 0x7f5b5cb2d6d0>"
      ]
     },
     "execution_count": 2,
     "metadata": {},
     "output_type": "execute_result"
    },
    {
     "data": {
      "image/png": "[encoded data removed]",
      "text/plain": [
       "<Figure size 432x288 with 1 Axes>"
      ]
     },
     "metadata": {
      "needs_background": "light"
     },
     "output_type": "display_data"
    }
   ],
   "source": [
    "import matplotlib.pyplot as plt\n",
    "%matplotlib inline\n",
    "\n",
    "# we can see approx. 3 groupings\n",
    "plt.scatter(embeddings[:,0], embeddings[:,1])"
   ]
  },
  {
   "cell_type": "markdown",
   "metadata": {},
   "source": [
    "**Higher-order proximity preserved embedding (HOPE)** is another graph embedding technique based on matrix factorisation. This method preserves higher-order proximity and does not force its embeddings to have symmetric properties.\n",
    "-  **First-order proximity**: We say a vertex pair $(v_i, v_j)$ has first-order proximity equal to edge weight $W$<sub>$ij$</sub> if edge $(v_i, v_j) \\isin E$. Otherwise, the first-order proximity between the two nodes is 0.\n",
    "-  **Second and high-order proximity**: Capture two-step relationships between each pair of vertices. For each vertex pair $(v_i, v_j)$, second-order proximity is a two-step transition from $v_i$ to $v_j$. Higher-order proximity generalises this and we can capture a more global structure. Higher-order proximity can be viewed as k-step transition from $v_i$ to $v_j$.\n",
    "\n",
    "Loss function for HOPE is $L = ||S - Y_s \\times Y_t^T||^2_F$ where $S$ is the similarity matrix from graph $G$ and $Y_s \\isin \\Re$<sup>$|V|xd$</sup> and $Y_t \\isin \\Re$<sup>$|V|xd$</sup> are two ebedding matrices representing *d*-dimensional embedding space. $Y_s$ represents source embedding and $Y_t$ represents target embedding. HOPE uses two matrices to capture asymmetric proximity in directed networks where the direction from source node and target node is present. The final embedding matrix, Y, is obtained by concatenating column-wise $Y_s$ and $Y_t$ matrices, so the final embedding space has $2 * d$ dimensions.\n",
    "\n",
    "*S* is a similarity matrix from graph *G*, it's goalis to obtain higher-order proximity information. Formally computed as $S=M_g \\cdot M_t$ where $M_g$ and $M_t$ are polynomials of matrices. Some ways to compute $M_g$ and $M_t$ are:\n",
    "-  **Academic Adar(AA)**: Here, $M_g = I (identity)$ and $M_t = A \\cdot D \\cdot A$ where $D$ is a diagonal matrix computed as $D$<sub>$ij$</sub> $ = 1/ (\\sum (A_i $<sub>$j$</sub> $+ A_j$ <sub>$i$</sub> $))$\n",
    "-  **Katz Index**\n",
    "-  **Rooted PageRank (RPR)**\n",
    "-  **Common Neighbors (CN)** etc.."
   ]
  },
  {
   "cell_type": "code",
   "execution_count": 3,
   "metadata": {},
   "outputs": [
    {
     "name": "stdout",
     "output_type": "stream",
     "text": [
      "SVD error (low rank): 0.052092\n"
     ]
    }
   ],
   "source": [
    "import networkx as nx\n",
    "from gem.embedding.hope import HOPE\n",
    "\n",
    "G = nx.barbell_graph(m1=10, m2=4)\n",
    "# different class initialization with HOPE\n",
    "# d represents dimension of embedding space, num of columns of final embedding matrix Y\n",
    "# Y is obtained after column-wise concatenation of Y_s and Y_t\n",
    "gf = HOPE(d=4, beta=0.01)\n",
    "gf.learn_embedding(graph=G)\n",
    "embeddings = gf.get_embedding()"
   ]
  },
  {
   "cell_type": "code",
   "execution_count": 4,
   "metadata": {},
   "outputs": [
    {
     "data": {
      "text/plain": [
       "<matplotlib.collections.PathCollection at 0x7f5b5c9eebe0>"
      ]
     },
     "execution_count": 4,
     "metadata": {},
     "output_type": "execute_result"
    },
    {
     "data": {
      "image/png": "[encoded data removed]",
      "text/plain": [
       "<Figure size 432x288 with 1 Axes>"
      ]
     },
     "metadata": {
      "needs_background": "light"
     },
     "output_type": "display_data"
    }
   ],
   "source": [
    "# can see better grouping/separation of models\n",
    "plt.scatter(embeddings[:,0], embeddings[:,1])"
   ]
  },
  {
   "cell_type": "markdown",
   "metadata": {},
   "source": [
    "**Graph Representation with Global Structure Information**\n",
    "\n",
    "Graph representation with global structure information, such as HOPE allows us to preserve higher-order proximity without forcing embeddings to have symmetric properties. Formally, let $G = (V, E)$ be the graph we want to compute node embeddings for and $A \\isin \\Re$<sup>$|V| \\times |V|$</sup> be its adjacency matrix, we have the loss function:\n",
    "$L_k = ||X^k - Y_s^k \\times Y_t $<sup>$k^T$</sup>$||^2_F 1 \\le k \\le K $. In the loss fn, $X^k \\isin \\Re$<sup>$|V|\\times|V|$</sup> is a matrix generated from graph *G* to get the *k*th order of proximity between nodes. \n",
    "\n",
    "$Y_s^k \\isin \\Re$<sup>$|V|\\times|V|$</sup> and $Y_t^k \\isin \\Re$<sup>$|V|\\times|V|$</sup> are two embedding matrices representing a d-dimensional embedding space of *k*th order proximity for source and target nodes, respectively. The $X^k$ matrix is computed according to the equation $X^k = \\prod\\limits_{k}(D$<sup>$-1$</sup>$A)$ where D is a diagonal **degree matrix** computed where $D$<sup>ij</sup>$=\\sum\\limits_{p} A$<sub>ip</sub> where $i=j$. \n",
    "\n",
    "$X^1 = D$<sup>-1</sup>$A$ represents the (one-step) probability transition matrix where Xij is the probability of transition from vertex $V_i$ to $V_j$. Generally, $V^k$<sub>ij</sub> represents the probability of transition from $V_i$ to $V_j$ within *k* steps. For each order of proximity, k, an independent optimisation is fitted. All the k embedding matrices generated are then column-wise concatenated to get the final source embedding matrices."
   ]
  },
  {
   "cell_type": "code",
   "execution_count": 1,
   "metadata": {},
   "outputs": [],
   "source": [
    "# node embedding for karateclub\n",
    "import networkx as nx\n",
    "from karateclub.node_embedding.neighbourhood.grarep import GraRep\n",
    "\n",
    "G = nx.barbell_graph(m1=10, m2=4)\n",
    "# dimensions of embedding space and max num orders of proximity between nodes\n",
    "gr = GraRep(dimensions=2, order=3) \n",
    "gr.fit(G)\n",
    "# num columns here is dimensions * order\n",
    "embeddings = gr.get_embedding()"
   ]
  },
  {
   "cell_type": "code",
   "execution_count": 2,
   "metadata": {},
   "outputs": [
    {
     "data": {
      "text/plain": [
       "(24, 6)"
      ]
     },
     "execution_count": 2,
     "metadata": {},
     "output_type": "execute_result"
    }
   ],
   "source": [
    "embeddings.shape"
   ]
  },
  {
   "cell_type": "markdown",
   "metadata": {},
   "source": [
    "Different orders of proximity allow us to get different embeddings. Since input graph is simple, for *k=1*, a well-separated embedding space is obtained.\n",
    "\n",
    "### Skip-gram\n",
    "\n",
    "Skip-gram model is a simple NN with one hidden-layer trained to predict the probability of a given word being present when an input word is present, the NN is trained by building the training data using a text corpus as reference. \n",
    "\n",
    "Training: A target word is selected and a rolling window of fixed size *w* is built around the word, the other words inside the rolling window are known as *context* words. So wehave multiple pairs of *(target word, context word)* which are built according to words inside the rolling window.\n",
    "\n",
    "Once training data is generated from the whole corpus, the skip-gram model is trained to predict the probability of a word being a context word for the given target. During training, the NN learns a compact representation of input words, this is why the model is known as **Word to Vector (Word2Vec)**.\n",
    "\n",
    "The input is a binary vector of size *m*. Each element of the vector represents a word in the dict of the language we want to embed words in. In training, a *(target word, context word)* pair is given, the input array will have 0 in all its entries with the exception of the entry representing the \"target\" word which will be 1. The hidden layer has *d* neurons and will learn the embedding representation of each word, creating a *d-*dimensional embedding space.\n",
    "\n",
    "Finally, output layer is a dense layer of *m* neurons (same size as input vector) with *softmax* activation. Each neuron represents a word of the dictionary and its value corresponds to the probability of that word being \"related\" to the input word. Since softmax can be hard to compute as *m* increases, a *hierarchical softmax* approach is used.\n",
    "\n",
    "Our final goal is to not learn the actual task, but to build a compact *d*-dimensional representation of the input words. So we can extract an embedding space for words using the weights of the hidden layer. Another approach is **continuous bag-of-words (CBOW)** which is a context-based skip-gram model. Generally speaking, all unsupervised embedding algorithms based on skip-gram model use the same principle. Start from input graph, they extract from set of walks, these can be seen as a text corpus, whereby connected is a text next to each other. This leads us to DeepWalk.\n",
    "\n",
    "### DeepWalk\n",
    "\n",
    "Generates node embeddings of a graph using skip-gram model, for this we introduce **random walk**. Here we select vertex $v_i$ as starting node, then pick neighbour at random and move towards it. We repeat this *t* times so we have random walk of length *t*. There is no guarantee that the local neighbourhood of the node is well preserved as the random walk algorithm has no constraint on how they are built. The *t* walks are used as input to the skip-gram model. The embedding generated by skip-gram will be used as final node embedding. So breaking it down:\n",
    "1.  **Random Walk Generation**: For each node of input graph G, set of $Y$ random walks with fixed max length (t) is computed. Note that *t* is an upper bound, no constraints forcing all paths to have the same length.\n",
    "2.  **Skip-Gram Training**: Use walks generated in previous step. When graph is given as input to skip-gram, input can be seen as text corpus where the node is the word of the corpus.\n",
    "3.  **Embedding Generation**: Information contained in hidden layers of trained skip-gram model is used to extract embedding of each node."
   ]
  },
  {
   "cell_type": "code",
   "execution_count": 51,
   "metadata": {},
   "outputs": [],
   "source": [
    "import networkx as nx\n",
    "from karateclub.node_embedding.neighbourhood.deepwalk import DeepWalk\n",
    "\n",
    "G = nx.barbell_graph(m1=10, m2=4)\n",
    "# walk_number: number of random walks to generate for each node\n",
    "# walk_length: length of the generated random walks\n",
    "# window_size: window size parameter of the skip-gram model\n",
    "dw = DeepWalk(dimensions=2)\n",
    "dw.fit(G)\n",
    "embeddings = dw.get_embedding()"
   ]
  },
  {
   "cell_type": "code",
   "execution_count": 52,
   "metadata": {},
   "outputs": [
    {
     "data": {
      "image/png": "[encoded data removed]",
      "text/plain": [
       "<Figure size 432x288 with 1 Axes>"
      ]
     },
     "metadata": {
      "needs_background": "light"
     },
     "output_type": "display_data"
    }
   ],
   "source": [
    "import matplotlib.pyplot as plt\n",
    "%matplotlib inline \n",
    "\n",
    "# there is not that clear of a distinction between the embedding space of the nodes\n",
    "plt.scatter(embeddings[:,0], embeddings[:,1]);"
   ]
  },
  {
   "cell_type": "code",
   "execution_count": 53,
   "metadata": {},
   "outputs": [
    {
     "data": {
      "image/png": "[encoded data removed]",
      "text/plain": [
       "<Figure size 432x288 with 1 Axes>"
      ]
     },
     "metadata": {
      "needs_background": "light"
     },
     "output_type": "display_data"
    }
   ],
   "source": [
    "import numpy as np\n",
    "v_embeddings = np.array([(nid, *embeddings[nid]) for nid in G.nodes])\n",
    "# separation between nodes is better compared to DeepWalk. Regions 1 and 3 are clustered in space\n",
    "# region2 is in the middle without overlap with region1 and region3\n",
    "\n",
    "fig, ax = plt.subplots()\n",
    "ax.scatter(v_embeddings[:,1], v_embeddings[:,2])\n",
    "\n",
    "for v in v_embeddings:\n",
    "    ax.annotate(v[0], (v[1], v[2]))"
   ]
  },
  {
   "cell_type": "markdown",
   "metadata": {},
   "source": [
    "### Node2Vec\n",
    "Similar to DeepWalk, generates set of random walks as input to skip-gram and then use hidden layer to generate node embeddings. Difference is in the way random walks are generated.\n",
    "\n",
    "In Node2Vec, a new technique to generate biased random walks on the graph is introduced. This algorithm combines **Breadth-First Search (BFS)** and **Depth-First Search (DFS)**. These two are regulated by parameters *p* and *q*.\n",
    "-  **p**: Probability of random walk going back to previous node\n",
    "-  **q**: probability that random walk passes through previously unseen part of graph\n",
    "\n",
    "So here Node2Vec can preserve high-order proximities by preserving local graph structures as well as globalcommunity structures. So this preserves local neighbourhood properties of the node."
   ]
  },
  {
   "cell_type": "code",
   "execution_count": 2,
   "metadata": {},
   "outputs": [
    {
     "data": {
      "application/vnd.jupyter.widget-view+json": {
       "model_id": "da0d436e213f4ff2b83786f516b20d05",
       "version_major": 2,
       "version_minor": 0
      },
      "text/plain": [
       "Computing transition probabilities:   0%|          | 0/24 [00:00<?, ?it/s]"
      ]
     },
     "metadata": {},
     "output_type": "display_data"
    },
    {
     "name": "stderr",
     "output_type": "stream",
     "text": [
      "Generating walks (CPU: 1): 100%|██████████| 10/10 [00:00<00:00, 152.76it/s]\n"
     ]
    },
    {
     "data": {
      "image/png": "[encoded data removed]",
      "text/plain": [
       "<Figure size 432x288 with 1 Axes>"
      ]
     },
     "metadata": {},
     "output_type": "display_data"
    }
   ],
   "source": [
    "import networkx as nx\n",
    "from node2vec import Node2Vec\n",
    "G = nx.barbell_graph(m1=10, m2=4)\n",
    "nx.draw(G, with_labels=True)\n",
    "# num walks: number of random walks to generate for each node\n",
    "# walk_length: length of the generated random walks\n",
    "# p and q: parameters of the random walk\n",
    "node2vec = Node2Vec(G, dimensions=2, num_walks=10)\n",
    "model = node2vec.fit(window=10)\n",
    "embeddings = model.wv\n",
    "# can use model.wv[str(nodeId)] to get the embedding of a node"
   ]
  },
  {
   "cell_type": "code",
   "execution_count": 5,
   "metadata": {},
   "outputs": [
    {
     "data": {
      "image/png": "[encoded data removed]",
      "text/plain": [
       "<Figure size 432x288 with 1 Axes>"
      ]
     },
     "metadata": {
      "needs_background": "light"
     },
     "output_type": "display_data"
    }
   ],
   "source": [
    "import numpy as np\n",
    "import matplotlib.pyplot as plt\n",
    "%matplotlib inline \n",
    "\n",
    "v_embeddings = np.array([(nid, *embeddings[nid]) for nid in G.nodes])\n",
    "# separation between nodes is better compared to DeepWalk. Regions 1 and 3 are clustered in space\n",
    "# region2 is in the middle without overlap with region1 and region3\n",
    "\n",
    "fig, ax = plt.subplots()\n",
    "ax.scatter(v_embeddings[:,1], v_embeddings[:,2])\n",
    "\n",
    "for v in v_embeddings:\n",
    "    ax.annotate(v[0], (v[1], v[2]))"
   ]
  },
  {
   "cell_type": "markdown",
   "metadata": {},
   "source": [
    "### Edge2Vec\n",
    "Edge2Vec generates embedding space on edges instead of nodes, this uses node embedding of two adjacent nodes to perform some basic mathematical operations in order to extract the embedding of the edge connecting them.\n",
    "\n",
    "Can compute embeddings with average embedder, Hadamard, Weighted-L1 or Weighted L2"
   ]
  },
  {
   "cell_type": "code",
   "execution_count": 6,
   "metadata": {},
   "outputs": [],
   "source": [
    "from node2vec.edges import HadamardEmbedder\n",
    "# value of param is Node2Vec embeding model.\n",
    "# to change the embedding model, change the value of param\n",
    "embedding = HadamardEmbedder(keyed_vectors=model.wv)\n",
    "# different embedding methods create different embeding spaces"
   ]
  },
  {
   "cell_type": "markdown",
   "metadata": {},
   "source": [
    "### Graph2Vec\n",
    "Generates embeddings for the whole graph. Generate an embedding space where each point represents a graph, this is an evolution of Word2Vec skip-gram known as **Document to Vector (Doc2Vec)**. Compared to Word2Vec Doc2Vec accepts another binary array representing the document containing the input word. Given a 'target' document and 'target' word, the model tries to predict the most probable 'context' word wrt the input 'target' word and document.\n",
    "\n",
    "So then with Graph2Vec, we see the entire graph as a document and each of its subgraphs, generated as an ego graph of each node as words that comprise the document. Ie. a graph is composed of subgraphs as a document is composed of sentences, so we summarise the algorithm to the following steps:\n",
    "1.  **Subgraph Generation**: Set of rooted subgraphs is generated around every node\n",
    "2.  **Doc2Vec Training**: Doc2Vec skip-gram is trained using the subgraphs generated by the previous step\n",
    "3.  **Embedding Generation**: Information in hidden layers of Doc2Vec is used to extract embedding of each node\n"
   ]
  },
  {
   "cell_type": "code",
   "execution_count": 11,
   "metadata": {},
   "outputs": [],
   "source": [
    "import matplotlib.pyplot as plt\n",
    "from karateclub import Graph2Vec\n",
    "import random\n",
    "n_graphs=20\n",
    "\n",
    "def generate_random():\n",
    "    n = random.randint(5, 20)\n",
    "    k = random.randint(5, n)\n",
    "    p = random.uniform(0, 1)\n",
    "    return nx.watts_strogatz_graph(n,k,p)\n",
    "\n",
    "Gs = [generate_random() for x in range(n_graphs)] # generate 20 watts-strogatz graphs\n",
    "\n",
    "model = Graph2Vec(dimensions=2) # 2 dimensions\n",
    "model.fit(Gs) # fit model\n",
    "embeddings = model.get_embedding() # extract embeddings"
   ]
  },
  {
   "cell_type": "markdown",
   "metadata": {},
   "source": [
    "More complex graph embedding algorithms based on autoencoders.\n",
    "\n",
    "## Autoencoders"
   ]
  },
  {
   "cell_type": "code",
   "execution_count": null,
   "metadata": {},
   "outputs": [],
   "source": []
  }
 ],
 "metadata": {
  "kernelspec": {
   "display_name": "Python 3.9.13 ('venv': venv)",
   "language": "python",
   "name": "python3"
  },
  "language_info": {
   "codemirror_mode": {
    "name": "ipython",
    "version": 3
   },
   "file_extension": ".py",
   "mimetype": "text/x-python",
   "name": "python",
   "nbconvert_exporter": "python",
   "pygments_lexer": "ipython3",
   "version": "3.9.13"
  },
  "orig_nbformat": 4,
  "vscode": {
   "interpreter": {
    "hash": "63383c2a68c062c071f75888e0186e64940c33bbd30fa02b08cd99ee71ee0b47"
   }
  }
 },
 "nbformat": 4,
 "nbformat_minor": 2
}
