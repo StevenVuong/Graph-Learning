{
 "cells": [
  {
   "cell_type": "markdown",
   "metadata": {},
   "source": [
    "# Unsupervised Graph Learning\n",
    "\n",
    "Unsupervised ML: subset of ML that do not exploit any target information during training. Where there is no teacher and no correct answer is known a *priori*. These have become a useful tool to solve downstream tasks, such as node classification, community detection etc..\n",
    "\n",
    "Given a graph, the goal of the techniques is to automatically learn a latent representation of it, in which the key structural components are somehow preserved.\n",
    "\n",
    "Due to the mathematical complexity of Graphs in non-Euclidean space, it is not always easy to define what is close to what. May be hard to say what *close* even means, two users can be connected yet share very different features, can we still consider them as \"close\"? So problems like these are the reason unsupervised ML algorithms have found large applications in graph analysis, as there is no need for manually annotated data; making use of the information in the adjacency matrix and node features without any knowledge of the downstream ML task.\n",
    "\n",
    "One of the most used solutions is to learn embeddings that preserve graph structure. Learned representation can reconstruct pair-wise node similarity e.g. **adjacency matrix**. Can encode latent relationships to discover hidden and complex patterns. Reported by paper https://arxivorg/abs/2005.03675, algorithms can be grouped into macro-groups: shallow embedding methods, autoencoders and GNNs. "
   ]
  },
  {
   "cell_type": "markdown",
   "metadata": {},
   "source": [
    "![3_1](./figures/3_1.jpg)"
   ]
  },
  {
   "cell_type": "markdown",
   "metadata": {},
   "source": [
    "## Shallow Embedding Methods\n",
    "Learn and return embedding values for learned input data\n",
    "\n",
    "### Matrix Factorisation\n",
    "General decomposition technique widely used in different domains. Consistent number of graph embedding algorithms use this technique to compute node embedding of a graph.\n",
    "Matrix factorisation learns the V and H matrices (W ~ V X H) where $V \\in \\Re$ <sup>$m$ x $d$</sup> and  $H \\in \\Re$ <sup>$d$ x $n$</sup> (called **source** and **abundance** matrix respectively) by minimising a loss function that can change according to the specific problem we want to solve. *d* is the number of dimensions of the generated embedding space. The loss fn. is defined by computing the reconstruction err. using the Frobenius Norm as $||W - V X H||^2_F$. \n",
    "\n",
    "Generally speaking, all the unsupervised embedding algorithms based on matrix factorisation use the same principle. They factorise an input graph expressed as a matrix in different components. Differences lie in the loss functions used in the optimisation process. Different loss functions create embedding spaces that emphasise specific graph properties.\n",
    "\n",
    "### Graph Factorisation\n",
    "GF algorithm factorises the adjacency matrix of a given graph. \n",
    "$L = 1/2 \\sum\\limits_{(i,j) \\in E} (A$ <sub>$i,j$</sub> $- Y_i,Y_j^T)^2 + \\lambda/2 \\sum\\limits_{i}||Y_t||^2$\n",
    "May also include a regularisation term $\\lambda$ to make sure the problem remains well-posed in the absence of sufficient data. Suitable for undirected graph, has a strong symmetric factorisation. But could be limited for undirected graphs."
   ]
  },
  {
   "cell_type": "code",
   "execution_count": 1,
   "metadata": {},
   "outputs": [
    {
     "name": "stdout",
     "output_type": "stream",
     "text": [
      "[Errno 2] No such file or directory: 'gem/c_exe/gf'\n",
      "./gf not found. Reverting to Python implementation. Please compile gf, place node2vec in the path and grant executable permission\n",
      "\t\tIter id: 0, Objective: 95.0074, f1: 95.0032, f2: 0.00421903\n"
     ]
    }
   ],
   "source": [
    "import networkx as nx\n",
    "from gem.embedding.gf import GraphFactorization\n",
    "\n",
    "G = nx.barbell_graph(m1=10, m2=4)\n",
    "\n",
    "# generate d=2 dimensional embedding space\n",
    "gf = GraphFactorization(d=2, data_set=None, max_iter=10000, eta=1*10**-4, regu=1.0)\n",
    "# computation of node embeddings of input graph\n",
    "gf.learn_embedding(graph=G)\n",
    "# extracted computed embedding by calling gf.get_embedding()\n",
    "embeddings = gf.get_embedding()"
   ]
  },
  {
   "cell_type": "code",
   "execution_count": 2,
   "metadata": {},
   "outputs": [
    {
     "data": {
      "text/plain": [
       "<matplotlib.collections.PathCollection at 0x7f5b5cb2d6d0>"
      ]
     },
     "execution_count": 2,
     "metadata": {},
     "output_type": "execute_result"
    },
    {
     "data": {
      "image/png": "[encoded data removed]",
      "text/plain": [
       "<Figure size 432x288 with 1 Axes>"
      ]
     },
     "metadata": {
      "needs_background": "light"
     },
     "output_type": "display_data"
    }
   ],
   "source": [
    "import matplotlib.pyplot as plt\n",
    "%matplotlib inline\n",
    "\n",
    "# we can see approx. 3 groupings\n",
    "plt.scatter(embeddings[:,0], embeddings[:,1])"
   ]
  },
  {
   "cell_type": "markdown",
   "metadata": {},
   "source": [
    "**Higher-order proximity preserved embedding (HOPE)** is another graph embedding technique based on matrix factorisation. This method preserves higher-order proximity and does not force its embeddings to have symmetric properties.\n",
    "-  **First-order proximity**: We say a vertex pair $(v_i, v_j)$ has first-order proximity equal to edge weight $W$<sub>$ij$</sub> if edge $(v_i, v_j) \\in E$. Otherwise, the first-order proximity between the two nodes is 0.\n",
    "-  **Second and high-order proximity**: Capture two-step relationships between each pair of vertices. For each vertex pair $(v_i, v_j)$, second-order proximity is a two-step transition from $v_i$ to $v_j$. Higher-order proximity generalises this and we can capture a more global structure. Higher-order proximity can be viewed as k-step transition from $v_i$ to $v_j$.\n",
    "\n",
    "Loss function for HOPE is $L = ||S - Y_s \\times Y_t^T||^2_F$ where $S$ is the similarity matrix from graph $G$ and $Y_s \\in \\Re$<sup>$|V|xd$</sup> and $Y_t \\in \\Re$<sup>$|V|xd$</sup> are two ebedding matrices representing *d*-dimensional embedding space. $Y_s$ represents source embedding and $Y_t$ represents target embedding. HOPE uses two matrices to capture asymmetric proximity in directed networks where the direction from source node and target node is present. The final embedding matrix, Y, is obtained by concatenating column-wise $Y_s$ and $Y_t$ matrices, so the final embedding space has $2 * d$ dimensions.\n",
    "\n",
    "*S* is a similarity matrix from graph *G*, it's goalis to obtain higher-order proximity information. Formally computed as $S=M_g \\cdot M_t$ where $M_g$ and $M_t$ are polynomials of matrices. Some ways to compute $M_g$ and $M_t$ are:\n",
    "-  **Academic Adar(AA)**: Here, $M_g = I (identity)$ and $M_t = A \\cdot D \\cdot A$ where $D$ is a diagonal matrix computed as $D$<sub>$ij$</sub> $ = 1/ (\\sum (A_i $<sub>$j$</sub> $+ A_j$ <sub>$i$</sub> $))$\n",
    "-  **Katz Index**\n",
    "-  **Rooted PageRank (RPR)**\n",
    "-  **Common Neighbors (CN)** etc.."
   ]
  },
  {
   "cell_type": "code",
   "execution_count": 3,
   "metadata": {},
   "outputs": [
    {
     "name": "stdout",
     "output_type": "stream",
     "text": [
      "SVD error (low rank): 0.052092\n"
     ]
    }
   ],
   "source": [
    "import networkx as nx\n",
    "from gem.embedding.hope import HOPE\n",
    "\n",
    "G = nx.barbell_graph(m1=10, m2=4)\n",
    "# different class initialization with HOPE\n",
    "# d represents dimension of embedding space, num of columns of final embedding matrix Y\n",
    "# Y is obtained after column-wise concatenation of Y_s and Y_t\n",
    "gf = HOPE(d=4, beta=0.01)\n",
    "gf.learn_embedding(graph=G)\n",
    "embeddings = gf.get_embedding()"
   ]
  },
  {
   "cell_type": "code",
   "execution_count": 4,
   "metadata": {},
   "outputs": [
    {
     "data": {
      "text/plain": [
       "<matplotlib.collections.PathCollection at 0x7f5b5c9eebe0>"
      ]
     },
     "execution_count": 4,
     "metadata": {},
     "output_type": "execute_result"
    },
    {
     "data": {
      "image/png": "[encoded data removed]",
      "text/plain": [
       "<Figure size 432x288 with 1 Axes>"
      ]
     },
     "metadata": {
      "needs_background": "light"
     },
     "output_type": "display_data"
    }
   ],
   "source": [
    "# can see better grouping/separation of models\n",
    "plt.scatter(embeddings[:,0], embeddings[:,1])"
   ]
  },
  {
   "cell_type": "markdown",
   "metadata": {},
   "source": [
    "**Graph Representation with Global Structure Information**\n",
    "\n",
    "Graph representation with global structure information, such as HOPE allows us to preserve higher-order proximity without forcing embeddings to have symmetric properties. Formally, let $G = (V, E)$ be the graph we want to compute node embeddings for and $A \\in \\Re$<sup>$|V| \\times |V|$</sup> be its adjacency matrix, we have the loss function:\n",
    "$L_k = ||X^k - Y_s^k \\times Y_t $<sup>$k^T$</sup>$||^2_F 1 \\le k \\le K $. In the loss fn, $X^k \\in \\Re$<sup>$|V|\\times|V|$</sup> is a matrix generated from graph *G* to get the *k*th order of proximity between nodes. \n",
    "\n",
    "$Y_s^k \\in \\Re$<sup>$|V|\\times|V|$</sup> and $Y_t^k \\in \\Re$<sup>$|V|\\times|V|$</sup> are two embedding matrices representing a d-dimensional embedding space of *k*th order proximity for source and target nodes, respectively. The $X^k$ matrix is computed according to the equation $X^k = \\prod\\limits_{k}(D$<sup>$-1$</sup>$A)$ where D is a diagonal **degree matrix** computed where $D$<sup>ij</sup>$=\\sum\\limits_{p} A$<sub>ip</sub> where $i=j$. \n",
    "\n",
    "$X^1 = D$<sup>-1</sup>$A$ represents the (one-step) probability transition matrix where Xij is the probability of transition from vertex $V_i$ to $V_j$. Generally, $V^k$<sub>ij</sub> represents the probability of transition from $V_i$ to $V_j$ within *k* steps. For each order of proximity, k, an independent optimisation is fitted. All the k embedding matrices generated are then column-wise concatenated to get the final source embedding matrices."
   ]
  },
  {
   "cell_type": "code",
   "execution_count": 1,
   "metadata": {},
   "outputs": [],
   "source": [
    "# node embedding for karateclub\n",
    "import networkx as nx\n",
    "from karateclub.node_embedding.neighbourhood.grarep import GraRep\n",
    "\n",
    "G = nx.barbell_graph(m1=10, m2=4)\n",
    "# dimensions of embedding space and max num orders of proximity between nodes\n",
    "gr = GraRep(dimensions=2, order=3) \n",
    "gr.fit(G)\n",
    "# num columns here is dimensions * order\n",
    "embeddings = gr.get_embedding()"
   ]
  },
  {
   "cell_type": "code",
   "execution_count": 2,
   "metadata": {},
   "outputs": [
    {
     "data": {
      "text/plain": [
       "(24, 6)"
      ]
     },
     "execution_count": 2,
     "metadata": {},
     "output_type": "execute_result"
    }
   ],
   "source": [
    "embeddings.shape"
   ]
  },
  {
   "cell_type": "markdown",
   "metadata": {},
   "source": [
    "Different orders of proximity allow us to get different embeddings. Since input graph is simple, for *k=1*, a well-separated embedding space is obtained.\n",
    "\n",
    "### Skip-gram\n",
    "\n",
    "Skip-gram model is a simple NN with one hidden-layer trained to predict the probability of a given word being present when an input word is present, the NN is trained by building the training data using a text corpus as reference. \n",
    "\n",
    "Training: A target word is selected and a rolling window of fixed size *w* is built around the word, the other words inside the rolling window are known as *context* words. So wehave multiple pairs of *(target word, context word)* which are built according to words inside the rolling window.\n",
    "\n",
    "Once training data is generated from the whole corpus, the skip-gram model is trained to predict the probability of a word being a context word for the given target. During training, the NN learns a compact representation of input words, this is why the model is known as **Word to Vector (Word2Vec)**.\n",
    "\n",
    "The input is a binary vector of size *m*. Each element of the vector represents a word in the dict of the language we want to embed words in. In training, a *(target word, context word)* pair is given, the input array will have 0 in all its entries with the exception of the entry representing the \"target\" word which will be 1. The hidden layer has *d* neurons and will learn the embedding representation of each word, creating a *d-*dimensional embedding space.\n",
    "\n",
    "Finally, output layer is a dense layer of *m* neurons (same size as input vector) with *softmax* activation. Each neuron represents a word of the dictionary and its value corresponds to the probability of that word being \"related\" to the input word. Since softmax can be hard to compute as *m* increases, a *hierarchical softmax* approach is used.\n",
    "\n",
    "Our final goal is to not learn the actual task, but to build a compact *d*-dimensional representation of the input words. So we can extract an embedding space for words using the weights of the hidden layer. Another approach is **continuous bag-of-words (CBOW)** which is a context-based skip-gram model. Generally speaking, all unsupervised embedding algorithms based on skip-gram model use the same principle. Start from input graph, they extract from set of walks, these can be seen as a text corpus, whereby connected is a text next to each other. This leads us to DeepWalk.\n",
    "\n",
    "### DeepWalk\n",
    "\n",
    "Generates node embeddings of a graph using skip-gram model, for this we introduce **random walk**. Here we select vertex $v_i$ as starting node, then pick neighbour at random and move towards it. We repeat this *t* times so we have random walk of length *t*. There is no guarantee that the local neighbourhood of the node is well preserved as the random walk algorithm has no constraint on how they are built. The *t* walks are used as input to the skip-gram model. The embedding generated by skip-gram will be used as final node embedding. So breaking it down:\n",
    "1.  **Random Walk Generation**: For each node of input graph G, set of $Y$ random walks with fixed max length (t) is computed. Note that *t* is an upper bound, no constraints forcing all paths to have the same length.\n",
    "2.  **Skip-Gram Training**: Use walks generated in previous step. When graph is given as input to skip-gram, input can be seen as text corpus where the node is the word of the corpus.\n",
    "3.  **Embedding Generation**: Information contained in hidden layers of trained skip-gram model is used to extract embedding of each node."
   ]
  },
  {
   "cell_type": "code",
   "execution_count": 51,
   "metadata": {},
   "outputs": [],
   "source": [
    "import networkx as nx\n",
    "from karateclub.node_embedding.neighbourhood.deepwalk import DeepWalk\n",
    "\n",
    "G = nx.barbell_graph(m1=10, m2=4)\n",
    "# walk_number: number of random walks to generate for each node\n",
    "# walk_length: length of the generated random walks\n",
    "# window_size: window size parameter of the skip-gram model\n",
    "dw = DeepWalk(dimensions=2)\n",
    "dw.fit(G)\n",
    "embeddings = dw.get_embedding()"
   ]
  },
  {
   "cell_type": "code",
   "execution_count": 52,
   "metadata": {},
   "outputs": [
    {
     "data": {
      "image/png": "[encoded data removed]",
      "text/plain": [
       "<Figure size 432x288 with 1 Axes>"
      ]
     },
     "metadata": {
      "needs_background": "light"
     },
     "output_type": "display_data"
    }
   ],
   "source": [
    "import matplotlib.pyplot as plt\n",
    "%matplotlib inline \n",
    "\n",
    "# there is not that clear of a distinction between the embedding space of the nodes\n",
    "plt.scatter(embeddings[:,0], embeddings[:,1]);"
   ]
  },
  {
   "cell_type": "code",
   "execution_count": 53,
   "metadata": {},
   "outputs": [
    {
     "data": {
      "image/png": "[encoded data removed]",
      "text/plain": [
       "<Figure size 432x288 with 1 Axes>"
      ]
     },
     "metadata": {
      "needs_background": "light"
     },
     "output_type": "display_data"
    }
   ],
   "source": [
    "import numpy as np\n",
    "v_embeddings = np.array([(nid, *embeddings[nid]) for nid in G.nodes])\n",
    "# separation between nodes is better compared to DeepWalk. Regions 1 and 3 are clustered in space\n",
    "# region2 is in the middle without overlap with region1 and region3\n",
    "\n",
    "fig, ax = plt.subplots()\n",
    "ax.scatter(v_embeddings[:,1], v_embeddings[:,2])\n",
    "\n",
    "for v in v_embeddings:\n",
    "    ax.annotate(v[0], (v[1], v[2]))"
   ]
  },
  {
   "cell_type": "markdown",
   "metadata": {},
   "source": [
    "### Node2Vec\n",
    "Similar to DeepWalk, generates set of random walks as input to skip-gram and then use hidden layer to generate node embeddings. Difference is in the way random walks are generated.\n",
    "\n",
    "In Node2Vec, a new technique to generate biased random walks on the graph is introduced. This algorithm combines **Breadth-First Search (BFS)** and **Depth-First Search (DFS)**. These two are regulated by parameters *p* and *q*.\n",
    "-  **p**: Probability of random walk going back to previous node\n",
    "-  **q**: probability that random walk passes through previously unseen part of graph\n",
    "\n",
    "So here Node2Vec can preserve high-order proximities by preserving local graph structures as well as globalcommunity structures. So this preserves local neighbourhood properties of the node."
   ]
  },
  {
   "cell_type": "code",
   "execution_count": 2,
   "metadata": {},
   "outputs": [
    {
     "data": {
      "application/vnd.jupyter.widget-view+json": {
       "model_id": "da0d436e213f4ff2b83786f516b20d05",
       "version_major": 2,
       "version_minor": 0
      },
      "text/plain": [
       "Computing transition probabilities:   0%|          | 0/24 [00:00<?, ?it/s]"
      ]
     },
     "metadata": {},
     "output_type": "display_data"
    },
    {
     "name": "stderr",
     "output_type": "stream",
     "text": [
      "Generating walks (CPU: 1): 100%|██████████| 10/10 [00:00<00:00, 152.76it/s]\n"
     ]
    },
    {
     "data": {
      "image/png": "[encoded data removed]",
      "text/plain": [
       "<Figure size 432x288 with 1 Axes>"
      ]
     },
     "metadata": {},
     "output_type": "display_data"
    }
   ],
   "source": [
    "import networkx as nx\n",
    "from node2vec import Node2Vec\n",
    "G = nx.barbell_graph(m1=10, m2=4)\n",
    "nx.draw(G, with_labels=True)\n",
    "# num walks: number of random walks to generate for each node\n",
    "# walk_length: length of the generated random walks\n",
    "# p and q: parameters of the random walk\n",
    "node2vec = Node2Vec(G, dimensions=2, num_walks=10)\n",
    "model = node2vec.fit(window=10)\n",
    "embeddings = model.wv\n",
    "# can use model.wv[str(nodeId)] to get the embedding of a node"
   ]
  },
  {
   "cell_type": "code",
   "execution_count": 5,
   "metadata": {},
   "outputs": [
    {
     "data": {
      "image/png": "[encoded data removed]",
      "text/plain": [
       "<Figure size 432x288 with 1 Axes>"
      ]
     },
     "metadata": {
      "needs_background": "light"
     },
     "output_type": "display_data"
    }
   ],
   "source": [
    "import numpy as np\n",
    "import matplotlib.pyplot as plt\n",
    "%matplotlib inline \n",
    "\n",
    "v_embeddings = np.array([(nid, *embeddings[nid]) for nid in G.nodes])\n",
    "# separation between nodes is better compared to DeepWalk. Regions 1 and 3 are clustered in space\n",
    "# region2 is in the middle without overlap with region1 and region3\n",
    "\n",
    "fig, ax = plt.subplots()\n",
    "ax.scatter(v_embeddings[:,1], v_embeddings[:,2])\n",
    "\n",
    "for v in v_embeddings:\n",
    "    ax.annotate(v[0], (v[1], v[2]))"
   ]
  },
  {
   "cell_type": "markdown",
   "metadata": {},
   "source": [
    "### Edge2Vec\n",
    "Edge2Vec generates embedding space on edges instead of nodes, this uses node embedding of two adjacent nodes to perform some basic mathematical operations in order to extract the embedding of the edge connecting them.\n",
    "\n",
    "Can compute embeddings with average embedder, Hadamard, Weighted-L1 or Weighted L2"
   ]
  },
  {
   "cell_type": "code",
   "execution_count": 6,
   "metadata": {},
   "outputs": [],
   "source": [
    "from node2vec.edges import HadamardEmbedder\n",
    "# value of param is Node2Vec embeding model.\n",
    "# to change the embedding model, change the value of param\n",
    "embedding = HadamardEmbedder(keyed_vectors=model.wv)\n",
    "# different embedding methods create different embeding spaces"
   ]
  },
  {
   "cell_type": "markdown",
   "metadata": {},
   "source": [
    "### Graph2Vec\n",
    "Generates embeddings for the whole graph. Generate an embedding space where each point represents a graph, this is an evolution of Word2Vec skip-gram known as **Document to Vector (Doc2Vec)**. Compared to Word2Vec Doc2Vec accepts another binary array representing the document containing the input word. Given a 'target' document and 'target' word, the model tries to predict the most probable 'context' word wrt the input 'target' word and document.\n",
    "\n",
    "So then with Graph2Vec, we see the entire graph as a document and each of its subgraphs, generated as an ego graph of each node as words that comprise the document. Ie. a graph is composed of subgraphs as a document is composed of sentences, so we summarise the algorithm to the following steps:\n",
    "1.  **Subgraph Generation**: Set of rooted subgraphs is generated around every node\n",
    "2.  **Doc2Vec Training**: Doc2Vec skip-gram is trained using the subgraphs generated by the previous step\n",
    "3.  **Embedding Generation**: Information in hidden layers of Doc2Vec is used to extract embedding of each node\n"
   ]
  },
  {
   "cell_type": "code",
   "execution_count": 11,
   "metadata": {},
   "outputs": [],
   "source": [
    "import matplotlib.pyplot as plt\n",
    "from karateclub import Graph2Vec\n",
    "import random\n",
    "n_graphs=20\n",
    "\n",
    "def generate_random():\n",
    "    n = random.randint(5, 20)\n",
    "    k = random.randint(5, n)\n",
    "    p = random.uniform(0, 1)\n",
    "    return nx.watts_strogatz_graph(n,k,p)\n",
    "\n",
    "Gs = [generate_random() for x in range(n_graphs)] # generate 20 watts-strogatz graphs\n",
    "\n",
    "model = Graph2Vec(dimensions=2) # 2 dimensions\n",
    "model.fit(Gs) # fit model\n",
    "embeddings = model.get_embedding() # extract embeddings"
   ]
  },
  {
   "cell_type": "markdown",
   "metadata": {},
   "source": [
    "More complex graph embedding algorithms based on autoencoders.\n",
    "\n",
    "## Autoencoders\n",
    "An autoencoder NN is trained to reconstruct its inputs using a significantly lower number of variables and/or degree of freedom. Autoencoders can learn non-linear transformations thanks to non-linear activation functions of their neurons.\n",
    "-  **encoder**: Processes input through one or more units and maps it into an encoded representation that reduces the dimension of the inputs and/or constrains its sparsity\n",
    "-  **decoder**: Reconstructs input signal from encoded representation of middle layer\n",
    "\n",
    "Encoder-decoder structure is trained to maximise the ability of the full network to reconstruct the input. Some common loss functions (\"reconstruction\" error), MSE, MAE, Cross-Entropy, KL Divergence.\n",
    "\n",
    "Tensorflow: Allows one to build symbol structures that describes how inputs are combined to produce outputs, defining **computation graphs** or **stateful dataflow graphs**. Allows one to symbollically differentaiate computation graph WRT any variable, resulting in a new computation graph that can be differentiated also to produce higher-order derivatives. This in the context of optimisation of a loss function WRT many loss functions is central to training of a NN via backpropagation, dubbed as gradient descent."
   ]
  },
  {
   "cell_type": "code",
   "execution_count": 2,
   "metadata": {},
   "outputs": [],
   "source": [
    "from tensorflow.keras.datasets import fashion_mnist\n",
    "(x_train, y_train), (x_test, y_test) = fashion_mnist.load_data()"
   ]
  },
  {
   "cell_type": "code",
   "execution_count": 3,
   "metadata": {},
   "outputs": [],
   "source": [
    "# good practice to reduce input precision, will be faster when training\n",
    "# in some cases can even lower to half-precision (16 bits).\n",
    "x_train = x_train.astype('float32') / 255.\n",
    "x_test = x_test.astype('float32') / 255."
   ]
  },
  {
   "cell_type": "code",
   "execution_count": 3,
   "metadata": {},
   "outputs": [
    {
     "data": {
      "image/png": "[encoded data removed]",
      "text/plain": [
       "<Figure size 1440x288 with 10 Axes>"
      ]
     },
     "metadata": {
      "needs_background": "light"
     },
     "output_type": "display_data"
    }
   ],
   "source": [
    "import matplotlib.pyplot as plt\n",
    "%matplotlib inline\n",
    "\n",
    "n = 10\n",
    "plt.figure(figsize=(20, 4))\n",
    "for i in range(n):\n",
    "    ax = plt.subplot(1, n, i+1)\n",
    "    plt.imshow(x_train[i])\n",
    "    plt.title(y_train[i])\n",
    "    plt.gray()\n",
    "    ax.get_xaxis().set_visible(False)\n",
    "    ax.get_yaxis().set_visible(False)\n",
    "plt.show()"
   ]
  },
  {
   "cell_type": "code",
   "execution_count": 4,
   "metadata": {},
   "outputs": [
    {
     "name": "stderr",
     "output_type": "stream",
     "text": [
      "2022-07-05 08:48:29.517172: I tensorflow/stream_executor/cuda/cuda_gpu_executor.cc:936] successful NUMA node read from SysFS had negative value (-1), but there must be at least one NUMA node, so returning NUMA node zero\n",
      "2022-07-05 08:48:29.608569: I tensorflow/stream_executor/cuda/cuda_gpu_executor.cc:936] successful NUMA node read from SysFS had negative value (-1), but there must be at least one NUMA node, so returning NUMA node zero\n",
      "2022-07-05 08:48:29.609282: I tensorflow/stream_executor/cuda/cuda_gpu_executor.cc:936] successful NUMA node read from SysFS had negative value (-1), but there must be at least one NUMA node, so returning NUMA node zero\n",
      "2022-07-05 08:48:29.620772: I tensorflow/core/platform/cpu_feature_guard.cc:151] This TensorFlow binary is optimized with oneAPI Deep Neural Network Library (oneDNN) to use the following CPU instructions in performance-critical operations:  AVX2 FMA\n",
      "To enable them in other operations, rebuild TensorFlow with the appropriate compiler flags.\n",
      "2022-07-05 08:48:29.621799: I tensorflow/stream_executor/cuda/cuda_gpu_executor.cc:936] successful NUMA node read from SysFS had negative value (-1), but there must be at least one NUMA node, so returning NUMA node zero\n",
      "2022-07-05 08:48:29.622461: I tensorflow/stream_executor/cuda/cuda_gpu_executor.cc:936] successful NUMA node read from SysFS had negative value (-1), but there must be at least one NUMA node, so returning NUMA node zero\n",
      "2022-07-05 08:48:29.623020: I tensorflow/stream_executor/cuda/cuda_gpu_executor.cc:936] successful NUMA node read from SysFS had negative value (-1), but there must be at least one NUMA node, so returning NUMA node zero\n",
      "2022-07-05 08:48:34.694638: I tensorflow/stream_executor/cuda/cuda_gpu_executor.cc:936] successful NUMA node read from SysFS had negative value (-1), but there must be at least one NUMA node, so returning NUMA node zero\n",
      "2022-07-05 08:48:34.695354: I tensorflow/stream_executor/cuda/cuda_gpu_executor.cc:936] successful NUMA node read from SysFS had negative value (-1), but there must be at least one NUMA node, so returning NUMA node zero\n",
      "2022-07-05 08:48:34.695926: I tensorflow/stream_executor/cuda/cuda_gpu_executor.cc:936] successful NUMA node read from SysFS had negative value (-1), but there must be at least one NUMA node, so returning NUMA node zero\n",
      "2022-07-05 08:48:34.697225: I tensorflow/core/common_runtime/gpu/gpu_device.cc:1525] Created device /job:localhost/replica:0/task:0/device:GPU:0 with 13795 MB memory:  -> device: 0, name: Tesla T4, pci bus id: 0000:00:04.0, compute capability: 7.5\n"
     ]
    }
   ],
   "source": [
    "from tensorflow.keras.layers import Conv2D, Dropout, MaxPooling2D, UpSampling2D, Input\n",
    "input_img = Input(shape=(28, 28, 1))\n",
    "\n",
    "# define encoder network\n",
    "x = Conv2D(16, (3, 3), activation='relu', padding='same')(input_img) \n",
    "x = MaxPooling2D((2, 2), padding='same')(x) # downsamples input\n",
    "x = Conv2D(8, (3,3), activation='relu', padding='same')(x)\n",
    "x = MaxPooling2D((2, 2), padding='same')(x)\n",
    "x = Conv2D(8, (3, 3), activation='relu', padding='same')(x)\n",
    "encoded = MaxPooling2D((2, 2), padding='same')(x)"
   ]
  },
  {
   "cell_type": "code",
   "execution_count": 5,
   "metadata": {},
   "outputs": [
    {
     "name": "stdout",
     "output_type": "stream",
     "text": [
      "Model: \"model\"\n",
      "_________________________________________________________________\n",
      " Layer (type)                Output Shape              Param #   \n",
      "=================================================================\n",
      " input_1 (InputLayer)        [(None, 28, 28, 1)]       0         \n",
      "                                                                 \n",
      " conv2d (Conv2D)             (None, 28, 28, 16)        160       \n",
      "                                                                 \n",
      " max_pooling2d (MaxPooling2D  (None, 14, 14, 16)       0         \n",
      " )                                                               \n",
      "                                                                 \n",
      " conv2d_1 (Conv2D)           (None, 14, 14, 8)         1160      \n",
      "                                                                 \n",
      " max_pooling2d_1 (MaxPooling  (None, 7, 7, 8)          0         \n",
      " 2D)                                                             \n",
      "                                                                 \n",
      " conv2d_2 (Conv2D)           (None, 7, 7, 8)           584       \n",
      "                                                                 \n",
      " max_pooling2d_2 (MaxPooling  (None, 4, 4, 8)          0         \n",
      " 2D)                                                             \n",
      "                                                                 \n",
      "=================================================================\n",
      "Total params: 1,904\n",
      "Trainable params: 1,904\n",
      "Non-trainable params: 0\n",
      "_________________________________________________________________\n"
     ]
    }
   ],
   "source": [
    "from tensorflow.keras import Model\n",
    "\n",
    "Model(input_img, encoded).summary()"
   ]
  },
  {
   "cell_type": "code",
   "execution_count": 6,
   "metadata": {},
   "outputs": [],
   "source": [
    "## decoder network\n",
    "x = Conv2D(8, (3, 3), activation='relu', padding='same')(encoded)\n",
    "x = UpSampling2D((2, 2))(x) # repeats input over a specified window (doubling tensor)\n",
    "x = Conv2D(8, (3, 3), activation='relu', padding='same')(x)\n",
    "x = UpSampling2D((2, 2))(x)\n",
    "x = Conv2D(16, (3, 3), activation='relu')(x)\n",
    "x = UpSampling2D((2, 2))(x)\n",
    "decoded = Conv2D(1, (3, 3), activation='sigmoid', padding='same')(x)"
   ]
  },
  {
   "cell_type": "code",
   "execution_count": 7,
   "metadata": {},
   "outputs": [
    {
     "name": "stdout",
     "output_type": "stream",
     "text": [
      "Model: \"model_1\"\n",
      "_________________________________________________________________\n",
      " Layer (type)                Output Shape              Param #   \n",
      "=================================================================\n",
      " input_1 (InputLayer)        [(None, 28, 28, 1)]       0         \n",
      "                                                                 \n",
      " conv2d (Conv2D)             (None, 28, 28, 16)        160       \n",
      "                                                                 \n",
      " max_pooling2d (MaxPooling2D  (None, 14, 14, 16)       0         \n",
      " )                                                               \n",
      "                                                                 \n",
      " conv2d_1 (Conv2D)           (None, 14, 14, 8)         1160      \n",
      "                                                                 \n",
      " max_pooling2d_1 (MaxPooling  (None, 7, 7, 8)          0         \n",
      " 2D)                                                             \n",
      "                                                                 \n",
      " conv2d_2 (Conv2D)           (None, 7, 7, 8)           584       \n",
      "                                                                 \n",
      " max_pooling2d_2 (MaxPooling  (None, 4, 4, 8)          0         \n",
      " 2D)                                                             \n",
      "                                                                 \n",
      " conv2d_3 (Conv2D)           (None, 4, 4, 8)           584       \n",
      "                                                                 \n",
      " up_sampling2d (UpSampling2D  (None, 8, 8, 8)          0         \n",
      " )                                                               \n",
      "                                                                 \n",
      " conv2d_4 (Conv2D)           (None, 8, 8, 8)           584       \n",
      "                                                                 \n",
      " up_sampling2d_1 (UpSampling  (None, 16, 16, 8)        0         \n",
      " 2D)                                                             \n",
      "                                                                 \n",
      " conv2d_5 (Conv2D)           (None, 14, 14, 16)        1168      \n",
      "                                                                 \n",
      " up_sampling2d_2 (UpSampling  (None, 28, 28, 16)       0         \n",
      " 2D)                                                             \n",
      "                                                                 \n",
      " conv2d_6 (Conv2D)           (None, 28, 28, 1)         145       \n",
      "                                                                 \n",
      "=================================================================\n",
      "Total params: 4,385\n",
      "Trainable params: 4,385\n",
      "Non-trainable params: 0\n",
      "_________________________________________________________________\n"
     ]
    }
   ],
   "source": [
    "autoencoder = Model(input_img, decoded)\n",
    "autoencoder.summary()"
   ]
  },
  {
   "cell_type": "code",
   "execution_count": 8,
   "metadata": {},
   "outputs": [],
   "source": [
    "autoencoder.compile(optimizer='adam', loss='binary_crossentropy')"
   ]
  },
  {
   "cell_type": "code",
   "execution_count": 9,
   "metadata": {},
   "outputs": [
    {
     "data": {
      "text/plain": [
       "((60000, 28, 28), (10000, 28, 28))"
      ]
     },
     "execution_count": 9,
     "metadata": {},
     "output_type": "execute_result"
    }
   ],
   "source": [
    "x_train.shape, x_test.shape"
   ]
  },
  {
   "cell_type": "code",
   "execution_count": 10,
   "metadata": {},
   "outputs": [],
   "source": [
    "import numpy as np\n",
    "\n",
    "# reshape\n",
    "x_train = np.reshape(x_train, (len(x_train), 28, 28, 1))\n",
    "x_test = np.reshape(x_test, (len(x_test), 28, 28, 1))"
   ]
  },
  {
   "cell_type": "code",
   "execution_count": 11,
   "metadata": {},
   "outputs": [
    {
     "data": {
      "text/plain": [
       "((60000, 28, 28, 1), (10000, 28, 28, 1))"
      ]
     },
     "execution_count": 11,
     "metadata": {},
     "output_type": "execute_result"
    }
   ],
   "source": [
    "x_train.shape, x_test.shape"
   ]
  },
  {
   "cell_type": "code",
   "execution_count": 12,
   "metadata": {},
   "outputs": [
    {
     "name": "stdout",
     "output_type": "stream",
     "text": [
      "Epoch 1/50\n"
     ]
    },
    {
     "name": "stderr",
     "output_type": "stream",
     "text": [
      "2022-07-05 00:40:10.746816: I tensorflow/stream_executor/cuda/cuda_dnn.cc:368] Loaded cuDNN version 8200\n"
     ]
    },
    {
     "name": "stdout",
     "output_type": "stream",
     "text": [
      "469/469 [==============================] - 9s 6ms/step - loss: 0.3548 - val_loss: 0.3119\n",
      "Epoch 2/50\n",
      "469/469 [==============================] - 2s 5ms/step - loss: 0.3039 - val_loss: 0.3014\n",
      "Epoch 3/50\n",
      "469/469 [==============================] - 2s 5ms/step - loss: 0.2975 - val_loss: 0.2977\n",
      "Epoch 4/50\n",
      "469/469 [==============================] - 2s 5ms/step - loss: 0.2942 - val_loss: 0.2952\n",
      "Epoch 5/50\n",
      "469/469 [==============================] - 2s 5ms/step - loss: 0.2919 - val_loss: 0.2931\n",
      "Epoch 6/50\n",
      "469/469 [==============================] - 2s 5ms/step - loss: 0.2903 - val_loss: 0.2916\n",
      "Epoch 7/50\n",
      "469/469 [==============================] - 2s 5ms/step - loss: 0.2888 - val_loss: 0.2902\n",
      "Epoch 8/50\n",
      "469/469 [==============================] - 2s 5ms/step - loss: 0.2878 - val_loss: 0.2891\n",
      "Epoch 9/50\n",
      "469/469 [==============================] - 2s 5ms/step - loss: 0.2869 - val_loss: 0.2888\n",
      "Epoch 10/50\n",
      "469/469 [==============================] - 2s 5ms/step - loss: 0.2861 - val_loss: 0.2877\n",
      "Epoch 11/50\n",
      "469/469 [==============================] - 2s 5ms/step - loss: 0.2854 - val_loss: 0.2869\n",
      "Epoch 12/50\n",
      "469/469 [==============================] - 2s 5ms/step - loss: 0.2849 - val_loss: 0.2866\n",
      "Epoch 13/50\n",
      "469/469 [==============================] - 2s 5ms/step - loss: 0.2843 - val_loss: 0.2866\n",
      "Epoch 14/50\n",
      "469/469 [==============================] - 2s 5ms/step - loss: 0.2838 - val_loss: 0.2860\n",
      "Epoch 15/50\n",
      "469/469 [==============================] - 2s 5ms/step - loss: 0.2834 - val_loss: 0.2850\n",
      "Epoch 16/50\n",
      "469/469 [==============================] - 2s 5ms/step - loss: 0.2829 - val_loss: 0.2848\n",
      "Epoch 17/50\n",
      "469/469 [==============================] - 2s 5ms/step - loss: 0.2826 - val_loss: 0.2842\n",
      "Epoch 18/50\n",
      "469/469 [==============================] - 2s 5ms/step - loss: 0.2822 - val_loss: 0.2849\n",
      "Epoch 19/50\n",
      "469/469 [==============================] - 2s 5ms/step - loss: 0.2820 - val_loss: 0.2840\n",
      "Epoch 20/50\n",
      "469/469 [==============================] - 2s 5ms/step - loss: 0.2816 - val_loss: 0.2843\n",
      "Epoch 21/50\n",
      "469/469 [==============================] - 2s 5ms/step - loss: 0.2813 - val_loss: 0.2833\n",
      "Epoch 22/50\n",
      "469/469 [==============================] - 2s 5ms/step - loss: 0.2812 - val_loss: 0.2830\n",
      "Epoch 23/50\n",
      "469/469 [==============================] - 2s 5ms/step - loss: 0.2809 - val_loss: 0.2827\n",
      "Epoch 24/50\n",
      "469/469 [==============================] - 2s 5ms/step - loss: 0.2807 - val_loss: 0.2827\n",
      "Epoch 25/50\n",
      "469/469 [==============================] - 2s 5ms/step - loss: 0.2805 - val_loss: 0.2824\n",
      "Epoch 26/50\n",
      "469/469 [==============================] - 2s 5ms/step - loss: 0.2803 - val_loss: 0.2823\n",
      "Epoch 27/50\n",
      "469/469 [==============================] - 2s 5ms/step - loss: 0.2801 - val_loss: 0.2825\n",
      "Epoch 28/50\n",
      "469/469 [==============================] - 2s 5ms/step - loss: 0.2800 - val_loss: 0.2821\n",
      "Epoch 29/50\n",
      "469/469 [==============================] - 2s 5ms/step - loss: 0.2798 - val_loss: 0.2822\n",
      "Epoch 30/50\n",
      "469/469 [==============================] - 2s 5ms/step - loss: 0.2797 - val_loss: 0.2817\n",
      "Epoch 31/50\n",
      "469/469 [==============================] - 2s 5ms/step - loss: 0.2794 - val_loss: 0.2815\n",
      "Epoch 32/50\n",
      "469/469 [==============================] - 2s 5ms/step - loss: 0.2794 - val_loss: 0.2813\n",
      "Epoch 33/50\n",
      "469/469 [==============================] - 2s 5ms/step - loss: 0.2792 - val_loss: 0.2812\n",
      "Epoch 34/50\n",
      "469/469 [==============================] - 2s 5ms/step - loss: 0.2792 - val_loss: 0.2814\n",
      "Epoch 35/50\n",
      "469/469 [==============================] - 2s 5ms/step - loss: 0.2790 - val_loss: 0.2817\n",
      "Epoch 36/50\n",
      "469/469 [==============================] - 2s 5ms/step - loss: 0.2789 - val_loss: 0.2808\n",
      "Epoch 37/50\n",
      "469/469 [==============================] - 2s 5ms/step - loss: 0.2788 - val_loss: 0.2807\n",
      "Epoch 38/50\n",
      "469/469 [==============================] - 2s 5ms/step - loss: 0.2787 - val_loss: 0.2806\n",
      "Epoch 39/50\n",
      "469/469 [==============================] - 2s 5ms/step - loss: 0.2786 - val_loss: 0.2806\n",
      "Epoch 40/50\n",
      "469/469 [==============================] - 2s 5ms/step - loss: 0.2785 - val_loss: 0.2805\n",
      "Epoch 41/50\n",
      "469/469 [==============================] - 2s 5ms/step - loss: 0.2785 - val_loss: 0.2804\n",
      "Epoch 42/50\n",
      "469/469 [==============================] - 2s 5ms/step - loss: 0.2783 - val_loss: 0.2805\n",
      "Epoch 43/50\n",
      "469/469 [==============================] - 2s 5ms/step - loss: 0.2782 - val_loss: 0.2803\n",
      "Epoch 44/50\n",
      "469/469 [==============================] - 2s 5ms/step - loss: 0.2782 - val_loss: 0.2801\n",
      "Epoch 45/50\n",
      "469/469 [==============================] - 2s 5ms/step - loss: 0.2781 - val_loss: 0.2800\n",
      "Epoch 46/50\n",
      "469/469 [==============================] - 2s 5ms/step - loss: 0.2780 - val_loss: 0.2800\n",
      "Epoch 47/50\n",
      "469/469 [==============================] - 2s 5ms/step - loss: 0.2780 - val_loss: 0.2800\n",
      "Epoch 48/50\n",
      "469/469 [==============================] - 2s 5ms/step - loss: 0.2779 - val_loss: 0.2799\n",
      "Epoch 49/50\n",
      "469/469 [==============================] - 2s 5ms/step - loss: 0.2779 - val_loss: 0.2801\n",
      "Epoch 50/50\n",
      "469/469 [==============================] - 2s 5ms/step - loss: 0.2777 - val_loss: 0.2798\n"
     ]
    },
    {
     "data": {
      "text/plain": [
       "<keras.callbacks.History at 0x7f295451e9d0>"
      ]
     },
     "execution_count": 12,
     "metadata": {},
     "output_type": "execute_result"
    }
   ],
   "source": [
    "#import tensorflow as tf\n",
    "#tf.config.run_functions_eagerly(True) # to make compatible with older versions\n",
    "\n",
    "autoencoder.fit(\n",
    "    x_train, x_train, \n",
    "    epochs=50, batch_size=128, shuffle=True, \n",
    "    validation_data=(x_test, x_test)\n",
    "    )"
   ]
  },
  {
   "cell_type": "code",
   "execution_count": 13,
   "metadata": {},
   "outputs": [],
   "source": [
    "decoded_imgs = autoencoder.predict(x_test)"
   ]
  },
  {
   "cell_type": "code",
   "execution_count": 14,
   "metadata": {},
   "outputs": [
    {
     "data": {
      "image/png": "[encoded data removed]",
      "text/plain": [
       "<Figure size 1440x288 with 10 Axes>"
      ]
     },
     "metadata": {
      "needs_background": "light"
     },
     "output_type": "display_data"
    }
   ],
   "source": [
    "# see what decoded images are produced\n",
    "n = 10\n",
    "plt.figure(figsize=(20, 4))\n",
    "for i in range(n):\n",
    "    ax = plt.subplot(1, n, i+1)\n",
    "    plt.imshow(decoded_imgs[i])\n",
    "    plt.gray()\n",
    "    ax.get_xaxis().set_visible(False)\n",
    "    ax.get_yaxis().set_visible(False)\n",
    "plt.show()"
   ]
  },
  {
   "cell_type": "code",
   "execution_count": 15,
   "metadata": {},
   "outputs": [
    {
     "name": "stderr",
     "output_type": "stream",
     "text": [
      "/opt/conda/lib/python3.7/site-packages/sklearn/manifold/_t_sne.py:783: FutureWarning: The default initialization in TSNE will change from 'random' to 'pca' in 1.2.\n",
      "  FutureWarning,\n",
      "/opt/conda/lib/python3.7/site-packages/sklearn/manifold/_t_sne.py:793: FutureWarning: The default learning rate in TSNE will change from 200.0 to 'auto' in 1.2.\n",
      "  FutureWarning,\n"
     ]
    },
    {
     "name": "stdout",
     "output_type": "stream",
     "text": [
      "(10000, 2)\n"
     ]
    }
   ],
   "source": [
    "# represent in 2d plane using T-SNE\n",
    "from tensorflow.keras.layers import Flatten\n",
    "from sklearn.manifold import TSNE\n",
    "\n",
    "# get output embeddings\n",
    "embed_layer = Flatten()(encoded)\n",
    "embeddings = Model(input_img, embed_layer).predict(x_test)\n",
    "# reduce to 2d\n",
    "tsne = TSNE(n_components=2)\n",
    "emb2d = tsne.fit_transform(embeddings)\n",
    "print(emb2d.shape)\n",
    "x, y = np.squeeze(emb2d[:,0]), np.squeeze(emb2d[:,1]) # remove extra dimensions with squeeze"
   ]
  },
  {
   "cell_type": "code",
   "execution_count": 16,
   "metadata": {},
   "outputs": [
    {
     "data": {
      "text/plain": [
       "((10000,), (10000,))"
      ]
     },
     "execution_count": 16,
     "metadata": {},
     "output_type": "execute_result"
    }
   ],
   "source": [
    "emb2d[:,0].shape, np.squeeze(emb2d[:,0]).shape"
   ]
  },
  {
   "cell_type": "code",
   "execution_count": 17,
   "metadata": {},
   "outputs": [],
   "source": [
    "import random\n",
    "color_mapping = [\"#\"+''.join([random.choice('0123456789ABCDEF') for j in range(6)])\n",
    "             for i in range(len(np.unique(y_test)))]\n",
    "color_mapping_dict = dict(zip(np.unique(y_test), color_mapping))\n",
    "colours = [color_mapping_dict[abab] for abab in y_test]"
   ]
  },
  {
   "cell_type": "code",
   "execution_count": 65,
   "metadata": {},
   "outputs": [
    {
     "data": {
      "text/plain": [
       "(dict_keys([0, 1, 2, 3, 4, 5, 6, 7, 8, 9]),\n",
       " dict_values(['#58B5CB', '#25EB3A', '#F6983F', '#56DC4D', '#44E5C1', '#2629DF', '#C80750', '#1E7364', '#DEC0C9', '#21BD05']))"
      ]
     },
     "execution_count": 65,
     "metadata": {},
     "output_type": "execute_result"
    }
   ],
   "source": [
    "color_mapping_dict.keys(), color_mapping_dict.values()"
   ]
  },
  {
   "cell_type": "code",
   "execution_count": 67,
   "metadata": {},
   "outputs": [],
   "source": [
    "markers = [plt.Line2D([0,0],[0,0], color=color, marker='o', linestyle='') for color in color_mapping_dict.values()]"
   ]
  },
  {
   "cell_type": "code",
   "execution_count": 79,
   "metadata": {},
   "outputs": [
    {
     "data": {
      "image/png": "[encoded data removed]",
      "text/plain": [
       "<Figure size 432x288 with 1 Axes>"
      ]
     },
     "metadata": {
      "needs_background": "light"
     },
     "output_type": "display_data"
    }
   ],
   "source": [
    "# https://stackoverflow.com/questions/31303912/matplotlib-pyplot-scatterplot-legend-from-color-dictionary\n",
    "fig, ax = plt.subplots()\n",
    "scatter = ax.scatter(x, y, color=colours)\n",
    "ax.legend(markers, color_mapping_dict.keys(), numpoints=1, title='classes', bbox_to_anchor =(1.25, 1))\n",
    "plt.show()"
   ]
  },
  {
   "cell_type": "markdown",
   "metadata": {},
   "source": [
    " Autoencoders are prone to overfitting as they tend to re-create the images of training and not generalise well. We will see how overfitting can be prevented to build more robust, dense representations.\n",
    " ### Denoising Autoencoders\n",
    " Autoencoders are also widely used to process a signal to filter out noise and extract only a relevant (characteristic) signal. This can be useful in many applications, such as identifying anomalies and outliers. Denoising autoencoders are a small variation, where some noise of various intensity is added to corrupt the input, whilst keeping the same noise-free target."
   ]
  },
  {
   "cell_type": "code",
   "execution_count": 12,
   "metadata": {},
   "outputs": [],
   "source": [
    "noise_factor = 0.1\n",
    "x_train_noisy = x_train + noise_factor * np.random.normal(loc=0.0, scale=1.0, size=x_train.shape)\n",
    "x_test_noisy = x_test + noise_factor * np.random.normal(loc=0.0, scale=1.0, size=x_test.shape)\n",
    "\n",
    "x_train_noisy = np.clip(x_train_noisy, 0., 1.)\n",
    "x_test_noisy = np.clip(x_test_noisy, 0., 1.)"
   ]
  },
  {
   "cell_type": "code",
   "execution_count": 15,
   "metadata": {},
   "outputs": [],
   "source": [
    "# noisy_autoencoder.fit(x_train_noisy, x_train, epochs=50, batch_size=128, shuffle=True, validation_data=(x_train_noisy, x_test))"
   ]
  },
  {
   "cell_type": "markdown",
   "metadata": {},
   "source": [
    "Approahc is generally valid when datasets are large and the risk of overfitting the noise is limited. When datasets are smaller, an alternative to avoid the network \"learning\" the noise is to add training stochastic noise using a GaussianNoise layer."
   ]
  },
  {
   "cell_type": "code",
   "execution_count": null,
   "metadata": {},
   "outputs": [],
   "source": [
    "input_img = Input(shape=(28, 28, 1))\n",
    "noisy_input = GaussianNoise(0.1)(input_img)\n",
    "x = Conv2D(16, (3, 3), activation='relu', padding='same')(noisy_input)"
   ]
  },
  {
   "cell_type": "markdown",
   "metadata": {},
   "source": [
    "Now the noisy inputs change between epochs, so the network avoids learning the noise. This is an example of a regularization layer, a layer that helps reduce overfitting by inserting random parts into the network making our model more robust and better at generalising.\n",
    "\n",
    "Another effective regularisier is dropout, that effectively sets some inputs (with random probability p0) to 0 and rescale other inputs by 1/(1-p0) factor to keep the sum over all units constant. Dropout corresponds to randomly killing some connections between layers to reduce output dependence to specific neurons.\n",
    "\n",
    "Regularisation layers are only active during training, and at test time simply correspond to identity layers. These help deal with deep NN that tend to overfit and are able to learn identity functions for autoencoders. Often, dropout and GaussianNoise are introduced in a repetitive pattern to have learnable layers referred to as **stacked denoising layers.**\n",
    "\n",
    "## Graph Autoencoders\n",
    "\n",
    "Definition of loss function needs to be optimised and a bit of caution when dealing with networks. For Graph Autoencoders, the input and output should be graph representation/ However when dealing with graph structures and adjacency matrices, we see two critical issues:\n",
    "-  Whereas the presence of links indicates relation or similarity, the absence does not generally indicate a dissimilarity between vertices.\n",
    "-  The adjacency matrix is extremely sparse, therefore the model will naturally tend to predict 0 rather than a positive value\n",
    "\n",
    "To address such peculariaties of reconstruction loss, we need to penalise more errors made for the non-zero elements than for zero elements $L_2 = \\sum\\limits_{i=1}^{n} ||(\\tilde(X)_l - Xi)\\bigodot b_i||$.\n",
    "\n",
    "One can promote first-order proximity  by enforcing connected nodes be close in embedding space: $ L_1 = \\sum\\limits_{i,j=1}^{N} s$<sub>$ij$</sub>$j||y_j - y_i||^2_2$. Here, $y_i$ and $y_j$ are two representation of nodes i and j in embedding space. This loss function forces neighbouring nodes to be close in embedding space. If two nodes are tightly connected, *s*<sub>ij</sub> will be large. Therefore, their difference in embedding space should be limited to keep the loss function small. These two can be combined to a single loss function where we can prevent overfitting with a regularisation loss proportional to the normal of the weight coefficients. \n",
    "$L$<sub>$tot$</sub> = $L_t + \\alpha \\cdot L$<sub>$tot$</sub> + $v \\cdot L$<sub>$reg$</sub> = $L_2 + \\alpha \\cdot L$<sub>$tot$</sub> + $v \\cdot ||W||^2_F$ where W represents all weights across the network. And is known as the **Structural Deep Network Embedding (SDNE)**."
   ]
  },
  {
   "cell_type": "code",
   "execution_count": null,
   "metadata": {},
   "outputs": [],
   "source": [
    "import networkx as nx\n",
    "import keras\n",
    "import tensorflow as tf\n",
    "\n",
    "from gem.embedding.sdne import SDNE\n",
    "G = nx.karate_club_graph()\n",
    "sdne = SDNE(d=2, beta=5, alpha=1e-5, nu1=1e-6, nu2=1e-6, K=3, \n",
    "            n_units=[50, 15], rho=0.3, n_iter=10, xeta=0.01, n_batch=100,\n",
    "            modelfile=['enc_model.json', 'dec_model.json'],\n",
    "            weightfile=['enc_weights.hdf5', 'dec_weights.hdf5'])\n",
    "sdne.learn_embedding(G)\n",
    "#embeddings = m1.get_embedding()"
   ]
  },
  {
   "cell_type": "markdown",
   "metadata": {},
   "source": [
    "Though powerful, we find issues when dealing with larger graphs. For these cases, the autoencoder input is one row of the adjacency matrix that has as many elements as the nodes in the network and can be millions in larger networks. So we can use a different metod over large networks to allow us to scale to larger graphs.\n",
    "\n",
    "## Graph Neural Networks\n",
    "**GNNs** are deep learning methods that work on graph-structured data, this family of methods is also known as **geometric deep learning** and is gaining interest in a variety of applications.\n",
    "\n",
    "The encoder takes as input both the graph structure and node features, these can be trained with or without supervision. The original GNN relies on the fact that each node can be described by its features and its neighbourhood. Information coming from the neighbourhood can be aggregated and used to compute more complex and high-level features.\n",
    "\n",
    "Initially, each node, $v_i$ is associated with a state. We can start with a random embedding $h_i^t$ (ignoring node attributes for simplicity). At each iteration of the algorithm, nodes accumulate inputs from their neighbours using a simple NN layer:\n",
    "\n",
    "$h_i^t = \\sum\\limits_{v_j \\in N(v_i)} \\sigma(Wh_j$<sup>$t-1$</sup>$+b)$\n",
    "\n",
    "Here $W \\in \\Re$<sup>$dxd$</sup> and $b \\in \\Re ^d$ are trainable parameters where *d* is the dimension of the embedding, $\\sigma$ is a non-linear functon and *t* represents the *t-th* iteration of the algorithm. The equation is applied recursively until a particular objective is reached. Note in each iteration, the previous state is exploited to compute the new state (has happened with RNNs).\n",
    "\n",
    "### Variations of GNNs\n",
    "With unsupervised representation learning, a common approach is touse an encoder to embed the graph then a simple decoder to reconstruct the adjacency matrix. The loss function is typically formulated as the similarity between the original adjacency matrix and the reconstructed one.\n",
    "\n",
    "$Z = GNN(X, A)$, $\\hat{A} = ZZ^T$ \n",
    "\n",
    "Where $A \\in \\Re$^$N \\times N$ is the adjacency matrix representation and $X \\in Re$ ^ $N \\times d$ is the matrix of node attributes. Another common approach is to train against a *target distance*, so embed two pairs of graphs simultaneously and obtained a combined representation. Trained such that the representation matches the distance. A similar strategy can be adopted with node classification/representation learning.\n",
    "\n",
    "**Graph Convolution Neural Network (GCN)**: GNN models inspired by CNN; filter parameters shared over locatiions in the graph and several layers are concatenated to form a deep network.\n",
    "\n",
    "Two types of convolution operations for graph data, **spectral approaches** and **non-spectral (spatial)** approaches. Spectral defines convolutions in spectral domain (decompose graphs in a combination of simpler elements). Spatial convolutions formulates the convolution as aggregating feature information form neighbours.\n",
    "\n",
    "### Spectral Graph Convolution\n",
    "Related to spectral graph theory. Characteristics of a graph in relation to the characteristic polynomial, eigenvalues, eigenvectors of the matrices associated with the graph. The convolution operation is defined as the multiplication of a signal (node features) by a kernel. Defined in the Fourier domain by determining the *eigendecomposition f the graph Laplacian*. However this mathematically grounded definition is computationally expensive. So many works have been done o approximate it, such as the Chebyshev polynomial of order K, whichdetermines the locality of the feature. K definining its k-hop neighbourhood (locality of filter).\n",
    "\n",
    "Let $X \\in \\Re$<sup>$N \\times d$</sup> be the matrix of node features. In classical NN processing, this signal would be composed of layers of the following: \n",
    "\n",
    "$H^l = \\sigma(XW)$ \n",
    "\n",
    "Where $W \\in \\Re$<sup>$N \\times N$</sup> and $\\sigma$ is some non-linear activation function. The drawback is that it processes each node signal independently without considering the connections between nodes, so we can make a simple (yet effective) modification:\n",
    "\n",
    "$H^l = \\sigma(AXW)$\n",
    "\n",
    "By introducing $A \\in \\Re$<sup>$N \\times N$</sup>, a new linear combination between each node and its corresponding neighbours is added. So information depends only on neighbourhood and parameters are applied on all the nodes simultaneously. This operation can be repeated in sequence several times, thus creating a deep NN. At each layer, *X* will be replaced with the output of the previous layer $H$<sup>$l-1$</sup>, though this does have limitations:\n",
    "-  $A$ considers all neighbours but not itself, so we fix it with $\\hat(A) = A + I$ identity matrix\n",
    "-  Adjacency matrix itself, typically not normalised so we observe large values in feature representation of high-degree nodes and small values in feature representation of small degree nodes. Lead to problems as optimisation algorithms are often sensitive to feature scale. \n",
    "    -  Solutions may be to multiply by *diagonal node degree matrix* D, such that all rows sum to 1: $D$<sup>$-1$</sup>$A$. Specifically, they used symmetric normalisation $(D$<sup>$-1/2$</sup>$AD$<sup>$-1/2$</sup>$)$, such that the proposed propagation rule becomes:\n",
    "    \n",
    "    $H^l = \\sigma(\\hat{D}$<sup>$-1/2$</sup>$\\hat{AD}$<sup>$-1/2$</sup>$XW)$\n",
    "    \n",
    "    Where $\\hat{D}$ is the diagonal node degree matrix of $\\hat{A}$."
   ]
  },
  {
   "cell_type": "code",
   "execution_count": 47,
   "metadata": {},
   "outputs": [],
   "source": [
    "# create GCN as defined in Kipf and Welling, applying to Zachary's Karate Club Graph\n",
    "import networkx as nx\n",
    "import numpy as np\n",
    "\n",
    "G = nx.barbell_graph(m1=10, m2=4)\n",
    "\n",
    "# create adjacency matrix representing G\n",
    "A = nx.to_numpy_matrix(G)\n",
    "# use identity as node descriptor as network has no node features\n",
    "I = np.eye(G.number_of_nodes())"
   ]
  },
  {
   "cell_type": "code",
   "execution_count": 48,
   "metadata": {},
   "outputs": [],
   "source": [
    "from scipy.linalg import sqrtm\n",
    "\n",
    "A_hat = A + I # add self loop\n",
    "\n",
    "# normalise the adjacency matrix with normalised diagonal node degree matix\n",
    "D_hat = np.array(np.sum(A_hat, axis=0))[0]\n",
    "D_hat = np.array(np.diag(D_hat))\n",
    "D_hat = np.linalg.inv(sqrtm(D_hat)) # inverse sqrt\n",
    "A_norm = D_hat @ A_hat @ D_hat"
   ]
  },
  {
   "cell_type": "code",
   "execution_count": 49,
   "metadata": {},
   "outputs": [],
   "source": [
    "def glorot_init(nin, nout):\n",
    "    # initialise W with glorot uniform initialisation\n",
    "    sd = np.sqrt(6.0 / (nin + nout))\n",
    "    return np.random.uniform(-sd, sd, size=(nin, nout))\n",
    "\n",
    "class GCNLayer():\n",
    "    def __init__(self, n_inputs, n_outputs):\n",
    "        self.n_inputs = n_inputs\n",
    "        self.n_outputs = n_outputs\n",
    "        self.W = glorot_init(self.n_outputs, self.n_inputs)\n",
    "        self.activation = np.tanh\n",
    "        \n",
    "    def forward(self, A, X):\n",
    "        self._X = (A @ X).T\n",
    "        H = self.W @ self._X\n",
    "        H = self.activation(H)\n",
    "        return H.T # (n_outputs, N)"
   ]
  },
  {
   "cell_type": "code",
   "execution_count": 54,
   "metadata": {},
   "outputs": [
    {
     "data": {
      "text/plain": [
       "((24, 24), (24, 24))"
      ]
     },
     "execution_count": 54,
     "metadata": {},
     "output_type": "execute_result"
    }
   ],
   "source": [
    "A_norm.shape, I.shape"
   ]
  },
  {
   "cell_type": "code",
   "execution_count": 50,
   "metadata": {},
   "outputs": [],
   "source": [
    "gcn1 = GCNLayer(G.number_of_nodes(), 8)\n",
    "gcn2 = GCNLayer(8, 4)\n",
    "gcn3 = GCNLayer(4, 2)\n",
    "\n",
    "H1 = gcn1.forward(A_norm, I) # 24, 8\n",
    "H2 = gcn2.forward(A_norm, H1) # 24, 4\n",
    "H3 = gcn3.forward(A_norm, H2) # 24, 2\n",
    "\n",
    "# H3 contains the embedding computed using the GCN propagation rule"
   ]
  },
  {
   "cell_type": "code",
   "execution_count": 76,
   "metadata": {},
   "outputs": [
    {
     "data": {
      "text/plain": [
       "<matplotlib.collections.PathCollection at 0x7fc2a94a0610>"
      ]
     },
     "execution_count": 76,
     "metadata": {},
     "output_type": "execute_result"
    },
    {
     "data": {
      "image/png": "[encoded data removed]",
      "text/plain": [
       "<Figure size 432x288 with 1 Axes>"
      ]
     },
     "metadata": {
      "needs_background": "light"
     },
     "output_type": "display_data"
    }
   ],
   "source": [
    "import matplotlib.pyplot as plt\n",
    "%matplotlib inline\n",
    "\n",
    "plt.scatter(np.array(np.squeeze(H3[:,0]))[0], np.array(np.squeeze(H3[:,1]))[0]);"
   ]
  },
  {
   "cell_type": "markdown",
   "metadata": {},
   "source": [
    "Already looks quite good given we have not trained the network yet.\n",
    "\n",
    "Results from spectral graph convolutions have achieved noteworthy results in may domains, however have drawbacks. E.g. a big graph with billions of nodes that require simultaneous processing can be impractical from a computational perspective.\n",
    "\n",
    "Furthermore, spectral convolution assumes a fixed graph leading to poor generalisation on new, different grpahs. So to overcome these issues, spatial graph convolutions present an interesting alternative.\n",
    "\n",
    "## Spatial Graph Convolution\n",
    "Spatial graph convolutional networks perform operations directly on graph by aggregating information from spatially close neighbours. Advantages: \n",
    "-  Weights can easily be shared across a different location of the graph, leading to good generalisation capability on different graphs\n",
    "-  Computation can be done by considering subsets of nodes instead of entire graph, potentially improving computational efficiency.\n",
    "\n",
    "GraphSAGE is an algorithm that implements spatial convolution. One of its main characteristics is its ability to scale over various types of networks, we can think of GraphSAGE as three steps:\n",
    "1.  **Neighbourhood Sampling**: For each node in the graph, we find its k-neighbourhood, where k is defined as how many hops to consider\n",
    "2.  **Aggregation**: Aggregate for each node, the node features describing the respective neighbourhood. There are various types of aggregation including pooling, averaging, even more complex such as LSTM..\n",
    "3.  **Prediction**: Each node is equipped with a simple NN that learns to perform predictions based on aggregated features from neighbours.\n",
    "\n",
    "GraphSAGE is often used in supervised settings. However, by adopting strategies like using similarity function as target distance, it can also be effecive for learning embedding without explicitly supervising the task.\n",
    "\n",
    "### In Practice\n",
    "There are frameworks using TF, Pytorch etc.. We will use StellarGraph.\n",
    "Graph has two GC layers with 64 and 32 output dimensions followed by RELU. The output will be computed as the euclidean distance of the two embeddings, simply use the laplacian to compute similarity score.\n",
    "\n",
    "Code is: https://github.com/PacktPublishing/Graph-Machine-Learning/blob/main/Chapter03/01_Shallow_Embeddings.ipynb"
   ]
  },
  {
   "cell_type": "code",
   "execution_count": null,
   "metadata": {},
   "outputs": [],
   "source": []
  }
 ],
 "metadata": {
  "environment": {
   "kernel": "python3",
   "name": "tf2-gpu.2-7.m87",
   "type": "gcloud",
   "uri": "gcr.io/deeplearning-platform-release/tf2-gpu.2-7:m87"
  },
  "kernelspec": {
   "display_name": "Python 3",
   "language": "python",
   "name": "python3"
  },
  "language_info": {
   "codemirror_mode": {
    "name": "ipython",
    "version": 3
   },
   "file_extension": ".py",
   "mimetype": "text/x-python",
   "name": "python",
   "nbconvert_exporter": "python",
   "pygments_lexer": "ipython3",
   "version": "3.9.13"
  },
  "vscode": {
   "interpreter": {
    "hash": "63383c2a68c062c071f75888e0186e64940c33bbd30fa02b08cd99ee71ee0b47"
   }
  }
 },
 "nbformat": 4,
 "nbformat_minor": 4
}
