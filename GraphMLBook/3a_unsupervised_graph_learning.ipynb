{
 "cells": [
  {
   "cell_type": "markdown",
   "metadata": {},
   "source": [
    "# Unsupervised Graph Learning\n",
    "\n",
    "Unsupervised ML: subset of ML that do not exploit any target information during training. Where there is no teacher and no correct answer is known a *priori*. These have become a useful tool to solve downstream tasks, such as node classification, community detection etc..\n",
    "\n",
    "Given a graph, the goal of the techniques is to automatically learn a latent representation of it, in which the key structural components are somehow preserved.\n",
    "\n",
    "Due to the mathematical complexity of Graphs in non-Euclidean space, it is not always easy to define what is close to what. May be hard to say what *close* even means, two users can be connected yet share very different features, can we still consider them as \"close\"? So problems like these are the reason unsupervised ML algorithms have found large applications in graph analysis, as there is no need for manually annotated data; making use of the information in the adjacency matrix and node features without any knowledge of the downstream ML task.\n",
    "\n",
    "One of the most used solutions is to learn embeddings that preserve graph structure. Learned representation can reconstruct pair-wise node similarity e.g. **adjacency matrix**. Can encode latent relationships to discover hidden and complex patterns. Reported by paper https://arxivorg/abs/2005.03675, algorithms can be grouped into macro-groups: shallow embedding methods, autoencoders and GNNs. "
   ]
  },
  {
   "cell_type": "markdown",
   "metadata": {},
   "source": [
    "![3_1](./figures/3_1.jpg)"
   ]
  },
  {
   "cell_type": "markdown",
   "metadata": {},
   "source": [
    "## Shallow Embedding Methods\n",
    "Learn and return embedding values for learned input data\n",
    "\n",
    "### Matrix Factorisation\n",
    "General decomposition technique widely used in different domains. Consistent number of graph embedding algorithms use this technique to compute node embedding of a graph.\n",
    "Matrix factorisation learns the V and H matrices (W ~ V X H) where $V \\in \\Re$ <sup>$m$ x $d$</sup> and  $H \\in \\Re$ <sup>$d$ x $n$</sup> (called **source** and **abundance** matrix respectively) by minimising a loss function that can change according to the specific problem we want to solve. *d* is the number of dimensions of the generated embedding space. The loss fn. is defined by computing the reconstruction err. using the Frobenius Norm as $||W - V X H||^2_F$. \n",
    "\n",
    "Generally speaking, all the unsupervised embedding algorithms based on matrix factorisation use the same principle. They factorise an input graph expressed as a matrix in different components. Differences lie in the loss functions used in the optimisation process. Different loss functions create embedding spaces that emphasise specific graph properties.\n",
    "\n",
    "### Graph Factorisation\n",
    "GF algorithm factorises the adjacency matrix of a given graph. \n",
    "$L = 1/2 \\sum\\limits_{(i,j) \\in E} (A$ <sub>$i,j$</sub> $- Y_i,Y_j^T)^2 + \\lambda/2 \\sum\\limits_{i}||Y_t||^2$\n",
    "May also include a regularisation term $\\lambda$ to make sure the problem remains well-posed in the absence of sufficient data. Suitable for undirected graph, has a strong symmetric factorisation. But could be limited for undirected graphs."
   ]
  },
  {
   "cell_type": "code",
   "execution_count": 1,
   "metadata": {},
   "outputs": [
    {
     "name": "stdout",
     "output_type": "stream",
     "text": [
      "[Errno 2] No such file or directory: 'gem/c_exe/gf'\n",
      "./gf not found. Reverting to Python implementation. Please compile gf, place node2vec in the path and grant executable permission\n",
      "\t\tIter id: 0, Objective: 95.0074, f1: 95.0032, f2: 0.00421903\n"
     ]
    }
   ],
   "source": [
    "import networkx as nx\n",
    "from gem.embedding.gf import GraphFactorization\n",
    "\n",
    "G = nx.barbell_graph(m1=10, m2=4)\n",
    "\n",
    "# generate d=2 dimensional embedding space\n",
    "gf = GraphFactorization(d=2, data_set=None, max_iter=10000, eta=1*10**-4, regu=1.0)\n",
    "# computation of node embeddings of input graph\n",
    "gf.learn_embedding(graph=G)\n",
    "# extracted computed embedding by calling gf.get_embedding()\n",
    "embeddings = gf.get_embedding()"
   ]
  },
  {
   "cell_type": "code",
   "execution_count": 2,
   "metadata": {},
   "outputs": [
    {
     "data": {
      "text/plain": [
       "<matplotlib.collections.PathCollection at 0x7f5b5cb2d6d0>"
      ]
     },
     "execution_count": 2,
     "metadata": {},
     "output_type": "execute_result"
    },
    {
     "data": {
      "image/png": "[encoded data removed]",
      "text/plain": [
       "<Figure size 432x288 with 1 Axes>"
      ]
     },
     "metadata": {
      "needs_background": "light"
     },
     "output_type": "display_data"
    }
   ],
   "source": [
    "import matplotlib.pyplot as plt\n",
    "%matplotlib inline\n",
    "\n",
    "# we can see approx. 3 groupings\n",
    "plt.scatter(embeddings[:,0], embeddings[:,1])"
   ]
  },
  {
   "cell_type": "markdown",
   "metadata": {},
   "source": [
    "**Higher-order proximity preserved embedding (HOPE)** is another graph embedding technique based on matrix factorisation. This method preserves higher-order proximity and does not force its embeddings to have symmetric properties.\n",
    "-  **First-order proximity**: We say a vertex pair $(v_i, v_j)$ has first-order proximity equal to edge weight $W$<sub>$ij$</sub> if edge $(v_i, v_j) \\in E$. Otherwise, the first-order proximity between the two nodes is 0.\n",
    "-  **Second and high-order proximity**: Capture two-step relationships between each pair of vertices. For each vertex pair $(v_i, v_j)$, second-order proximity is a two-step transition from $v_i$ to $v_j$. Higher-order proximity generalises this and we can capture a more global structure. Higher-order proximity can be viewed as k-step transition from $v_i$ to $v_j$.\n",
    "\n",
    "Loss function for HOPE is $L = ||S - Y_s \\times Y_t^T||^2_F$ where $S$ is the similarity matrix from graph $G$ and $Y_s \\in \\Re$<sup>$|V|xd$</sup> and $Y_t \\in \\Re$<sup>$|V|xd$</sup> are two ebedding matrices representing *d*-dimensional embedding space. $Y_s$ represents source embedding and $Y_t$ represents target embedding. HOPE uses two matrices to capture asymmetric proximity in directed networks where the direction from source node and target node is present. The final embedding matrix, Y, is obtained by concatenating column-wise $Y_s$ and $Y_t$ matrices, so the final embedding space has $2 * d$ dimensions.\n",
    "\n",
    "*S* is a similarity matrix from graph *G*, it's goalis to obtain higher-order proximity information. Formally computed as $S=M_g \\cdot M_t$ where $M_g$ and $M_t$ are polynomials of matrices. Some ways to compute $M_g$ and $M_t$ are:\n",
    "-  **Academic Adar(AA)**: Here, $M_g = I (identity)$ and $M_t = A \\cdot D \\cdot A$ where $D$ is a diagonal matrix computed as $D$<sub>$ij$</sub> $ = 1/ (\\sum (A_i $<sub>$j$</sub> $+ A_j$ <sub>$i$</sub> $))$\n",
    "-  **Katz Index**\n",
    "-  **Rooted PageRank (RPR)**\n",
    "-  **Common Neighbors (CN)** etc.."
   ]
  },
  {
   "cell_type": "code",
   "execution_count": 3,
   "metadata": {},
   "outputs": [
    {
     "name": "stdout",
     "output_type": "stream",
     "text": [
      "SVD error (low rank): 0.052092\n"
     ]
    }
   ],
   "source": [
    "import networkx as nx\n",
    "from gem.embedding.hope import HOPE\n",
    "\n",
    "G = nx.barbell_graph(m1=10, m2=4)\n",
    "# different class initialization with HOPE\n",
    "# d represents dimension of embedding space, num of columns of final embedding matrix Y\n",
    "# Y is obtained after column-wise concatenation of Y_s and Y_t\n",
    "gf = HOPE(d=4, beta=0.01)\n",
    "gf.learn_embedding(graph=G)\n",
    "embeddings = gf.get_embedding()"
   ]
  },
  {
   "cell_type": "code",
   "execution_count": 4,
   "metadata": {},
   "outputs": [
    {
     "data": {
      "text/plain": [
       "<matplotlib.collections.PathCollection at 0x7f5b5c9eebe0>"
      ]
     },
     "execution_count": 4,
     "metadata": {},
     "output_type": "execute_result"
    },
    {
     "data": {
      "image/png": "[encoded data removed]",
      "text/plain": [
       "<Figure size 432x288 with 1 Axes>"
      ]
     },
     "metadata": {
      "needs_background": "light"
     },
     "output_type": "display_data"
    }
   ],
   "source": [
    "# can see better grouping/separation of models\n",
    "plt.scatter(embeddings[:,0], embeddings[:,1])"
   ]
  },
  {
   "cell_type": "markdown",
   "metadata": {},
   "source": [
    "**Graph Representation with Global Structure Information**\n",
    "\n",
    "Graph representation with global structure information, such as HOPE allows us to preserve higher-order proximity without forcing embeddings to have symmetric properties. Formally, let $G = (V, E)$ be the graph we want to compute node embeddings for and $A \\in \\Re$<sup>$|V| \\times |V|$</sup> be its adjacency matrix, we have the loss function:\n",
    "$L_k = ||X^k - Y_s^k \\times Y_t $<sup>$k^T$</sup>$||^2_F 1 \\le k \\le K $. In the loss fn, $X^k \\in \\Re$<sup>$|V|\\times|V|$</sup> is a matrix generated from graph *G* to get the *k*th order of proximity between nodes. \n",
    "\n",
    "$Y_s^k \\in \\Re$<sup>$|V|\\times|V|$</sup> and $Y_t^k \\in \\Re$<sup>$|V|\\times|V|$</sup> are two embedding matrices representing a d-dimensional embedding space of *k*th order proximity for source and target nodes, respectively. The $X^k$ matrix is computed according to the equation $X^k = \\prod\\limits_{k}(D$<sup>$-1$</sup>$A)$ where D is a diagonal **degree matrix** computed where $D$<sup>ij</sup>$=\\sum\\limits_{p} A$<sub>ip</sub> where $i=j$. \n",
    "\n",
    "$X^1 = D$<sup>-1</sup>$A$ represents the (one-step) probability transition matrix where Xij is the probability of transition from vertex $V_i$ to $V_j$. Generally, $V^k$<sub>ij</sub> represents the probability of transition from $V_i$ to $V_j$ within *k* steps. For each order of proximity, k, an independent optimisation is fitted. All the k embedding matrices generated are then column-wise concatenated to get the final source embedding matrices."
   ]
  },
  {
   "cell_type": "code",
   "execution_count": 1,
   "metadata": {},
   "outputs": [],
   "source": [
    "# node embedding for karateclub\n",
    "import networkx as nx\n",
    "from karateclub.node_embedding.neighbourhood.grarep import GraRep\n",
    "\n",
    "G = nx.barbell_graph(m1=10, m2=4)\n",
    "# dimensions of embedding space and max num orders of proximity between nodes\n",
    "gr = GraRep(dimensions=2, order=3) \n",
    "gr.fit(G)\n",
    "# num columns here is dimensions * order\n",
    "embeddings = gr.get_embedding()"
   ]
  },
  {
   "cell_type": "code",
   "execution_count": 2,
   "metadata": {},
   "outputs": [
    {
     "data": {
      "text/plain": [
       "(24, 6)"
      ]
     },
     "execution_count": 2,
     "metadata": {},
     "output_type": "execute_result"
    }
   ],
   "source": [
    "embeddings.shape"
   ]
  },
  {
   "cell_type": "markdown",
   "metadata": {},
   "source": [
    "Different orders of proximity allow us to get different embeddings. Since input graph is simple, for *k=1*, a well-separated embedding space is obtained.\n",
    "\n",
    "### Skip-gram\n",
    "\n",
    "Skip-gram model is a simple NN with one hidden-layer trained to predict the probability of a given word being present when an input word is present, the NN is trained by building the training data using a text corpus as reference. \n",
    "\n",
    "Training: A target word is selected and a rolling window of fixed size *w* is built around the word, the other words inside the rolling window are known as *context* words. So wehave multiple pairs of *(target word, context word)* which are built according to words inside the rolling window.\n",
    "\n",
    "Once training data is generated from the whole corpus, the skip-gram model is trained to predict the probability of a word being a context word for the given target. During training, the NN learns a compact representation of input words, this is why the model is known as **Word to Vector (Word2Vec)**.\n",
    "\n",
    "The input is a binary vector of size *m*. Each element of the vector represents a word in the dict of the language we want to embed words in. In training, a *(target word, context word)* pair is given, the input array will have 0 in all its entries with the exception of the entry representing the \"target\" word which will be 1. The hidden layer has *d* neurons and will learn the embedding representation of each word, creating a *d-*dimensional embedding space.\n",
    "\n",
    "Finally, output layer is a dense layer of *m* neurons (same size as input vector) with *softmax* activation. Each neuron represents a word of the dictionary and its value corresponds to the probability of that word being \"related\" to the input word. Since softmax can be hard to compute as *m* increases, a *hierarchical softmax* approach is used.\n",
    "\n",
    "Our final goal is to not learn the actual task, but to build a compact *d*-dimensional representation of the input words. So we can extract an embedding space for words using the weights of the hidden layer. Another approach is **continuous bag-of-words (CBOW)** which is a context-based skip-gram model. Generally speaking, all unsupervised embedding algorithms based on skip-gram model use the same principle. Start from input graph, they extract from set of walks, these can be seen as a text corpus, whereby connected is a text next to each other. This leads us to DeepWalk.\n",
    "\n",
    "### DeepWalk\n",
    "\n",
    "Generates node embeddings of a graph using skip-gram model, for this we introduce **random walk**. Here we select vertex $v_i$ as starting node, then pick neighbour at random and move towards it. We repeat this *t* times so we have random walk of length *t*. There is no guarantee that the local neighbourhood of the node is well preserved as the random walk algorithm has no constraint on how they are built. The *t* walks are used as input to the skip-gram model. The embedding generated by skip-gram will be used as final node embedding. So breaking it down:\n",
    "1.  **Random Walk Generation**: For each node of input graph G, set of $Y$ random walks with fixed max length (t) is computed. Note that *t* is an upper bound, no constraints forcing all paths to have the same length.\n",
    "2.  **Skip-Gram Training**: Use walks generated in previous step. When graph is given as input to skip-gram, input can be seen as text corpus where the node is the word of the corpus.\n",
    "3.  **Embedding Generation**: Information contained in hidden layers of trained skip-gram model is used to extract embedding of each node."
   ]
  },
  {
   "cell_type": "code",
   "execution_count": 51,
   "metadata": {},
   "outputs": [],
   "source": [
    "import networkx as nx\n",
    "from karateclub.node_embedding.neighbourhood.deepwalk import DeepWalk\n",
    "\n",
    "G = nx.barbell_graph(m1=10, m2=4)\n",
    "# walk_number: number of random walks to generate for each node\n",
    "# walk_length: length of the generated random walks\n",
    "# window_size: window size parameter of the skip-gram model\n",
    "dw = DeepWalk(dimensions=2)\n",
    "dw.fit(G)\n",
    "embeddings = dw.get_embedding()"
   ]
  },
  {
   "cell_type": "code",
   "execution_count": 52,
   "metadata": {},
   "outputs": [
    {
     "data": {
      "image/png": "[encoded data removed]",
      "text/plain": [
       "<Figure size 432x288 with 1 Axes>"
      ]
     },
     "metadata": {
      "needs_background": "light"
     },
     "output_type": "display_data"
    }
   ],
   "source": [
    "import matplotlib.pyplot as plt\n",
    "%matplotlib inline \n",
    "\n",
    "# there is not that clear of a distinction between the embedding space of the nodes\n",
    "plt.scatter(embeddings[:,0], embeddings[:,1]);"
   ]
  },
  {
   "cell_type": "code",
   "execution_count": 53,
   "metadata": {},
   "outputs": [
    {
     "data": {
      "image/png": "[encoded data removed]",
      "text/plain": [
       "<Figure size 432x288 with 1 Axes>"
      ]
     },
     "metadata": {
      "needs_background": "light"
     },
     "output_type": "display_data"
    }
   ],
   "source": [
    "import numpy as np\n",
    "v_embeddings = np.array([(nid, *embeddings[nid]) for nid in G.nodes])\n",
    "# separation between nodes is better compared to DeepWalk. Regions 1 and 3 are clustered in space\n",
    "# region2 is in the middle without overlap with region1 and region3\n",
    "\n",
    "fig, ax = plt.subplots()\n",
    "ax.scatter(v_embeddings[:,1], v_embeddings[:,2])\n",
    "\n",
    "for v in v_embeddings:\n",
    "    ax.annotate(v[0], (v[1], v[2]))"
   ]
  },
  {
   "cell_type": "markdown",
   "metadata": {},
   "source": [
    "### Node2Vec\n",
    "Similar to DeepWalk, generates set of random walks as input to skip-gram and then use hidden layer to generate node embeddings. Difference is in the way random walks are generated.\n",
    "\n",
    "In Node2Vec, a new technique to generate biased random walks on the graph is introduced. This algorithm combines **Breadth-First Search (BFS)** and **Depth-First Search (DFS)**. These two are regulated by parameters *p* and *q*.\n",
    "-  **p**: Probability of random walk going back to previous node\n",
    "-  **q**: probability that random walk passes through previously unseen part of graph\n",
    "\n",
    "So here Node2Vec can preserve high-order proximities by preserving local graph structures as well as globalcommunity structures. So this preserves local neighbourhood properties of the node."
   ]
  },
  {
   "cell_type": "code",
   "execution_count": 2,
   "metadata": {},
   "outputs": [
    {
     "data": {
      "application/vnd.jupyter.widget-view+json": {
       "model_id": "da0d436e213f4ff2b83786f516b20d05",
       "version_major": 2,
       "version_minor": 0
      },
      "text/plain": [
       "Computing transition probabilities:   0%|          | 0/24 [00:00<?, ?it/s]"
      ]
     },
     "metadata": {},
     "output_type": "display_data"
    },
    {
     "name": "stderr",
     "output_type": "stream",
     "text": [
      "Generating walks (CPU: 1): 100%|██████████| 10/10 [00:00<00:00, 152.76it/s]\n"
     ]
    },
    {
     "data": {
      "image/png": "[encoded data removed]",
      "text/plain": [
       "<Figure size 432x288 with 1 Axes>"
      ]
     },
     "metadata": {},
     "output_type": "display_data"
    }
   ],
   "source": [
    "import networkx as nx\n",
    "from node2vec import Node2Vec\n",
    "G = nx.barbell_graph(m1=10, m2=4)\n",
    "nx.draw(G, with_labels=True)\n",
    "# num walks: number of random walks to generate for each node\n",
    "# walk_length: length of the generated random walks\n",
    "# p and q: parameters of the random walk\n",
    "node2vec = Node2Vec(G, dimensions=2, num_walks=10)\n",
    "model = node2vec.fit(window=10)\n",
    "embeddings = model.wv\n",
    "# can use model.wv[str(nodeId)] to get the embedding of a node"
   ]
  },
  {
   "cell_type": "code",
   "execution_count": 5,
   "metadata": {},
   "outputs": [
    {
     "data": {
      "image/png": "[encoded data removed]",
      "text/plain": [
       "<Figure size 432x288 with 1 Axes>"
      ]
     },
     "metadata": {
      "needs_background": "light"
     },
     "output_type": "display_data"
    }
   ],
   "source": [
    "import numpy as np\n",
    "import matplotlib.pyplot as plt\n",
    "%matplotlib inline \n",
    "\n",
    "v_embeddings = np.array([(nid, *embeddings[nid]) for nid in G.nodes])\n",
    "# separation between nodes is better compared to DeepWalk. Regions 1 and 3 are clustered in space\n",
    "# region2 is in the middle without overlap with region1 and region3\n",
    "\n",
    "fig, ax = plt.subplots()\n",
    "ax.scatter(v_embeddings[:,1], v_embeddings[:,2])\n",
    "\n",
    "for v in v_embeddings:\n",
    "    ax.annotate(v[0], (v[1], v[2]))"
   ]
  },
  {
   "cell_type": "markdown",
   "metadata": {},
   "source": [
    "### Edge2Vec\n",
    "Edge2Vec generates embedding space on edges instead of nodes, this uses node embedding of two adjacent nodes to perform some basic mathematical operations in order to extract the embedding of the edge connecting them.\n",
    "\n",
    "Can compute embeddings with average embedder, Hadamard, Weighted-L1 or Weighted L2"
   ]
  },
  {
   "cell_type": "code",
   "execution_count": 6,
   "metadata": {},
   "outputs": [],
   "source": [
    "from node2vec.edges import HadamardEmbedder\n",
    "# value of param is Node2Vec embeding model.\n",
    "# to change the embedding model, change the value of param\n",
    "embedding = HadamardEmbedder(keyed_vectors=model.wv)\n",
    "# different embedding methods create different embeding spaces"
   ]
  },
  {
   "cell_type": "markdown",
   "metadata": {},
   "source": [
    "### Graph2Vec\n",
    "Generates embeddings for the whole graph. Generate an embedding space where each point represents a graph, this is an evolution of Word2Vec skip-gram known as **Document to Vector (Doc2Vec)**. Compared to Word2Vec Doc2Vec accepts another binary array representing the document containing the input word. Given a 'target' document and 'target' word, the model tries to predict the most probable 'context' word wrt the input 'target' word and document.\n",
    "\n",
    "So then with Graph2Vec, we see the entire graph as a document and each of its subgraphs, generated as an ego graph of each node as words that comprise the document. Ie. a graph is composed of subgraphs as a document is composed of sentences, so we summarise the algorithm to the following steps:\n",
    "1.  **Subgraph Generation**: Set of rooted subgraphs is generated around every node\n",
    "2.  **Doc2Vec Training**: Doc2Vec skip-gram is trained using the subgraphs generated by the previous step\n",
    "3.  **Embedding Generation**: Information in hidden layers of Doc2Vec is used to extract embedding of each node\n"
   ]
  },
  {
   "cell_type": "code",
   "execution_count": 11,
   "metadata": {},
   "outputs": [],
   "source": [
    "import matplotlib.pyplot as plt\n",
    "from karateclub import Graph2Vec\n",
    "import random\n",
    "n_graphs=20\n",
    "\n",
    "def generate_random():\n",
    "    n = random.randint(5, 20)\n",
    "    k = random.randint(5, n)\n",
    "    p = random.uniform(0, 1)\n",
    "    return nx.watts_strogatz_graph(n,k,p)\n",
    "\n",
    "Gs = [generate_random() for x in range(n_graphs)] # generate 20 watts-strogatz graphs\n",
    "\n",
    "model = Graph2Vec(dimensions=2) # 2 dimensions\n",
    "model.fit(Gs) # fit model\n",
    "embeddings = model.get_embedding() # extract embeddings"
   ]
  },
  {
   "cell_type": "markdown",
   "metadata": {},
   "source": [
    "More complex graph embedding algorithms based on autoencoders.\n",
    "\n",
    "## Autoencoders\n",
    "An autoencoder NN is trained to reconstruct its inputs using a significantly lower number of variables and/or degree of freedom. Autoencoders can learn non-linear transformations thanks to non-linear activation functions of their neurons.\n",
    "-  **encoder**: Processes input through one or more units and maps it into an encoded representation that reduces the dimension of the inputs and/or constrains its sparsity\n",
    "-  **decoder**: Reconstructs input signal from encoded representation of middle layer\n",
    "\n",
    "Encoder-decoder structure is trained to maximise the ability of the full network to reconstruct the input. Some common loss functions (\"reconstruction\" error), MSE, MAE, Cross-Entropy, KL Divergence.\n",
    "\n",
    "Tensorflow: Allows one to build symbol structures that describes how inputs are combined to produce outputs, defining **computation graphs** or **stateful dataflow graphs**. Allows one to symbollically differentaiate computation graph WRT any variable, resulting in a new computation graph that can be differentiated also to produce higher-order derivatives. This in the context of optimisation of a loss function WRT many loss functions is central to training of a NN via backpropagation, dubbed as gradient descent."
   ]
  },
  {
   "cell_type": "code",
   "execution_count": 2,
   "metadata": {},
   "outputs": [],
   "source": [
    "from tensorflow.keras.datasets import fashion_mnist\n",
    "(x_train, y_train), (x_test, y_test) = fashion_mnist.load_data()"
   ]
  },
  {
   "cell_type": "code",
   "execution_count": 3,
   "metadata": {},
   "outputs": [],
   "source": [
    "# good practice to reduce input precision, will be faster when training\n",
    "# in some cases can even lower to half-precision (16 bits).\n",
    "x_train = x_train.astype('float32') / 255.\n",
    "x_test = x_test.astype('float32') / 255."
   ]
  },
  {
   "cell_type": "code",
   "execution_count": 3,
   "metadata": {},
   "outputs": [
    {
     "data": {
      "image/png": "[encoded data removed]",
      "text/plain": [
       "<Figure size 1440x288 with 10 Axes>"
      ]
     },
     "metadata": {
      "needs_background": "light"
     },
     "output_type": "display_data"
    }
   ],
   "source": [
    "import matplotlib.pyplot as plt\n",
    "%matplotlib inline\n",
    "\n",
    "n = 10\n",
    "plt.figure(figsize=(20, 4))\n",
    "for i in range(n):\n",
    "    ax = plt.subplot(1, n, i+1)\n",
    "    plt.imshow(x_train[i])\n",
    "    plt.title(y_train[i])\n",
    "    plt.gray()\n",
    "    ax.get_xaxis().set_visible(False)\n",
    "    ax.get_yaxis().set_visible(False)\n",
    "plt.show()"
   ]
  },
  {
   "cell_type": "code",
   "execution_count": 4,
   "metadata": {},
   "outputs": [
    {
     "name": "stderr",
     "output_type": "stream",
     "text": [
      "2022-07-05 08:48:29.517172: I tensorflow/stream_executor/cuda/cuda_gpu_executor.cc:936] successful NUMA node read from SysFS had negative value (-1), but there must be at least one NUMA node, so returning NUMA node zero\n",
      "2022-07-05 08:48:29.608569: I tensorflow/stream_executor/cuda/cuda_gpu_executor.cc:936] successful NUMA node read from SysFS had negative value (-1), but there must be at least one NUMA node, so returning NUMA node zero\n",
      "2022-07-05 08:48:29.609282: I tensorflow/stream_executor/cuda/cuda_gpu_executor.cc:936] successful NUMA node read from SysFS had negative value (-1), but there must be at least one NUMA node, so returning NUMA node zero\n",
      "2022-07-05 08:48:29.620772: I tensorflow/core/platform/cpu_feature_guard.cc:151] This TensorFlow binary is optimized with oneAPI Deep Neural Network Library (oneDNN) to use the following CPU instructions in performance-critical operations:  AVX2 FMA\n",
      "To enable them in other operations, rebuild TensorFlow with the appropriate compiler flags.\n",
      "2022-07-05 08:48:29.621799: I tensorflow/stream_executor/cuda/cuda_gpu_executor.cc:936] successful NUMA node read from SysFS had negative value (-1), but there must be at least one NUMA node, so returning NUMA node zero\n",
      "2022-07-05 08:48:29.622461: I tensorflow/stream_executor/cuda/cuda_gpu_executor.cc:936] successful NUMA node read from SysFS had negative value (-1), but there must be at least one NUMA node, so returning NUMA node zero\n",
      "2022-07-05 08:48:29.623020: I tensorflow/stream_executor/cuda/cuda_gpu_executor.cc:936] successful NUMA node read from SysFS had negative value (-1), but there must be at least one NUMA node, so returning NUMA node zero\n",
      "2022-07-05 08:48:34.694638: I tensorflow/stream_executor/cuda/cuda_gpu_executor.cc:936] successful NUMA node read from SysFS had negative value (-1), but there must be at least one NUMA node, so returning NUMA node zero\n",
      "2022-07-05 08:48:34.695354: I tensorflow/stream_executor/cuda/cuda_gpu_executor.cc:936] successful NUMA node read from SysFS had negative value (-1), but there must be at least one NUMA node, so returning NUMA node zero\n",
      "2022-07-05 08:48:34.695926: I tensorflow/stream_executor/cuda/cuda_gpu_executor.cc:936] successful NUMA node read from SysFS had negative value (-1), but there must be at least one NUMA node, so returning NUMA node zero\n",
      "2022-07-05 08:48:34.697225: I tensorflow/core/common_runtime/gpu/gpu_device.cc:1525] Created device /job:localhost/replica:0/task:0/device:GPU:0 with 13795 MB memory:  -> device: 0, name: Tesla T4, pci bus id: 0000:00:04.0, compute capability: 7.5\n"
     ]
    }
   ],
   "source": [
    "from tensorflow.keras.layers import Conv2D, Dropout, MaxPooling2D, UpSampling2D, Input\n",
    "input_img = Input(shape=(28, 28, 1))\n",
    "\n",
    "# define encoder network\n",
    "x = Conv2D(16, (3, 3), activation='relu', padding='same')(input_img) \n",
    "x = MaxPooling2D((2, 2), padding='same')(x) # downsamples input\n",
    "x = Conv2D(8, (3,3), activation='relu', padding='same')(x)\n",
    "x = MaxPooling2D((2, 2), padding='same')(x)\n",
    "x = Conv2D(8, (3, 3), activation='relu', padding='same')(x)\n",
    "encoded = MaxPooling2D((2, 2), padding='same')(x)"
   ]
  },
  {
   "cell_type": "code",
   "execution_count": 5,
   "metadata": {},
   "outputs": [
    {
     "name": "stdout",
     "output_type": "stream",
     "text": [
      "Model: \"model\"\n",
      "_________________________________________________________________\n",
      " Layer (type)                Output Shape              Param #   \n",
      "=================================================================\n",
      " input_1 (InputLayer)        [(None, 28, 28, 1)]       0         \n",
      "                                                                 \n",
      " conv2d (Conv2D)             (None, 28, 28, 16)        160       \n",
      "                                                                 \n",
      " max_pooling2d (MaxPooling2D  (None, 14, 14, 16)       0         \n",
      " )                                                               \n",
      "                                                                 \n",
      " conv2d_1 (Conv2D)           (None, 14, 14, 8)         1160      \n",
      "                                                                 \n",
      " max_pooling2d_1 (MaxPooling  (None, 7, 7, 8)          0         \n",
      " 2D)                                                             \n",
      "                                                                 \n",
      " conv2d_2 (Conv2D)           (None, 7, 7, 8)           584       \n",
      "                                                                 \n",
      " max_pooling2d_2 (MaxPooling  (None, 4, 4, 8)          0         \n",
      " 2D)                                                             \n",
      "                                                                 \n",
      "=================================================================\n",
      "Total params: 1,904\n",
      "Trainable params: 1,904\n",
      "Non-trainable params: 0\n",
      "_________________________________________________________________\n"
     ]
    }
   ],
   "source": [
    "from tensorflow.keras import Model\n",
    "\n",
    "Model(input_img, encoded).summary()"
   ]
  },
  {
   "cell_type": "code",
   "execution_count": 6,
   "metadata": {},
   "outputs": [],
   "source": [
    "## decoder network\n",
    "x = Conv2D(8, (3, 3), activation='relu', padding='same')(encoded)\n",
    "x = UpSampling2D((2, 2))(x) # repeats input over a specified window (doubling tensor)\n",
    "x = Conv2D(8, (3, 3), activation='relu', padding='same')(x)\n",
    "x = UpSampling2D((2, 2))(x)\n",
    "x = Conv2D(16, (3, 3), activation='relu')(x)\n",
    "x = UpSampling2D((2, 2))(x)\n",
    "decoded = Conv2D(1, (3, 3), activation='sigmoid', padding='same')(x)"
   ]
  },
  {
   "cell_type": "code",
   "execution_count": 7,
   "metadata": {},
   "outputs": [
    {
     "name": "stdout",
     "output_type": "stream",
     "text": [
      "Model: \"model_1\"\n",
      "_________________________________________________________________\n",
      " Layer (type)                Output Shape              Param #   \n",
      "=================================================================\n",
      " input_1 (InputLayer)        [(None, 28, 28, 1)]       0         \n",
      "                                                                 \n",
      " conv2d (Conv2D)             (None, 28, 28, 16)        160       \n",
      "                                                                 \n",
      " max_pooling2d (MaxPooling2D  (None, 14, 14, 16)       0         \n",
      " )                                                               \n",
      "                                                                 \n",
      " conv2d_1 (Conv2D)           (None, 14, 14, 8)         1160      \n",
      "                                                                 \n",
      " max_pooling2d_1 (MaxPooling  (None, 7, 7, 8)          0         \n",
      " 2D)                                                             \n",
      "                                                                 \n",
      " conv2d_2 (Conv2D)           (None, 7, 7, 8)           584       \n",
      "                                                                 \n",
      " max_pooling2d_2 (MaxPooling  (None, 4, 4, 8)          0         \n",
      " 2D)                                                             \n",
      "                                                                 \n",
      " conv2d_3 (Conv2D)           (None, 4, 4, 8)           584       \n",
      "                                                                 \n",
      " up_sampling2d (UpSampling2D  (None, 8, 8, 8)          0         \n",
      " )                                                               \n",
      "                                                                 \n",
      " conv2d_4 (Conv2D)           (None, 8, 8, 8)           584       \n",
      "                                                                 \n",
      " up_sampling2d_1 (UpSampling  (None, 16, 16, 8)        0         \n",
      " 2D)                                                             \n",
      "                                                                 \n",
      " conv2d_5 (Conv2D)           (None, 14, 14, 16)        1168      \n",
      "                                                                 \n",
      " up_sampling2d_2 (UpSampling  (None, 28, 28, 16)       0         \n",
      " 2D)                                                             \n",
      "                                                                 \n",
      " conv2d_6 (Conv2D)           (None, 28, 28, 1)         145       \n",
      "                                                                 \n",
      "=================================================================\n",
      "Total params: 4,385\n",
      "Trainable params: 4,385\n",
      "Non-trainable params: 0\n",
      "_________________________________________________________________\n"
     ]
    }
   ],
   "source": [
    "autoencoder = Model(input_img, decoded)\n",
    "autoencoder.summary()"
   ]
  },
  {
   "cell_type": "code",
   "execution_count": 8,
   "metadata": {},
   "outputs": [],
   "source": [
    "autoencoder.compile(optimizer='adam', loss='binary_crossentropy')"
   ]
  },
  {
   "cell_type": "code",
   "execution_count": 9,
   "metadata": {},
   "outputs": [
    {
     "data": {
      "text/plain": [
       "((60000, 28, 28), (10000, 28, 28))"
      ]
     },
     "execution_count": 9,
     "metadata": {},
     "output_type": "execute_result"
    }
   ],
   "source": [
    "x_train.shape, x_test.shape"
   ]
  },
  {
   "cell_type": "code",
   "execution_count": 10,
   "metadata": {},
   "outputs": [],
   "source": [
    "import numpy as np\n",
    "\n",
    "# reshape\n",
    "x_train = np.reshape(x_train, (len(x_train), 28, 28, 1))\n",
    "x_test = np.reshape(x_test, (len(x_test), 28, 28, 1))"
   ]
  },
  {
   "cell_type": "code",
   "execution_count": 11,
   "metadata": {},
   "outputs": [
    {
     "data": {
      "text/plain": [
       "((60000, 28, 28, 1), (10000, 28, 28, 1))"
      ]
     },
     "execution_count": 11,
     "metadata": {},
     "output_type": "execute_result"
    }
   ],
   "source": [
    "x_train.shape, x_test.shape"
   ]
  },
  {
   "cell_type": "code",
   "execution_count": 12,
   "metadata": {},
   "outputs": [
    {
     "name": "stdout",
     "output_type": "stream",
     "text": [
      "Epoch 1/50\n"
     ]
    },
    {
     "name": "stderr",
     "output_type": "stream",
     "text": [
      "2022-07-05 00:40:10.746816: I tensorflow/stream_executor/cuda/cuda_dnn.cc:368] Loaded cuDNN version 8200\n"
     ]
    },
    {
     "name": "stdout",
     "output_type": "stream",
     "text": [
      "469/469 [==============================] - 9s 6ms/step - loss: 0.3548 - val_loss: 0.3119\n",
      "Epoch 2/50\n",
      "469/469 [==============================] - 2s 5ms/step - loss: 0.3039 - val_loss: 0.3014\n",
      "Epoch 3/50\n",
      "469/469 [==============================] - 2s 5ms/step - loss: 0.2975 - val_loss: 0.2977\n",
      "Epoch 4/50\n",
      "469/469 [==============================] - 2s 5ms/step - loss: 0.2942 - val_loss: 0.2952\n",
      "Epoch 5/50\n",
      "469/469 [==============================] - 2s 5ms/step - loss: 0.2919 - val_loss: 0.2931\n",
      "Epoch 6/50\n",
      "469/469 [==============================] - 2s 5ms/step - loss: 0.2903 - val_loss: 0.2916\n",
      "Epoch 7/50\n",
      "469/469 [==============================] - 2s 5ms/step - loss: 0.2888 - val_loss: 0.2902\n",
      "Epoch 8/50\n",
      "469/469 [==============================] - 2s 5ms/step - loss: 0.2878 - val_loss: 0.2891\n",
      "Epoch 9/50\n",
      "469/469 [==============================] - 2s 5ms/step - loss: 0.2869 - val_loss: 0.2888\n",
      "Epoch 10/50\n",
      "469/469 [==============================] - 2s 5ms/step - loss: 0.2861 - val_loss: 0.2877\n",
      "Epoch 11/50\n",
      "469/469 [==============================] - 2s 5ms/step - loss: 0.2854 - val_loss: 0.2869\n",
      "Epoch 12/50\n",
      "469/469 [==============================] - 2s 5ms/step - loss: 0.2849 - val_loss: 0.2866\n",
      "Epoch 13/50\n",
      "469/469 [==============================] - 2s 5ms/step - loss: 0.2843 - val_loss: 0.2866\n",
      "Epoch 14/50\n",
      "469/469 [==============================] - 2s 5ms/step - loss: 0.2838 - val_loss: 0.2860\n",
      "Epoch 15/50\n",
      "469/469 [==============================] - 2s 5ms/step - loss: 0.2834 - val_loss: 0.2850\n",
      "Epoch 16/50\n",
      "469/469 [==============================] - 2s 5ms/step - loss: 0.2829 - val_loss: 0.2848\n",
      "Epoch 17/50\n",
      "469/469 [==============================] - 2s 5ms/step - loss: 0.2826 - val_loss: 0.2842\n",
      "Epoch 18/50\n",
      "469/469 [==============================] - 2s 5ms/step - loss: 0.2822 - val_loss: 0.2849\n",
      "Epoch 19/50\n",
      "469/469 [==============================] - 2s 5ms/step - loss: 0.2820 - val_loss: 0.2840\n",
      "Epoch 20/50\n",
      "469/469 [==============================] - 2s 5ms/step - loss: 0.2816 - val_loss: 0.2843\n",
      "Epoch 21/50\n",
      "469/469 [==============================] - 2s 5ms/step - loss: 0.2813 - val_loss: 0.2833\n",
      "Epoch 22/50\n",
      "469/469 [==============================] - 2s 5ms/step - loss: 0.2812 - val_loss: 0.2830\n",
      "Epoch 23/50\n",
      "469/469 [==============================] - 2s 5ms/step - loss: 0.2809 - val_loss: 0.2827\n",
      "Epoch 24/50\n",
      "469/469 [==============================] - 2s 5ms/step - loss: 0.2807 - val_loss: 0.2827\n",
      "Epoch 25/50\n",
      "469/469 [==============================] - 2s 5ms/step - loss: 0.2805 - val_loss: 0.2824\n",
      "Epoch 26/50\n",
      "469/469 [==============================] - 2s 5ms/step - loss: 0.2803 - val_loss: 0.2823\n",
      "Epoch 27/50\n",
      "469/469 [==============================] - 2s 5ms/step - loss: 0.2801 - val_loss: 0.2825\n",
      "Epoch 28/50\n",
      "469/469 [==============================] - 2s 5ms/step - loss: 0.2800 - val_loss: 0.2821\n",
      "Epoch 29/50\n",
      "469/469 [==============================] - 2s 5ms/step - loss: 0.2798 - val_loss: 0.2822\n",
      "Epoch 30/50\n",
      "469/469 [==============================] - 2s 5ms/step - loss: 0.2797 - val_loss: 0.2817\n",
      "Epoch 31/50\n",
      "469/469 [==============================] - 2s 5ms/step - loss: 0.2794 - val_loss: 0.2815\n",
      "Epoch 32/50\n",
      "469/469 [==============================] - 2s 5ms/step - loss: 0.2794 - val_loss: 0.2813\n",
      "Epoch 33/50\n",
      "469/469 [==============================] - 2s 5ms/step - loss: 0.2792 - val_loss: 0.2812\n",
      "Epoch 34/50\n",
      "469/469 [==============================] - 2s 5ms/step - loss: 0.2792 - val_loss: 0.2814\n",
      "Epoch 35/50\n",
      "469/469 [==============================] - 2s 5ms/step - loss: 0.2790 - val_loss: 0.2817\n",
      "Epoch 36/50\n",
      "469/469 [==============================] - 2s 5ms/step - loss: 0.2789 - val_loss: 0.2808\n",
      "Epoch 37/50\n",
      "469/469 [==============================] - 2s 5ms/step - loss: 0.2788 - val_loss: 0.2807\n",
      "Epoch 38/50\n",
      "469/469 [==============================] - 2s 5ms/step - loss: 0.2787 - val_loss: 0.2806\n",
      "Epoch 39/50\n",
      "469/469 [==============================] - 2s 5ms/step - loss: 0.2786 - val_loss: 0.2806\n",
      "Epoch 40/50\n",
      "469/469 [==============================] - 2s 5ms/step - loss: 0.2785 - val_loss: 0.2805\n",
      "Epoch 41/50\n",
      "469/469 [==============================] - 2s 5ms/step - loss: 0.2785 - val_loss: 0.2804\n",
      "Epoch 42/50\n",
      "469/469 [==============================] - 2s 5ms/step - loss: 0.2783 - val_loss: 0.2805\n",
      "Epoch 43/50\n",
      "469/469 [==============================] - 2s 5ms/step - loss: 0.2782 - val_loss: 0.2803\n",
      "Epoch 44/50\n",
      "469/469 [==============================] - 2s 5ms/step - loss: 0.2782 - val_loss: 0.2801\n",
      "Epoch 45/50\n",
      "469/469 [==============================] - 2s 5ms/step - loss: 0.2781 - val_loss: 0.2800\n",
      "Epoch 46/50\n",
      "469/469 [==============================] - 2s 5ms/step - loss: 0.2780 - val_loss: 0.2800\n",
      "Epoch 47/50\n",
      "469/469 [==============================] - 2s 5ms/step - loss: 0.2780 - val_loss: 0.2800\n",
      "Epoch 48/50\n",
      "469/469 [==============================] - 2s 5ms/step - loss: 0.2779 - val_loss: 0.2799\n",
      "Epoch 49/50\n",
      "469/469 [==============================] - 2s 5ms/step - loss: 0.2779 - val_loss: 0.2801\n",
      "Epoch 50/50\n",
      "469/469 [==============================] - 2s 5ms/step - loss: 0.2777 - val_loss: 0.2798\n"
     ]
    },
    {
     "data": {
      "text/plain": [
       "<keras.callbacks.History at 0x7f295451e9d0>"
      ]
     },
     "execution_count": 12,
     "metadata": {},
     "output_type": "execute_result"
    }
   ],
   "source": [
    "#import tensorflow as tf\n",
    "#tf.config.run_functions_eagerly(True) # to make compatible with older versions\n",
    "\n",
    "autoencoder.fit(\n",
    "    x_train, x_train, \n",
    "    epochs=50, batch_size=128, shuffle=True, \n",
    "    validation_data=(x_test, x_test)\n",
    "    )"
   ]
  },
  {
   "cell_type": "code",
   "execution_count": 13,
   "metadata": {},
   "outputs": [],
   "source": [
    "decoded_imgs = autoencoder.predict(x_test)"
   ]
  },
  {
   "cell_type": "code",
   "execution_count": 14,
   "metadata": {},
   "outputs": [
    {
     "data": {
      "image/png": "[encoded data removed]",
      "text/plain": [
       "<Figure size 1440x288 with 10 Axes>"
      ]
     },
     "metadata": {
      "needs_background": "light"
     },
     "output_type": "display_data"
    }
   ],
   "source": [
    "# see what decoded images are produced\n",
    "n = 10\n",
    "plt.figure(figsize=(20, 4))\n",
    "for i in range(n):\n",
    "    ax = plt.subplot(1, n, i+1)\n",
    "    plt.imshow(decoded_imgs[i])\n",
    "    plt.gray()\n",
    "    ax.get_xaxis().set_visible(False)\n",
    "    ax.get_yaxis().set_visible(False)\n",
    "plt.show()"
   ]
  },
  {
   "cell_type": "code",
   "execution_count": 15,
   "metadata": {},
   "outputs": [
    {
     "name": "stderr",
     "output_type": "stream",
     "text": [
      "/opt/conda/lib/python3.7/site-packages/sklearn/manifold/_t_sne.py:783: FutureWarning: The default initialization in TSNE will change from 'random' to 'pca' in 1.2.\n",
      "  FutureWarning,\n",
      "/opt/conda/lib/python3.7/site-packages/sklearn/manifold/_t_sne.py:793: FutureWarning: The default learning rate in TSNE will change from 200.0 to 'auto' in 1.2.\n",
      "  FutureWarning,\n"
     ]
    },
    {
     "name": "stdout",
     "output_type": "stream",
     "text": [
      "(10000, 2)\n"
     ]
    }
   ],
   "source": [
    "# represent in 2d plane using T-SNE\n",
    "from tensorflow.keras.layers import Flatten\n",
    "from sklearn.manifold import TSNE\n",
    "\n",
    "# get output embeddings\n",
    "embed_layer = Flatten()(encoded)\n",
    "embeddings = Model(input_img, embed_layer).predict(x_test)\n",
    "# reduce to 2d\n",
    "tsne = TSNE(n_components=2)\n",
    "emb2d = tsne.fit_transform(embeddings)\n",
    "print(emb2d.shape)\n",
    "x, y = np.squeeze(emb2d[:,0]), np.squeeze(emb2d[:,1]) # remove extra dimensions with squeeze"
   ]
  },
  {
   "cell_type": "code",
   "execution_count": 16,
   "metadata": {},
   "outputs": [
    {
     "data": {
      "text/plain": [
       "((10000,), (10000,))"
      ]
     },
     "execution_count": 16,
     "metadata": {},
     "output_type": "execute_result"
    }
   ],
   "source": [
    "emb2d[:,0].shape, np.squeeze(emb2d[:,0]).shape"
   ]
  },
  {
   "cell_type": "code",
   "execution_count": 17,
   "metadata": {},
   "outputs": [],
   "source": [
    "import random\n",
    "color_mapping = [\"#\"+''.join([random.choice('0123456789ABCDEF') for j in range(6)])\n",
    "             for i in range(len(np.unique(y_test)))]\n",
    "color_mapping_dict = dict(zip(np.unique(y_test), color_mapping))\n",
    "colours = [color_mapping_dict[abab] for abab in y_test]"
   ]
  },
  {
   "cell_type": "code",
   "execution_count": 65,
   "metadata": {},
   "outputs": [
    {
     "data": {
      "text/plain": [
       "(dict_keys([0, 1, 2, 3, 4, 5, 6, 7, 8, 9]),\n",
       " dict_values(['#58B5CB', '#25EB3A', '#F6983F', '#56DC4D', '#44E5C1', '#2629DF', '#C80750', '#1E7364', '#DEC0C9', '#21BD05']))"
      ]
     },
     "execution_count": 65,
     "metadata": {},
     "output_type": "execute_result"
    }
   ],
   "source": [
    "color_mapping_dict.keys(), color_mapping_dict.values()"
   ]
  },
  {
   "cell_type": "code",
   "execution_count": 67,
   "metadata": {},
   "outputs": [],
   "source": [
    "markers = [plt.Line2D([0,0],[0,0], color=color, marker='o', linestyle='') for color in color_mapping_dict.values()]"
   ]
  },
  {
   "cell_type": "code",
   "execution_count": 79,
   "metadata": {},
   "outputs": [
    {
     "data": {
      "image/png": "[encoded data removed]",
      "text/plain": [
       "<Figure size 432x288 with 1 Axes>"
      ]
     },
     "metadata": {
      "needs_background": "light"
     },
     "output_type": "display_data"
    }
   ],
   "source": [
    "# https://stackoverflow.com/questions/31303912/matplotlib-pyplot-scatterplot-legend-from-color-dictionary\n",
    "fig, ax = plt.subplots()\n",
    "scatter = ax.scatter(x, y, color=colours)\n",
    "ax.legend(markers, color_mapping_dict.keys(), numpoints=1, title='classes', bbox_to_anchor =(1.25, 1))\n",
    "plt.show()"
   ]
  },
  {
   "cell_type": "markdown",
   "metadata": {},
   "source": [
    " Autoencoders are prone to overfitting as they tend to re-create the images of training and not generalise well. We will see how overfitting can be prevented to build more robust, dense representations.\n",
    " ### Denoising Autoencoders\n",
    " Autoencoders are also widely used to process a signal to filter out noise and extract only a relevant (characteristic) signal. This can be useful in many applications, such as identifying anomalies and outliers. Denoising autoencoders are a small variation, where some noise of various intensity is added to corrupt the input, whilst keeping the same noise-free target."
   ]
  },
  {
   "cell_type": "code",
   "execution_count": 12,
   "metadata": {},
   "outputs": [],
   "source": [
    "noise_factor = 0.1\n",
    "x_train_noisy = x_train + noise_factor * np.random.normal(loc=0.0, scale=1.0, size=x_train.shape)\n",
    "x_test_noisy = x_test + noise_factor * np.random.normal(loc=0.0, scale=1.0, size=x_test.shape)\n",
    "\n",
    "x_train_noisy = np.clip(x_train_noisy, 0., 1.)\n",
    "x_test_noisy = np.clip(x_test_noisy, 0., 1.)"
   ]
  },
  {
   "cell_type": "code",
   "execution_count": 15,
   "metadata": {},
   "outputs": [],
   "source": [
    "# noisy_autoencoder.fit(x_train_noisy, x_train, epochs=50, batch_size=128, shuffle=True, validation_data=(x_train_noisy, x_test))"
   ]
  },
  {
   "cell_type": "markdown",
   "metadata": {},
   "source": [
    "Approahc is generally valid when datasets are large and the risk of overfitting the noise is limited. When datasets are smaller, an alternative to avoid the network \"learning\" the noise is to add training stochastic noise using a GaussianNoise layer."
   ]
  },
  {
   "cell_type": "code",
   "execution_count": null,
   "metadata": {},
   "outputs": [],
   "source": [
    "input_img = Input(shape=(28, 28, 1))\n",
    "noisy_input = GaussianNoise(0.1)(input_img)\n",
    "x = Conv2D(16, (3, 3), activation='relu', padding='same')(noisy_input)"
   ]
  },
  {
   "cell_type": "markdown",
   "metadata": {},
   "source": [
    "Now the noisy inputs change between epochs, so the network avoids learning the noise. This is an example of a regularization layer, a layer that helps reduce overfitting by inserting random parts into the network making our model more robust and better at generalising.\n",
    "\n",
    "Another effective regularisier is dropout, that effectively sets some inputs (with random probability p0) to 0 and rescale other inputs by 1/(1-p0) factor to keep the sum over all units constant. Dropout corresponds to randomly killing some connections between layers to reduce output dependence to specific neurons.\n",
    "\n",
    "Regularisation layers are only active during training, and at test time simply correspond to identity layers. These help deal with deep NN that tend to overfit and are able to learn identity functions for autoencoders. Often, dropout and GaussianNoise are introduced in a repetitive pattern to have learnable layers referred to as **stacked denoising layers.**\n",
    "\n",
    "## Graph Autoencoders\n",
    "\n",
    "Definition of loss function needs to be optimised and a bit of caution when dealing with networks. For Graph Autoencoders, the input and output should be graph representation/ However when dealing with graph structures and adjacency matrices, we see two critical issues:\n",
    "-  Whereas the presence of links indicates relation or similarity, the absence does not generally indicate a dissimilarity between vertices.\n",
    "-  The adjacency matrix is extremely sparse, therefore the model will naturally tend to predict 0 rather than a positive value\n",
    "\n",
    "To address such peculariaties of reconstruction loss, we need to penalise more errors made for the non-zero elements than for zero elements $L_2 = \\sum\\limits_{i=1}^{n} ||(\\tilde(X)_l - Xi)\\bigodot b_i||$.\n",
    "\n",
    "One can promote first-order proximity  by enforcing connected nodes be close in embedding space: $ L_1 = \\sum\\limits_{i,j=1}^{N} s$<sub>$ij$</sub>$j||y_j - y_i||^2_2$. Here, $y_i$ and $y_j$ are two representation of nodes i and j in embedding space. This loss function forces neighbouring nodes to be close in embedding space. If two nodes are tightly connected, *s*<sub>ij</sub> will be large. Therefore, their difference in embedding space should be limited to keep the loss function small. These two can be combined to a single loss function where we can prevent overfitting with a regularisation loss proportional to the normal of the weight coefficients. \n",
    "$L$<sub>$tot$</sub> = $L_t + \\alpha \\cdot L$<sub>$tot$</sub> + $v \\cdot L$<sub>$reg$</sub> = $L_2 + \\alpha \\cdot L$<sub>$tot$</sub> + $v \\cdot ||W||^2_F$ where W represents all weights across the network. And is known as the **Structural Deep Network Embedding (SDNE)**."
   ]
  },
  {
   "cell_type": "code",
   "execution_count": null,
   "metadata": {},
   "outputs": [],
   "source": [
    "import networkx as nx\n",
    "import keras\n",
    "import tensorflow as tf\n",
    "\n",
    "from gem.embedding.sdne import SDNE\n",
    "G = nx.karate_club_graph()\n",
    "sdne = SDNE(d=2, beta=5, alpha=1e-5, nu1=1e-6, nu2=1e-6, K=3, \n",
    "            n_units=[50, 15], rho=0.3, n_iter=10, xeta=0.01, n_batch=100,\n",
    "            modelfile=['enc_model.json', 'dec_model.json'],\n",
    "            weightfile=['enc_weights.hdf5', 'dec_weights.hdf5'])\n",
    "sdne.learn_embedding(G)\n",
    "#embeddings = m1.get_embedding()"
   ]
  },
  {
   "cell_type": "markdown",
   "metadata": {},
   "source": [
    "Though powerful, we find issues when dealing with larger graphs. For these cases, the autoencoder input is one row of the adjacency matrix that has as many elements as the nodes in the network and can be millions in larger networks. So we can use a different metod over large networks to allow us to scale to larger graphs.\n",
    "\n",
    "## Graph Neural Networks\n",
    "**GNNs** are deep learning methods that work on graph-structured data, this family of methods is also known as **geometric deep learning** and is gaining interest in a variety of applications.\n",
    "\n",
    "The encoder takes as input both the graph structure and node features, these can be trained with or without supervision. The original GNN relies on the fact that each node can be described by its features and its neighbourhood. Information coming from the neighbourhood can be aggregated and used to compute more complex and high-level features.\n",
    "\n",
    "Initially, each node, $v_i$ is associated with a state. We can start with a random embedding $h_i^t$ (ignoring node attributes for simplicity). At each iteration of the algorithm, nodes accumulate inputs from their neighbours using a simple NN layer:\n",
    "\n",
    "$h_i^t = \\sum\\limits_{v_j \\in N(v_i)} \\sigma(Wh_j$<sup>$t-1$</sup>$+b)$\n",
    "\n",
    "Here $W \\in \\Re$<sup>$dxd$</sup> and $b \\in \\Re ^d$ are trainable parameters where *d* is the dimension of the embedding, $\\sigma$ is a non-linear functon and *t* represents the *t-th* iteration of the algorithm. The equation is applied recursively until a particular objective is reached. Note in each iteration, the previous state is exploited to compute the new state (has happened with RNNs).\n",
    "\n",
    "### Variations of GNNs\n",
    "With unsupervised representation learning, a common approach is touse an encoder to embed the graph then a simple decoder to reconstruct the adjacency matrix. The loss function is typically formulated as the similarity between the original adjacency matrix and the reconstructed one.\n",
    "\n",
    "$Z = GNN(X, A)$, $\\hat{A} = ZZ^T$ \n",
    "\n",
    "Where $A \\in \\Re$^$N \\times N$ is the adjacency matrix representation and $X \\in Re$ ^ $N \\times d$ is the matrix of node attributes. Another common approach is to train against a *target distance*, so embed two pairs of graphs simultaneously and obtained a combined representation. Trained such that the representation matches the distance. A similar strategy can be adopted with node classification/representation learning.\n",
    "\n",
    "**Graph Convolution Neural Network (GCN)**: GNN models inspired by CNN; filter parameters shared over locatiions in the graph and several layers are concatenated to form a deep network.\n",
    "\n",
    "Two types of convolution operations for graph data, **spectral approaches** and **non-spectral (spatial)** approaches. Spectral defines convolutions in spectral domain (decompose graphs in a combination of simpler elements). Spatial convolutions formulates the convolution as aggregating feature information form neighbours.\n",
    "\n",
    "### Spectral Graph Convolution\n",
    "Related to spectral graph theory. Characteristics of a graph in relation to the characteristic polynomial, eigenvalues, eigenvectors of the matrices associated with the graph. The convolution operation is defined as the multiplication of a signal (node features) by a kernel. Defined in the Fourier domain by determining the *eigendecomposition f the graph Laplacian*. However this mathematically grounded definition is computationally expensive. So many works have been done o approximate it, such as the Chebyshev polynomial of order K, whichdetermines the locality of the feature. K definining its k-hop neighbourhood (locality of filter).\n",
    "\n",
    "Let $X \\in \\Re$<sup>$N \\times d$</sup> be the matrix of node features. In classical NN processing, this signal would be composed of layers of the following: \n",
    "\n",
    "$H^l = \\sigma(XW)$ \n",
    "\n",
    "Where $W \\in \\Re$<sup>$N \\times N$</sup> and $\\sigma$ is some non-linear activation function. The drawback is that it processes each node signal independently without considering the connections between nodes, so we can make a simple (yet effective) modification:\n",
    "\n",
    "$H^l = \\sigma(AXW)$\n",
    "\n",
    "By introducing $A \\in \\Re$<sup>$N \\times N$</sup>, a new linear combination between each node and its corresponding neighbours is added. So information depends only on neighbourhood and parameters are applied on all the nodes simultaneously. This operation can be repeated in sequence several times, thus creating a deep NN. At each layer, *X* will be replaced with the output of the previous layer $H$<sup>$l-1$</sup>, though this does have limitations:\n",
    "-  $A$ considers all neighbours but not itself, so we fix it with $\\hat(A) = A + I$ identity matrix\n",
    "-  Adjacency matrix itself, typically not normalised so we observe large values in feature representation of high-degree nodes and small values in feature representation of small degree nodes. Lead to problems as optimisation algorithms are often sensitive to feature scale. \n",
    "    -  Solutions may be to multiply by *diagonal node degree matrix* D, such that all rows sum to 1: $D$<sup>$-1$</sup>$A$. Specifically, they used symmetric normalisation $(D$<sup>$-1/2$</sup>$AD$<sup>$-1/2$</sup>$)$, such that the proposed propagation rule becomes:\n",
    "    \n",
    "    $H^l = \\sigma(\\hat{D}$<sup>$-1/2$</sup>$\\hat{AD}$<sup>$-1/2$</sup>$XW)$\n",
    "    \n",
    "    Where $\\hat{D}$ is the diagonal node degree matrix of $\\hat{A}$."
   ]
  },
  {
   "cell_type": "code",
   "execution_count": 47,
   "metadata": {},
   "outputs": [],
   "source": [
    "# create GCN as defined in Kipf and Welling, applying to Zachary's Karate Club Graph\n",
    "import networkx as nx\n",
    "import numpy as np\n",
    "\n",
    "G = nx.barbell_graph(m1=10, m2=4)\n",
    "\n",
    "# create adjacency matrix representing G\n",
    "A = nx.to_numpy_matrix(G)\n",
    "# use identity as node descriptor as network has no node features\n",
    "I = np.eye(G.number_of_nodes())"
   ]
  },
  {
   "cell_type": "code",
   "execution_count": 48,
   "metadata": {},
   "outputs": [],
   "source": [
    "from scipy.linalg import sqrtm\n",
    "\n",
    "A_hat = A + I # add self loop\n",
    "\n",
    "# normalise the adjacency matrix with normalised diagonal node degree matix\n",
    "D_hat = np.array(np.sum(A_hat, axis=0))[0]\n",
    "D_hat = np.array(np.diag(D_hat))\n",
    "D_hat = np.linalg.inv(sqrtm(D_hat)) # inverse sqrt\n",
    "A_norm = D_hat @ A_hat @ D_hat"
   ]
  },
  {
   "cell_type": "code",
   "execution_count": 49,
   "metadata": {},
   "outputs": [],
   "source": [
    "def glorot_init(nin, nout):\n",
    "    # initialise W with glorot uniform initialisation\n",
    "    sd = np.sqrt(6.0 / (nin + nout))\n",
    "    return np.random.uniform(-sd, sd, size=(nin, nout))\n",
    "\n",
    "class GCNLayer():\n",
    "    def __init__(self, n_inputs, n_outputs):\n",
    "        self.n_inputs = n_inputs\n",
    "        self.n_outputs = n_outputs\n",
    "        self.W = glorot_init(self.n_outputs, self.n_inputs)\n",
    "        self.activation = np.tanh\n",
    "        \n",
    "    def forward(self, A, X):\n",
    "        self._X = (A @ X).T\n",
    "        H = self.W @ self._X\n",
    "        H = self.activation(H)\n",
    "        return H.T # (n_outputs, N)"
   ]
  },
  {
   "cell_type": "code",
   "execution_count": 54,
   "metadata": {},
   "outputs": [
    {
     "data": {
      "text/plain": [
       "((24, 24), (24, 24))"
      ]
     },
     "execution_count": 54,
     "metadata": {},
     "output_type": "execute_result"
    }
   ],
   "source": [
    "A_norm.shape, I.shape"
   ]
  },
  {
   "cell_type": "code",
   "execution_count": 50,
   "metadata": {},
   "outputs": [],
   "source": [
    "gcn1 = GCNLayer(G.number_of_nodes(), 8)\n",
    "gcn2 = GCNLayer(8, 4)\n",
    "gcn3 = GCNLayer(4, 2)\n",
    "\n",
    "H1 = gcn1.forward(A_norm, I) # 24, 8\n",
    "H2 = gcn2.forward(A_norm, H1) # 24, 4\n",
    "H3 = gcn3.forward(A_norm, H2) # 24, 2\n",
    "\n",
    "# H3 contains the embedding computed using the GCN propagation rule"
   ]
  },
  {
   "cell_type": "code",
   "execution_count": 76,
   "metadata": {},
   "outputs": [
    {
     "data": {
      "text/plain": [
       "<matplotlib.collections.PathCollection at 0x7fc2a94a0610>"
      ]
     },
     "execution_count": 76,
     "metadata": {},
     "output_type": "execute_result"
    },
    {
     "data": {
      "image/png": "[encoded data removed]",
      "text/plain": [
       "<Figure size 432x288 with 1 Axes>"
      ]
     },
     "metadata": {
      "needs_background": "light"
     },
     "output_type": "display_data"
    }
   ],
   "source": [
    "import matplotlib.pyplot as plt\n",
    "%matplotlib inline\n",
    "\n",
    "plt.scatter(np.array(np.squeeze(H3[:,0]))[0], np.array(np.squeeze(H3[:,1]))[0]);"
   ]
  },
  {
   "cell_type": "markdown",
   "metadata": {},
   "source": [
    "Already looks quite good given we have not trained the network yet.\n",
    "\n",
    "Results from spectral graph convolutions have achieved noteworthy results in may domains, however have drawbacks. E.g. a big graph with billions of nodes that require simultaneous processing can be impractical from a computational perspective.\n",
    "\n",
    "Furthermore, spectral convolution assumes a fixed graph leading to poor generalisation on new, different grpahs. So to overcome these issues, spatial graph convolutions present an interesting alternative.\n",
    "\n",
    "## Spatial Graph Convolution\n",
    "Spatial graph convolutional networks perform operations directly on graph by aggregating information from spatially close neighbours. Advantages: \n",
    "-  Weights can easily be shared across a different location of the graph, leading to good generalisation capability on different graphs\n",
    "-  Computation can be done by considering subsets of nodes instead of entire graph, potentially improving computational efficiency.\n",
    "\n",
    "GraphSAGE is an algorithm that implements spatial convolution. One of its main characteristics is its ability to scale over various types of networks, we can think of GraphSAGE as three steps:\n",
    "1.  **Neighbourhood Sampling**: For each node in the graph, we find its k-neighbourhood, where k is defined as how many hops to consider\n",
    "2.  **Aggregation**: Aggregate for each node, the node features describing the respective neighbourhood. There are various types of aggregation including pooling, averaging, even more complex such as LSTM..\n",
    "3.  **Prediction**: Each node is equipped with a simple NN that learns to perform predictions based on aggregated features from neighbours.\n",
    "\n",
    "GraphSAGE is often used in supervised settings. However, by adopting strategies like using similarity function as target distance, it can also be effecive for learning embedding without explicitly supervising the task.\n",
    "\n",
    "### In Practice\n",
    "There are frameworks using TF, Pytorch etc.. We will use StellarGraph.\n",
    "Graph has two GC layers with 64 and 32 output dimensions followed by RELU. The output will be computed as the euclidean distance of the two embeddings, simply use the laplacian to compute similarity score.\n",
    "\n",
    "Code is: https://github.com/PacktPublishing/Graph-Machine-Learning/blob/main/Chapter03/01_Shallow_Embeddings.ipynb\n",
    "\n",
    "\n",
    "Embedding vectors in an unsupervised manner based on simultaneous embedding of pairs of graphs."
   ]
  },
  {
   "cell_type": "code",
   "execution_count": 1,
   "metadata": {},
   "outputs": [],
   "source": [
    "import numpy as np\n",
    "import stellargraph as sg\n",
    "from stellargraph.mapper import FullBatchNodeGenerator\n",
    "from stellargraph.layer import GCN\n",
    "\n",
    "import tensorflow as tf\n",
    "from tensorflow.keras import layers, optimizers, losses, metrics, Model"
   ]
  },
  {
   "cell_type": "code",
   "execution_count": 2,
   "metadata": {},
   "outputs": [],
   "source": [
    "dataset = sg.datasets.PROTEINS()\n",
    "graphs, graph_labels = dataset.load()"
   ]
  },
  {
   "cell_type": "code",
   "execution_count": 4,
   "metadata": {},
   "outputs": [],
   "source": [
    "generator = sg.mapper.PaddedGraphGenerator(graphs)\n",
    "\n",
    "# define GCN model with 2 layers of size 64 and 32 respectively\n",
    "# RELU activation fn is used to add non-linearity between layers\n",
    "gc_model = sg.layer.GCNSupervisedGraphClassification(\n",
    "    [64, 32], \n",
    "    ['relu', 'relu'],\n",
    "    generator,\n",
    "    pool_all_layers=True\n",
    ")\n",
    "\n",
    "# retrieve the input and output of the GC layer so they can be connected to next layer\n",
    "inp1, out1 = gc_model.in_out_tensors()\n",
    "inp2, out2 = gc_model.in_out_tensors()\n",
    "vec_distance = tf.norm(out1 - out2, axis=1)\n",
    "\n",
    "# create the model. Useful to create a specular model to easily retrieve embeddings\n",
    "pair_model = Model(inp1 + inp2, vec_distance)\n",
    "embedding_moel = Model(inp1, out1)"
   ]
  },
  {
   "cell_type": "code",
   "execution_count": 12,
   "metadata": {},
   "outputs": [],
   "source": [
    "import networkx as nx\n",
    "\n",
    "def graph_distance(graph1, graph2):\n",
    "    # graph similarity score between two graphs\n",
    "    # use distance between spectrum of the laplacian of the graphs\n",
    "    spec1 = nx.laplacian_spectrum(graph1.to_networkx(feature_attr=None))\n",
    "    spec2 = nx.laplacian_spectrum(graph2.to_networkx(feature_attr=None))\n",
    "    \n",
    "    k = min(len(spec1), len(spec2))\n",
    "    return np.linalg.norm(spec1[:k] - spec2[:k])\n",
    "\n",
    "graph_idx = np.random.RandomState(0).randint(len(graphs), size=(100,2)) # random indexes to get nodes\n",
    "targets = [graph_distance(graphs[left], graphs[right]) for left, right in graph_idx] # graph distances between graph nodes\n",
    "train_gen = generator.flow(graph_idx, batch_size=10, targets=targets) # train generator"
   ]
  },
  {
   "cell_type": "code",
   "execution_count": 16,
   "metadata": {
    "collapsed": true,
    "jupyter": {
     "outputs_hidden": true
    }
   },
   "outputs": [
    {
     "name": "stdout",
     "output_type": "stream",
     "text": [
      "Epoch 1/500\n",
      "10/10 [==============================] - 2s 210ms/step - loss: 269.4668\n",
      "Epoch 2/500\n",
      "10/10 [==============================] - 2s 170ms/step - loss: 258.4805\n",
      "Epoch 3/500\n",
      "10/10 [==============================] - 2s 200ms/step - loss: 251.7640\n",
      "Epoch 4/500\n",
      "10/10 [==============================] - 2s 199ms/step - loss: 251.5001\n",
      "Epoch 5/500\n",
      "10/10 [==============================] - 1s 139ms/step - loss: 253.6870\n",
      "Epoch 6/500\n",
      "10/10 [==============================] - 2s 180ms/step - loss: 252.2496\n",
      "Epoch 7/500\n",
      "10/10 [==============================] - 2s 182ms/step - loss: 250.9616\n",
      "Epoch 8/500\n",
      "10/10 [==============================] - 2s 230ms/step - loss: 250.0194\n",
      "Epoch 9/500\n",
      "10/10 [==============================] - 2s 169ms/step - loss: 250.7162\n",
      "Epoch 10/500\n",
      "10/10 [==============================] - 2s 192ms/step - loss: 247.1717\n",
      "Epoch 11/500\n",
      "10/10 [==============================] - 2s 220ms/step - loss: 244.9170\n",
      "Epoch 12/500\n",
      "10/10 [==============================] - 2s 162ms/step - loss: 244.6700\n",
      "Epoch 13/500\n",
      "10/10 [==============================] - 2s 240ms/step - loss: 246.0137\n",
      "Epoch 14/500\n",
      "10/10 [==============================] - 2s 229ms/step - loss: 241.7692\n",
      "Epoch 15/500\n",
      "10/10 [==============================] - 2s 192ms/step - loss: 243.1955\n",
      "Epoch 16/500\n",
      "10/10 [==============================] - 2s 159ms/step - loss: 242.9359\n",
      "Epoch 17/500\n",
      "10/10 [==============================] - 2s 180ms/step - loss: 240.3555\n",
      "Epoch 18/500\n",
      "10/10 [==============================] - 2s 201ms/step - loss: 240.4813\n",
      "Epoch 19/500\n",
      "10/10 [==============================] - 2s 191ms/step - loss: 241.3756\n",
      "Epoch 20/500\n",
      "10/10 [==============================] - 2s 182ms/step - loss: 242.1092\n",
      "Epoch 21/500\n",
      "10/10 [==============================] - 2s 170ms/step - loss: 241.4996\n",
      "Epoch 22/500\n",
      "10/10 [==============================] - 2s 192ms/step - loss: 239.5611\n",
      "Epoch 23/500\n",
      "10/10 [==============================] - 2s 191ms/step - loss: 238.0441\n",
      "Epoch 24/500\n",
      "10/10 [==============================] - 2s 201ms/step - loss: 240.9937\n",
      "Epoch 25/500\n",
      "10/10 [==============================] - 2s 229ms/step - loss: 240.8897\n",
      "Epoch 26/500\n",
      "10/10 [==============================] - 2s 169ms/step - loss: 241.8570\n",
      "Epoch 27/500\n",
      "10/10 [==============================] - 2s 219ms/step - loss: 241.3526\n",
      "Epoch 28/500\n",
      "10/10 [==============================] - 2s 196ms/step - loss: 235.8131\n",
      "Epoch 29/500\n",
      "10/10 [==============================] - 2s 201ms/step - loss: 239.1653\n",
      "Epoch 30/500\n",
      "10/10 [==============================] - 1s 150ms/step - loss: 244.3018\n",
      "Epoch 31/500\n",
      "10/10 [==============================] - 2s 191ms/step - loss: 239.0638\n",
      "Epoch 32/500\n",
      "10/10 [==============================] - 2s 190ms/step - loss: 239.7229\n",
      "Epoch 33/500\n",
      "10/10 [==============================] - 2s 190ms/step - loss: 236.4139\n",
      "Epoch 34/500\n",
      "10/10 [==============================] - 2s 211ms/step - loss: 235.4127\n",
      "Epoch 35/500\n",
      "10/10 [==============================] - 2s 181ms/step - loss: 234.5427\n",
      "Epoch 36/500\n",
      "10/10 [==============================] - 2s 179ms/step - loss: 238.3599\n",
      "Epoch 37/500\n",
      "10/10 [==============================] - 2s 199ms/step - loss: 236.6005\n",
      "Epoch 38/500\n",
      "10/10 [==============================] - 2s 190ms/step - loss: 238.1314\n",
      "Epoch 39/500\n",
      "10/10 [==============================] - 2s 180ms/step - loss: 235.0688\n",
      "Epoch 40/500\n",
      "10/10 [==============================] - 2s 200ms/step - loss: 235.1074\n",
      "Epoch 41/500\n",
      "10/10 [==============================] - 2s 231ms/step - loss: 235.6101\n",
      "Epoch 42/500\n",
      "10/10 [==============================] - 2s 189ms/step - loss: 240.2405\n",
      "Epoch 43/500\n",
      "10/10 [==============================] - 1s 110ms/step - loss: 236.1679\n",
      "Epoch 44/500\n",
      "10/10 [==============================] - 2s 230ms/step - loss: 234.2400\n",
      "Epoch 45/500\n",
      "10/10 [==============================] - 2s 172ms/step - loss: 231.0160\n",
      "Epoch 46/500\n",
      "10/10 [==============================] - 2s 190ms/step - loss: 231.7614\n",
      "Epoch 47/500\n",
      "10/10 [==============================] - 2s 222ms/step - loss: 230.6088\n",
      "Epoch 48/500\n",
      "10/10 [==============================] - 2s 168ms/step - loss: 229.9516\n",
      "Epoch 49/500\n",
      "10/10 [==============================] - 2s 151ms/step - loss: 229.9142\n",
      "Epoch 50/500\n",
      "10/10 [==============================] - 2s 180ms/step - loss: 233.5625\n",
      "Epoch 51/500\n",
      "10/10 [==============================] - 2s 168ms/step - loss: 230.8069\n",
      "Epoch 52/500\n",
      "10/10 [==============================] - 2s 188ms/step - loss: 229.7885\n",
      "Epoch 53/500\n",
      "10/10 [==============================] - 2s 170ms/step - loss: 228.0645\n",
      "Epoch 54/500\n",
      "10/10 [==============================] - 2s 189ms/step - loss: 229.0056\n",
      "Epoch 55/500\n",
      "10/10 [==============================] - 2s 210ms/step - loss: 225.8023\n",
      "Epoch 56/500\n",
      "10/10 [==============================] - 2s 189ms/step - loss: 227.8186\n",
      "Epoch 57/500\n",
      "10/10 [==============================] - 2s 160ms/step - loss: 229.7422\n",
      "Epoch 58/500\n",
      "10/10 [==============================] - 2s 191ms/step - loss: 229.2404\n",
      "Epoch 59/500\n",
      "10/10 [==============================] - 2s 210ms/step - loss: 226.1623\n",
      "Epoch 60/500\n",
      "10/10 [==============================] - 3s 260ms/step - loss: 225.5196\n",
      "Epoch 61/500\n",
      "10/10 [==============================] - 1s 129ms/step - loss: 226.1220\n",
      "Epoch 62/500\n",
      "10/10 [==============================] - 2s 180ms/step - loss: 226.1415\n",
      "Epoch 63/500\n",
      "10/10 [==============================] - 2s 171ms/step - loss: 224.4678\n",
      "Epoch 64/500\n",
      "10/10 [==============================] - 1s 141ms/step - loss: 223.9812\n",
      "Epoch 65/500\n",
      "10/10 [==============================] - 2s 161ms/step - loss: 224.8090\n",
      "Epoch 66/500\n",
      "10/10 [==============================] - 2s 151ms/step - loss: 227.0323\n",
      "Epoch 67/500\n",
      "10/10 [==============================] - 2s 200ms/step - loss: 224.3080\n",
      "Epoch 68/500\n",
      "10/10 [==============================] - 2s 180ms/step - loss: 223.3193\n",
      "Epoch 69/500\n",
      "10/10 [==============================] - 2s 230ms/step - loss: 223.5796\n",
      "Epoch 70/500\n",
      "10/10 [==============================] - 2s 230ms/step - loss: 232.2629\n",
      "Epoch 71/500\n",
      "10/10 [==============================] - 2s 249ms/step - loss: 222.0844\n",
      "Epoch 72/500\n",
      "10/10 [==============================] - 2s 231ms/step - loss: 228.4669\n",
      "Epoch 73/500\n",
      "10/10 [==============================] - 2s 242ms/step - loss: 219.2270\n",
      "Epoch 74/500\n",
      "10/10 [==============================] - 2s 160ms/step - loss: 226.0264\n",
      "Epoch 75/500\n",
      "10/10 [==============================] - 2s 180ms/step - loss: 225.6616\n",
      "Epoch 76/500\n",
      "10/10 [==============================] - 2s 191ms/step - loss: 220.9787\n",
      "Epoch 77/500\n",
      "10/10 [==============================] - 1s 149ms/step - loss: 223.6261\n",
      "Epoch 78/500\n",
      "10/10 [==============================] - 2s 161ms/step - loss: 223.5867\n",
      "Epoch 79/500\n",
      "10/10 [==============================] - 2s 171ms/step - loss: 221.5836\n",
      "Epoch 80/500\n",
      "10/10 [==============================] - 2s 230ms/step - loss: 218.8476\n",
      "Epoch 81/500\n",
      "10/10 [==============================] - 2s 190ms/step - loss: 219.2591\n",
      "Epoch 82/500\n",
      "10/10 [==============================] - 2s 228ms/step - loss: 217.7707\n",
      "Epoch 83/500\n",
      "10/10 [==============================] - 2s 170ms/step - loss: 216.9872\n",
      "Epoch 84/500\n",
      "10/10 [==============================] - 1s 121ms/step - loss: 217.6618\n",
      "Epoch 85/500\n",
      "10/10 [==============================] - 2s 197ms/step - loss: 217.7766\n",
      "Epoch 86/500\n",
      "10/10 [==============================] - 2s 209ms/step - loss: 217.8868\n",
      "Epoch 87/500\n",
      "10/10 [==============================] - 2s 199ms/step - loss: 219.2724\n",
      "Epoch 88/500\n",
      "10/10 [==============================] - 1s 140ms/step - loss: 215.0681\n",
      "Epoch 89/500\n",
      "10/10 [==============================] - 1s 142ms/step - loss: 215.5903\n",
      "Epoch 90/500\n",
      "10/10 [==============================] - 2s 211ms/step - loss: 215.4255\n",
      "Epoch 91/500\n",
      "10/10 [==============================] - 2s 180ms/step - loss: 215.8270\n",
      "Epoch 92/500\n",
      "10/10 [==============================] - 2s 162ms/step - loss: 216.5439\n",
      "Epoch 93/500\n",
      "10/10 [==============================] - 2s 181ms/step - loss: 219.0532\n",
      "Epoch 94/500\n",
      "10/10 [==============================] - 2s 229ms/step - loss: 215.3305\n",
      "Epoch 95/500\n",
      "10/10 [==============================] - 2s 189ms/step - loss: 218.9597\n",
      "Epoch 96/500\n",
      "10/10 [==============================] - 2s 171ms/step - loss: 219.1077\n",
      "Epoch 97/500\n",
      "10/10 [==============================] - 2s 192ms/step - loss: 215.0019\n",
      "Epoch 98/500\n",
      "10/10 [==============================] - 2s 219ms/step - loss: 214.3780\n",
      "Epoch 99/500\n",
      "10/10 [==============================] - 2s 191ms/step - loss: 214.5086\n",
      "Epoch 100/500\n",
      "10/10 [==============================] - 2s 210ms/step - loss: 213.2245\n",
      "Epoch 101/500\n",
      "10/10 [==============================] - 2s 159ms/step - loss: 212.3738\n",
      "Epoch 102/500\n",
      "10/10 [==============================] - 2s 170ms/step - loss: 213.5538\n",
      "Epoch 103/500\n",
      "10/10 [==============================] - 2s 210ms/step - loss: 214.3958\n",
      "Epoch 104/500\n",
      "10/10 [==============================] - 1s 141ms/step - loss: 213.9029\n",
      "Epoch 105/500\n",
      "10/10 [==============================] - 2s 172ms/step - loss: 212.2589\n",
      "Epoch 106/500\n",
      "10/10 [==============================] - 2s 208ms/step - loss: 211.8371\n",
      "Epoch 107/500\n",
      "10/10 [==============================] - 2s 180ms/step - loss: 212.6583\n",
      "Epoch 108/500\n",
      "10/10 [==============================] - 2s 200ms/step - loss: 216.5671\n",
      "Epoch 109/500\n",
      "10/10 [==============================] - 2s 177ms/step - loss: 215.0813\n",
      "Epoch 110/500\n",
      "10/10 [==============================] - 2s 171ms/step - loss: 219.5820\n",
      "Epoch 111/500\n",
      "10/10 [==============================] - 2s 222ms/step - loss: 219.2612\n",
      "Epoch 112/500\n",
      "10/10 [==============================] - 1s 149ms/step - loss: 214.7135\n",
      "Epoch 113/500\n",
      "10/10 [==============================] - 2s 190ms/step - loss: 218.0267\n",
      "Epoch 114/500\n",
      "10/10 [==============================] - 2s 181ms/step - loss: 211.3701\n",
      "Epoch 115/500\n",
      "10/10 [==============================] - 2s 209ms/step - loss: 209.2005\n",
      "Epoch 116/500\n",
      "10/10 [==============================] - 2s 231ms/step - loss: 211.7364\n",
      "Epoch 117/500\n",
      "10/10 [==============================] - 2s 181ms/step - loss: 209.1757\n",
      "Epoch 118/500\n",
      "10/10 [==============================] - 2s 229ms/step - loss: 209.3432\n",
      "Epoch 119/500\n",
      "10/10 [==============================] - 2s 231ms/step - loss: 207.0074\n",
      "Epoch 120/500\n",
      "10/10 [==============================] - 3s 258ms/step - loss: 208.3189\n",
      "Epoch 121/500\n",
      "10/10 [==============================] - 2s 211ms/step - loss: 208.0517\n",
      "Epoch 122/500\n",
      "10/10 [==============================] - 2s 161ms/step - loss: 206.9828\n",
      "Epoch 123/500\n",
      "10/10 [==============================] - 2s 200ms/step - loss: 208.1944\n",
      "Epoch 124/500\n",
      "10/10 [==============================] - 2s 161ms/step - loss: 206.6152\n",
      "Epoch 125/500\n",
      "10/10 [==============================] - 2s 151ms/step - loss: 206.8459\n",
      "Epoch 126/500\n",
      "10/10 [==============================] - 2s 180ms/step - loss: 207.8750\n",
      "Epoch 127/500\n",
      "10/10 [==============================] - 2s 189ms/step - loss: 205.4347\n",
      "Epoch 128/500\n",
      "10/10 [==============================] - 2s 181ms/step - loss: 205.6426\n",
      "Epoch 129/500\n",
      "10/10 [==============================] - 2s 150ms/step - loss: 207.8030\n",
      "Epoch 130/500\n",
      "10/10 [==============================] - 2s 180ms/step - loss: 203.4981\n",
      "Epoch 131/500\n",
      "10/10 [==============================] - 1s 142ms/step - loss: 205.6544\n",
      "Epoch 132/500\n",
      "10/10 [==============================] - 2s 191ms/step - loss: 206.9567\n",
      "Epoch 133/500\n",
      "10/10 [==============================] - 2s 230ms/step - loss: 207.3533\n",
      "Epoch 134/500\n",
      "10/10 [==============================] - 2s 151ms/step - loss: 214.0904\n",
      "Epoch 135/500\n",
      "10/10 [==============================] - 2s 212ms/step - loss: 202.4794\n",
      "Epoch 136/500\n",
      "10/10 [==============================] - 2s 200ms/step - loss: 206.0546\n",
      "Epoch 137/500\n",
      "10/10 [==============================] - 2s 219ms/step - loss: 202.5144\n",
      "Epoch 138/500\n",
      "10/10 [==============================] - 2s 190ms/step - loss: 205.3955\n",
      "Epoch 139/500\n",
      "10/10 [==============================] - 2s 170ms/step - loss: 205.5453\n",
      "Epoch 140/500\n",
      "10/10 [==============================] - 2s 188ms/step - loss: 216.9260\n",
      "Epoch 141/500\n",
      "10/10 [==============================] - 2s 179ms/step - loss: 213.1467\n",
      "Epoch 142/500\n",
      "10/10 [==============================] - 2s 202ms/step - loss: 214.0253\n",
      "Epoch 143/500\n",
      "10/10 [==============================] - 2s 150ms/step - loss: 214.9583\n",
      "Epoch 144/500\n",
      "10/10 [==============================] - 2s 209ms/step - loss: 206.1170\n",
      "Epoch 145/500\n",
      "10/10 [==============================] - 2s 159ms/step - loss: 202.5283\n",
      "Epoch 146/500\n",
      "10/10 [==============================] - 2s 189ms/step - loss: 203.6929\n",
      "Epoch 147/500\n",
      "10/10 [==============================] - 2s 201ms/step - loss: 199.6184\n",
      "Epoch 148/500\n",
      "10/10 [==============================] - 2s 181ms/step - loss: 204.0449\n",
      "Epoch 149/500\n",
      "10/10 [==============================] - 2s 219ms/step - loss: 204.5924\n",
      "Epoch 150/500\n",
      "10/10 [==============================] - 2s 199ms/step - loss: 200.2542\n",
      "Epoch 151/500\n",
      "10/10 [==============================] - 1s 120ms/step - loss: 200.2819\n",
      "Epoch 152/500\n",
      "10/10 [==============================] - 2s 160ms/step - loss: 201.3037\n",
      "Epoch 153/500\n",
      "10/10 [==============================] - 2s 161ms/step - loss: 205.1953\n",
      "Epoch 154/500\n",
      "10/10 [==============================] - 2s 169ms/step - loss: 197.7533\n",
      "Epoch 155/500\n",
      "10/10 [==============================] - 2s 160ms/step - loss: 201.4611\n",
      "Epoch 156/500\n",
      "10/10 [==============================] - 2s 220ms/step - loss: 197.7766\n",
      "Epoch 157/500\n",
      "10/10 [==============================] - 2s 180ms/step - loss: 197.1396\n",
      "Epoch 158/500\n",
      "10/10 [==============================] - 2s 180ms/step - loss: 198.1620\n",
      "Epoch 159/500\n",
      "10/10 [==============================] - 1s 141ms/step - loss: 199.8986\n",
      "Epoch 160/500\n",
      "10/10 [==============================] - 2s 218ms/step - loss: 198.1684\n",
      "Epoch 161/500\n",
      "10/10 [==============================] - 2s 181ms/step - loss: 196.0196\n",
      "Epoch 162/500\n",
      "10/10 [==============================] - 2s 210ms/step - loss: 196.5477\n",
      "Epoch 163/500\n",
      "10/10 [==============================] - 2s 161ms/step - loss: 198.5911\n",
      "Epoch 164/500\n",
      "10/10 [==============================] - 2s 171ms/step - loss: 195.1923\n",
      "Epoch 165/500\n",
      "10/10 [==============================] - 2s 199ms/step - loss: 194.3783\n",
      "Epoch 166/500\n",
      "10/10 [==============================] - 2s 180ms/step - loss: 195.1446\n",
      "Epoch 167/500\n",
      "10/10 [==============================] - 2s 178ms/step - loss: 198.5981\n",
      "Epoch 168/500\n",
      "10/10 [==============================] - 2s 160ms/step - loss: 198.0692\n",
      "Epoch 169/500\n",
      "10/10 [==============================] - 2s 230ms/step - loss: 195.6359\n",
      "Epoch 170/500\n",
      "10/10 [==============================] - 2s 181ms/step - loss: 196.9887\n",
      "Epoch 171/500\n",
      "10/10 [==============================] - 2s 191ms/step - loss: 192.8453\n",
      "Epoch 172/500\n",
      "10/10 [==============================] - 2s 160ms/step - loss: 193.5995\n",
      "Epoch 173/500\n",
      "10/10 [==============================] - 2s 221ms/step - loss: 192.7969\n",
      "Epoch 174/500\n",
      "10/10 [==============================] - 2s 200ms/step - loss: 193.4662\n",
      "Epoch 175/500\n",
      "10/10 [==============================] - 2s 180ms/step - loss: 189.9694\n",
      "Epoch 176/500\n",
      "10/10 [==============================] - 2s 208ms/step - loss: 193.8255\n",
      "Epoch 177/500\n",
      "10/10 [==============================] - 2s 238ms/step - loss: 193.2866\n",
      "Epoch 178/500\n",
      "10/10 [==============================] - 2s 172ms/step - loss: 199.2542\n",
      "Epoch 179/500\n",
      "10/10 [==============================] - 2s 187ms/step - loss: 197.5995\n",
      "Epoch 180/500\n",
      "10/10 [==============================] - 2s 190ms/step - loss: 194.0182\n",
      "Epoch 181/500\n",
      "10/10 [==============================] - 2s 218ms/step - loss: 193.4365\n",
      "Epoch 182/500\n",
      "10/10 [==============================] - 2s 170ms/step - loss: 192.0794\n",
      "Epoch 183/500\n",
      "10/10 [==============================] - 2s 180ms/step - loss: 190.2628\n",
      "Epoch 184/500\n",
      "10/10 [==============================] - 1s 141ms/step - loss: 193.2834\n",
      "Epoch 185/500\n",
      "10/10 [==============================] - 2s 200ms/step - loss: 189.7826\n",
      "Epoch 186/500\n",
      "10/10 [==============================] - 2s 189ms/step - loss: 191.1738\n",
      "Epoch 187/500\n",
      "10/10 [==============================] - 2s 199ms/step - loss: 192.5882\n",
      "Epoch 188/500\n",
      "10/10 [==============================] - 1s 149ms/step - loss: 189.3316\n",
      "Epoch 189/500\n",
      "10/10 [==============================] - 1s 150ms/step - loss: 189.5890\n",
      "Epoch 190/500\n",
      "10/10 [==============================] - 2s 191ms/step - loss: 189.4274\n",
      "Epoch 191/500\n",
      "10/10 [==============================] - 2s 210ms/step - loss: 189.7993\n",
      "Epoch 192/500\n",
      "10/10 [==============================] - 2s 191ms/step - loss: 189.5566\n",
      "Epoch 193/500\n",
      "10/10 [==============================] - 2s 238ms/step - loss: 188.1438\n",
      "Epoch 194/500\n",
      "10/10 [==============================] - 2s 199ms/step - loss: 188.5739\n",
      "Epoch 195/500\n",
      "10/10 [==============================] - 2s 180ms/step - loss: 188.1502\n",
      "Epoch 196/500\n",
      "10/10 [==============================] - 2s 159ms/step - loss: 188.1892\n",
      "Epoch 197/500\n",
      "10/10 [==============================] - 2s 210ms/step - loss: 186.8664\n",
      "Epoch 198/500\n",
      "10/10 [==============================] - 2s 228ms/step - loss: 186.7464\n",
      "Epoch 199/500\n",
      "10/10 [==============================] - 2s 160ms/step - loss: 186.7296\n",
      "Epoch 200/500\n",
      "10/10 [==============================] - 1s 130ms/step - loss: 187.1595\n",
      "Epoch 201/500\n",
      "10/10 [==============================] - 2s 207ms/step - loss: 186.3623\n",
      "Epoch 202/500\n",
      "10/10 [==============================] - 2s 181ms/step - loss: 185.8979\n",
      "Epoch 203/500\n",
      "10/10 [==============================] - 2s 161ms/step - loss: 185.9702\n",
      "Epoch 204/500\n",
      "10/10 [==============================] - 2s 159ms/step - loss: 187.9673\n",
      "Epoch 205/500\n",
      "10/10 [==============================] - 2s 150ms/step - loss: 191.4354\n",
      "Epoch 206/500\n",
      "10/10 [==============================] - 2s 150ms/step - loss: 186.4822\n",
      "Epoch 207/500\n",
      "10/10 [==============================] - 2s 181ms/step - loss: 185.8960\n",
      "Epoch 208/500\n",
      "10/10 [==============================] - 2s 170ms/step - loss: 190.5577\n",
      "Epoch 209/500\n",
      "10/10 [==============================] - 2s 170ms/step - loss: 191.4743\n",
      "Epoch 210/500\n",
      "10/10 [==============================] - 2s 182ms/step - loss: 188.1304\n",
      "Epoch 211/500\n",
      "10/10 [==============================] - 2s 181ms/step - loss: 186.6242\n",
      "Epoch 212/500\n",
      "10/10 [==============================] - 2s 150ms/step - loss: 185.4475\n",
      "Epoch 213/500\n",
      "10/10 [==============================] - 2s 179ms/step - loss: 185.6595\n",
      "Epoch 214/500\n",
      "10/10 [==============================] - 2s 192ms/step - loss: 185.5490\n",
      "Epoch 215/500\n",
      "10/10 [==============================] - 2s 231ms/step - loss: 185.9330\n",
      "Epoch 216/500\n",
      "10/10 [==============================] - 2s 230ms/step - loss: 186.7962\n",
      "Epoch 217/500\n",
      "10/10 [==============================] - 2s 238ms/step - loss: 184.6274\n",
      "Epoch 218/500\n",
      "10/10 [==============================] - 2s 211ms/step - loss: 185.2635\n",
      "Epoch 219/500\n",
      "10/10 [==============================] - 2s 189ms/step - loss: 185.5737\n",
      "Epoch 220/500\n",
      "10/10 [==============================] - 1s 139ms/step - loss: 182.9067\n",
      "Epoch 221/500\n",
      "10/10 [==============================] - 2s 240ms/step - loss: 185.9098\n",
      "Epoch 222/500\n",
      "10/10 [==============================] - 2s 190ms/step - loss: 183.5860\n",
      "Epoch 223/500\n",
      "10/10 [==============================] - 2s 189ms/step - loss: 185.0753\n",
      "Epoch 224/500\n",
      "10/10 [==============================] - 2s 180ms/step - loss: 184.3723\n",
      "Epoch 225/500\n",
      "10/10 [==============================] - 2s 179ms/step - loss: 183.3896\n",
      "Epoch 226/500\n",
      "10/10 [==============================] - 2s 160ms/step - loss: 186.2046\n",
      "Epoch 227/500\n",
      "10/10 [==============================] - 2s 210ms/step - loss: 183.8263\n",
      "Epoch 228/500\n",
      "10/10 [==============================] - 2s 170ms/step - loss: 182.3560\n",
      "Epoch 229/500\n",
      "10/10 [==============================] - 2s 180ms/step - loss: 182.6293\n",
      "Epoch 230/500\n",
      "10/10 [==============================] - 2s 220ms/step - loss: 182.0983\n",
      "Epoch 231/500\n",
      "10/10 [==============================] - 2s 150ms/step - loss: 184.1590\n",
      "Epoch 232/500\n",
      "10/10 [==============================] - 2s 208ms/step - loss: 180.9280\n",
      "Epoch 233/500\n",
      "10/10 [==============================] - 2s 170ms/step - loss: 182.2316\n",
      "Epoch 234/500\n",
      "10/10 [==============================] - 2s 161ms/step - loss: 178.6044\n",
      "Epoch 235/500\n",
      "10/10 [==============================] - 2s 159ms/step - loss: 185.2781\n",
      "Epoch 236/500\n",
      "10/10 [==============================] - 2s 210ms/step - loss: 182.7876\n",
      "Epoch 237/500\n",
      "10/10 [==============================] - 2s 180ms/step - loss: 180.8248\n",
      "Epoch 238/500\n",
      "10/10 [==============================] - 2s 171ms/step - loss: 179.4605\n",
      "Epoch 239/500\n",
      "10/10 [==============================] - 2s 161ms/step - loss: 180.5211\n",
      "Epoch 240/500\n",
      "10/10 [==============================] - 1s 131ms/step - loss: 179.2461\n",
      "Epoch 241/500\n",
      "10/10 [==============================] - 2s 152ms/step - loss: 179.9295\n",
      "Epoch 242/500\n",
      "10/10 [==============================] - 2s 160ms/step - loss: 180.2405\n",
      "Epoch 243/500\n",
      "10/10 [==============================] - 2s 170ms/step - loss: 182.3703\n",
      "Epoch 244/500\n",
      "10/10 [==============================] - 2s 168ms/step - loss: 183.0135\n",
      "Epoch 245/500\n",
      "10/10 [==============================] - 2s 161ms/step - loss: 179.5625\n",
      "Epoch 246/500\n",
      "10/10 [==============================] - 2s 189ms/step - loss: 184.6149\n",
      "Epoch 247/500\n",
      "10/10 [==============================] - 2s 211ms/step - loss: 183.4657\n",
      "Epoch 248/500\n",
      "10/10 [==============================] - 2s 200ms/step - loss: 182.8539\n",
      "Epoch 249/500\n",
      "10/10 [==============================] - 1s 142ms/step - loss: 183.8199\n",
      "Epoch 250/500\n",
      "10/10 [==============================] - 2s 201ms/step - loss: 181.1073\n",
      "Epoch 251/500\n",
      "10/10 [==============================] - 1s 149ms/step - loss: 178.0289\n",
      "Epoch 252/500\n",
      "10/10 [==============================] - 2s 198ms/step - loss: 179.1585\n",
      "Epoch 253/500\n",
      "10/10 [==============================] - 2s 180ms/step - loss: 177.9741\n",
      "Epoch 254/500\n",
      "10/10 [==============================] - 2s 199ms/step - loss: 179.3558\n",
      "Epoch 255/500\n",
      "10/10 [==============================] - 2s 201ms/step - loss: 179.2722\n",
      "Epoch 256/500\n",
      "10/10 [==============================] - 2s 201ms/step - loss: 176.8800\n",
      "Epoch 257/500\n",
      "10/10 [==============================] - 2s 181ms/step - loss: 176.6024\n",
      "Epoch 258/500\n",
      "10/10 [==============================] - 2s 181ms/step - loss: 177.8366\n",
      "Epoch 259/500\n",
      "10/10 [==============================] - 2s 219ms/step - loss: 184.8998\n",
      "Epoch 260/500\n",
      "10/10 [==============================] - 2s 191ms/step - loss: 178.2081\n",
      "Epoch 261/500\n",
      "10/10 [==============================] - 2s 170ms/step - loss: 178.1974\n",
      "Epoch 262/500\n",
      "10/10 [==============================] - 2s 189ms/step - loss: 176.2922\n",
      "Epoch 263/500\n",
      "10/10 [==============================] - 2s 199ms/step - loss: 176.1370\n",
      "Epoch 264/500\n",
      "10/10 [==============================] - 2s 230ms/step - loss: 177.8086\n",
      "Epoch 265/500\n",
      "10/10 [==============================] - 2s 190ms/step - loss: 175.6619\n",
      "Epoch 266/500\n",
      "10/10 [==============================] - 2s 150ms/step - loss: 177.1084\n",
      "Epoch 267/500\n",
      "10/10 [==============================] - 2s 190ms/step - loss: 174.7096\n",
      "Epoch 268/500\n",
      "10/10 [==============================] - 1s 141ms/step - loss: 174.6480\n",
      "Epoch 269/500\n",
      "10/10 [==============================] - 2s 188ms/step - loss: 174.9843\n",
      "Epoch 270/500\n",
      "10/10 [==============================] - 2s 220ms/step - loss: 175.5779\n",
      "Epoch 271/500\n",
      "10/10 [==============================] - 2s 162ms/step - loss: 173.5819\n",
      "Epoch 272/500\n",
      "10/10 [==============================] - 2s 189ms/step - loss: 175.9563\n",
      "Epoch 273/500\n",
      "10/10 [==============================] - 1s 149ms/step - loss: 173.5285\n",
      "Epoch 274/500\n",
      "10/10 [==============================] - 2s 189ms/step - loss: 177.0107\n",
      "Epoch 275/500\n",
      "10/10 [==============================] - 2s 201ms/step - loss: 172.6911\n",
      "Epoch 276/500\n",
      "10/10 [==============================] - 2s 221ms/step - loss: 175.9668\n",
      "Epoch 277/500\n",
      "10/10 [==============================] - 2s 189ms/step - loss: 178.1232\n",
      "Epoch 278/500\n",
      "10/10 [==============================] - 2s 191ms/step - loss: 177.4490\n",
      "Epoch 279/500\n",
      "10/10 [==============================] - 2s 230ms/step - loss: 175.7932\n",
      "Epoch 280/500\n",
      "10/10 [==============================] - 2s 210ms/step - loss: 174.7420\n",
      "Epoch 281/500\n",
      "10/10 [==============================] - 2s 150ms/step - loss: 176.0947\n",
      "Epoch 282/500\n",
      "10/10 [==============================] - 2s 170ms/step - loss: 174.4518\n",
      "Epoch 283/500\n",
      "10/10 [==============================] - 2s 190ms/step - loss: 171.6247\n",
      "Epoch 284/500\n",
      "10/10 [==============================] - 1s 130ms/step - loss: 175.2069\n",
      "Epoch 285/500\n",
      "10/10 [==============================] - 2s 171ms/step - loss: 173.1558\n",
      "Epoch 286/500\n",
      "10/10 [==============================] - 2s 221ms/step - loss: 173.1727\n",
      "Epoch 287/500\n",
      "10/10 [==============================] - 2s 209ms/step - loss: 172.0136\n",
      "Epoch 288/500\n",
      "10/10 [==============================] - 2s 201ms/step - loss: 172.0773\n",
      "Epoch 289/500\n",
      "10/10 [==============================] - 2s 151ms/step - loss: 176.1519\n",
      "Epoch 290/500\n",
      "10/10 [==============================] - 2s 180ms/step - loss: 173.0923\n",
      "Epoch 291/500\n",
      "10/10 [==============================] - 2s 190ms/step - loss: 172.9607\n",
      "Epoch 292/500\n",
      "10/10 [==============================] - 2s 180ms/step - loss: 172.9736\n",
      "Epoch 293/500\n",
      "10/10 [==============================] - 2s 240ms/step - loss: 175.4328\n",
      "Epoch 294/500\n",
      "10/10 [==============================] - 2s 178ms/step - loss: 187.5770\n",
      "Epoch 295/500\n",
      "10/10 [==============================] - 2s 151ms/step - loss: 178.2637\n",
      "Epoch 296/500\n",
      "10/10 [==============================] - 2s 180ms/step - loss: 177.4691\n",
      "Epoch 297/500\n",
      "10/10 [==============================] - 2s 209ms/step - loss: 172.9308\n",
      "Epoch 298/500\n",
      "10/10 [==============================] - 2s 211ms/step - loss: 170.6066\n",
      "Epoch 299/500\n",
      "10/10 [==============================] - 2s 181ms/step - loss: 171.4003\n",
      "Epoch 300/500\n",
      "10/10 [==============================] - 2s 199ms/step - loss: 168.9505\n",
      "Epoch 301/500\n",
      "10/10 [==============================] - 2s 180ms/step - loss: 169.7525\n",
      "Epoch 302/500\n",
      "10/10 [==============================] - 2s 240ms/step - loss: 169.6006\n",
      "Epoch 303/500\n",
      "10/10 [==============================] - 1s 141ms/step - loss: 175.0580\n",
      "Epoch 304/500\n",
      "10/10 [==============================] - 2s 169ms/step - loss: 169.9960\n",
      "Epoch 305/500\n",
      "10/10 [==============================] - 2s 210ms/step - loss: 170.6895\n",
      "Epoch 306/500\n",
      "10/10 [==============================] - 2s 201ms/step - loss: 172.0687\n",
      "Epoch 307/500\n",
      "10/10 [==============================] - 2s 181ms/step - loss: 169.3766\n",
      "Epoch 308/500\n",
      "10/10 [==============================] - 2s 210ms/step - loss: 168.4547\n",
      "Epoch 309/500\n",
      "10/10 [==============================] - 2s 181ms/step - loss: 168.6248\n",
      "Epoch 310/500\n",
      "10/10 [==============================] - 2s 210ms/step - loss: 170.1501\n",
      "Epoch 311/500\n",
      "10/10 [==============================] - 2s 229ms/step - loss: 169.0340\n",
      "Epoch 312/500\n",
      "10/10 [==============================] - 3s 261ms/step - loss: 170.2916\n",
      "Epoch 313/500\n",
      "10/10 [==============================] - 2s 210ms/step - loss: 169.7305\n",
      "Epoch 314/500\n",
      "10/10 [==============================] - 1s 149ms/step - loss: 167.6401\n",
      "Epoch 315/500\n",
      "10/10 [==============================] - 2s 179ms/step - loss: 169.5400\n",
      "Epoch 316/500\n",
      "10/10 [==============================] - 2s 159ms/step - loss: 169.1804\n",
      "Epoch 317/500\n",
      "10/10 [==============================] - 2s 180ms/step - loss: 169.6718\n",
      "Epoch 318/500\n",
      "10/10 [==============================] - 2s 230ms/step - loss: 170.5734\n",
      "Epoch 319/500\n",
      "10/10 [==============================] - 2s 230ms/step - loss: 172.9634\n",
      "Epoch 320/500\n",
      "10/10 [==============================] - 2s 180ms/step - loss: 171.5352\n",
      "Epoch 321/500\n",
      "10/10 [==============================] - 2s 189ms/step - loss: 171.1200\n",
      "Epoch 322/500\n",
      "10/10 [==============================] - 2s 220ms/step - loss: 168.4661\n",
      "Epoch 323/500\n",
      "10/10 [==============================] - 2s 179ms/step - loss: 170.8186\n",
      "Epoch 324/500\n",
      "10/10 [==============================] - 2s 201ms/step - loss: 169.1722\n",
      "Epoch 325/500\n",
      "10/10 [==============================] - 2s 190ms/step - loss: 166.2235\n",
      "Epoch 326/500\n",
      "10/10 [==============================] - 2s 179ms/step - loss: 167.0361\n",
      "Epoch 327/500\n",
      "10/10 [==============================] - 2s 199ms/step - loss: 167.4794\n",
      "Epoch 328/500\n",
      "10/10 [==============================] - 1s 141ms/step - loss: 167.0203\n",
      "Epoch 329/500\n",
      "10/10 [==============================] - 2s 191ms/step - loss: 167.1348\n",
      "Epoch 330/500\n",
      "10/10 [==============================] - 2s 189ms/step - loss: 166.6122\n",
      "Epoch 331/500\n",
      "10/10 [==============================] - 2s 201ms/step - loss: 167.4291\n",
      "Epoch 332/500\n",
      "10/10 [==============================] - 2s 190ms/step - loss: 168.5341\n",
      "Epoch 333/500\n",
      "10/10 [==============================] - 2s 220ms/step - loss: 167.9037\n",
      "Epoch 334/500\n",
      "10/10 [==============================] - 2s 189ms/step - loss: 170.4778\n",
      "Epoch 335/500\n",
      "10/10 [==============================] - 2s 160ms/step - loss: 164.1737\n",
      "Epoch 336/500\n",
      "10/10 [==============================] - 2s 230ms/step - loss: 168.1795\n",
      "Epoch 337/500\n",
      "10/10 [==============================] - 2s 239ms/step - loss: 174.1011\n",
      "Epoch 338/500\n",
      "10/10 [==============================] - 2s 230ms/step - loss: 170.6952\n",
      "Epoch 339/500\n",
      "10/10 [==============================] - 2s 219ms/step - loss: 166.4369\n",
      "Epoch 340/500\n",
      "10/10 [==============================] - 2s 230ms/step - loss: 167.3038\n",
      "Epoch 341/500\n",
      "10/10 [==============================] - 2s 231ms/step - loss: 165.3779\n",
      "Epoch 342/500\n",
      "10/10 [==============================] - 3s 259ms/step - loss: 165.5202\n",
      "Epoch 343/500\n",
      "10/10 [==============================] - 2s 230ms/step - loss: 165.3639\n",
      "Epoch 344/500\n",
      "10/10 [==============================] - 3s 279ms/step - loss: 165.1913\n",
      "Epoch 345/500\n",
      "10/10 [==============================] - 2s 228ms/step - loss: 166.4398\n",
      "Epoch 346/500\n",
      "10/10 [==============================] - 2s 189ms/step - loss: 174.9475\n",
      "Epoch 347/500\n",
      "10/10 [==============================] - 2s 219ms/step - loss: 172.4428\n",
      "Epoch 348/500\n",
      "10/10 [==============================] - 3s 259ms/step - loss: 173.4073\n",
      "Epoch 349/500\n",
      "10/10 [==============================] - 2s 240ms/step - loss: 167.6806\n",
      "Epoch 350/500\n",
      "10/10 [==============================] - 3s 261ms/step - loss: 166.3339\n",
      "Epoch 351/500\n",
      "10/10 [==============================] - 2s 200ms/step - loss: 165.0838\n",
      "Epoch 352/500\n",
      "10/10 [==============================] - 2s 200ms/step - loss: 167.5811\n",
      "Epoch 353/500\n",
      "10/10 [==============================] - 2s 220ms/step - loss: 171.6023\n",
      "Epoch 354/500\n",
      "10/10 [==============================] - 2s 219ms/step - loss: 169.1903\n",
      "Epoch 355/500\n",
      "10/10 [==============================] - 2s 228ms/step - loss: 165.6091\n",
      "Epoch 356/500\n",
      "10/10 [==============================] - 2s 200ms/step - loss: 163.7203\n",
      "Epoch 357/500\n",
      "10/10 [==============================] - 1s 139ms/step - loss: 164.0248\n",
      "Epoch 358/500\n",
      "10/10 [==============================] - 1s 140ms/step - loss: 165.9074\n",
      "Epoch 359/500\n",
      "10/10 [==============================] - 2s 170ms/step - loss: 168.8955\n",
      "Epoch 360/500\n",
      "10/10 [==============================] - 2s 200ms/step - loss: 168.6974\n",
      "Epoch 361/500\n",
      "10/10 [==============================] - 2s 179ms/step - loss: 168.4349\n",
      "Epoch 362/500\n",
      "10/10 [==============================] - 2s 169ms/step - loss: 162.4009\n",
      "Epoch 363/500\n",
      "10/10 [==============================] - 1s 148ms/step - loss: 164.0261\n",
      "Epoch 364/500\n",
      "10/10 [==============================] - 1s 150ms/step - loss: 164.8359\n",
      "Epoch 365/500\n",
      "10/10 [==============================] - 1s 142ms/step - loss: 165.2372\n",
      "Epoch 366/500\n",
      "10/10 [==============================] - 2s 199ms/step - loss: 161.2248\n",
      "Epoch 367/500\n",
      "10/10 [==============================] - 2s 201ms/step - loss: 164.1398\n",
      "Epoch 368/500\n",
      "10/10 [==============================] - 3s 270ms/step - loss: 166.1912\n",
      "Epoch 369/500\n",
      "10/10 [==============================] - 3s 319ms/step - loss: 163.1432\n",
      "Epoch 370/500\n",
      "10/10 [==============================] - 2s 212ms/step - loss: 163.7114\n",
      "Epoch 371/500\n",
      "10/10 [==============================] - 2s 200ms/step - loss: 164.7440\n",
      "Epoch 372/500\n",
      "10/10 [==============================] - 3s 256ms/step - loss: 166.4457\n",
      "Epoch 373/500\n",
      "10/10 [==============================] - 2s 181ms/step - loss: 161.7376\n",
      "Epoch 374/500\n",
      "10/10 [==============================] - 2s 190ms/step - loss: 162.0444\n",
      "Epoch 375/500\n",
      "10/10 [==============================] - 2s 220ms/step - loss: 160.9000\n",
      "Epoch 376/500\n",
      "10/10 [==============================] - 2s 208ms/step - loss: 165.5089\n",
      "Epoch 377/500\n",
      "10/10 [==============================] - 2s 162ms/step - loss: 162.4882\n",
      "Epoch 378/500\n",
      "10/10 [==============================] - 2s 240ms/step - loss: 162.6063\n",
      "Epoch 379/500\n",
      "10/10 [==============================] - 2s 190ms/step - loss: 161.3676\n",
      "Epoch 380/500\n",
      "10/10 [==============================] - 2s 189ms/step - loss: 162.2198\n",
      "Epoch 381/500\n",
      "10/10 [==============================] - 2s 220ms/step - loss: 165.0324\n",
      "Epoch 382/500\n",
      "10/10 [==============================] - 1s 142ms/step - loss: 161.7098\n",
      "Epoch 383/500\n",
      "10/10 [==============================] - 2s 160ms/step - loss: 159.3964\n",
      "Epoch 384/500\n",
      "10/10 [==============================] - 2s 169ms/step - loss: 160.2374\n",
      "Epoch 385/500\n",
      "10/10 [==============================] - 2s 239ms/step - loss: 165.1678\n",
      "Epoch 386/500\n",
      "10/10 [==============================] - 2s 191ms/step - loss: 164.2750\n",
      "Epoch 387/500\n",
      "10/10 [==============================] - 2s 180ms/step - loss: 164.3490\n",
      "Epoch 388/500\n",
      "10/10 [==============================] - 2s 210ms/step - loss: 169.1891\n",
      "Epoch 389/500\n",
      "10/10 [==============================] - 2s 190ms/step - loss: 161.6841\n",
      "Epoch 390/500\n",
      "10/10 [==============================] - 2s 190ms/step - loss: 162.1113\n",
      "Epoch 391/500\n",
      "10/10 [==============================] - 2s 201ms/step - loss: 161.0695\n",
      "Epoch 392/500\n",
      "10/10 [==============================] - 2s 200ms/step - loss: 158.6493\n",
      "Epoch 393/500\n",
      "10/10 [==============================] - 2s 190ms/step - loss: 158.2067\n",
      "Epoch 394/500\n",
      "10/10 [==============================] - 2s 208ms/step - loss: 158.3974\n",
      "Epoch 395/500\n",
      "10/10 [==============================] - 2s 209ms/step - loss: 158.6957\n",
      "Epoch 396/500\n",
      "10/10 [==============================] - 3s 250ms/step - loss: 158.2785\n",
      "Epoch 397/500\n",
      "10/10 [==============================] - 2s 190ms/step - loss: 158.4722\n",
      "Epoch 398/500\n",
      "10/10 [==============================] - 2s 221ms/step - loss: 157.8195\n",
      "Epoch 399/500\n",
      "10/10 [==============================] - 2s 230ms/step - loss: 159.6291\n",
      "Epoch 400/500\n",
      "10/10 [==============================] - 2s 211ms/step - loss: 159.6809\n",
      "Epoch 401/500\n",
      "10/10 [==============================] - 2s 181ms/step - loss: 159.1355\n",
      "Epoch 402/500\n",
      "10/10 [==============================] - 2s 179ms/step - loss: 162.1216\n",
      "Epoch 403/500\n",
      "10/10 [==============================] - 2s 240ms/step - loss: 160.0882\n",
      "Epoch 404/500\n",
      "10/10 [==============================] - 2s 249ms/step - loss: 156.4290\n",
      "Epoch 405/500\n",
      "10/10 [==============================] - 3s 250ms/step - loss: 158.8277\n",
      "Epoch 406/500\n",
      "10/10 [==============================] - 2s 250ms/step - loss: 161.1620\n",
      "Epoch 407/500\n",
      "10/10 [==============================] - 3s 259ms/step - loss: 159.1800\n",
      "Epoch 408/500\n",
      "10/10 [==============================] - 2s 241ms/step - loss: 160.2667\n",
      "Epoch 409/500\n",
      "10/10 [==============================] - 2s 200ms/step - loss: 159.2184\n",
      "Epoch 410/500\n",
      "10/10 [==============================] - 2s 200ms/step - loss: 158.8463\n",
      "Epoch 411/500\n",
      "10/10 [==============================] - 2s 190ms/step - loss: 156.1882\n",
      "Epoch 412/500\n",
      "10/10 [==============================] - 2s 181ms/step - loss: 156.8960\n",
      "Epoch 413/500\n",
      "10/10 [==============================] - 2s 239ms/step - loss: 155.1880\n",
      "Epoch 414/500\n",
      "10/10 [==============================] - 2s 220ms/step - loss: 156.2253\n",
      "Epoch 415/500\n",
      "10/10 [==============================] - 2s 240ms/step - loss: 160.6865\n",
      "Epoch 416/500\n",
      "10/10 [==============================] - 2s 240ms/step - loss: 157.0598\n",
      "Epoch 417/500\n",
      "10/10 [==============================] - 2s 200ms/step - loss: 158.5578\n",
      "Epoch 418/500\n",
      "10/10 [==============================] - 2s 250ms/step - loss: 155.5304\n",
      "Epoch 419/500\n",
      "10/10 [==============================] - 3s 269ms/step - loss: 157.2455\n",
      "Epoch 420/500\n",
      "10/10 [==============================] - 3s 260ms/step - loss: 160.6033\n",
      "Epoch 421/500\n",
      "10/10 [==============================] - 3s 280ms/step - loss: 163.8655\n",
      "Epoch 422/500\n",
      "10/10 [==============================] - 3s 271ms/step - loss: 161.0937\n",
      "Epoch 423/500\n",
      "10/10 [==============================] - 2s 220ms/step - loss: 159.3628\n",
      "Epoch 424/500\n",
      "10/10 [==============================] - 2s 209ms/step - loss: 160.3426\n",
      "Epoch 425/500\n",
      "10/10 [==============================] - 2s 239ms/step - loss: 156.0760\n",
      "Epoch 426/500\n",
      "10/10 [==============================] - 2s 240ms/step - loss: 155.0901\n",
      "Epoch 427/500\n",
      "10/10 [==============================] - 2s 180ms/step - loss: 158.0335\n",
      "Epoch 428/500\n",
      "10/10 [==============================] - 3s 260ms/step - loss: 157.5251\n",
      "Epoch 429/500\n",
      "10/10 [==============================] - 2s 211ms/step - loss: 158.6254\n",
      "Epoch 430/500\n",
      "10/10 [==============================] - 2s 240ms/step - loss: 162.7468\n",
      "Epoch 431/500\n",
      "10/10 [==============================] - 3s 280ms/step - loss: 156.5269\n",
      "Epoch 432/500\n",
      "10/10 [==============================] - 2s 200ms/step - loss: 156.9231\n",
      "Epoch 433/500\n",
      "10/10 [==============================] - 2s 230ms/step - loss: 154.0203\n",
      "Epoch 434/500\n",
      "10/10 [==============================] - 3s 281ms/step - loss: 154.7007\n",
      "Epoch 435/500\n",
      "10/10 [==============================] - 3s 309ms/step - loss: 153.4894\n",
      "Epoch 436/500\n",
      "10/10 [==============================] - 2s 230ms/step - loss: 154.8463\n",
      "Epoch 437/500\n",
      "10/10 [==============================] - 2s 230ms/step - loss: 155.9151\n",
      "Epoch 438/500\n",
      "10/10 [==============================] - 3s 270ms/step - loss: 155.8684\n",
      "Epoch 439/500\n",
      "10/10 [==============================] - 2s 229ms/step - loss: 152.8673\n",
      "Epoch 440/500\n",
      "10/10 [==============================] - 2s 231ms/step - loss: 155.5919\n",
      "Epoch 441/500\n",
      "10/10 [==============================] - 2s 221ms/step - loss: 153.4822\n",
      "Epoch 442/500\n",
      "10/10 [==============================] - 2s 230ms/step - loss: 160.4279\n",
      "Epoch 443/500\n",
      "10/10 [==============================] - 2s 221ms/step - loss: 157.6194\n",
      "Epoch 444/500\n",
      "10/10 [==============================] - 2s 192ms/step - loss: 156.3474\n",
      "Epoch 445/500\n",
      "10/10 [==============================] - 2s 151ms/step - loss: 154.2821\n",
      "Epoch 446/500\n",
      "10/10 [==============================] - 2s 159ms/step - loss: 150.7769\n",
      "Epoch 447/500\n",
      "10/10 [==============================] - 2s 190ms/step - loss: 151.9235\n",
      "Epoch 448/500\n",
      "10/10 [==============================] - 2s 231ms/step - loss: 153.8602\n",
      "Epoch 449/500\n",
      "10/10 [==============================] - 2s 190ms/step - loss: 152.9242\n",
      "Epoch 450/500\n",
      "10/10 [==============================] - 2s 180ms/step - loss: 153.7448\n",
      "Epoch 451/500\n",
      "10/10 [==============================] - 2s 180ms/step - loss: 152.6132\n",
      "Epoch 452/500\n",
      "10/10 [==============================] - 1s 150ms/step - loss: 154.9830\n",
      "Epoch 453/500\n",
      "10/10 [==============================] - 2s 190ms/step - loss: 156.1042\n",
      "Epoch 454/500\n",
      "10/10 [==============================] - 2s 160ms/step - loss: 152.1280\n",
      "Epoch 455/500\n",
      "10/10 [==============================] - 2s 210ms/step - loss: 151.4742\n",
      "Epoch 456/500\n",
      "10/10 [==============================] - 2s 249ms/step - loss: 152.4198\n",
      "Epoch 457/500\n",
      "10/10 [==============================] - 1s 141ms/step - loss: 152.8995\n",
      "Epoch 458/500\n",
      "10/10 [==============================] - 2s 190ms/step - loss: 152.8402\n",
      "Epoch 459/500\n",
      "10/10 [==============================] - 2s 221ms/step - loss: 154.1661\n",
      "Epoch 460/500\n",
      "10/10 [==============================] - 2s 198ms/step - loss: 155.6159\n",
      "Epoch 461/500\n",
      "10/10 [==============================] - 2s 160ms/step - loss: 153.4748\n",
      "Epoch 462/500\n",
      "10/10 [==============================] - 2s 190ms/step - loss: 154.6069\n",
      "Epoch 463/500\n",
      "10/10 [==============================] - 2s 200ms/step - loss: 154.5914\n",
      "Epoch 464/500\n",
      "10/10 [==============================] - 1s 150ms/step - loss: 153.3589\n",
      "Epoch 465/500\n",
      "10/10 [==============================] - 2s 190ms/step - loss: 151.1948\n",
      "Epoch 466/500\n",
      "10/10 [==============================] - 2s 150ms/step - loss: 167.1818\n",
      "Epoch 467/500\n",
      "10/10 [==============================] - 2s 198ms/step - loss: 175.2994\n",
      "Epoch 468/500\n",
      "10/10 [==============================] - 2s 209ms/step - loss: 159.7655\n",
      "Epoch 469/500\n",
      "10/10 [==============================] - 2s 181ms/step - loss: 154.9088\n",
      "Epoch 470/500\n",
      "10/10 [==============================] - 2s 178ms/step - loss: 154.4719\n",
      "Epoch 471/500\n",
      "10/10 [==============================] - 2s 210ms/step - loss: 153.2369\n",
      "Epoch 472/500\n",
      "10/10 [==============================] - 2s 180ms/step - loss: 151.9643\n",
      "Epoch 473/500\n",
      "10/10 [==============================] - 2s 217ms/step - loss: 153.4104\n",
      "Epoch 474/500\n",
      "10/10 [==============================] - 2s 169ms/step - loss: 154.9260\n",
      "Epoch 475/500\n",
      "10/10 [==============================] - 2s 201ms/step - loss: 149.7227\n",
      "Epoch 476/500\n",
      "10/10 [==============================] - 2s 160ms/step - loss: 149.2882\n",
      "Epoch 477/500\n",
      "10/10 [==============================] - 2s 199ms/step - loss: 150.2143\n",
      "Epoch 478/500\n",
      "10/10 [==============================] - 2s 220ms/step - loss: 149.7549\n",
      "Epoch 479/500\n",
      "10/10 [==============================] - 2s 190ms/step - loss: 154.4823\n",
      "Epoch 480/500\n",
      "10/10 [==============================] - 2s 161ms/step - loss: 153.7305\n",
      "Epoch 481/500\n",
      "10/10 [==============================] - 2s 160ms/step - loss: 151.9108\n",
      "Epoch 482/500\n",
      "10/10 [==============================] - 2s 160ms/step - loss: 154.0116\n",
      "Epoch 483/500\n",
      "10/10 [==============================] - 2s 180ms/step - loss: 150.0652\n",
      "Epoch 484/500\n",
      "10/10 [==============================] - 2s 230ms/step - loss: 149.2692\n",
      "Epoch 485/500\n",
      "10/10 [==============================] - 2s 218ms/step - loss: 156.1427\n",
      "Epoch 486/500\n",
      "10/10 [==============================] - 2s 160ms/step - loss: 152.6026\n",
      "Epoch 487/500\n",
      "10/10 [==============================] - 2s 190ms/step - loss: 154.3233\n",
      "Epoch 488/500\n",
      "10/10 [==============================] - 2s 160ms/step - loss: 149.8578\n",
      "Epoch 489/500\n",
      "10/10 [==============================] - 2s 217ms/step - loss: 152.6569\n",
      "Epoch 490/500\n",
      "10/10 [==============================] - 2s 219ms/step - loss: 152.6964\n",
      "Epoch 491/500\n",
      "10/10 [==============================] - 3s 250ms/step - loss: 154.2060\n",
      "Epoch 492/500\n",
      "10/10 [==============================] - 2s 201ms/step - loss: 146.1594\n",
      "Epoch 493/500\n",
      "10/10 [==============================] - 2s 220ms/step - loss: 149.7027\n",
      "Epoch 494/500\n",
      "10/10 [==============================] - 2s 210ms/step - loss: 158.1258\n",
      "Epoch 495/500\n",
      "10/10 [==============================] - 2s 172ms/step - loss: 157.4661\n",
      "Epoch 496/500\n",
      "10/10 [==============================] - 2s 170ms/step - loss: 148.8363\n",
      "Epoch 497/500\n",
      "10/10 [==============================] - 2s 182ms/step - loss: 148.9640\n",
      "Epoch 498/500\n",
      "10/10 [==============================] - 2s 191ms/step - loss: 148.1056\n",
      "Epoch 499/500\n",
      "10/10 [==============================] - 1s 141ms/step - loss: 146.8249\n",
      "Epoch 500/500\n",
      "10/10 [==============================] - 1s 131ms/step - loss: 147.9146\n"
     ]
    },
    {
     "data": {
      "text/plain": [
       "<tensorflow.python.keras.callbacks.History at 0x7f6ea910c050>"
      ]
     },
     "execution_count": 16,
     "metadata": {},
     "output_type": "execute_result"
    }
   ],
   "source": [
    "# compile and train\n",
    "pair_model.compile(optimizers.Adam(1e-2), loss=\"mse\")\n",
    "pair_model.fit(train_gen, epochs=500, verbose=1)"
   ]
  },
  {
   "cell_type": "code",
   "execution_count": 20,
   "metadata": {},
   "outputs": [],
   "source": [
    "# retrieve embeddings\n",
    "embeddings = embedding_moel.predict(generator.flow(graphs)) # 1113, 96\n",
    "\n",
    "# TSNE for dimensionality reduction\n",
    "from sklearn.manifold import TSNE\n",
    "tsne = TSNE(2)\n",
    "two_d = tsne.fit_transform(embeddings)"
   ]
  },
  {
   "cell_type": "code",
   "execution_count": 22,
   "metadata": {},
   "outputs": [
    {
     "data": {
      "image/png": "[encoded data removed]",
      "text/plain": [
       "<Figure size 432x288 with 1 Axes>"
      ]
     },
     "metadata": {
      "needs_background": "light"
     },
     "output_type": "display_data"
    }
   ],
   "source": [
    "import matplotlib.pyplot as plt\n",
    "%matplotlib inline\n",
    "\n",
    "plt.scatter(two_d[:, 0], two_d[:, 1], c=graph_labels.cat.codes, cmap=\"jet\", alpha=0.4)\n",
    "plt.show()\n",
    "#plt.savefig('embedding_TSNE.png',dpi=300)"
   ]
  },
  {
   "cell_type": "markdown",
   "metadata": {},
   "source": [
    "Train one of the networks and retrieve embeddings for that one."
   ]
  },
  {
   "cell_type": "code",
   "execution_count": null,
   "metadata": {},
   "outputs": [],
   "source": []
  }
 ],
 "metadata": {
  "environment": {
   "name": "tf2-2-3-gpu.2-3.m55",
   "type": "gcloud",
   "uri": "gcr.io/deeplearning-platform-release/tf2-2-3-gpu.2-3:m55"
  },
  "kernelspec": {
   "display_name": "Python 3",
   "language": "python",
   "name": "python3"
  },
  "language_info": {
   "codemirror_mode": {
    "name": "ipython",
    "version": 3
   },
   "file_extension": ".py",
   "mimetype": "text/x-python",
   "name": "python",
   "nbconvert_exporter": "python",
   "pygments_lexer": "ipython3",
   "version": "3.9.13"
  },
  "vscode": {
   "interpreter": {
    "hash": "63383c2a68c062c071f75888e0186e64940c33bbd30fa02b08cd99ee71ee0b47"
   }
  }
 },
 "nbformat": 4,
 "nbformat_minor": 4
}
