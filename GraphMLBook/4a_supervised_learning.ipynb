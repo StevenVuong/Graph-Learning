{
 "cells": [
  {
   "cell_type": "markdown",
   "id": "896075d1-db42-4566-8b6a-2ed671d0a80e",
   "metadata": {},
   "source": [
    "# Supervised Graph Learning\n",
    "\n",
    "**Supervised learning** represents the majority of practical **machine learning** tasks. Thanks to more active and effective data collection, it is imore common to deal with labeled datasets. This also applies to graphs, where labels can be assigned to nodes, communities and structures so that we learn some mapping function between the input and label.\n",
    "\n",
    "Code available at: https://github.com/PacktPublishing/Graph-Machine-Learning/tree/main/Chapter04\n",
    "\n",
    "In SL, a training set has a sequence of ordered pairs *(x, y)* where x is a set of input features and y is the output label assigned to it, we then want to learn the mapping function of each *x* value to each *y* value. In some situations we have a smaller dataset of labeled instances and a larger set of unlabeled instances. Here, **semi-SL (SSL)** is proposed, where algorithmns learn dependencies of available labels to learn prediting functions for unlabeled samples. There are various algorithm types:\n",
    "-  feature-based methods\n",
    "-  shallow embedding methods\n",
    "-  regularisation methods\n",
    "-  graph neural networks"
   ]
  },
  {
   "cell_type": "markdown",
   "id": "84f831a8-18b7-49b8-afb0-dd82055d2ab3",
   "metadata": {},
   "source": [
    "![4_1](./figures/4_1.jpg)"
   ]
  },
  {
   "cell_type": "markdown",
   "id": "acda12b3-84f2-454c-9b6f-681f193fb6f8",
   "metadata": {},
   "source": [
    "## Feature-based methods\n",
    "\n",
    "Simple and powerful method for ML on graphs: consider encoding function as a simple embedding lookup. One simple way to do this is to exploid graph properties, and we know that graphs can be described by (exploiting) structural properties so important information \"encoding\" from the graph itself."
   ]
  },
  {
   "cell_type": "code",
   "execution_count": null,
   "id": "4b0af858-d554-4373-b6ac-8161405a352c",
   "metadata": {},
   "outputs": [],
   "source": []
  }
 ],
 "metadata": {
  "environment": {
   "kernel": "python3",
   "name": "tf2-gpu.2-7.m87",
   "type": "gcloud",
   "uri": "gcr.io/deeplearning-platform-release/tf2-gpu.2-7:m87"
  },
  "kernelspec": {
   "display_name": "Python 3",
   "language": "python",
   "name": "python3"
  },
  "language_info": {
   "codemirror_mode": {
    "name": "ipython",
    "version": 3
   },
   "file_extension": ".py",
   "mimetype": "text/x-python",
   "name": "python",
   "nbconvert_exporter": "python",
   "pygments_lexer": "ipython3",
   "version": "3.7.12"
  }
 },
 "nbformat": 4,
 "nbformat_minor": 5
}
