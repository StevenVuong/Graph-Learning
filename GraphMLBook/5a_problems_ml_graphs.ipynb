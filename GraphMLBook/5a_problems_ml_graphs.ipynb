{
 "cells": [
  {
   "cell_type": "markdown",
   "metadata": {},
   "source": [
    "# 5: Problems with Machine Learning on Graphs\n",
    "Dive deeper into:\n",
    "-  Predicting missing links in a graph\n",
    "-  Detecting meaningful structures such as communities\n",
    "-  Detecting graph similarities and graph matching\n",
    "\n",
    "## Link Prediction\n",
    "Predict if or if not there is an edge between two nodes when this status is unknown, here we have $E = E_o \\cup E_u$ where $E_o$ are the observed links and edges $E_u$ are unknown links. For Link Prediction, we wish to exploit $E_o$ to estimate $E_u$. This is common in temporal graph systems where we want to estimate t+1; also is used widely in domains such as recommender systems or find hidden connections within networks. We have two families of approaches:\n",
    "-  Similarity-based\n",
    "-  Embedding-based\n",
    "\n",
    "### Similarity-based Methods\n",
    "Estimate a similarity function between each couple of nodes in a graph. Divide into sub-families:\n",
    "-  **Index-based**: Simple calculation of index based on neighboursof a given couple of nodes. Based on calculation of a simple index from information obtained by analysing the neighbours of two disconnected nodes...\n",
    "    -  Resource allocation index: Sum of 1/(Num neighbours for v nodes)\n",
    "\n"
   ]
  },
  {
   "cell_type": "code",
   "execution_count": 1,
   "metadata": {},
   "outputs": [],
   "source": [
    "import networkx as nx\n",
    "edges = [[1,3], [2,3], [2,4], [4,5], [5,6], [5,7]]\n",
    "G = nx.from_edgelist(edges)\n",
    "preds = nx.resource_allocation_index(G, [(1,2), (2,5), (3,4)]) # second arg is a list of possible edges"
   ]
  },
  {
   "cell_type": "code",
   "execution_count": 3,
   "metadata": {},
   "outputs": [
    {
     "data": {
      "text/plain": [
       "[(1, 2, 0.5), (2, 5, 0.5), (3, 4, 0.5)]"
      ]
     },
     "execution_count": 3,
     "metadata": {},
     "output_type": "execute_result"
    }
   ],
   "source": [
    "list(preds) # p. of each edge is 0.5"
   ]
  },
  {
   "cell_type": "markdown",
   "metadata": {},
   "source": [
    "**Jaccard Coefficient**: Neighbours of nodes u and v; intersection over union"
   ]
  },
  {
   "cell_type": "code",
   "execution_count": 4,
   "metadata": {},
   "outputs": [
    {
     "data": {
      "text/plain": [
       "[(1, 2, 0.5), (2, 5, 0.25), (3, 4, 0.3333333333333333)]"
      ]
     },
     "execution_count": 4,
     "metadata": {},
     "output_type": "execute_result"
    }
   ],
   "source": [
    "preds = nx.jaccard_coefficient(G, [(1,2), (2,5), (3,4)]) \n",
    "list(preds)"
   ]
  },
  {
   "cell_type": "markdown",
   "metadata": {},
   "source": [
    "There are other methods too such as *adamic_adar_index* and *preferential_attachment*.\n",
    "\n",
    "-  **Community-based**: Index computed using information about community to which a given couple of nodes belong first\n",
    "\n",
    "\n",
    "Community Common Neighbour: Computes number of common neighbours and adds this to number of common neighbours belonging to same community."
   ]
  },
  {
   "cell_type": "code",
   "execution_count": 7,
   "metadata": {},
   "outputs": [
    {
     "name": "stdout",
     "output_type": "stream",
     "text": [
      "[(1, 2, 2), (2, 5, 1), (3, 4, 1)]\n"
     ]
    },
    {
     "data": {
      "image/png": "[encoded data removed]",
      "text/plain": [
       "<Figure size 432x288 with 1 Axes>"
      ]
     },
     "metadata": {},
     "output_type": "display_data"
    }
   ],
   "source": [
    "import networkx as nx\n",
    "edges = [[1,3],[2,3],[2,4],[4,5],[5,6],[5,7]]\n",
    "G = nx.from_edgelist(edges)\n",
    "\n",
    "# assign community property\n",
    "G.nodes[1][\"community\"] = 0\n",
    "G.nodes[2][\"community\"] = 0\n",
    "G.nodes[3][\"community\"] = 0\n",
    "\n",
    "G.nodes[4][\"community\"] = 1\n",
    "G.nodes[5][\"community\"] = 1\n",
    "G.nodes[6][\"community\"] = 1\n",
    "G.nodes[7][\"community\"] = 1\n",
    "\n",
    "preds = nx.cn_soundarajan_hopcroft(G,[(1,2),(2,5),(3,4)])\n",
    "print(list(preds)) # output not in range (0,1)\n",
    "nx.draw(G)"
   ]
  },
  {
   "cell_type": "markdown",
   "metadata": {},
   "source": [
    "Community resource allocation: Merges information obtained from neighbours of nodes with community. Algorithm where we take sum of nodes and allocate 1 if belongs to same community, 0 otherwise and normalise by neighbours of node v"
   ]
  },
  {
   "cell_type": "code",
   "execution_count": 9,
   "metadata": {},
   "outputs": [
    {
     "name": "stdout",
     "output_type": "stream",
     "text": [
      "[(1, 2, 0.5), (2, 5, 0), (3, 4, 0)]\n"
     ]
    },
    {
     "data": {
      "image/png": "[encoded data removed]",
      "text/plain": [
       "<Figure size 432x288 with 1 Axes>"
      ]
     },
     "metadata": {},
     "output_type": "display_data"
    }
   ],
   "source": [
    "import networkx as nx\n",
    "edges = [[1,3],[2,3],[2,4],[4,5],[5,6],[5,7]]\n",
    "G = nx.from_edgelist(edges)\n",
    "\n",
    "G.nodes[1][\"community\"] = 0\n",
    "G.nodes[2][\"community\"] = 0\n",
    "G.nodes[3][\"community\"] = 0\n",
    "\n",
    "G.nodes[4][\"community\"] = 1\n",
    "G.nodes[5][\"community\"] = 1\n",
    "G.nodes[6][\"community\"] = 1\n",
    "G.nodes[7][\"community\"] = 1\n",
    "preds = nx.ra_index_soundarajan_hopcroft(G,[(1,2),(2,5),(3,4)])\n",
    "print(list(preds))\n",
    "nx.draw(G) # nodes in same community have a higher value in index"
   ]
  },
  {
   "cell_type": "markdown",
   "metadata": {},
   "source": [
    "Now we can look at more complex techniques based on ML; and edge embedding to perform prediction of unknown edges.\n",
    "\n",
    "### Embedding-based Mehods\n",
    "Here we approach link prediction as supervised classification. For a given graph, each couple of nodes is represented as a feature vector, and class label assigned to node couples. The whole process can be summarised into two main steps:\n",
    "1.  For each node of the graph G, its embedding vector is computed using a node2vec algorithm\n",
    "2.  For all the possible couple of nodes in the graph, the embedding is computed using edge2vec\n",
    "\n",
    "So we have a generic ML algorithm to generate feature vectors to solve classification problem."
   ]
  },
  {
   "cell_type": "code",
   "execution_count": 11,
   "metadata": {},
   "outputs": [
    {
     "ename": "FileNotFoundError",
     "evalue": "[Errno 2] No such file or directory: 'cora.cites'",
     "output_type": "error",
     "traceback": [
      "\u001b[0;31m---------------------------------------------------------------------------\u001b[0m",
      "\u001b[0;31mFileNotFoundError\u001b[0m                         Traceback (most recent call last)",
      "\u001b[1;32m/home/steve/projects/Graph-Learning/GraphMLBook/5a_problems_ml_graphs.ipynb Cell 11\u001b[0m in \u001b[0;36m<cell line: 4>\u001b[0;34m()\u001b[0m\n\u001b[1;32m      <a href='vscode-notebook-cell://wsl%2Bubuntu-18.04/home/steve/projects/Graph-Learning/GraphMLBook/5a_problems_ml_graphs.ipynb#ch0000011vscode-remote?line=0'>1</a>\u001b[0m \u001b[39mimport\u001b[39;00m \u001b[39mnetworkx\u001b[39;00m \u001b[39mas\u001b[39;00m \u001b[39mnx\u001b[39;00m\n\u001b[1;32m      <a href='vscode-notebook-cell://wsl%2Bubuntu-18.04/home/steve/projects/Graph-Learning/GraphMLBook/5a_problems_ml_graphs.ipynb#ch0000011vscode-remote?line=1'>2</a>\u001b[0m \u001b[39mimport\u001b[39;00m \u001b[39mpandas\u001b[39;00m \u001b[39mas\u001b[39;00m \u001b[39mpd\u001b[39;00m\n\u001b[0;32m----> <a href='vscode-notebook-cell://wsl%2Bubuntu-18.04/home/steve/projects/Graph-Learning/GraphMLBook/5a_problems_ml_graphs.ipynb#ch0000011vscode-remote?line=3'>4</a>\u001b[0m edgelist \u001b[39m=\u001b[39m pd\u001b[39m.\u001b[39;49mread_csv(\u001b[39m\"\u001b[39;49m\u001b[39mcora.cites\u001b[39;49m\u001b[39m\"\u001b[39;49m, sep\u001b[39m=\u001b[39;49m\u001b[39m'\u001b[39;49m\u001b[39m\\t\u001b[39;49;00m\u001b[39m'\u001b[39;49m, header\u001b[39m=\u001b[39;49m\u001b[39mNone\u001b[39;49;00m, names\u001b[39m=\u001b[39;49m[\u001b[39m\"\u001b[39;49m\u001b[39mtarget\u001b[39;49m\u001b[39m\"\u001b[39;49m, \u001b[39m\"\u001b[39;49m\u001b[39msource\u001b[39;49m\u001b[39m\"\u001b[39;49m])\n\u001b[1;32m      <a href='vscode-notebook-cell://wsl%2Bubuntu-18.04/home/steve/projects/Graph-Learning/GraphMLBook/5a_problems_ml_graphs.ipynb#ch0000011vscode-remote?line=4'>5</a>\u001b[0m G \u001b[39m=\u001b[39m nx\u001b[39m.\u001b[39mfrom_pandas_edgelist(edgelist)\n",
      "File \u001b[0;32m~/projects/Graph-Learning/venv/lib/python3.9/site-packages/pandas/io/parsers.py:686\u001b[0m, in \u001b[0;36mread_csv\u001b[0;34m(filepath_or_buffer, sep, delimiter, header, names, index_col, usecols, squeeze, prefix, mangle_dupe_cols, dtype, engine, converters, true_values, false_values, skipinitialspace, skiprows, skipfooter, nrows, na_values, keep_default_na, na_filter, verbose, skip_blank_lines, parse_dates, infer_datetime_format, keep_date_col, date_parser, dayfirst, cache_dates, iterator, chunksize, compression, thousands, decimal, lineterminator, quotechar, quoting, doublequote, escapechar, comment, encoding, dialect, error_bad_lines, warn_bad_lines, delim_whitespace, low_memory, memory_map, float_precision)\u001b[0m\n\u001b[1;32m    633\u001b[0m     engine_specified \u001b[39m=\u001b[39m \u001b[39mFalse\u001b[39;00m\n\u001b[1;32m    635\u001b[0m kwds\u001b[39m.\u001b[39mupdate(\n\u001b[1;32m    636\u001b[0m     delimiter\u001b[39m=\u001b[39mdelimiter,\n\u001b[1;32m    637\u001b[0m     engine\u001b[39m=\u001b[39mengine,\n\u001b[0;32m   (...)\u001b[0m\n\u001b[1;32m    683\u001b[0m     skip_blank_lines\u001b[39m=\u001b[39mskip_blank_lines,\n\u001b[1;32m    684\u001b[0m )\n\u001b[0;32m--> 686\u001b[0m \u001b[39mreturn\u001b[39;00m _read(filepath_or_buffer, kwds)\n",
      "File \u001b[0;32m~/projects/Graph-Learning/venv/lib/python3.9/site-packages/pandas/io/parsers.py:452\u001b[0m, in \u001b[0;36m_read\u001b[0;34m(filepath_or_buffer, kwds)\u001b[0m\n\u001b[1;32m    449\u001b[0m _validate_names(kwds\u001b[39m.\u001b[39mget(\u001b[39m\"\u001b[39m\u001b[39mnames\u001b[39m\u001b[39m\"\u001b[39m, \u001b[39mNone\u001b[39;00m))\n\u001b[1;32m    451\u001b[0m \u001b[39m# Create the parser.\u001b[39;00m\n\u001b[0;32m--> 452\u001b[0m parser \u001b[39m=\u001b[39m TextFileReader(fp_or_buf, \u001b[39m*\u001b[39;49m\u001b[39m*\u001b[39;49mkwds)\n\u001b[1;32m    454\u001b[0m \u001b[39mif\u001b[39;00m chunksize \u001b[39mor\u001b[39;00m iterator:\n\u001b[1;32m    455\u001b[0m     \u001b[39mreturn\u001b[39;00m parser\n",
      "File \u001b[0;32m~/projects/Graph-Learning/venv/lib/python3.9/site-packages/pandas/io/parsers.py:946\u001b[0m, in \u001b[0;36mTextFileReader.__init__\u001b[0;34m(self, f, engine, **kwds)\u001b[0m\n\u001b[1;32m    943\u001b[0m \u001b[39mif\u001b[39;00m \u001b[39m\"\u001b[39m\u001b[39mhas_index_names\u001b[39m\u001b[39m\"\u001b[39m \u001b[39min\u001b[39;00m kwds:\n\u001b[1;32m    944\u001b[0m     \u001b[39mself\u001b[39m\u001b[39m.\u001b[39moptions[\u001b[39m\"\u001b[39m\u001b[39mhas_index_names\u001b[39m\u001b[39m\"\u001b[39m] \u001b[39m=\u001b[39m kwds[\u001b[39m\"\u001b[39m\u001b[39mhas_index_names\u001b[39m\u001b[39m\"\u001b[39m]\n\u001b[0;32m--> 946\u001b[0m \u001b[39mself\u001b[39;49m\u001b[39m.\u001b[39;49m_make_engine(\u001b[39mself\u001b[39;49m\u001b[39m.\u001b[39;49mengine)\n",
      "File \u001b[0;32m~/projects/Graph-Learning/venv/lib/python3.9/site-packages/pandas/io/parsers.py:1178\u001b[0m, in \u001b[0;36mTextFileReader._make_engine\u001b[0;34m(self, engine)\u001b[0m\n\u001b[1;32m   1176\u001b[0m \u001b[39mdef\u001b[39;00m \u001b[39m_make_engine\u001b[39m(\u001b[39mself\u001b[39m, engine\u001b[39m=\u001b[39m\u001b[39m\"\u001b[39m\u001b[39mc\u001b[39m\u001b[39m\"\u001b[39m):\n\u001b[1;32m   1177\u001b[0m     \u001b[39mif\u001b[39;00m engine \u001b[39m==\u001b[39m \u001b[39m\"\u001b[39m\u001b[39mc\u001b[39m\u001b[39m\"\u001b[39m:\n\u001b[0;32m-> 1178\u001b[0m         \u001b[39mself\u001b[39m\u001b[39m.\u001b[39m_engine \u001b[39m=\u001b[39m CParserWrapper(\u001b[39mself\u001b[39;49m\u001b[39m.\u001b[39;49mf, \u001b[39m*\u001b[39;49m\u001b[39m*\u001b[39;49m\u001b[39mself\u001b[39;49m\u001b[39m.\u001b[39;49moptions)\n\u001b[1;32m   1179\u001b[0m     \u001b[39melse\u001b[39;00m:\n\u001b[1;32m   1180\u001b[0m         \u001b[39mif\u001b[39;00m engine \u001b[39m==\u001b[39m \u001b[39m\"\u001b[39m\u001b[39mpython\u001b[39m\u001b[39m\"\u001b[39m:\n",
      "File \u001b[0;32m~/projects/Graph-Learning/venv/lib/python3.9/site-packages/pandas/io/parsers.py:2008\u001b[0m, in \u001b[0;36mCParserWrapper.__init__\u001b[0;34m(self, src, **kwds)\u001b[0m\n\u001b[1;32m   2005\u001b[0m \u001b[39mself\u001b[39m\u001b[39m.\u001b[39musecols, \u001b[39mself\u001b[39m\u001b[39m.\u001b[39musecols_dtype \u001b[39m=\u001b[39m _validate_usecols_arg(kwds[\u001b[39m\"\u001b[39m\u001b[39musecols\u001b[39m\u001b[39m\"\u001b[39m])\n\u001b[1;32m   2006\u001b[0m kwds[\u001b[39m\"\u001b[39m\u001b[39musecols\u001b[39m\u001b[39m\"\u001b[39m] \u001b[39m=\u001b[39m \u001b[39mself\u001b[39m\u001b[39m.\u001b[39musecols\n\u001b[0;32m-> 2008\u001b[0m \u001b[39mself\u001b[39m\u001b[39m.\u001b[39m_reader \u001b[39m=\u001b[39m parsers\u001b[39m.\u001b[39;49mTextReader(src, \u001b[39m*\u001b[39;49m\u001b[39m*\u001b[39;49mkwds)\n\u001b[1;32m   2009\u001b[0m \u001b[39mself\u001b[39m\u001b[39m.\u001b[39munnamed_cols \u001b[39m=\u001b[39m \u001b[39mself\u001b[39m\u001b[39m.\u001b[39m_reader\u001b[39m.\u001b[39munnamed_cols\n\u001b[1;32m   2011\u001b[0m passed_names \u001b[39m=\u001b[39m \u001b[39mself\u001b[39m\u001b[39m.\u001b[39mnames \u001b[39mis\u001b[39;00m \u001b[39mNone\u001b[39;00m\n",
      "File \u001b[0;32mpandas/_libs/parsers.pyx:382\u001b[0m, in \u001b[0;36mpandas._libs.parsers.TextReader.__cinit__\u001b[0;34m()\u001b[0m\n",
      "File \u001b[0;32mpandas/_libs/parsers.pyx:674\u001b[0m, in \u001b[0;36mpandas._libs.parsers.TextReader._setup_parser_source\u001b[0;34m()\u001b[0m\n",
      "\u001b[0;31mFileNotFoundError\u001b[0m: [Errno 2] No such file or directory: 'cora.cites'"
     ]
    }
   ],
   "source": [
    "import networkx as nx\n",
    "import pandas as pd\n",
    "\n",
    "edgelist = pd.read_csv(\"cora.cites\", sep='\\t', header=None, names=[\"target\", \"source\"])\n",
    "G = nx.from_pandas_edgelist(edgelist)\n",
    "#nx.draw_graph(G)"
   ]
  },
  {
   "cell_type": "code",
   "execution_count": null,
   "metadata": {},
   "outputs": [],
   "source": [
    "from stellargraph.data import EdgeSplitter\n",
    "\n",
    "# stellargraph to split datasaet\n",
    "# will have positive and negative instances\n",
    "edgeSplitter = EdgeSplitter(G)\n",
    "graph_test, samples_test, labels_test = edgeSplitter.train_test_split(\n",
    "    p=0.1, method=\"global\"\n",
    ")"
   ]
  },
  {
   "cell_type": "code",
   "execution_count": null,
   "metadata": {},
   "outputs": [],
   "source": [
    "edgeSplitter = EdgeSplitter(graph_test, G)\n",
    "graph_train, samples_train, labels_train = edgeSplitter.train_test_split(\n",
    "    p=0.1, method=\"global\"\n",
    ")"
   ]
  },
  {
   "cell_type": "code",
   "execution_count": null,
   "metadata": {},
   "outputs": [],
   "source": [
    "from node2vec import Node2Vec\n",
    "from node2vec.edges import HadamardEmbedder \n",
    "\n",
    "# generate embedding of each couple of nodes in training set\n",
    "node2vec = Node2Vec(graph_train)\n",
    "model = node2vec.fit()\n",
    "# hadamard to generate embedding of each couple of nodes in training set\n",
    "# values used as feature vectors for training of model\n",
    "edges_embs = HadamardEmbedder(keyed_vectors=model.wv)\n",
    "\n",
    "train_embeddings = [edges_embs[str(x[0]),str(x[1])] for x in samples_train]"
   ]
  },
  {
   "cell_type": "code",
   "execution_count": null,
   "metadata": {},
   "outputs": [],
   "source": [
    "# embeddings may change between runs?\n",
    "test_embeddings = [edges_embs[str(x[0]),str(x[1])] for x in samples_test]"
   ]
  },
  {
   "cell_type": "code",
   "execution_count": null,
   "metadata": {},
   "outputs": [],
   "source": [
    "from sklearn.ensemble import RandomForestClassifier\n",
    "# train with RF classifier\n",
    "rf = RandomForestClassifier(n_estimators=1000)\n",
    "rf.fit(train_embeddings, labels_train);"
   ]
  },
  {
   "cell_type": "code",
   "execution_count": null,
   "metadata": {},
   "outputs": [],
   "source": [
    "from sklearn import metrics\n",
    "\n",
    "y_pred = rf.predict(test_embeddings)\n",
    "\n",
    "print('Precision:', metrics.precision_score(labels_test, y_pred))\n",
    "print('Recall:', metrics.recall_score(labels_test, y_pred))\n",
    "print('F1-Score:', metrics.f1_score(labels_test, y_pred))"
   ]
  },
  {
   "cell_type": "markdown",
   "metadata": {},
   "source": [
    "## Detecting Meaningful Structures such as Communities"
   ]
  },
  {
   "cell_type": "markdown",
   "metadata": {},
   "source": []
  }
 ],
 "metadata": {
  "kernelspec": {
   "display_name": "Python 3.9.13 ('venv': venv)",
   "language": "python",
   "name": "python3"
  },
  "language_info": {
   "codemirror_mode": {
    "name": "ipython",
    "version": 3
   },
   "file_extension": ".py",
   "mimetype": "text/x-python",
   "name": "python",
   "nbconvert_exporter": "python",
   "pygments_lexer": "ipython3",
   "version": "3.9.13"
  },
  "orig_nbformat": 4,
  "vscode": {
   "interpreter": {
    "hash": "63383c2a68c062c071f75888e0186e64940c33bbd30fa02b08cd99ee71ee0b47"
   }
  }
 },
 "nbformat": 4,
 "nbformat_minor": 2
}
