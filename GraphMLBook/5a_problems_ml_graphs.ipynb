{
 "cells": [
  {
   "cell_type": "markdown",
   "metadata": {},
   "source": [
    "# 5: Problems with Machine Learning on Graphs\n",
    "Dive deeper into:\n",
    "-  Predicting missing links in a graph\n",
    "-  Detecting meaningful structures such as communities\n",
    "-  Detecting graph similarities and graph matching\n",
    "\n",
    "## Link Prediction\n",
    "Predict if or if not there is an edge between two nodes when this status is unknown, here we have $E = E_o \\cup E_u$ where $E_o$ are the observed links and edges $E_u$ are unknown links. For Link Prediction, we wish to exploit $E_o$ to estimate $E_u$. This is common in temporal graph systems where we want to estimate t+1; also is used widely in domains such as recommender systems or find hidden connections within networks. We have two families of approaches:\n",
    "-  Similarity-based\n",
    "-  Embedding-based\n",
    "\n",
    "### Similarity-based Methods\n",
    "Estimate a similarity function between each couple of nodes in a graph. Divide into sub-families:\n",
    "-  **Index-based**: Simple calculation of index based on neighboursof a given couple of nodes. Based on calculation of a simple index from information obtained by analysing the neighbours of two disconnected nodes...\n",
    "    -  Resource allocation index: Sum of 1/(Num neighbours for v nodes)\n",
    "\n"
   ]
  },
  {
   "cell_type": "code",
   "execution_count": null,
   "metadata": {},
   "outputs": [],
   "source": [
    "import networkx as nx\n",
    "edges = [[1,3], [2,3], [2,4], [4,5], [5,6], [5,7]]\n",
    "G = nx.from_edgelist(edges)\n",
    "preds = nx.resource_allocation_index(G, [(1,2), (2,5), (3,4)]) # second arg is a list of possible edges"
   ]
  },
  {
   "cell_type": "code",
   "execution_count": null,
   "metadata": {},
   "outputs": [],
   "source": [
    "list(preds) # p. of each edge is 0.5"
   ]
  },
  {
   "cell_type": "markdown",
   "metadata": {},
   "source": [
    "**Jaccard Coefficient**: Neighbours of nodes u and v; intersection over union"
   ]
  },
  {
   "cell_type": "code",
   "execution_count": null,
   "metadata": {},
   "outputs": [],
   "source": [
    "preds = nx.jaccard_coefficient(G, [(1,2), (2,5), (3,4)]) \n",
    "list(preds)"
   ]
  },
  {
   "cell_type": "markdown",
   "metadata": {},
   "source": [
    "There are other methods too such as *adamic_adar_index* and *preferential_attachment*.\n",
    "\n",
    "-  **Community-based**: Index computed using information about community to which a given couple of nodes belong first\n",
    "\n",
    "\n",
    "Community Common Neighbour: Computes number of common neighbours and adds this to number of common neighbours belonging to same community."
   ]
  },
  {
   "cell_type": "code",
   "execution_count": null,
   "metadata": {},
   "outputs": [],
   "source": [
    "import networkx as nx\n",
    "edges = [[1,3],[2,3],[2,4],[4,5],[5,6],[5,7]]\n",
    "G = nx.from_edgelist(edges)\n",
    "\n",
    "# assign community property\n",
    "G.nodes[1][\"community\"] = 0\n",
    "G.nodes[2][\"community\"] = 0\n",
    "G.nodes[3][\"community\"] = 0\n",
    "\n",
    "G.nodes[4][\"community\"] = 1\n",
    "G.nodes[5][\"community\"] = 1\n",
    "G.nodes[6][\"community\"] = 1\n",
    "G.nodes[7][\"community\"] = 1\n",
    "\n",
    "preds = nx.cn_soundarajan_hopcroft(G,[(1,2),(2,5),(3,4)])\n",
    "print(list(preds)) # output not in range (0,1)\n",
    "nx.draw(G)"
   ]
  },
  {
   "cell_type": "markdown",
   "metadata": {},
   "source": [
    "Community resource allocation: Merges information obtained from neighbours of nodes with community. Algorithm where we take sum of nodes and allocate 1 if belongs to same community, 0 otherwise and normalise by neighbours of node v"
   ]
  },
  {
   "cell_type": "code",
   "execution_count": null,
   "metadata": {},
   "outputs": [],
   "source": [
    "import networkx as nx\n",
    "edges = [[1,3],[2,3],[2,4],[4,5],[5,6],[5,7]]\n",
    "G = nx.from_edgelist(edges)\n",
    "\n",
    "G.nodes[1][\"community\"] = 0\n",
    "G.nodes[2][\"community\"] = 0\n",
    "G.nodes[3][\"community\"] = 0\n",
    "\n",
    "G.nodes[4][\"community\"] = 1\n",
    "G.nodes[5][\"community\"] = 1\n",
    "G.nodes[6][\"community\"] = 1\n",
    "G.nodes[7][\"community\"] = 1\n",
    "preds = nx.ra_index_soundarajan_hopcroft(G,[(1,2),(2,5),(3,4)])\n",
    "print(list(preds))\n",
    "nx.draw(G) # nodes in same community have a higher value in index"
   ]
  },
  {
   "cell_type": "markdown",
   "metadata": {},
   "source": [
    "Now we can look at more complex techniques based on ML; and edge embedding to perform prediction of unknown edges.\n",
    "\n",
    "### Embedding-based Mehods\n",
    "Here we approach link prediction as supervised classification. For a given graph, each couple of nodes is represented as a feature vector, and class label assigned to node couples. The whole process can be summarised into two main steps:\n",
    "1.  For each node of the graph G, its embedding vector is computed using a node2vec algorithm\n",
    "2.  For all the possible couple of nodes in the graph, the embedding is computed using edge2vec\n",
    "\n",
    "So we have a generic ML algorithm to generate feature vectors to solve classification problem."
   ]
  },
  {
   "cell_type": "code",
   "execution_count": null,
   "metadata": {},
   "outputs": [],
   "source": [
    "import networkx as nx\n",
    "import pandas as pd\n",
    "\n",
    "edgelist = pd.read_csv(\"cora.cites\", sep='\\t', header=None, names=[\"target\", \"source\"])\n",
    "G = nx.from_pandas_edgelist(edgelist)\n",
    "#nx.draw_graph(G)"
   ]
  },
  {
   "cell_type": "code",
   "execution_count": null,
   "metadata": {},
   "outputs": [],
   "source": [
    "from stellargraph.data import EdgeSplitter\n",
    "\n",
    "# stellargraph to split datasaet\n",
    "# will have positive and negative instances\n",
    "edgeSplitter = EdgeSplitter(G)\n",
    "graph_test, samples_test, labels_test = edgeSplitter.train_test_split(\n",
    "    p=0.1, method=\"global\"\n",
    ")"
   ]
  },
  {
   "cell_type": "code",
   "execution_count": null,
   "metadata": {},
   "outputs": [],
   "source": [
    "edgeSplitter = EdgeSplitter(graph_test, G)\n",
    "graph_train, samples_train, labels_train = edgeSplitter.train_test_split(\n",
    "    p=0.1, method=\"global\"\n",
    ")"
   ]
  },
  {
   "cell_type": "code",
   "execution_count": null,
   "metadata": {},
   "outputs": [],
   "source": [
    "from node2vec import Node2Vec\n",
    "from node2vec.edges import HadamardEmbedder \n",
    "\n",
    "# generate embedding of each couple of nodes in training set\n",
    "node2vec = Node2Vec(graph_train)\n",
    "model = node2vec.fit()\n",
    "# hadamard to generate embedding of each couple of nodes in training set\n",
    "# values used as feature vectors for training of model\n",
    "edges_embs = HadamardEmbedder(keyed_vectors=model.wv)\n",
    "\n",
    "train_embeddings = [edges_embs[str(x[0]),str(x[1])] for x in samples_train]"
   ]
  },
  {
   "cell_type": "code",
   "execution_count": null,
   "metadata": {},
   "outputs": [],
   "source": [
    "# embeddings may change between runs?\n",
    "test_embeddings = [edges_embs[str(x[0]),str(x[1])] for x in samples_test]"
   ]
  },
  {
   "cell_type": "code",
   "execution_count": null,
   "metadata": {},
   "outputs": [],
   "source": [
    "from sklearn.ensemble import RandomForestClassifier\n",
    "# train with RF classifier\n",
    "rf = RandomForestClassifier(n_estimators=1000)\n",
    "rf.fit(train_embeddings, labels_train);"
   ]
  },
  {
   "cell_type": "code",
   "execution_count": null,
   "metadata": {},
   "outputs": [],
   "source": [
    "from sklearn import metrics\n",
    "\n",
    "y_pred = rf.predict(test_embeddings)\n",
    "\n",
    "print('Precision:', metrics.precision_score(labels_test, y_pred))\n",
    "print('Recall:', metrics.recall_score(labels_test, y_pred))\n",
    "print('F1-Score:', metrics.f1_score(labels_test, y_pred))"
   ]
  },
  {
   "cell_type": "markdown",
   "metadata": {},
   "source": [
    "## Detecting Meaningful Structures such as Communities\n",
    "How to identify clusters and communities within graphs; can be used eg. in text mining to identify emerging topics or cluster documents that refer to single events/topics. We want so that nodes belonging to the same community are tightly connected to each other and weakly connected with nodes from other communities; belong to categories:\n",
    "-  Non-overlapping: Community detection algorithms that provide one-to-one association between nodes and communities, so no overlapping nodes between communities\n",
    "-  Overlapping: Allow node to be in more than one community; so we have overlapping communities\n",
    "\n",
    "### Embedding-based community detection\n",
    "Shallow clustering techniques such as node embeddings; project to vector space where we can measure distance to gauge similarity. Standard K-means, Gaussian Mixture, DBSCAN.."
   ]
  },
  {
   "cell_type": "code",
   "execution_count": 1,
   "metadata": {},
   "outputs": [],
   "source": [
    "import networkx as nx\n",
    "G = nx.barbell_graph(m1=10, m2=4)"
   ]
  },
  {
   "cell_type": "code",
   "execution_count": 4,
   "metadata": {},
   "outputs": [
    {
     "name": "stdout",
     "output_type": "stream",
     "text": [
      "SVD error (low rank): 0.052092\n"
     ]
    }
   ],
   "source": [
    "from gem.embedding.hope import HOPE\n",
    "gf = HOPE(d=4, beta=0.01) # get dense representation\n",
    "gf.learn_embedding(G)\n",
    "embeddings = gf.get_embedding()"
   ]
  },
  {
   "cell_type": "code",
   "execution_count": 5,
   "metadata": {},
   "outputs": [],
   "source": [
    "from sklearn.mixture import GaussianMixture\n",
    "gm = GaussianMixture(n_components=3, random_state=0)\n",
    "labels = gm.fit_predict(embeddings)"
   ]
  },
  {
   "cell_type": "code",
   "execution_count": 10,
   "metadata": {},
   "outputs": [
    {
     "data": {
      "image/png": "[encoded data removed]",
      "text/plain": [
       "<Figure size 432x288 with 1 Axes>"
      ]
     },
     "metadata": {},
     "output_type": "display_data"
    }
   ],
   "source": [
    "import matplotlib.pyplot as plt\n",
    "%matplotlib inline\n",
    "\n",
    "colors = [\"blue\", \"green\", \"red\"]\n",
    "nx.draw_spring(G, node_color=[colors[label] for label in labels]);\n",
    "# we see correct grouping into three different communities; reflecting internal graph structure"
   ]
  },
  {
   "cell_type": "markdown",
   "metadata": {},
   "source": [
    "### Spectral Methods and Matrix Factorisation\n",
    "We can also process the adjacency matrix or laplacian matrix that represents the connectivity properties of graph. Can consider eigenvectors of Laplacian matrix etc.. We can consider spectral clustering as a special case of embedding-based community deection algorithm, where embedding method is called spectral embedding, obtained by considering first k-eigenvectors of laplacian matrix.\n",
    "-  Laplacian Matrix: Graph in Matrix representation\n",
    "-  Eigenvector: Ax = lambda.x; where lambda is the eigenvalue of matrix A and X is the eigenvector of A associated with lambda."
   ]
  },
  {
   "cell_type": "code",
   "execution_count": 12,
   "metadata": {},
   "outputs": [],
   "source": [
    "from communities.algorithms import spectral_clustering\n",
    "import numpy as np\n",
    "\n",
    "adj = np.array(nx.adjacency_matrix(G).todense())\n",
    "communities = spectral_clustering(adj, k=2)"
   ]
  },
  {
   "cell_type": "markdown",
   "metadata": {},
   "source": [
    "The adjacency matrix/Laplacian can be decomposed with matrix factorisation techniques such as singular value decomposition (SVD) or non-negative matrix factorisation (NMF). E.g."
   ]
  },
  {
   "cell_type": "code",
   "execution_count": 15,
   "metadata": {},
   "outputs": [
    {
     "name": "stdout",
     "output_type": "stream",
     "text": [
      "[[8.24699222e-01 0.00000000e+00]\n",
      " [8.24699222e-01 0.00000000e+00]\n",
      " [8.24699222e-01 0.00000000e+00]\n",
      " [8.24699222e-01 0.00000000e+00]\n",
      " [8.24699222e-01 0.00000000e+00]\n",
      " [8.24699222e-01 0.00000000e+00]\n",
      " [8.24699222e-01 0.00000000e+00]\n",
      " [8.24699222e-01 0.00000000e+00]\n",
      " [8.24699222e-01 0.00000000e+00]\n",
      " [8.34061214e-01 8.50135597e-06]\n",
      " [9.37256747e-02 1.67595391e-04]\n",
      " [1.05323940e-02 1.51534609e-03]\n",
      " [1.18354664e-03 1.34998499e-02]\n",
      " [1.31541999e-04 1.20141650e-01]\n",
      " [7.25398817e-06 1.06914689e+00]\n",
      " [0.00000000e+00 1.05714633e+00]\n",
      " [0.00000000e+00 1.05714633e+00]\n",
      " [0.00000000e+00 1.05714633e+00]\n",
      " [0.00000000e+00 1.05714633e+00]\n",
      " [0.00000000e+00 1.05714633e+00]\n",
      " [0.00000000e+00 1.05714633e+00]\n",
      " [0.00000000e+00 1.05714633e+00]\n",
      " [0.00000000e+00 1.05714633e+00]\n",
      " [0.00000000e+00 1.05714633e+00]]\n",
      "[{0, 1, 2, 3, 4, 5, 6, 7, 8, 9, 10, 11, 12, 13, 14}, {9, 10, 11, 12, 13, 14, 15, 16, 17, 18, 19, 20, 21, 22, 23}]\n"
     ]
    }
   ],
   "source": [
    "from sklearn.decomposition import NMF\n",
    "\n",
    "nmf = NMF(n_components=2)\n",
    "score = nmf.fit_transform(adj)\n",
    "print(score)\n",
    "communities = [set(np.where(score[:,ith]>0)[0]) for ith in range(2)] # threshold to belong to community set at 0\n",
    "print(communities) # these are overlapping community detection algs; communities may belong to more than one community"
   ]
  },
  {
   "cell_type": "markdown",
   "metadata": {},
   "source": [
    "### Probabilty Models\n",
    "**Stochastic Block Model** assumes that nodes can be partitioned into *K* disjoint communities and each community has a defined probability of being connected to another. For a network of *n* nodes and *K* communities, the generative model is parameterised with:\n",
    "- **Membership Matrix**: M, which is a n*K matrix and represents the probability a given node belongs to class k\n",
    "- **Probability Matrix:** B, which is K*K and represents the edge probability between a node belonging to community i and a node belonging to community j\n",
    "\n",
    "In the SBM we can invert the formulation and reduce community detection problem to posterior estimation of membership matrix M from matrix A via maximum likelihood estimation. This mode, and the Erdos-Renyi model has the advantage of describing a relationship between communities, thus identifying community-community relationships. \n",
    "\n",
    "### Cost Function Minimization\n",
    "Optimise a given cost function that represents a graph structure and penalises edges across communities vs edges within communities. So build a measure of quality for a community then optimise node association to communities to maximise quality of partitioning. We have a cost that is associated with having a link between two nodes of different communities.\n",
    "\n",
    "$\\sum\\limits_{i,j \\in E} A$<sub>$i,j$</sub>$(1-s_is_j)$\n",
    "\n",
    "So:\n",
    "-  If two connected nodes $A$<sub>$i,j$</sub> belong to different communities, $s_is_j$=-1; the contribution provided by the edge is 0\n",
    "-  If not connected, $A$<sub>$i,j$</sub> = 0\n",
    "-  If belong to same community,  $A$<sub>$i,j$</sub>=1 as $s_is_j$=0\n",
    "\n",
    "Therefore we want to find the best community assignment to minimise the preceeding function; however this only applies to binary community detection thus is limited in approach.\n",
    "\n",
    "Another popular algorithm is the Louvain method (named after the university) aiming to maximise modularity and iteratively computes the following steps\n",
    "1.  **Modularity optimisation**: Nodes are swept iteratively, for each node we compute change of modularity $Q$ there would be if the node were to be assigned to each community of its neighbours. Once all $\\triangle Q$ are computed, the node is assigned to the community that provides the largest increase. If no increase than the community it is in, then the node remains. This optimisation process continues until no changes are induced.\n",
    "2.  **Node aggregation**: Build new network by grouping all nodes in the same community and connect communities using edges that result from sum of all edges across the two communities. Edges within communities are accounted for by self-loops that have weights from the sum of all edge weights belonging to the community."
   ]
  },
  {
   "cell_type": "code",
   "execution_count": null,
   "metadata": {},
   "outputs": [],
   "source": [
    "# communities library has an implementation\n",
    "from commnities.algorithms import louvain_method\n",
    "communities = louvain_method(adj)\n",
    "\n",
    "# can also use Girvan-Newman algorithm; based on iteratively removing edges that have highest betweenness centrality\n",
    "# to create connected component communities; this can be quite expensive and scales n.m^2; where m is num edges\n",
    "# and 2 is num nodes so shouldn't be used when dealing with large datasets\n",
    "from communities.algorithms import girvan_newman\n",
    "communities = girvan_newman(adj, n=2) "
   ]
  },
  {
   "cell_type": "markdown",
   "metadata": {},
   "source": [
    "### Detecting Graph Similarities and Graph Matching\n",
    "Can use to say if an object should/should not be a member of a group. There are several metrics, such as Euclidean, Manhattan distance and cosine similarity etc.. But these can struggle on non-Euclidean structuressuch as graphs. Algorithmic approaches can be computationally prohibitive, so ML comes into play here. Sowe have three main categories:\n",
    "-  Graph embedding-based methods: Embedding techniques to obtain embedded representation of graph and exploit representation to learn similarity function\n",
    "    -  E.g. DeepWalk and Node2Vec\n",
    "-  Graph kernel-based methods: Define similarity between graphs by measuring similarity of constituting substructures\n",
    "    -  E.g. Deep Graph Kernel\n",
    "-  Graph Neural Network: Jointly learn embedded representation and similarity function\n",
    "    -  Can better leverage graph features for specific learning task; trained to estimate proximity distance between two graphs."
   ]
  },
  {
   "cell_type": "code",
   "execution_count": null,
   "metadata": {},
   "outputs": [],
   "source": []
  }
 ],
 "metadata": {
  "environment": {
   "name": "tf2-2-3-gpu.2-3.m55",
   "type": "gcloud",
   "uri": "gcr.io/deeplearning-platform-release/tf2-2-3-gpu.2-3:m55"
  },
  "kernelspec": {
   "display_name": "Python 3",
   "language": "python",
   "name": "python3"
  },
  "language_info": {
   "codemirror_mode": {
    "name": "ipython",
    "version": 3
   },
   "file_extension": ".py",
   "mimetype": "text/x-python",
   "name": "python",
   "nbconvert_exporter": "python",
   "pygments_lexer": "ipython3",
   "version": "3.9.13"
  },
  "vscode": {
   "interpreter": {
    "hash": "63383c2a68c062c071f75888e0186e64940c33bbd30fa02b08cd99ee71ee0b47"
   }
  }
 },
 "nbformat": 4,
 "nbformat_minor": 4
}
