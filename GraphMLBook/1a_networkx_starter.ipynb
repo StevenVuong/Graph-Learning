{
 "cells": [
  {
   "cell_type": "markdown",
   "id": "344c6515-27ec-4b0f-b5cd-9cdd7dcc4d72",
   "metadata": {},
   "source": [
    "# 1) Undirected Graphs"
   ]
  },
  {
   "cell_type": "code",
   "execution_count": 81,
   "id": "87d92478-d205-4925-9c19-ce347d6b4a99",
   "metadata": {},
   "outputs": [],
   "source": [
    "import networkx as nx\n",
    "\n",
    "G = nx.Graph()\n",
    "V = {'Dublin', 'Paris', 'Milan', 'Rome'}\n",
    "E = [('Milan', 'Dublin'), ('Milan', 'Paris'), ('Paris', 'Dublin'), ('Milan', 'Rome')]\n",
    "\n",
    "G.add_nodes_from(V)\n",
    "G.add_edges_from(E)"
   ]
  },
  {
   "cell_type": "code",
   "execution_count": 82,
   "id": "ca67e609-fbf3-45ee-a772-60be7acb40a6",
   "metadata": {},
   "outputs": [
    {
     "data": {
      "image/png": "[encoded data removed]",
      "text/plain": [
       "<Figure size 432x288 with 1 Axes>"
      ]
     },
     "metadata": {},
     "output_type": "display_data"
    }
   ],
   "source": [
    "nx.draw(G, with_labels=True)"
   ]
  },
  {
   "cell_type": "code",
   "execution_count": 83,
   "id": "f8824ceb-df57-4c53-a68e-3935f6fa3636",
   "metadata": {},
   "outputs": [
    {
     "name": "stdout",
     "output_type": "stream",
     "text": [
      "V = ['Dublin', 'Milan', 'Rome', 'Paris']\n",
      "E = [('Dublin', 'Milan'), ('Dublin', 'Paris'), ('Milan', 'Paris'), ('Milan', 'Rome')]\n"
     ]
    }
   ],
   "source": [
    "print(f\"V = {G.nodes}\")\n",
    "print(f\"E = {G.edges}\")"
   ]
  },
  {
   "cell_type": "code",
   "execution_count": 84,
   "id": "b869b6dd-a5a6-4965-82c1-001756a8ce57",
   "metadata": {},
   "outputs": [
    {
     "name": "stdout",
     "output_type": "stream",
     "text": [
      "Graph Order: 4\n",
      "Graph Size: 4\n",
      "Degree of nodes: {'Dublin': 2, 'Milan': 3, 'Rome': 1, 'Paris': 2}\n",
      "Neighbours for nodes {'Dublin': ['Milan', 'Paris'], 'Milan': ['Dublin', 'Paris', 'Rome'], 'Rome': ['Milan'], 'Paris': ['Milan', 'Dublin']}\n"
     ]
    }
   ],
   "source": [
    "print(f\"Graph Order: {G.number_of_nodes()}\")\n",
    "print(f\"Graph Size: {G.number_of_edges()}\")\n",
    "print(f\"Degree of nodes: { {v: G.degree(v) for v in G.nodes} }\")\n",
    "print(f\"Neighbours for nodes { {v: list(G.neighbors(v)) for v in G.nodes} }\")"
   ]
  },
  {
   "cell_type": "code",
   "execution_count": 85,
   "id": "1ef86514-f757-4f9e-aeb0-37cf5c245c52",
   "metadata": {},
   "outputs": [
    {
     "name": "stdout",
     "output_type": "stream",
     "text": [
      "Nodes: ['Dublin', 'Milan', 'Rome', 'Paris']\n",
      "Edges: [('Dublin', 'Milan'), ('Dublin', 'Paris'), ('Milan', 'Paris'), ('Milan', 'Rome')]\n"
     ]
    }
   ],
   "source": [
    "ego_graph_milan = nx.ego_graph(G, \"Milan\")\n",
    "print(f\"Nodes: {ego_graph_milan.nodes}\")\n",
    "print(f\"Edges: {ego_graph_milan.edges}\")"
   ]
  },
  {
   "cell_type": "code",
   "execution_count": 86,
   "id": "59215c09-31be-4e8c-b694-96a1e8d2da28",
   "metadata": {},
   "outputs": [
    {
     "name": "stdout",
     "output_type": "stream",
     "text": [
      "V = ['Dublin', 'Milan', 'Rome', 'Paris', 'London', 'Madrid']\n",
      "E = [('Dublin', 'Milan'), ('Dublin', 'Paris'), ('Milan', 'Paris'), ('Milan', 'Rome'), ('Rome', 'London'), ('Paris', 'Madrid')]\n"
     ]
    }
   ],
   "source": [
    "# Add new nodes and edges\n",
    "new_nodes = {'London', 'Madrid'}\n",
    "new_edges = {('London', 'Rome'), ('Madrid', 'Paris')}\n",
    "G.add_nodes_from(new_nodes)\n",
    "G.add_edges_from(new_edges)\n",
    "print(f\"V = {G.nodes}\")\n",
    "print(f\"E = {G.edges}\")"
   ]
  },
  {
   "cell_type": "code",
   "execution_count": 87,
   "id": "b51866f1-e881-4249-a978-440bbe7b7228",
   "metadata": {},
   "outputs": [
    {
     "name": "stdout",
     "output_type": "stream",
     "text": [
      "V = ['Dublin', 'Milan', 'Rome', 'Paris']\n",
      "E = [('Dublin', 'Milan'), ('Dublin', 'Paris'), ('Milan', 'Paris'), ('Milan', 'Rome')]\n"
     ]
    }
   ],
   "source": [
    "node_remove = {'London', 'Madrid'}\n",
    "G.remove_nodes_from(node_remove)\n",
    "print(f\"V = {G.nodes}\")\n",
    "print(f\"E = {G.edges}\")"
   ]
  },
  {
   "cell_type": "markdown",
   "id": "e3153e87-7989-4593-b1f5-c95b86fc6443",
   "metadata": {},
   "source": [
    "The above also automatically removes edges that contain the removed nodes from the edge list."
   ]
  },
  {
   "cell_type": "code",
   "execution_count": 88,
   "id": "c2181b9d-04d9-4935-a0f5-0839f21dc67f",
   "metadata": {},
   "outputs": [
    {
     "name": "stdout",
     "output_type": "stream",
     "text": [
      "V = ['Dublin', 'Milan', 'Rome', 'Paris']\n",
      "E = [('Dublin', 'Paris'), ('Milan', 'Rome')]\n"
     ]
    }
   ],
   "source": [
    "node_edges = [('Milan', 'Dublin'), ('Milan', 'Paris')]\n",
    "G.remove_edges_from(node_edges)\n",
    "print(f\"V = {G.nodes}\")\n",
    "print(f\"E = {G.edges}\")"
   ]
  },
  {
   "cell_type": "markdown",
   "id": "b238a1cb-0104-49e6-8455-c4d578811452",
   "metadata": {},
   "source": [
    "# 2) Directed Edges\n",
    "\n",
    "-  (v<sub>k</sub>, v<sub>w</sub>) means node v<sub>k</sub> goes into v<sub>w</sub>, which is different from (v<sub>w</sub>, v<sub>k</sub>)\n",
    "-  (v<sub>w</sub>, v<sub>k</sub>) means node v<sub>w</sub> will go into v<sub>k</sub>.\n",
    "    -  v<sub>w</sub> is called the *head*\n",
    "    -  v<sub>k</sub> is called the *tail*\n",
    "  \n",
    "-  **Indegree**: Number of heads adjacent to head end of v. *deg*<sup>-</sup>(v)\n",
    "    -  Number of edges going inwards to a node\n",
    "-  **OutDegree**: Number of tail ends adjacent to v. *deg*<sup>+</sup>(v)\n",
    "    -  Number of edges going outwards from a node"
   ]
  },
  {
   "cell_type": "code",
   "execution_count": 89,
   "id": "72fcdf96-f3eb-4974-a3c7-a5794cda0bc9",
   "metadata": {},
   "outputs": [],
   "source": [
    "G = nx.DiGraph() # for directed graphs\n",
    "V = {'Dublin', 'Paris', 'Milan', 'Rome'}\n",
    "E = [('Milan', 'Dublin'), ('Paris', 'Milan'), ('Paris', 'Dublin'), ('Milan', 'Rome')]\n",
    "G.add_nodes_from(V)\n",
    "G.add_edges_from(E)"
   ]
  },
  {
   "cell_type": "code",
   "execution_count": 90,
   "id": "d0925d96-70c2-45ec-bcfe-3984088430a4",
   "metadata": {},
   "outputs": [
    {
     "data": {
      "image/png": "[encoded data removed]",
      "text/plain": [
       "<Figure size 432x288 with 1 Axes>"
      ]
     },
     "metadata": {},
     "output_type": "display_data"
    }
   ],
   "source": [
    "nx.draw(G, with_labels=True)"
   ]
  },
  {
   "cell_type": "code",
   "execution_count": 91,
   "id": "7da30997-9689-43a5-8146-ad6c5e4447f8",
   "metadata": {},
   "outputs": [
    {
     "name": "stdout",
     "output_type": "stream",
     "text": [
      "Indegree for nodes: {'Dublin': 2, 'Milan': 1, 'Rome': 1, 'Paris': 0}\n",
      "Outdegree for nodes: {'Dublin': 0, 'Milan': 2, 'Rome': 0, 'Paris': 2}\n"
     ]
    }
   ],
   "source": [
    "print(f\"Indegree for nodes: { {v: G.in_degree(v) for v in G.nodes} }\")\n",
    "print(f\"Outdegree for nodes: { {v: G.out_degree(v) for v in G.nodes} }\")"
   ]
  },
  {
   "cell_type": "markdown",
   "id": "65612aaa-5160-4287-83fd-96e928944cfb",
   "metadata": {},
   "source": [
    "# Multigraph\n",
    "Generalisation which allows multiple edges to have same pair of start and end nodes. \n",
    "\n",
    "**multigraph G** defined as `G=(V,E)` where V is a set of nodes and E is a multi-set (a set allowing multiple instances for each of its elements) of edges. This can be a **directed multigraph** if E is a multi-set of ordered couples, otherwise is **undirected multigraph** if E is a multi-set of two-sets."
   ]
  },
  {
   "cell_type": "code",
   "execution_count": 92,
   "id": "14f1f91f-908a-49a4-921b-6f2dde29f78e",
   "metadata": {},
   "outputs": [
    {
     "data": {
      "text/plain": [
       "[0, 1, 0, 0, 0, 1]"
      ]
     },
     "execution_count": 92,
     "metadata": {},
     "output_type": "execute_result"
    }
   ],
   "source": [
    "directed_multi_graph = nx.MultiDiGraph()\n",
    "undirected_multi_graph = nx.MultiGraph()\n",
    "v = {'Dublin', 'Paris', 'Milan', 'Rome'}\n",
    "E = [('Milan', 'Dublin'), ('Milan', 'Dublin'), ('Paris', 'Milan'), ('Paris', 'Dublin'), ('Milan', 'Rome'), ('Milan', 'Rome')]\n",
    "directed_multi_graph.add_nodes_from(V)\n",
    "undirected_multi_graph.add_nodes_from(V)\n",
    "directed_multi_graph.add_edges_from(E)\n",
    "undirected_multi_graph.add_edges_from(E)"
   ]
  },
  {
   "cell_type": "code",
   "execution_count": 93,
   "id": "61c20a2d-9698-4aa6-a2c1-4e1c22576dbf",
   "metadata": {},
   "outputs": [
    {
     "data": {
      "image/png": "[encoded data removed]",
      "text/plain": [
       "<Figure size 432x288 with 1 Axes>"
      ]
     },
     "metadata": {},
     "output_type": "display_data"
    }
   ],
   "source": [
    "nx.draw(directed_multi_graph, with_labels=True)"
   ]
  },
  {
   "cell_type": "code",
   "execution_count": 94,
   "id": "9f1d28f2-2408-4961-a7f5-fa4bf19e3a91",
   "metadata": {},
   "outputs": [
    {
     "data": {
      "image/png": "[encoded data removed]",
      "text/plain": [
       "<Figure size 432x288 with 1 Axes>"
      ]
     },
     "metadata": {},
     "output_type": "display_data"
    }
   ],
   "source": [
    "nx.draw(undirected_multi_graph, with_labels=True)"
   ]
  },
  {
   "cell_type": "markdown",
   "id": "5a4c46fb-f3a0-4472-9368-99a9725a5e67",
   "metadata": {},
   "source": [
    "## Weighted Edges\n",
    "\n",
    "-  **edge-weighted graph** (weighted graph) G is defined as *G=(V,E,w)* where V is a set of nodes, E is a set of edges, and w:E -> ${\\rm I\\!R}$ is a weighted function that assigns at each edge e $ \\in $ E a weight expressed as a real number.\n",
    "-  **node-weighted graph** G is defined as *G=(V,E,w)* where V is a set of nodes, E is a set of edges and w:V -> ${\\rm I\\!R}$ is the weighted function that assigns each node v $ \\in $ V a weight expressed as a real number.\n",
    "\n",
    "Note:\n",
    "-  If E is a set of ordered couples, then we call it a **directed weighted graph**\n",
    "-  If E is a set of two-sets, then we call it a **undirected weighted graph**\n",
    "-  If E is a multi-set, then we call it a **weighted multigraph (directed weighted multigraph)**\n",
    "-  If E is a multi-set of ordered couples, it is an **undirected weighted multigraph**"
   ]
  },
  {
   "cell_type": "code",
   "execution_count": 95,
   "id": "778bbbd6-0313-4360-b797-bb14f75f5f24",
   "metadata": {},
   "outputs": [],
   "source": [
    "# Generate a directed weighted graph\n",
    "G = nx.DiGraph()\n",
    "V = {'Dublin', 'Paris', 'Milan', 'Rome'}\n",
    "E = [('Milan', 'Dublin', 19), ('Paris', 'Milan', 8), ('Paris', 'Dublin', 11), ('Milan', 'Rome', 5)]\n",
    "G.add_nodes_from(V)\n",
    "G.add_weighted_edges_from(E)"
   ]
  },
  {
   "cell_type": "code",
   "execution_count": 96,
   "id": "0bc3557e-f913-4cad-9529-b89ea890f76d",
   "metadata": {},
   "outputs": [
    {
     "data": {
      "text/plain": [
       "{('Milan', 'Dublin'): Text(-0.3271822705316385, 0.09051482136147249, '19'),\n",
       " ('Milan', 'Rome'): Text(0.4719203590009894, -0.1305564534148253, '5'),\n",
       " ('Paris', 'Milan'): Text(-0.20089737046737224, 0.05557810247494181, '8'),\n",
       " ('Paris', 'Dublin'): Text(-0.47192035900098944, 0.13055645341482536, '11')}"
      ]
     },
     "execution_count": 96,
     "metadata": {},
     "output_type": "execute_result"
    },
    {
     "data": {
      "image/png": "[encoded data removed]",
      "text/plain": [
       "<Figure size 432x288 with 1 Axes>"
      ]
     },
     "metadata": {},
     "output_type": "display_data"
    }
   ],
   "source": [
    "pos = nx.spring_layout(G, seed=7)  # positions for all nodes - seed for reproducibility\n",
    "\n",
    "nx.draw_networkx_nodes(G, pos, node_size=600)\n",
    "nx.draw_networkx_edges(G, pos, edgelist=G.edges, width=2)\n",
    "nx.draw_networkx_labels(G, pos, font_size=10, font_family=\"sans-serif\")\n",
    "edge_labels = nx.get_edge_attributes(G, \"weight\")\n",
    "nx.draw_networkx_edge_labels(G, pos, edge_labels)"
   ]
  },
  {
   "cell_type": "markdown",
   "id": "434b8206-d27a-453b-b337-0d7a8e28aea5",
   "metadata": {},
   "source": [
    "### Bipartite Graphs"
   ]
  },
  {
   "cell_type": "code",
   "execution_count": 97,
   "id": "423681b1-3c97-4156-92d7-3852d17893ff",
   "metadata": {},
   "outputs": [
    {
     "data": {
      "text/html": [
       "<div>\n",
       "<style scoped>\n",
       "    .dataframe tbody tr th:only-of-type {\n",
       "        vertical-align: middle;\n",
       "    }\n",
       "\n",
       "    .dataframe tbody tr th {\n",
       "        vertical-align: top;\n",
       "    }\n",
       "\n",
       "    .dataframe thead th {\n",
       "        text-align: right;\n",
       "    }\n",
       "</style>\n",
       "<table border=\"1\" class=\"dataframe\">\n",
       "  <thead>\n",
       "    <tr style=\"text-align: right;\">\n",
       "      <th></th>\n",
       "      <th>source</th>\n",
       "      <th>target</th>\n",
       "    </tr>\n",
       "  </thead>\n",
       "  <tbody>\n",
       "    <tr>\n",
       "      <th>0</th>\n",
       "      <td>2</td>\n",
       "      <td>1</td>\n",
       "    </tr>\n",
       "    <tr>\n",
       "      <th>8</th>\n",
       "      <td>2</td>\n",
       "      <td>7</td>\n",
       "    </tr>\n",
       "  </tbody>\n",
       "</table>\n",
       "</div>"
      ],
      "text/plain": [
       "   source  target\n",
       "0       2       1\n",
       "8       2       7"
      ]
     },
     "metadata": {},
     "output_type": "display_data"
    }
   ],
   "source": [
    "import pandas as pd\n",
    "import numpy as np\n",
    "\n",
    "n_nodes = 10\n",
    "n_edges = 12\n",
    "bottom_nodes = [ith for ith in range(n_nodes) if ith % 2 == 0]\n",
    "top_nodes = [ith for ith in range(n_nodes) if ith % 2 == 1]\n",
    "iter_edges = zip(\n",
    "    np.random.choice(bottom_nodes, n_edges),\n",
    "    np.random.choice(top_nodes, n_edges)\n",
    ")\n",
    "edges = pd.DataFrame([{\"source\": a, \"target\": b} for a, b in iter_edges])\n",
    "display(edges.sample(2))\n",
    "\n",
    "B = nx.Graph()\n",
    "B.add_nodes_from(bottom_nodes, bipartite=0)\n",
    "B.add_nodes_from(top_nodes, bipartite=1)\n",
    "B.add_edges_from([tuple(x) for x in edges.values])"
   ]
  },
  {
   "cell_type": "code",
   "execution_count": 98,
   "id": "ee7c306a-bb72-4983-8c9d-a76cc4793f52",
   "metadata": {},
   "outputs": [
    {
     "data": {
      "image/png": "[encoded data removed]",
      "text/plain": [
       "<Figure size 432x288 with 1 Axes>"
      ]
     },
     "metadata": {},
     "output_type": "display_data"
    }
   ],
   "source": [
    "from networkx.drawing.layout import bipartite_layout\n",
    "pos = bipartite_layout(B, bottom_nodes)\n",
    "nx.draw_networkx(B, pos=pos)"
   ]
  },
  {
   "cell_type": "markdown",
   "id": "977c33e9-77ff-4c5d-abca-487ac9f0ba80",
   "metadata": {},
   "source": [
    "### Representing Edges"
   ]
  },
  {
   "cell_type": "code",
   "execution_count": 99,
   "id": "1b2e81fd-d036-43e5-8d4a-a5780a874356",
   "metadata": {},
   "outputs": [
    {
     "data": {
      "text/html": [
       "<div>\n",
       "<style scoped>\n",
       "    .dataframe tbody tr th:only-of-type {\n",
       "        vertical-align: middle;\n",
       "    }\n",
       "\n",
       "    .dataframe tbody tr th {\n",
       "        vertical-align: top;\n",
       "    }\n",
       "\n",
       "    .dataframe thead th {\n",
       "        text-align: right;\n",
       "    }\n",
       "</style>\n",
       "<table border=\"1\" class=\"dataframe\">\n",
       "  <thead>\n",
       "    <tr style=\"text-align: right;\">\n",
       "      <th></th>\n",
       "      <th>Dublin</th>\n",
       "      <th>Milan</th>\n",
       "      <th>Rome</th>\n",
       "      <th>Paris</th>\n",
       "    </tr>\n",
       "  </thead>\n",
       "  <tbody>\n",
       "    <tr>\n",
       "      <th>Dublin</th>\n",
       "      <td>0.0</td>\n",
       "      <td>0.0</td>\n",
       "      <td>0.0</td>\n",
       "      <td>0.0</td>\n",
       "    </tr>\n",
       "    <tr>\n",
       "      <th>Milan</th>\n",
       "      <td>19.0</td>\n",
       "      <td>0.0</td>\n",
       "      <td>5.0</td>\n",
       "      <td>0.0</td>\n",
       "    </tr>\n",
       "    <tr>\n",
       "      <th>Rome</th>\n",
       "      <td>0.0</td>\n",
       "      <td>0.0</td>\n",
       "      <td>0.0</td>\n",
       "      <td>0.0</td>\n",
       "    </tr>\n",
       "    <tr>\n",
       "      <th>Paris</th>\n",
       "      <td>11.0</td>\n",
       "      <td>8.0</td>\n",
       "      <td>0.0</td>\n",
       "      <td>0.0</td>\n",
       "    </tr>\n",
       "  </tbody>\n",
       "</table>\n",
       "</div>"
      ],
      "text/plain": [
       "        Dublin  Milan  Rome  Paris\n",
       "Dublin     0.0    0.0   0.0    0.0\n",
       "Milan     19.0    0.0   5.0    0.0\n",
       "Rome       0.0    0.0   0.0    0.0\n",
       "Paris     11.0    8.0   0.0    0.0"
      ]
     },
     "execution_count": 99,
     "metadata": {},
     "output_type": "execute_result"
    }
   ],
   "source": [
    "nx.to_pandas_adjacency(G) # adjacency matrix as pandas dataframe"
   ]
  },
  {
   "cell_type": "code",
   "execution_count": 100,
   "id": "a0ddad37-42a3-46b8-b98b-18ff2dc2ac8f",
   "metadata": {},
   "outputs": [
    {
     "data": {
      "text/plain": [
       "matrix([[ 0.,  0.,  0.,  0.],\n",
       "        [19.,  0.,  5.,  0.],\n",
       "        [ 0.,  0.,  0.,  0.],\n",
       "        [11.,  8.,  0.,  0.]])"
      ]
     },
     "execution_count": 100,
     "metadata": {},
     "output_type": "execute_result"
    }
   ],
   "source": [
    "nx.to_numpy_matrix(G) # adjacency matrix as numpy matrix; same order as G.nodes list"
   ]
  },
  {
   "cell_type": "code",
   "execution_count": 101,
   "id": "46564676-6f77-4620-9452-72e56370e18d",
   "metadata": {},
   "outputs": [
    {
     "data": {
      "text/html": [
       "<div>\n",
       "<style scoped>\n",
       "    .dataframe tbody tr th:only-of-type {\n",
       "        vertical-align: middle;\n",
       "    }\n",
       "\n",
       "    .dataframe tbody tr th {\n",
       "        vertical-align: top;\n",
       "    }\n",
       "\n",
       "    .dataframe thead th {\n",
       "        text-align: right;\n",
       "    }\n",
       "</style>\n",
       "<table border=\"1\" class=\"dataframe\">\n",
       "  <thead>\n",
       "    <tr style=\"text-align: right;\">\n",
       "      <th></th>\n",
       "      <th>source</th>\n",
       "      <th>target</th>\n",
       "      <th>weight</th>\n",
       "    </tr>\n",
       "  </thead>\n",
       "  <tbody>\n",
       "    <tr>\n",
       "      <th>0</th>\n",
       "      <td>Milan</td>\n",
       "      <td>Dublin</td>\n",
       "      <td>19</td>\n",
       "    </tr>\n",
       "    <tr>\n",
       "      <th>1</th>\n",
       "      <td>Milan</td>\n",
       "      <td>Rome</td>\n",
       "      <td>5</td>\n",
       "    </tr>\n",
       "    <tr>\n",
       "      <th>2</th>\n",
       "      <td>Paris</td>\n",
       "      <td>Milan</td>\n",
       "      <td>8</td>\n",
       "    </tr>\n",
       "    <tr>\n",
       "      <th>3</th>\n",
       "      <td>Paris</td>\n",
       "      <td>Dublin</td>\n",
       "      <td>11</td>\n",
       "    </tr>\n",
       "  </tbody>\n",
       "</table>\n",
       "</div>"
      ],
      "text/plain": [
       "  source  target  weight\n",
       "0  Milan  Dublin      19\n",
       "1  Milan    Rome       5\n",
       "2  Paris   Milan       8\n",
       "3  Paris  Dublin      11"
      ]
     },
     "execution_count": 101,
     "metadata": {},
     "output_type": "execute_result"
    }
   ],
   "source": [
    "nx.to_pandas_edgelist(G)"
   ]
  },
  {
   "cell_type": "code",
   "execution_count": 102,
   "id": "e7355352-5db8-4573-a85b-d5c0e8a0c7b8",
   "metadata": {},
   "outputs": [
    {
     "data": {
      "text/plain": [
       "{'Dublin': {},\n",
       " 'Milan': {'Dublin': {'weight': 19}, 'Rome': {'weight': 5}},\n",
       " 'Rome': {},\n",
       " 'Paris': {'Milan': {'weight': 8}, 'Dublin': {'weight': 11}}}"
      ]
     },
     "execution_count": 102,
     "metadata": {},
     "output_type": "execute_result"
    }
   ],
   "source": [
    "nx.to_dict_of_dicts(G)"
   ]
  },
  {
   "cell_type": "code",
   "execution_count": 103,
   "id": "2082f417-376b-4b21-bdb2-afdbac9d2a9d",
   "metadata": {},
   "outputs": [
    {
     "data": {
      "text/plain": [
       "array([[ 0.,  0.,  0.,  0.],\n",
       "       [19.,  0.,  5.,  0.],\n",
       "       [ 0.,  0.,  0.,  0.],\n",
       "       [11.,  8.,  0.,  0.]])"
      ]
     },
     "execution_count": 103,
     "metadata": {},
     "output_type": "execute_result"
    }
   ],
   "source": [
    "nx.to_numpy_array(G)"
   ]
  },
  {
   "cell_type": "markdown",
   "id": "3b08ec3d-8f00-40a1-bfc9-6e700df15e14",
   "metadata": {},
   "source": [
    "### Plotting Graphs"
   ]
  },
  {
   "cell_type": "code",
   "execution_count": 104,
   "id": "c3723fe0-a79c-4610-899d-70b9e2c10734",
   "metadata": {},
   "outputs": [],
   "source": [
    "def draw_graph(G, nodes_position, weight):\n",
    "    nx.draw(G, nodes_position, with_labels=True, font_size=15, node_size=400, edge_color='gray', arrowsize=30)\n",
    "    if weight:\n",
    "        edge_labels = nx.get_edge_attributes(G, 'weight')\n",
    "    nx.draw_networkx_edge_labels(G, nodes_position, edge_labels=edge_labels)"
   ]
  },
  {
   "cell_type": "code",
   "execution_count": 105,
   "id": "b9749dda-3278-4d83-b557-4fae14ea3078",
   "metadata": {},
   "outputs": [
    {
     "data": {
      "image/png": "[encoded data removed]",
      "text/plain": [
       "<Figure size 432x288 with 1 Axes>"
      ]
     },
     "metadata": {},
     "output_type": "display_data"
    }
   ],
   "source": [
    "G = nx.Graph()\n",
    "V = {'Paris', 'Dublin', 'Milan', 'Rome'}\n",
    "E = [('Paris', 'Dublin', 11), ('Paris', 'Milan', 8), ('Milan', 'Rome', 5), ('Milan', 'Dublin', 19)]\n",
    "G.add_nodes_from(V)\n",
    "G.add_weighted_edges_from(E)\n",
    "node_position = {'Paris': [0,0], 'Dublin': [0,1], 'Milan':[1,0], 'Rome':[1,1]}\n",
    "draw_graph(G, node_position, True)"
   ]
  },
  {
   "cell_type": "markdown",
   "id": "a7a79ef4-604a-4a91-b2f6-b20fcca09ef4",
   "metadata": {},
   "source": [
    "There are several different node positions:\n",
    "-  nx.circular_layout(), bipartite_layout(), kamada_kawai_layout(), etc.."
   ]
  },
  {
   "cell_type": "markdown",
   "id": "033550d6",
   "metadata": {},
   "source": [
    "## Graph Properties\n",
    "- **Integration metrics**: How nodes tend to be interconnected with each other.\n",
    "- **Segregation metrics**: Quantify presence of groups of interconnected nodes, known as communities/modules within a network\n",
    "- **Centrality metrics**: Assess importance of individual nodes inside a network.\n",
    "- **Resilience metrics**: How much a network can maintain/adapt its operational performance when facing failures or other adverse conditions.\n",
    "\n",
    "These metrics are global (overall network), whereaslocal measure individual network elements. The above properties may not account for edge weights in weighted graphs, so we have **weighted and unweighted metrics**.\n",
    "\n",
    "- **distance**: Number of edges to traverse in order to reach a target node from a given source node.\n",
    "- **diameter**: Longest shortest path among all possible shortest paths."
   ]
  },
  {
   "cell_type": "code",
   "execution_count": 106,
   "id": "9d61d14d-ddbf-496e-ac16-c8332c595fe7",
   "metadata": {},
   "outputs": [
    {
     "data": {
      "text/plain": [
       "[1, 3, 4, 5, 7]"
      ]
     },
     "execution_count": 106,
     "metadata": {},
     "output_type": "execute_result"
    }
   ],
   "source": [
    "# compute shortest path between two notes on a graph\n",
    "G = nx.Graph()\n",
    "nodes = {1: 'Dublin', 2: 'Paris', 3: 'Milan', 4: 'Rome', 5: 'Naples', 6: 'Moscow', 7: 'Tokyo'}\n",
    "G.add_nodes_from(nodes.keys())\n",
    "G.add_edges_from([(1,2), (1,3), (2,3), (3,4), (4,5), (5,6), (6,7), (7,5)])\n",
    "\n",
    "path = nx.shortest_path(G, source=1, target=7)\n",
    "path"
   ]
  },
  {
   "cell_type": "markdown",
   "id": "8a22af31",
   "metadata": {},
   "source": [
    "**characteristic path length**: Average of all the shortest path lengths between all possible pair of nodes. <br>\n",
    "This is a commonly used measure of how efficiently information is spread across a network. Networks having shorter characteristic path lengths promote quick transfer of information and reduce costs.\n",
    "\n",
    "However, sometimes it is not possible to compute a path between all nodes in a *disconnected* graph, so for that we use **network efficiency**."
   ]
  },
  {
   "cell_type": "code",
   "execution_count": 107,
   "id": "cbcc5b35",
   "metadata": {},
   "outputs": [
    {
     "data": {
      "text/plain": [
       "2.1904761904761907"
      ]
     },
     "execution_count": 107,
     "metadata": {},
     "output_type": "execute_result"
    }
   ],
   "source": [
    "# compute characteristic path length with networkx\n",
    "nx.average_shortest_path_length(G)"
   ]
  },
  {
   "cell_type": "markdown",
   "id": "e5101a91",
   "metadata": {},
   "source": [
    "-  **global efficiency**: Average of the inverse (1/) shortest path length for all pairs of nodes. Can measure how efficiently information is exchanged across a network. Efficiency is at a max when graph is fully connected, whilst minimal for disconnected graph. Shorter path has a lower measure.\n",
    "-  **local efficiency**: Considering only neighbourhood of node in calculation, without the node itself."
   ]
  },
  {
   "cell_type": "code",
   "execution_count": 108,
   "id": "a2b218c7",
   "metadata": {},
   "outputs": [
    {
     "data": {
      "text/plain": [
       "0.611111111111111"
      ]
     },
     "execution_count": 108,
     "metadata": {},
     "output_type": "execute_result"
    }
   ],
   "source": [
    "nx.global_efficiency(G)"
   ]
  },
  {
   "cell_type": "code",
   "execution_count": 109,
   "id": "f4a6fd8f",
   "metadata": {},
   "outputs": [
    {
     "data": {
      "text/plain": [
       "0.6666666666666667"
      ]
     },
     "execution_count": 109,
     "metadata": {},
     "output_type": "execute_result"
    }
   ],
   "source": [
    "# average local efficiency\n",
    "nx.local_efficiency(G)"
   ]
  },
  {
   "cell_type": "markdown",
   "id": "88d3e390",
   "metadata": {},
   "source": [
    "In a fully connected graph, each node can be reached by another so information exchange is rapid. However if we have a 'circular' graph, many nodes must be traversed to reach the target making it less efficient. **Segregation** metrics will tell us more about the presence of groups.\n",
    "\n",
    "**Clustering Coefficient**: Measure of how much nodes cluster together. Defined as fraction of triangles around a node, equivalent to the fraction of the node's neighbours that are neighbours of each other."
   ]
  },
  {
   "cell_type": "code",
   "execution_count": 110,
   "id": "0d3bdff8",
   "metadata": {},
   "outputs": [
    {
     "data": {
      "text/plain": [
       "0.6666666666666667"
      ]
     },
     "execution_count": 110,
     "metadata": {},
     "output_type": "execute_result"
    }
   ],
   "source": [
    "# global clustering coefficient\n",
    "nx.average_clustering(G)"
   ]
  },
  {
   "cell_type": "code",
   "execution_count": 111,
   "id": "d77b728b",
   "metadata": {},
   "outputs": [
    {
     "data": {
      "text/plain": [
       "{1: 1.0,\n",
       " 2: 1.0,\n",
       " 3: 0.3333333333333333,\n",
       " 4: 0,\n",
       " 5: 0.3333333333333333,\n",
       " 6: 1.0,\n",
       " 7: 1.0}"
      ]
     },
     "execution_count": 111,
     "metadata": {},
     "output_type": "execute_result"
    }
   ],
   "source": [
    "# local clusering coefficient\n",
    "nx.clustering(G)"
   ]
  },
  {
   "cell_type": "code",
   "execution_count": 112,
   "id": "3d8cae23",
   "metadata": {},
   "outputs": [
    {
     "data": {
      "image/png": "[encoded data removed]",
      "text/plain": [
       "<Figure size 432x288 with 1 Axes>"
      ]
     },
     "metadata": {},
     "output_type": "display_data"
    }
   ],
   "source": [
    "nx.draw(G, with_labels=True)"
   ]
  },
  {
   "cell_type": "markdown",
   "id": "d0236f0b",
   "metadata": {},
   "source": [
    "**Transitivity**: Ratio between observed number of **closed triplets** (complete subgraph with three nodes and two edges) and max number of closed triplets in graph."
   ]
  },
  {
   "cell_type": "code",
   "execution_count": 113,
   "id": "a989f34e",
   "metadata": {},
   "outputs": [
    {
     "data": {
      "text/plain": [
       "0.5454545454545454"
      ]
     },
     "execution_count": 113,
     "metadata": {},
     "output_type": "execute_result"
    }
   ],
   "source": [
    "nx.transitivity(G)"
   ]
  },
  {
   "cell_type": "markdown",
   "id": "ece89872",
   "metadata": {},
   "source": [
    "**Modularity**: Quantify division of a network in aggregated sets of highly interconnected nodes. High modular show dense connections within module and sparse connections between."
   ]
  },
  {
   "cell_type": "code",
   "execution_count": 114,
   "id": "ea0fbedc",
   "metadata": {},
   "outputs": [
    {
     "data": {
      "text/plain": [
       "0.3671875"
      ]
     },
     "execution_count": 114,
     "metadata": {},
     "output_type": "execute_result"
    }
   ],
   "source": [
    "# compute modularity from algorithms\n",
    "import networkx.algorithms.community as nx_comm\n",
    "nx_comm.modularity(G, communities=[{1,2,3}, {4,5,6,7}]) # communities is a list of sets"
   ]
  },
  {
   "cell_type": "markdown",
   "id": "608655ea",
   "metadata": {},
   "source": [
    "Each node in a graph has its *own importance*, and we can quantify it using **centrality metrics**.\n",
    "\n",
    "\n",
    "**Degree Centrality**: Directly connected with the *degree* of a node, measuring number of incident edges on a certain node *i*. More connected means a higher degree centrality. If directed, we may consider the **in-degree centrality** and **out-degree centrality** for each node related to the *incoming* and *outgoing* edges respectively."
   ]
  },
  {
   "cell_type": "code",
   "execution_count": 115,
   "id": "f5d5eca9",
   "metadata": {},
   "outputs": [
    {
     "data": {
      "text/plain": [
       "{1: 0.3333333333333333,\n",
       " 2: 0.3333333333333333,\n",
       " 3: 0.5,\n",
       " 4: 0.3333333333333333,\n",
       " 5: 0.5,\n",
       " 6: 0.3333333333333333,\n",
       " 7: 0.3333333333333333}"
      ]
     },
     "execution_count": 115,
     "metadata": {},
     "output_type": "execute_result"
    }
   ],
   "source": [
    "nx.degree_centrality(G)"
   ]
  },
  {
   "cell_type": "markdown",
   "id": "dacf4014",
   "metadata": {},
   "source": [
    "**Closeness Centrality**: Quantify how much a node is close (well connected) to other nodes. Average distance of a node *i* to all other nodes in the network. 1/(sum of the shortestdistances between all nodes i and j)"
   ]
  },
  {
   "cell_type": "code",
   "execution_count": 116,
   "id": "5cb28420",
   "metadata": {},
   "outputs": [
    {
     "data": {
      "text/plain": [
       "{1: 0.4,\n",
       " 2: 0.4,\n",
       " 3: 0.5454545454545454,\n",
       " 4: 0.6,\n",
       " 5: 0.5454545454545454,\n",
       " 6: 0.4,\n",
       " 7: 0.4}"
      ]
     },
     "execution_count": 116,
     "metadata": {},
     "output_type": "execute_result"
    }
   ],
   "source": [
    "nx.closeness_centrality(G)"
   ]
  },
  {
   "cell_type": "markdown",
   "id": "7e4a0079",
   "metadata": {},
   "source": [
    "**Betweenness centrality**: Measures how much a node acts as a bridge between other nodes. So even a node poorly connected can help to keep the whole network connected. \n",
    "Ratio of shortest paths that go through node i against the total number of shortest paths between two nodes. The higher the number of shortest paths go through node i, the higher the betweenness centrality. \n",
    "\n",
    "Centrality metrics tell us how important a node is to a network."
   ]
  },
  {
   "cell_type": "code",
   "execution_count": 117,
   "id": "1bc4352e",
   "metadata": {},
   "outputs": [
    {
     "data": {
      "text/plain": [
       "{1: 0.0,\n",
       " 2: 0.0,\n",
       " 3: 0.5333333333333333,\n",
       " 4: 0.6,\n",
       " 5: 0.5333333333333333,\n",
       " 6: 0.0,\n",
       " 7: 0.0}"
      ]
     },
     "execution_count": 117,
     "metadata": {},
     "output_type": "execute_result"
    }
   ],
   "source": [
    "nx.betweenness_centrality(G)"
   ]
  },
  {
   "cell_type": "markdown",
   "id": "b2cedd32",
   "metadata": {},
   "source": [
    "**Resilience Metrics**\n",
    "\n",
    "**Assortativity Coefficient**: Tendency of nodes being connected to similar nodes. One such way is to use **pearson correlation coefficient** between degrees of directly connected nodes (nodes on two opposite ends of a link). Coefficient assumes positive values when there is a correlation between nodes of a similar degree, and negative values when correlation between nodes of a different degree."
   ]
  },
  {
   "cell_type": "code",
   "execution_count": 118,
   "id": "9eb79038",
   "metadata": {},
   "outputs": [
    {
     "data": {
      "text/plain": [
       "-0.6"
      ]
     },
     "execution_count": 118,
     "metadata": {},
     "output_type": "execute_result"
    }
   ],
   "source": [
    "nx.degree_pearson_correlation_coefficient(G)"
   ]
  },
  {
   "cell_type": "markdown",
   "id": "7433b360",
   "metadata": {},
   "source": [
    "More networkx algorithms can be found here: https://networkx.org/documentation/stable/reference/algorithms/"
   ]
  },
  {
   "cell_type": "markdown",
   "id": "514bc955",
   "metadata": {},
   "source": [
    "### Benchmarks & Repositories"
   ]
  },
  {
   "cell_type": "code",
   "execution_count": 119,
   "id": "5f21f59f",
   "metadata": {},
   "outputs": [],
   "source": [
    "# fully connected undirected graph\n",
    "complete = nx.complete_graph(n=7)"
   ]
  },
  {
   "cell_type": "markdown",
   "id": "80dc625e",
   "metadata": {},
   "source": [
    "A fully connected subgraph of *n* nodes within a larger graph is generally referred to as a **clique** of size n. In a clique, every two distinct vertices in the subset are adjacent (fully connected induced subraph)."
   ]
  },
  {
   "cell_type": "code",
   "execution_count": 121,
   "id": "f09a3842",
   "metadata": {},
   "outputs": [
    {
     "data": {
      "image/png": "[encoded data removed]",
      "text/plain": [
       "<Figure size 432x288 with 1 Axes>"
      ]
     },
     "metadata": {},
     "output_type": "display_data"
    }
   ],
   "source": [
    "# lollipop graph of clique size n and branch of m nodes\n",
    "lollipop = nx.lollipop_graph(m=7, n=3)\n",
    "nx.draw(lollipop)"
   ]
  },
  {
   "cell_type": "code",
   "execution_count": 122,
   "id": "e0371b55",
   "metadata": {},
   "outputs": [
    {
     "data": {
      "image/png": "[encoded data removed]",
      "text/plain": [
       "<Figure size 432x288 with 1 Axes>"
      ]
     },
     "metadata": {},
     "output_type": "display_data"
    }
   ],
   "source": [
    "# barbell two cliques of size m1 and m2 joined by a branch of nodes\n",
    "barbell = nx.barbell_graph(m1=7, m2=4)\n",
    "nx.draw(barbell)"
   ]
  },
  {
   "cell_type": "code",
   "execution_count": 123,
   "id": "3e93f883",
   "metadata": {},
   "outputs": [],
   "source": [
    "def get_random_node(graph):\n",
    "    return np.random.choice(graph.nodes)\n",
    "\n",
    "# merge everything into a single graph and connect random edges\n",
    "allGraphs = nx.compose_all([complete, barbell, lollipop])\n",
    "allGraphs.add_edge(get_random_node(lollipop), get_random_node(lollipop))\n",
    "allGraphs.add_edge(get_random_node(complete), get_random_node(barbell))"
   ]
  },
  {
   "cell_type": "markdown",
   "id": "29d78088",
   "metadata": {},
   "source": [
    "### Some Random Graphs\n",
    "These have been used to generate benchmarks and synthetic graphs, going through some:\n",
    "-  **Watts and Strogatz**: Generated by displacing n nodes in a ring and connecting each node with it's k neighbours. Each edge has probability p of being rewired to some random nodes. Can vary (p=0) for regular network and (p=1) for random network. "
   ]
  },
  {
   "cell_type": "code",
   "execution_count": 131,
   "id": "d46a3d96",
   "metadata": {},
   "outputs": [
    {
     "data": {
      "image/png": "[encoded data removed]",
      "text/plain": [
       "<Figure size 432x288 with 1 Axes>"
      ]
     },
     "metadata": {},
     "output_type": "display_data"
    }
   ],
   "source": [
    "graph = nx.watts_strogatz_graph(n=20, k=6, p=0.4)\n",
    "nx.draw(graph)"
   ]
  },
  {
   "cell_type": "markdown",
   "id": "b86dd8e6",
   "metadata": {},
   "source": [
    "-  **Barbasi Albert**: Preferential attachment, new nodes are progressively added by attaching to already existing nodes, with preference for nodes that have more neighbours. So more likely to attach to nodes with already higher degrees. This means that nodes follow a power-law distribution and see the emergence of *hubs*, where a popularity of a node influences more nodes rather than how many it already has."
   ]
  },
  {
   "cell_type": "code",
   "execution_count": 139,
   "id": "f75c5466",
   "metadata": {},
   "outputs": [
    {
     "name": "stdout",
     "output_type": "stream",
     "text": [
      "dict_values([12, 8, 1, 1, 6, 9, 3, 1, 2, 4, 5, 2, 1, 3, 2, 9, 6, 3, 3, 4, 6, 2, 3, 3, 3, 2, 1, 1, 2, 2, 2, 1, 2, 2, 2, 1, 1, 2, 1, 1, 1, 1, 1, 2, 1, 1, 1, 3, 1, 1, 1, 1, 2, 1, 1, 2, 2, 2, 1, 1, 1, 1, 1, 2, 1, 1, 1, 1, 1, 2, 1, 2, 1, 1, 2, 1, 2, 1, 1, 1, 1, 1, 1, 1, 2, 1, 1, 1, 1, 1, 1, 1, 1, 1, 1, 1, 1, 1, 1, 1])\n",
      "Counter({1: 59, 2: 23, 3: 8, 4: 6, 5: 3, 6: 1})\n"
     ]
    },
    {
     "data": {
      "image/png": "[encoded data removed]",
      "text/plain": [
       "<Figure size 432x288 with 1 Axes>"
      ]
     },
     "metadata": {},
     "output_type": "display_data"
    }
   ],
   "source": [
    "ba_model = nx.extended_barabasi_albert_graph(100, m=1, p=0, q=0)\n",
    "nx.draw(ba_model)\n",
    "\n",
    "from collections import Counter\n",
    "degree = dict(nx.degree(ba_model)).values()\n",
    "print(degree)\n",
    "bins = np.round(np.logspace(np.log10(min(degree)),10 ))\n",
    "cnt = Counter(np.digitize(np.array(list(degree)), bins))\n",
    "print(cnt)"
   ]
  },
  {
   "cell_type": "markdown",
   "id": "225bfa58",
   "metadata": {},
   "source": [
    "### Data Repistories\n",
    "- http://networkrepository.com/\n",
    "- **Stanford Network Analysis Platform** (SNAP)\n",
    "-  **Open Graph Benchmark** (OGB)"
   ]
  },
  {
   "cell_type": "code",
   "execution_count": 143,
   "id": "266964b5",
   "metadata": {},
   "outputs": [
    {
     "name": "stdout",
     "output_type": "stream",
     "text": [
      "astro-ph.mtx  readme.html\n"
     ]
    }
   ],
   "source": [
    "!ls ./data/astro-ph"
   ]
  },
  {
   "cell_type": "code",
   "execution_count": 147,
   "id": "cd3bdf01",
   "metadata": {},
   "outputs": [],
   "source": [
    "from scipy.io import mmread\n",
    "adj_matrix = mmread('./data/astro-ph/astro-ph.mtx')\n",
    "graph = nx.from_scipy_sparse_matrix(adj_matrix)"
   ]
  },
  {
   "cell_type": "code",
   "execution_count": null,
   "id": "906fe03b",
   "metadata": {},
   "outputs": [],
   "source": [
    "# takes too long to run so we will put in but running it is another matter\n",
    "stats = pd.DataFrame({\n",
    "    \"centrality\": nx.centrality.betweenness_centrality(graph), \n",
    "    \"C_i\": nx.clustering(graph),\n",
    "    \"degree\": nx.degree(graph)\n",
    "})"
   ]
  },
  {
   "cell_type": "code",
   "execution_count": null,
   "id": "6cb260ce",
   "metadata": {},
   "outputs": [],
   "source": [
    "neigbours = [n for n in nx.neighbors(graph, 6933)]\n",
    "sampling = 10"
   ]
  },
  {
   "cell_type": "code",
   "execution_count": null,
   "id": "1b392561",
   "metadata": {},
   "outputs": [],
   "source": [
    "# select neighbours with the largest C_i values (clustering)\n",
    "nTop = round(len(neigbours) * sampling)\n",
    "idx = {\n",
    "    \"random\": stats.loc[neigbours].sort_index().index[:nTop],\n",
    "    \"centrality\": stats.loc[neigbours].sort_values('centrality', ascending=False).index[:nTop],\n",
    "    \"C_i\": stats.loc[neigbours].sort_values(\"C_i\", ascending=False).index[:nTop]\n",
    "}"
   ]
  },
  {
   "cell_type": "code",
   "execution_count": null,
   "id": "5391b2c3",
   "metadata": {},
   "outputs": [],
   "source": [
    "def plotSubgraph(graph, indices, center=6933):\n",
    "    nx.draw_kamada_kawai(\n",
    "        nx.subgraph(graph, list(indices) + [center])\n",
    "    )\n",
    "plotSubgraph(graph, idx[\"random\"])"
   ]
  },
  {
   "cell_type": "code",
   "execution_count": null,
   "id": "42df093d",
   "metadata": {},
   "outputs": [],
   "source": [
    "# to read edgelist\n",
    "g = nx.read_edgelist(\"Amazon0302.txt\")"
   ]
  },
  {
   "cell_type": "markdown",
   "id": "6efda73b",
   "metadata": {},
   "source": [
    "Testing SNAP"
   ]
  },
  {
   "cell_type": "code",
   "execution_count": 158,
   "id": "ccf8137c",
   "metadata": {},
   "outputs": [],
   "source": [
    "from snap import LoadEdgeList, PNGraph\n",
    "graph = LoadEdgeList(PNGraph, \"./data/amazon0302.txt\", 0, 1, '\\t')\n"
   ]
  },
  {
   "cell_type": "code",
   "execution_count": null,
   "id": "c9994842",
   "metadata": {},
   "outputs": [],
   "source": [
    "# convert to networkx and vice-versa\n",
    "networkx_graph = snap2network(snap_graph)\n",
    "snap_graph = networkx2snap(networkx_graph)"
   ]
  }
 ],
 "metadata": {
  "kernelspec": {
   "display_name": "Python 3.9.13 ('venv': venv)",
   "language": "python",
   "name": "python3"
  },
  "language_info": {
   "codemirror_mode": {
    "name": "ipython",
    "version": 3
   },
   "file_extension": ".py",
   "mimetype": "text/x-python",
   "name": "python",
   "nbconvert_exporter": "python",
   "pygments_lexer": "ipython3",
   "version": "3.9.13"
  },
  "vscode": {
   "interpreter": {
    "hash": "63383c2a68c062c071f75888e0186e64940c33bbd30fa02b08cd99ee71ee0b47"
   }
  }
 },
 "nbformat": 4,
 "nbformat_minor": 5
}
