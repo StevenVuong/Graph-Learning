{
 "cells": [
  {
   "cell_type": "markdown",
   "id": "344c6515-27ec-4b0f-b5cd-9cdd7dcc4d72",
   "metadata": {},
   "source": [
    "# 1) Undirected Graphs"
   ]
  },
  {
   "cell_type": "code",
   "execution_count": 1,
   "id": "87d92478-d205-4925-9c19-ce347d6b4a99",
   "metadata": {},
   "outputs": [],
   "source": [
    "import networkx as nx\n",
    "\n",
    "G = nx.Graph()\n",
    "V = {'Dublin', 'Paris', 'Milan', 'Rome'}\n",
    "E = [('Milan', 'Dublin'), ('Milan', 'Paris'), ('Paris', 'Dublin'), ('Milan', 'Rome')]\n",
    "\n",
    "G.add_nodes_from(V)\n",
    "G.add_edges_from(E)"
   ]
  },
  {
   "cell_type": "code",
   "execution_count": 2,
   "id": "ca67e609-fbf3-45ee-a772-60be7acb40a6",
   "metadata": {},
   "outputs": [
    {
     "data": {
      "image/png": "[encoded data removed]",
      "text/plain": [
       "<Figure size 432x288 with 1 Axes>"
      ]
     },
     "metadata": {},
     "output_type": "display_data"
    }
   ],
   "source": [
    "nx.draw(G, with_labels=True)"
   ]
  },
  {
   "cell_type": "code",
   "execution_count": 3,
   "id": "f8824ceb-df57-4c53-a68e-3935f6fa3636",
   "metadata": {},
   "outputs": [
    {
     "name": "stdout",
     "output_type": "stream",
     "text": [
      "V = ['Dublin', 'Paris', 'Milan', 'Rome']\n",
      "E = [('Dublin', 'Milan'), ('Dublin', 'Paris'), ('Paris', 'Milan'), ('Milan', 'Rome')]\n"
     ]
    }
   ],
   "source": [
    "print(f\"V = {G.nodes}\")\n",
    "print(f\"E = {G.edges}\")"
   ]
  },
  {
   "cell_type": "code",
   "execution_count": 4,
   "id": "b869b6dd-a5a6-4965-82c1-001756a8ce57",
   "metadata": {},
   "outputs": [
    {
     "name": "stdout",
     "output_type": "stream",
     "text": [
      "Graph Order: 4\n",
      "Graph Size: 4\n",
      "Degree of nodes: {'Dublin': 2, 'Paris': 2, 'Milan': 3, 'Rome': 1}\n",
      "Neighbours for nodes {'Dublin': ['Milan', 'Paris'], 'Paris': ['Milan', 'Dublin'], 'Milan': ['Dublin', 'Paris', 'Rome'], 'Rome': ['Milan']}\n"
     ]
    }
   ],
   "source": [
    "print(f\"Graph Order: {G.number_of_nodes()}\")\n",
    "print(f\"Graph Size: {G.number_of_edges()}\")\n",
    "print(f\"Degree of nodes: { {v: G.degree(v) for v in G.nodes} }\")\n",
    "print(f\"Neighbours for nodes { {v: list(G.neighbors(v)) for v in G.nodes} }\")"
   ]
  },
  {
   "cell_type": "code",
   "execution_count": 5,
   "id": "1ef86514-f757-4f9e-aeb0-37cf5c245c52",
   "metadata": {},
   "outputs": [
    {
     "name": "stdout",
     "output_type": "stream",
     "text": [
      "Nodes: ['Dublin', 'Paris', 'Milan', 'Rome']\n",
      "Edges: [('Dublin', 'Milan'), ('Dublin', 'Paris'), ('Paris', 'Milan'), ('Milan', 'Rome')]\n"
     ]
    }
   ],
   "source": [
    "ego_graph_milan = nx.ego_graph(G, \"Milan\")\n",
    "print(f\"Nodes: {ego_graph_milan.nodes}\")\n",
    "print(f\"Edges: {ego_graph_milan.edges}\")"
   ]
  },
  {
   "cell_type": "code",
   "execution_count": 6,
   "id": "59215c09-31be-4e8c-b694-96a1e8d2da28",
   "metadata": {},
   "outputs": [
    {
     "name": "stdout",
     "output_type": "stream",
     "text": [
      "V = ['Dublin', 'Paris', 'Milan', 'Rome', 'London', 'Madrid']\n",
      "E = [('Dublin', 'Milan'), ('Dublin', 'Paris'), ('Paris', 'Milan'), ('Paris', 'Madrid'), ('Milan', 'Rome'), ('Rome', 'London')]\n"
     ]
    }
   ],
   "source": [
    "# Add new nodes and edges\n",
    "new_nodes = {'London', 'Madrid'}\n",
    "new_edges = {('London', 'Rome'), ('Madrid', 'Paris')}\n",
    "G.add_nodes_from(new_nodes)\n",
    "G.add_edges_from(new_edges)\n",
    "print(f\"V = {G.nodes}\")\n",
    "print(f\"E = {G.edges}\")"
   ]
  },
  {
   "cell_type": "code",
   "execution_count": 7,
   "id": "b51866f1-e881-4249-a978-440bbe7b7228",
   "metadata": {},
   "outputs": [
    {
     "name": "stdout",
     "output_type": "stream",
     "text": [
      "V = ['Dublin', 'Paris', 'Milan', 'Rome']\n",
      "E = [('Dublin', 'Milan'), ('Dublin', 'Paris'), ('Paris', 'Milan'), ('Milan', 'Rome')]\n"
     ]
    }
   ],
   "source": [
    "node_remove = {'London', 'Madrid'}\n",
    "G.remove_nodes_from(node_remove)\n",
    "print(f\"V = {G.nodes}\")\n",
    "print(f\"E = {G.edges}\")"
   ]
  },
  {
   "cell_type": "markdown",
   "id": "e3153e87-7989-4593-b1f5-c95b86fc6443",
   "metadata": {},
   "source": [
    "The above also automatically removes edges that contain the removed nodes from the edge list."
   ]
  },
  {
   "cell_type": "code",
   "execution_count": 8,
   "id": "c2181b9d-04d9-4935-a0f5-0839f21dc67f",
   "metadata": {},
   "outputs": [
    {
     "name": "stdout",
     "output_type": "stream",
     "text": [
      "V = ['Dublin', 'Paris', 'Milan', 'Rome']\n",
      "E = [('Dublin', 'Paris'), ('Milan', 'Rome')]\n"
     ]
    }
   ],
   "source": [
    "node_edges = [('Milan', 'Dublin'), ('Milan', 'Paris')]\n",
    "G.remove_edges_from(node_edges)\n",
    "print(f\"V = {G.nodes}\")\n",
    "print(f\"E = {G.edges}\")"
   ]
  },
  {
   "cell_type": "markdown",
   "id": "b238a1cb-0104-49e6-8455-c4d578811452",
   "metadata": {},
   "source": [
    "# 2) Directed Edges\n",
    "\n",
    "-  (v<sub>k</sub>, v<sub>w</sub>) means node v<sub>k</sub> goes into v<sub>w</sub>, which is different from (v<sub>w</sub>, v<sub>k</sub>)\n",
    "-  (v<sub>w</sub>, v<sub>k</sub>) means node v<sub>w</sub> will go into v<sub>k</sub>.\n",
    "    -  v<sub>w</sub> is called the *head*\n",
    "    -  v<sub>k</sub> is called the *tail*\n",
    "  \n",
    "-  **Indegree**: Number of heads adjacent to head end of v. *deg*<sup>-</sup>(v)\n",
    "    -  Number of edges going inwards to a node\n",
    "-  **OutDegree**: Number of tail ends adjacent to v. *deg*<sup>+</sup>(v)\n",
    "    -  Number of edges going outwards from a node"
   ]
  },
  {
   "cell_type": "code",
   "execution_count": 9,
   "id": "72fcdf96-f3eb-4974-a3c7-a5794cda0bc9",
   "metadata": {},
   "outputs": [],
   "source": [
    "G = nx.DiGraph() # for directed graphs\n",
    "V = {'Dublin', 'Paris', 'Milan', 'Rome'}\n",
    "E = [('Milan', 'Dublin'), ('Paris', 'Milan'), ('Paris', 'Dublin'), ('Milan', 'Rome')]\n",
    "G.add_nodes_from(V)\n",
    "G.add_edges_from(E)"
   ]
  },
  {
   "cell_type": "code",
   "execution_count": 10,
   "id": "d0925d96-70c2-45ec-bcfe-3984088430a4",
   "metadata": {},
   "outputs": [
    {
     "data": {
      "image/png": "[encoded data removed]",
      "text/plain": [
       "<Figure size 432x288 with 1 Axes>"
      ]
     },
     "metadata": {},
     "output_type": "display_data"
    }
   ],
   "source": [
    "nx.draw(G, with_labels=True)"
   ]
  },
  {
   "cell_type": "code",
   "execution_count": 11,
   "id": "7da30997-9689-43a5-8146-ad6c5e4447f8",
   "metadata": {},
   "outputs": [
    {
     "name": "stdout",
     "output_type": "stream",
     "text": [
      "Indegree for nodes: {'Paris': 0, 'Milan': 1, 'Dublin': 2, 'Rome': 1}\n",
      "Outdegree for nodes: {'Paris': 2, 'Milan': 2, 'Dublin': 0, 'Rome': 0}\n"
     ]
    }
   ],
   "source": [
    "print(f\"Indegree for nodes: { {v: G.in_degree(v) for v in G.nodes} }\")\n",
    "print(f\"Outdegree for nodes: { {v: G.out_degree(v) for v in G.nodes} }\")"
   ]
  },
  {
   "cell_type": "markdown",
   "id": "65612aaa-5160-4287-83fd-96e928944cfb",
   "metadata": {},
   "source": [
    "# Multigraph\n",
    "Generalisation which allows multiple edges to have same pair of start and end nodes. \n",
    "\n",
    "**multigraph G** defined as `G=(V,E)` where V is a set of nodes and E is a multi-set (a set allowing multiple instances for each of its elements) of edges. This can be a **directed multigraph** if E is a multi-set of ordered couples, otherwise is **undirected multigraph** if E is a multi-set of two-sets."
   ]
  },
  {
   "cell_type": "code",
   "execution_count": 12,
   "id": "14f1f91f-908a-49a4-921b-6f2dde29f78e",
   "metadata": {},
   "outputs": [
    {
     "data": {
      "text/plain": [
       "[0, 1, 0, 0, 0, 1]"
      ]
     },
     "execution_count": 12,
     "metadata": {},
     "output_type": "execute_result"
    }
   ],
   "source": [
    "directed_multi_graph = nx.MultiDiGraph()\n",
    "undirected_multi_graph = nx.MultiGraph()\n",
    "v = {'Dublin', 'Paris', 'Milan', 'Rome'}\n",
    "E = [('Milan', 'Dublin'), ('Milan', 'Dublin'), ('Paris', 'Milan'), ('Paris', 'Dublin'), ('Milan', 'Rome'), ('Milan', 'Rome')]\n",
    "directed_multi_graph.add_nodes_from(V)\n",
    "undirected_multi_graph.add_nodes_from(V)\n",
    "directed_multi_graph.add_edges_from(E)\n",
    "undirected_multi_graph.add_edges_from(E)"
   ]
  },
  {
   "cell_type": "code",
   "execution_count": 13,
   "id": "61c20a2d-9698-4aa6-a2c1-4e1c22576dbf",
   "metadata": {},
   "outputs": [
    {
     "data": {
      "image/png": "[encoded data removed]",
      "text/plain": [
       "<Figure size 432x288 with 1 Axes>"
      ]
     },
     "metadata": {},
     "output_type": "display_data"
    }
   ],
   "source": [
    "nx.draw(directed_multi_graph, with_labels=True)"
   ]
  },
  {
   "cell_type": "code",
   "execution_count": 14,
   "id": "9f1d28f2-2408-4961-a7f5-fa4bf19e3a91",
   "metadata": {},
   "outputs": [
    {
     "data": {
      "image/png": "[encoded data removed]",
      "text/plain": [
       "<Figure size 432x288 with 1 Axes>"
      ]
     },
     "metadata": {},
     "output_type": "display_data"
    }
   ],
   "source": [
    "nx.draw(undirected_multi_graph, with_labels=True)"
   ]
  },
  {
   "cell_type": "markdown",
   "id": "5a4c46fb-f3a0-4472-9368-99a9725a5e67",
   "metadata": {},
   "source": [
    "## Weighted Edges\n",
    "\n",
    "-  **edge-weighted graph** (weighted graph) G is defined as *G=(V,E,w)* where V is a set of nodes, E is a set of edges, and w:E -> ${\\rm I\\!R}$ is a weighted function that assigns at each edge e $ \\in $ E a weight expressed as a real number.\n",
    "-  **node-weighted graph** G is defined as *G=(V,E,w)* where V is a set of nodes, E is a set of edges and w:V -> ${\\rm I\\!R}$ is the weighted function that assigns each node v $ \\in $ V a weight expressed as a real number.\n",
    "\n",
    "Note:\n",
    "-  If E is a set of ordered couples, then we call it a **directed weighted graph**\n",
    "-  If E is a set of two-sets, then we call it a **undirected weighted graph**\n",
    "-  If E is a multi-set, then we call it a **weighted multigraph (directed weighted multigraph)**\n",
    "-  If E is a multi-set of ordered couples, it is an **undirected weighted multigraph**"
   ]
  },
  {
   "cell_type": "code",
   "execution_count": 15,
   "id": "778bbbd6-0313-4360-b797-bb14f75f5f24",
   "metadata": {},
   "outputs": [],
   "source": [
    "# Generate a directed weighted graph\n",
    "G = nx.DiGraph()\n",
    "V = {'Dublin', 'Paris', 'Milan', 'Rome'}\n",
    "E = [('Milan', 'Dublin', 19), ('Paris', 'Milan', 8), ('Paris', 'Dublin', 11), ('Milan', 'Rome', 5)]\n",
    "G.add_nodes_from(V)\n",
    "G.add_weighted_edges_from(E)"
   ]
  },
  {
   "cell_type": "code",
   "execution_count": 16,
   "id": "0bc3557e-f913-4cad-9529-b89ea890f76d",
   "metadata": {},
   "outputs": [
    {
     "data": {
      "text/plain": [
       "{('Paris', 'Milan'): Text(0.19273389398664845, 0.15608912385920556, '8'),\n",
       " ('Paris', 'Dublin'): Text(0.46657745148658714, 0.3687465603636546, '11'),\n",
       " ('Milan', 'Dublin'): Text(0.34068865452676417, 0.2580370152390075, '19'),\n",
       " ('Milan', 'Rome'): Text(-0.46657745148658725, -0.3687465603636545, '5')}"
      ]
     },
     "execution_count": 16,
     "metadata": {},
     "output_type": "execute_result"
    },
    {
     "data": {
      "image/png": "[encoded data removed]",
      "text/plain": [
       "<Figure size 432x288 with 1 Axes>"
      ]
     },
     "metadata": {},
     "output_type": "display_data"
    }
   ],
   "source": [
    "pos = nx.spring_layout(G, seed=7)  # positions for all nodes - seed for reproducibility\n",
    "\n",
    "nx.draw_networkx_nodes(G, pos, node_size=600)\n",
    "nx.draw_networkx_edges(G, pos, edgelist=G.edges, width=2)\n",
    "nx.draw_networkx_labels(G, pos, font_size=10, font_family=\"sans-serif\")\n",
    "edge_labels = nx.get_edge_attributes(G, \"weight\")\n",
    "nx.draw_networkx_edge_labels(G, pos, edge_labels)"
   ]
  },
  {
   "cell_type": "markdown",
   "id": "434b8206-d27a-453b-b337-0d7a8e28aea5",
   "metadata": {},
   "source": [
    "### Bipartite Graphs"
   ]
  },
  {
   "cell_type": "code",
   "execution_count": 17,
   "id": "423681b1-3c97-4156-92d7-3852d17893ff",
   "metadata": {},
   "outputs": [
    {
     "data": {
      "text/html": [
       "<div>\n",
       "<style scoped>\n",
       "    .dataframe tbody tr th:only-of-type {\n",
       "        vertical-align: middle;\n",
       "    }\n",
       "\n",
       "    .dataframe tbody tr th {\n",
       "        vertical-align: top;\n",
       "    }\n",
       "\n",
       "    .dataframe thead th {\n",
       "        text-align: right;\n",
       "    }\n",
       "</style>\n",
       "<table border=\"1\" class=\"dataframe\">\n",
       "  <thead>\n",
       "    <tr style=\"text-align: right;\">\n",
       "      <th></th>\n",
       "      <th>source</th>\n",
       "      <th>target</th>\n",
       "    </tr>\n",
       "  </thead>\n",
       "  <tbody>\n",
       "    <tr>\n",
       "      <th>2</th>\n",
       "      <td>8</td>\n",
       "      <td>1</td>\n",
       "    </tr>\n",
       "    <tr>\n",
       "      <th>0</th>\n",
       "      <td>6</td>\n",
       "      <td>7</td>\n",
       "    </tr>\n",
       "  </tbody>\n",
       "</table>\n",
       "</div>"
      ],
      "text/plain": [
       "   source  target\n",
       "2       8       1\n",
       "0       6       7"
      ]
     },
     "metadata": {},
     "output_type": "display_data"
    }
   ],
   "source": [
    "import pandas as pd\n",
    "import numpy as np\n",
    "\n",
    "n_nodes = 10\n",
    "n_edges = 12\n",
    "bottom_nodes = [ith for ith in range(n_nodes) if ith % 2 == 0]\n",
    "top_nodes = [ith for ith in range(n_nodes) if ith % 2 == 1]\n",
    "iter_edges = zip(\n",
    "    np.random.choice(bottom_nodes, n_edges),\n",
    "    np.random.choice(top_nodes, n_edges)\n",
    ")\n",
    "edges = pd.DataFrame([{\"source\": a, \"target\": b} for a, b in iter_edges])\n",
    "display(edges.sample(2))\n",
    "\n",
    "B = nx.Graph()\n",
    "B.add_nodes_from(bottom_nodes, bipartite=0)\n",
    "B.add_nodes_from(top_nodes, bipartite=1)\n",
    "B.add_edges_from([tuple(x) for x in edges.values])"
   ]
  },
  {
   "cell_type": "code",
   "execution_count": 19,
   "id": "ee7c306a-bb72-4983-8c9d-a76cc4793f52",
   "metadata": {},
   "outputs": [
    {
     "data": {
      "image/png": "[encoded data removed]",
      "text/plain": [
       "<Figure size 432x288 with 1 Axes>"
      ]
     },
     "metadata": {},
     "output_type": "display_data"
    }
   ],
   "source": [
    "from networkx.drawing.layout import bipartite_layout\n",
    "pos = bipartite_layout(B, bottom_nodes)\n",
    "nx.draw_networkx(B, pos=pos)"
   ]
  },
  {
   "cell_type": "markdown",
   "id": "977c33e9-77ff-4c5d-abca-487ac9f0ba80",
   "metadata": {},
   "source": [
    "### Representing Edges"
   ]
  },
  {
   "cell_type": "code",
   "execution_count": 20,
   "id": "1b2e81fd-d036-43e5-8d4a-a5780a874356",
   "metadata": {},
   "outputs": [
    {
     "data": {
      "text/html": [
       "<div>\n",
       "<style scoped>\n",
       "    .dataframe tbody tr th:only-of-type {\n",
       "        vertical-align: middle;\n",
       "    }\n",
       "\n",
       "    .dataframe tbody tr th {\n",
       "        vertical-align: top;\n",
       "    }\n",
       "\n",
       "    .dataframe thead th {\n",
       "        text-align: right;\n",
       "    }\n",
       "</style>\n",
       "<table border=\"1\" class=\"dataframe\">\n",
       "  <thead>\n",
       "    <tr style=\"text-align: right;\">\n",
       "      <th></th>\n",
       "      <th>Paris</th>\n",
       "      <th>Milan</th>\n",
       "      <th>Dublin</th>\n",
       "      <th>Rome</th>\n",
       "    </tr>\n",
       "  </thead>\n",
       "  <tbody>\n",
       "    <tr>\n",
       "      <th>Paris</th>\n",
       "      <td>0.0</td>\n",
       "      <td>8.0</td>\n",
       "      <td>11.0</td>\n",
       "      <td>0.0</td>\n",
       "    </tr>\n",
       "    <tr>\n",
       "      <th>Milan</th>\n",
       "      <td>0.0</td>\n",
       "      <td>0.0</td>\n",
       "      <td>19.0</td>\n",
       "      <td>5.0</td>\n",
       "    </tr>\n",
       "    <tr>\n",
       "      <th>Dublin</th>\n",
       "      <td>0.0</td>\n",
       "      <td>0.0</td>\n",
       "      <td>0.0</td>\n",
       "      <td>0.0</td>\n",
       "    </tr>\n",
       "    <tr>\n",
       "      <th>Rome</th>\n",
       "      <td>0.0</td>\n",
       "      <td>0.0</td>\n",
       "      <td>0.0</td>\n",
       "      <td>0.0</td>\n",
       "    </tr>\n",
       "  </tbody>\n",
       "</table>\n",
       "</div>"
      ],
      "text/plain": [
       "        Paris  Milan  Dublin  Rome\n",
       "Paris     0.0    8.0    11.0   0.0\n",
       "Milan     0.0    0.0    19.0   5.0\n",
       "Dublin    0.0    0.0     0.0   0.0\n",
       "Rome      0.0    0.0     0.0   0.0"
      ]
     },
     "execution_count": 20,
     "metadata": {},
     "output_type": "execute_result"
    }
   ],
   "source": [
    "nx.to_pandas_adjacency(G) # adjacency matrix as pandas dataframe"
   ]
  },
  {
   "cell_type": "code",
   "execution_count": 24,
   "id": "a0ddad37-42a3-46b8-b98b-18ff2dc2ac8f",
   "metadata": {},
   "outputs": [
    {
     "data": {
      "text/plain": [
       "matrix([[ 0.,  8., 11.,  0.],\n",
       "        [ 0.,  0., 19.,  5.],\n",
       "        [ 0.,  0.,  0.,  0.],\n",
       "        [ 0.,  0.,  0.,  0.]])"
      ]
     },
     "execution_count": 24,
     "metadata": {},
     "output_type": "execute_result"
    }
   ],
   "source": [
    "nx.to_numpy_matrix(G) # adjacency matrix as numpy matrix; same order as G.nodes list"
   ]
  },
  {
   "cell_type": "code",
   "execution_count": 27,
   "id": "46564676-6f77-4620-9452-72e56370e18d",
   "metadata": {},
   "outputs": [
    {
     "data": {
      "text/html": [
       "<div>\n",
       "<style scoped>\n",
       "    .dataframe tbody tr th:only-of-type {\n",
       "        vertical-align: middle;\n",
       "    }\n",
       "\n",
       "    .dataframe tbody tr th {\n",
       "        vertical-align: top;\n",
       "    }\n",
       "\n",
       "    .dataframe thead th {\n",
       "        text-align: right;\n",
       "    }\n",
       "</style>\n",
       "<table border=\"1\" class=\"dataframe\">\n",
       "  <thead>\n",
       "    <tr style=\"text-align: right;\">\n",
       "      <th></th>\n",
       "      <th>source</th>\n",
       "      <th>target</th>\n",
       "      <th>weight</th>\n",
       "    </tr>\n",
       "  </thead>\n",
       "  <tbody>\n",
       "    <tr>\n",
       "      <th>0</th>\n",
       "      <td>Paris</td>\n",
       "      <td>Milan</td>\n",
       "      <td>8</td>\n",
       "    </tr>\n",
       "    <tr>\n",
       "      <th>1</th>\n",
       "      <td>Paris</td>\n",
       "      <td>Dublin</td>\n",
       "      <td>11</td>\n",
       "    </tr>\n",
       "    <tr>\n",
       "      <th>2</th>\n",
       "      <td>Milan</td>\n",
       "      <td>Dublin</td>\n",
       "      <td>19</td>\n",
       "    </tr>\n",
       "    <tr>\n",
       "      <th>3</th>\n",
       "      <td>Milan</td>\n",
       "      <td>Rome</td>\n",
       "      <td>5</td>\n",
       "    </tr>\n",
       "  </tbody>\n",
       "</table>\n",
       "</div>"
      ],
      "text/plain": [
       "  source  target  weight\n",
       "0  Paris   Milan       8\n",
       "1  Paris  Dublin      11\n",
       "2  Milan  Dublin      19\n",
       "3  Milan    Rome       5"
      ]
     },
     "execution_count": 27,
     "metadata": {},
     "output_type": "execute_result"
    }
   ],
   "source": [
    "nx.to_pandas_edgelist(G)"
   ]
  },
  {
   "cell_type": "code",
   "execution_count": 28,
   "id": "e7355352-5db8-4573-a85b-d5c0e8a0c7b8",
   "metadata": {},
   "outputs": [
    {
     "data": {
      "text/plain": [
       "{'Paris': {'Milan': {'weight': 8}, 'Dublin': {'weight': 11}},\n",
       " 'Milan': {'Dublin': {'weight': 19}, 'Rome': {'weight': 5}},\n",
       " 'Dublin': {},\n",
       " 'Rome': {}}"
      ]
     },
     "execution_count": 28,
     "metadata": {},
     "output_type": "execute_result"
    }
   ],
   "source": [
    "nx.to_dict_of_dicts(G)"
   ]
  },
  {
   "cell_type": "code",
   "execution_count": 29,
   "id": "2082f417-376b-4b21-bdb2-afdbac9d2a9d",
   "metadata": {},
   "outputs": [
    {
     "data": {
      "text/plain": [
       "array([[ 0.,  8., 11.,  0.],\n",
       "       [ 0.,  0., 19.,  5.],\n",
       "       [ 0.,  0.,  0.,  0.],\n",
       "       [ 0.,  0.,  0.,  0.]])"
      ]
     },
     "execution_count": 29,
     "metadata": {},
     "output_type": "execute_result"
    }
   ],
   "source": [
    "nx.to_numpy_array(G)"
   ]
  },
  {
   "cell_type": "markdown",
   "id": "3b08ec3d-8f00-40a1-bfc9-6e700df15e14",
   "metadata": {},
   "source": [
    "### Plotting Graphs"
   ]
  },
  {
   "cell_type": "code",
   "execution_count": 35,
   "id": "c3723fe0-a79c-4610-899d-70b9e2c10734",
   "metadata": {},
   "outputs": [],
   "source": [
    "def draw_graph(G, nodes_position, weight):\n",
    "    nx.draw(G, nodes_position, with_labels=True, font_size=15, node_size=400, edge_color='gray', arrowsize=30)\n",
    "    if weight:\n",
    "        edge_labels = nx.get_edge_attributes(G, 'weight')\n",
    "    nx.draw_networkx_edge_labels(G, nodes_position, edge_labels=edge_labels)"
   ]
  },
  {
   "cell_type": "code",
   "execution_count": 36,
   "id": "b9749dda-3278-4d83-b557-4fae14ea3078",
   "metadata": {},
   "outputs": [
    {
     "data": {
      "image/png": "[encoded data removed]",
      "text/plain": [
       "<Figure size 432x288 with 1 Axes>"
      ]
     },
     "metadata": {},
     "output_type": "display_data"
    }
   ],
   "source": [
    "G = nx.Graph()\n",
    "V = {'Paris', 'Dublin', 'Milan', 'Rome'}\n",
    "E = [('Paris', 'Dublin', 11), ('Paris', 'Milan', 8), ('Milan', 'Rome', 5), ('Milan', 'Dublin', 19)]\n",
    "G.add_nodes_from(V)\n",
    "G.add_weighted_edges_from(E)\n",
    "node_position = {'Paris': [0,0], 'Dublin': [0,1], 'Milan':[1,0], 'Rome':[1,1]}\n",
    "draw_graph(G, node_position, True)"
   ]
  },
  {
   "cell_type": "markdown",
   "id": "a7a79ef4-604a-4a91-b2f6-b20fcca09ef4",
   "metadata": {},
   "source": [
    "There are several different node positions:\n",
    "-  nx.circular_layout(), bipartite_layout(), kamada_kawai_layout(), etc.."
   ]
  },
  {
   "cell_type": "code",
   "execution_count": null,
   "id": "9d61d14d-ddbf-496e-ac16-c8332c595fe7",
   "metadata": {},
   "outputs": [],
   "source": []
  }
 ],
 "metadata": {
  "kernelspec": {
   "display_name": "Python 3 (ipykernel)",
   "language": "python",
   "name": "python3"
  },
  "language_info": {
   "codemirror_mode": {
    "name": "ipython",
    "version": 3
   },
   "file_extension": ".py",
   "mimetype": "text/x-python",
   "name": "python",
   "nbconvert_exporter": "python",
   "pygments_lexer": "ipython3",
   "version": "3.9.13"
  }
 },
 "nbformat": 4,
 "nbformat_minor": 5
}
