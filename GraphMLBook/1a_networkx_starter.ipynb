{
 "cells": [
  {
   "cell_type": "markdown",
   "id": "344c6515-27ec-4b0f-b5cd-9cdd7dcc4d72",
   "metadata": {},
   "source": [
    "# 1) Undirected Graphs"
   ]
  },
  {
   "cell_type": "code",
   "execution_count": 43,
   "id": "87d92478-d205-4925-9c19-ce347d6b4a99",
   "metadata": {},
   "outputs": [],
   "source": [
    "import networkx as nx\n",
    "\n",
    "G = nx.Graph()\n",
    "V = {'Dublin', 'Paris', 'Milan', 'Rome'}\n",
    "E = [('Milan', 'Dublin'), ('Milan', 'Paris'), ('Paris', 'Dublin'), ('Milan', 'Rome')]\n",
    "\n",
    "G.add_nodes_from(V)\n",
    "G.add_edges_from(E)"
   ]
  },
  {
   "cell_type": "code",
   "execution_count": 44,
   "id": "ca67e609-fbf3-45ee-a772-60be7acb40a6",
   "metadata": {},
   "outputs": [
    {
     "data": {
      "image/png": "[encoded data removed]",
      "text/plain": [
       "<Figure size 432x288 with 1 Axes>"
      ]
     },
     "metadata": {},
     "output_type": "display_data"
    }
   ],
   "source": [
    "nx.draw(G, with_labels=True)"
   ]
  },
  {
   "cell_type": "code",
   "execution_count": 45,
   "id": "f8824ceb-df57-4c53-a68e-3935f6fa3636",
   "metadata": {},
   "outputs": [
    {
     "name": "stdout",
     "output_type": "stream",
     "text": [
      "V = ['Dublin', 'Milan', 'Rome', 'Paris']\n",
      "E = [('Dublin', 'Milan'), ('Dublin', 'Paris'), ('Milan', 'Paris'), ('Milan', 'Rome')]\n"
     ]
    }
   ],
   "source": [
    "print(f\"V = {G.nodes}\")\n",
    "print(f\"E = {G.edges}\")"
   ]
  },
  {
   "cell_type": "code",
   "execution_count": 46,
   "id": "b869b6dd-a5a6-4965-82c1-001756a8ce57",
   "metadata": {},
   "outputs": [
    {
     "name": "stdout",
     "output_type": "stream",
     "text": [
      "Graph Order: 4\n",
      "Graph Size: 4\n",
      "Degree of nodes: {'Dublin': 2, 'Milan': 3, 'Rome': 1, 'Paris': 2}\n",
      "Neighbours for nodes {'Dublin': ['Milan', 'Paris'], 'Milan': ['Dublin', 'Paris', 'Rome'], 'Rome': ['Milan'], 'Paris': ['Milan', 'Dublin']}\n"
     ]
    }
   ],
   "source": [
    "print(f\"Graph Order: {G.number_of_nodes()}\")\n",
    "print(f\"Graph Size: {G.number_of_edges()}\")\n",
    "print(f\"Degree of nodes: { {v: G.degree(v) for v in G.nodes} }\")\n",
    "print(f\"Neighbours for nodes { {v: list(G.neighbors(v)) for v in G.nodes} }\")"
   ]
  },
  {
   "cell_type": "code",
   "execution_count": 47,
   "id": "1ef86514-f757-4f9e-aeb0-37cf5c245c52",
   "metadata": {},
   "outputs": [
    {
     "name": "stdout",
     "output_type": "stream",
     "text": [
      "Nodes: ['Dublin', 'Milan', 'Rome', 'Paris']\n",
      "Edges: [('Dublin', 'Milan'), ('Dublin', 'Paris'), ('Milan', 'Paris'), ('Milan', 'Rome')]\n"
     ]
    }
   ],
   "source": [
    "ego_graph_milan = nx.ego_graph(G, \"Milan\")\n",
    "print(f\"Nodes: {ego_graph_milan.nodes}\")\n",
    "print(f\"Edges: {ego_graph_milan.edges}\")"
   ]
  },
  {
   "cell_type": "code",
   "execution_count": 48,
   "id": "59215c09-31be-4e8c-b694-96a1e8d2da28",
   "metadata": {},
   "outputs": [
    {
     "name": "stdout",
     "output_type": "stream",
     "text": [
      "V = ['Dublin', 'Milan', 'Rome', 'Paris', 'London', 'Madrid']\n",
      "E = [('Dublin', 'Milan'), ('Dublin', 'Paris'), ('Milan', 'Paris'), ('Milan', 'Rome'), ('Rome', 'London'), ('Paris', 'Madrid')]\n"
     ]
    }
   ],
   "source": [
    "# Add new nodes and edges\n",
    "new_nodes = {'London', 'Madrid'}\n",
    "new_edges = {('London', 'Rome'), ('Madrid', 'Paris')}\n",
    "G.add_nodes_from(new_nodes)\n",
    "G.add_edges_from(new_edges)\n",
    "print(f\"V = {G.nodes}\")\n",
    "print(f\"E = {G.edges}\")"
   ]
  },
  {
   "cell_type": "code",
   "execution_count": 49,
   "id": "b51866f1-e881-4249-a978-440bbe7b7228",
   "metadata": {},
   "outputs": [
    {
     "name": "stdout",
     "output_type": "stream",
     "text": [
      "V = ['Dublin', 'Milan', 'Rome', 'Paris']\n",
      "E = [('Dublin', 'Milan'), ('Dublin', 'Paris'), ('Milan', 'Paris'), ('Milan', 'Rome')]\n"
     ]
    }
   ],
   "source": [
    "node_remove = {'London', 'Madrid'}\n",
    "G.remove_nodes_from(node_remove)\n",
    "print(f\"V = {G.nodes}\")\n",
    "print(f\"E = {G.edges}\")"
   ]
  },
  {
   "cell_type": "markdown",
   "id": "e3153e87-7989-4593-b1f5-c95b86fc6443",
   "metadata": {},
   "source": [
    "The above also automatically removes edges that contain the removed nodes from the edge list."
   ]
  },
  {
   "cell_type": "code",
   "execution_count": 50,
   "id": "c2181b9d-04d9-4935-a0f5-0839f21dc67f",
   "metadata": {},
   "outputs": [
    {
     "name": "stdout",
     "output_type": "stream",
     "text": [
      "V = ['Dublin', 'Milan', 'Rome', 'Paris']\n",
      "E = [('Dublin', 'Paris'), ('Milan', 'Rome')]\n"
     ]
    }
   ],
   "source": [
    "node_edges = [('Milan', 'Dublin'), ('Milan', 'Paris')]\n",
    "G.remove_edges_from(node_edges)\n",
    "print(f\"V = {G.nodes}\")\n",
    "print(f\"E = {G.edges}\")"
   ]
  },
  {
   "cell_type": "markdown",
   "id": "b238a1cb-0104-49e6-8455-c4d578811452",
   "metadata": {},
   "source": [
    "# 2) Directed Edges\n",
    "\n",
    "-  (v<sub>k</sub>, v<sub>w</sub>) means node v<sub>k</sub> goes into v<sub>w</sub>, which is different from (v<sub>w</sub>, v<sub>k</sub>)\n",
    "-  (v<sub>w</sub>, v<sub>k</sub>) means node v<sub>w</sub> will go into v<sub>k</sub>.\n",
    "    -  v<sub>w</sub> is called the *head*\n",
    "    -  v<sub>k</sub> is called the *tail*\n",
    "  \n",
    "-  **Indegree**: Number of heads adjacent to head end of v. *deg*<sup>-</sup>(v)\n",
    "    -  Number of edges going inwards to a node\n",
    "-  **OutDegree**: Number of tail ends adjacent to v. *deg*<sup>+</sup>(v)\n",
    "    -  Number of edges going outwards from a node"
   ]
  },
  {
   "cell_type": "code",
   "execution_count": 51,
   "id": "72fcdf96-f3eb-4974-a3c7-a5794cda0bc9",
   "metadata": {},
   "outputs": [],
   "source": [
    "G = nx.DiGraph() # for directed graphs\n",
    "V = {'Dublin', 'Paris', 'Milan', 'Rome'}\n",
    "E = [('Milan', 'Dublin'), ('Paris', 'Milan'), ('Paris', 'Dublin'), ('Milan', 'Rome')]\n",
    "G.add_nodes_from(V)\n",
    "G.add_edges_from(E)"
   ]
  },
  {
   "cell_type": "code",
   "execution_count": 52,
   "id": "d0925d96-70c2-45ec-bcfe-3984088430a4",
   "metadata": {},
   "outputs": [
    {
     "data": {
      "image/png": "[encoded data removed]",
      "text/plain": [
       "<Figure size 432x288 with 1 Axes>"
      ]
     },
     "metadata": {},
     "output_type": "display_data"
    }
   ],
   "source": [
    "nx.draw(G, with_labels=True)"
   ]
  },
  {
   "cell_type": "code",
   "execution_count": 53,
   "id": "7da30997-9689-43a5-8146-ad6c5e4447f8",
   "metadata": {},
   "outputs": [
    {
     "name": "stdout",
     "output_type": "stream",
     "text": [
      "Indegree for nodes: {'Dublin': 2, 'Milan': 1, 'Rome': 1, 'Paris': 0}\n",
      "Outdegree for nodes: {'Dublin': 0, 'Milan': 2, 'Rome': 0, 'Paris': 2}\n"
     ]
    }
   ],
   "source": [
    "print(f\"Indegree for nodes: { {v: G.in_degree(v) for v in G.nodes} }\")\n",
    "print(f\"Outdegree for nodes: { {v: G.out_degree(v) for v in G.nodes} }\")"
   ]
  },
  {
   "cell_type": "markdown",
   "id": "65612aaa-5160-4287-83fd-96e928944cfb",
   "metadata": {},
   "source": [
    "# Multigraph\n",
    "Generalisation which allows multiple edges to have same pair of start and end nodes. \n",
    "\n",
    "**multigraph G** defined as `G=(V,E)` where V is a set of nodes and E is a multi-set (a set allowing multiple instances for each of its elements) of edges. This can be a **directed multigraph** if E is a multi-set of ordered couples, otherwise is **undirected multigraph** if E is a multi-set of two-sets."
   ]
  },
  {
   "cell_type": "code",
   "execution_count": 54,
   "id": "14f1f91f-908a-49a4-921b-6f2dde29f78e",
   "metadata": {},
   "outputs": [
    {
     "data": {
      "text/plain": [
       "[0, 1, 0, 0, 0, 1]"
      ]
     },
     "execution_count": 54,
     "metadata": {},
     "output_type": "execute_result"
    }
   ],
   "source": [
    "directed_multi_graph = nx.MultiDiGraph()\n",
    "undirected_multi_graph = nx.MultiGraph()\n",
    "v = {'Dublin', 'Paris', 'Milan', 'Rome'}\n",
    "E = [('Milan', 'Dublin'), ('Milan', 'Dublin'), ('Paris', 'Milan'), ('Paris', 'Dublin'), ('Milan', 'Rome'), ('Milan', 'Rome')]\n",
    "directed_multi_graph.add_nodes_from(V)\n",
    "undirected_multi_graph.add_nodes_from(V)\n",
    "directed_multi_graph.add_edges_from(E)\n",
    "undirected_multi_graph.add_edges_from(E)"
   ]
  },
  {
   "cell_type": "code",
   "execution_count": 55,
   "id": "61c20a2d-9698-4aa6-a2c1-4e1c22576dbf",
   "metadata": {},
   "outputs": [
    {
     "data": {
      "image/png": "[encoded data removed]",
      "text/plain": [
       "<Figure size 432x288 with 1 Axes>"
      ]
     },
     "metadata": {},
     "output_type": "display_data"
    }
   ],
   "source": [
    "nx.draw(directed_multi_graph, with_labels=True)"
   ]
  },
  {
   "cell_type": "code",
   "execution_count": 56,
   "id": "9f1d28f2-2408-4961-a7f5-fa4bf19e3a91",
   "metadata": {},
   "outputs": [
    {
     "data": {
      "image/png": "[encoded data removed]",
      "text/plain": [
       "<Figure size 432x288 with 1 Axes>"
      ]
     },
     "metadata": {},
     "output_type": "display_data"
    }
   ],
   "source": [
    "nx.draw(undirected_multi_graph, with_labels=True)"
   ]
  },
  {
   "cell_type": "markdown",
   "id": "5a4c46fb-f3a0-4472-9368-99a9725a5e67",
   "metadata": {},
   "source": [
    "## Weighted Edges\n",
    "\n",
    "-  **edge-weighted graph** (weighted graph) G is defined as *G=(V,E,w)* where V is a set of nodes, E is a set of edges, and w:E -> ${\\rm I\\!R}$ is a weighted function that assigns at each edge e $ \\in $ E a weight expressed as a real number.\n",
    "-  **node-weighted graph** G is defined as *G=(V,E,w)* where V is a set of nodes, E is a set of edges and w:V -> ${\\rm I\\!R}$ is the weighted function that assigns each node v $ \\in $ V a weight expressed as a real number.\n",
    "\n",
    "Note:\n",
    "-  If E is a set of ordered couples, then we call it a **directed weighted graph**\n",
    "-  If E is a set of two-sets, then we call it a **undirected weighted graph**\n",
    "-  If E is a multi-set, then we call it a **weighted multigraph (directed weighted multigraph)**\n",
    "-  If E is a multi-set of ordered couples, it is an **undirected weighted multigraph**"
   ]
  },
  {
   "cell_type": "code",
   "execution_count": 57,
   "id": "778bbbd6-0313-4360-b797-bb14f75f5f24",
   "metadata": {},
   "outputs": [],
   "source": [
    "# Generate a directed weighted graph\n",
    "G = nx.DiGraph()\n",
    "V = {'Dublin', 'Paris', 'Milan', 'Rome'}\n",
    "E = [('Milan', 'Dublin', 19), ('Paris', 'Milan', 8), ('Paris', 'Dublin', 11), ('Milan', 'Rome', 5)]\n",
    "G.add_nodes_from(V)\n",
    "G.add_weighted_edges_from(E)"
   ]
  },
  {
   "cell_type": "code",
   "execution_count": 58,
   "id": "0bc3557e-f913-4cad-9529-b89ea890f76d",
   "metadata": {},
   "outputs": [
    {
     "data": {
      "text/plain": [
       "{('Milan', 'Dublin'): Text(-0.3271822705316385, 0.09051482136147249, '19'),\n",
       " ('Milan', 'Rome'): Text(0.4719203590009894, -0.1305564534148253, '5'),\n",
       " ('Paris', 'Milan'): Text(-0.20089737046737224, 0.05557810247494181, '8'),\n",
       " ('Paris', 'Dublin'): Text(-0.47192035900098944, 0.13055645341482536, '11')}"
      ]
     },
     "execution_count": 58,
     "metadata": {},
     "output_type": "execute_result"
    },
    {
     "data": {
      "image/png": "[encoded data removed]",
      "text/plain": [
       "<Figure size 432x288 with 1 Axes>"
      ]
     },
     "metadata": {},
     "output_type": "display_data"
    }
   ],
   "source": [
    "pos = nx.spring_layout(G, seed=7)  # positions for all nodes - seed for reproducibility\n",
    "\n",
    "nx.draw_networkx_nodes(G, pos, node_size=600)\n",
    "nx.draw_networkx_edges(G, pos, edgelist=G.edges, width=2)\n",
    "nx.draw_networkx_labels(G, pos, font_size=10, font_family=\"sans-serif\")\n",
    "edge_labels = nx.get_edge_attributes(G, \"weight\")\n",
    "nx.draw_networkx_edge_labels(G, pos, edge_labels)"
   ]
  },
  {
   "cell_type": "markdown",
   "id": "434b8206-d27a-453b-b337-0d7a8e28aea5",
   "metadata": {},
   "source": [
    "### Bipartite Graphs"
   ]
  },
  {
   "cell_type": "code",
   "execution_count": 59,
   "id": "423681b1-3c97-4156-92d7-3852d17893ff",
   "metadata": {},
   "outputs": [
    {
     "data": {
      "text/html": [
       "<div>\n",
       "<style scoped>\n",
       "    .dataframe tbody tr th:only-of-type {\n",
       "        vertical-align: middle;\n",
       "    }\n",
       "\n",
       "    .dataframe tbody tr th {\n",
       "        vertical-align: top;\n",
       "    }\n",
       "\n",
       "    .dataframe thead th {\n",
       "        text-align: right;\n",
       "    }\n",
       "</style>\n",
       "<table border=\"1\" class=\"dataframe\">\n",
       "  <thead>\n",
       "    <tr style=\"text-align: right;\">\n",
       "      <th></th>\n",
       "      <th>source</th>\n",
       "      <th>target</th>\n",
       "    </tr>\n",
       "  </thead>\n",
       "  <tbody>\n",
       "    <tr>\n",
       "      <th>5</th>\n",
       "      <td>4</td>\n",
       "      <td>7</td>\n",
       "    </tr>\n",
       "    <tr>\n",
       "      <th>0</th>\n",
       "      <td>2</td>\n",
       "      <td>3</td>\n",
       "    </tr>\n",
       "  </tbody>\n",
       "</table>\n",
       "</div>"
      ],
      "text/plain": [
       "   source  target\n",
       "5       4       7\n",
       "0       2       3"
      ]
     },
     "metadata": {},
     "output_type": "display_data"
    }
   ],
   "source": [
    "import pandas as pd\n",
    "import numpy as np\n",
    "\n",
    "n_nodes = 10\n",
    "n_edges = 12\n",
    "bottom_nodes = [ith for ith in range(n_nodes) if ith % 2 == 0]\n",
    "top_nodes = [ith for ith in range(n_nodes) if ith % 2 == 1]\n",
    "iter_edges = zip(\n",
    "    np.random.choice(bottom_nodes, n_edges),\n",
    "    np.random.choice(top_nodes, n_edges)\n",
    ")\n",
    "edges = pd.DataFrame([{\"source\": a, \"target\": b} for a, b in iter_edges])\n",
    "display(edges.sample(2))\n",
    "\n",
    "B = nx.Graph()\n",
    "B.add_nodes_from(bottom_nodes, bipartite=0)\n",
    "B.add_nodes_from(top_nodes, bipartite=1)\n",
    "B.add_edges_from([tuple(x) for x in edges.values])"
   ]
  },
  {
   "cell_type": "code",
   "execution_count": 60,
   "id": "ee7c306a-bb72-4983-8c9d-a76cc4793f52",
   "metadata": {},
   "outputs": [
    {
     "data": {
      "image/png": "[encoded data removed]",
      "text/plain": [
       "<Figure size 432x288 with 1 Axes>"
      ]
     },
     "metadata": {},
     "output_type": "display_data"
    }
   ],
   "source": [
    "from networkx.drawing.layout import bipartite_layout\n",
    "pos = bipartite_layout(B, bottom_nodes)\n",
    "nx.draw_networkx(B, pos=pos)"
   ]
  },
  {
   "cell_type": "markdown",
   "id": "977c33e9-77ff-4c5d-abca-487ac9f0ba80",
   "metadata": {},
   "source": [
    "### Representing Edges"
   ]
  },
  {
   "cell_type": "code",
   "execution_count": 61,
   "id": "1b2e81fd-d036-43e5-8d4a-a5780a874356",
   "metadata": {},
   "outputs": [
    {
     "data": {
      "text/html": [
       "<div>\n",
       "<style scoped>\n",
       "    .dataframe tbody tr th:only-of-type {\n",
       "        vertical-align: middle;\n",
       "    }\n",
       "\n",
       "    .dataframe tbody tr th {\n",
       "        vertical-align: top;\n",
       "    }\n",
       "\n",
       "    .dataframe thead th {\n",
       "        text-align: right;\n",
       "    }\n",
       "</style>\n",
       "<table border=\"1\" class=\"dataframe\">\n",
       "  <thead>\n",
       "    <tr style=\"text-align: right;\">\n",
       "      <th></th>\n",
       "      <th>Dublin</th>\n",
       "      <th>Milan</th>\n",
       "      <th>Rome</th>\n",
       "      <th>Paris</th>\n",
       "    </tr>\n",
       "  </thead>\n",
       "  <tbody>\n",
       "    <tr>\n",
       "      <th>Dublin</th>\n",
       "      <td>0.0</td>\n",
       "      <td>0.0</td>\n",
       "      <td>0.0</td>\n",
       "      <td>0.0</td>\n",
       "    </tr>\n",
       "    <tr>\n",
       "      <th>Milan</th>\n",
       "      <td>19.0</td>\n",
       "      <td>0.0</td>\n",
       "      <td>5.0</td>\n",
       "      <td>0.0</td>\n",
       "    </tr>\n",
       "    <tr>\n",
       "      <th>Rome</th>\n",
       "      <td>0.0</td>\n",
       "      <td>0.0</td>\n",
       "      <td>0.0</td>\n",
       "      <td>0.0</td>\n",
       "    </tr>\n",
       "    <tr>\n",
       "      <th>Paris</th>\n",
       "      <td>11.0</td>\n",
       "      <td>8.0</td>\n",
       "      <td>0.0</td>\n",
       "      <td>0.0</td>\n",
       "    </tr>\n",
       "  </tbody>\n",
       "</table>\n",
       "</div>"
      ],
      "text/plain": [
       "        Dublin  Milan  Rome  Paris\n",
       "Dublin     0.0    0.0   0.0    0.0\n",
       "Milan     19.0    0.0   5.0    0.0\n",
       "Rome       0.0    0.0   0.0    0.0\n",
       "Paris     11.0    8.0   0.0    0.0"
      ]
     },
     "execution_count": 61,
     "metadata": {},
     "output_type": "execute_result"
    }
   ],
   "source": [
    "nx.to_pandas_adjacency(G) # adjacency matrix as pandas dataframe"
   ]
  },
  {
   "cell_type": "code",
   "execution_count": 62,
   "id": "a0ddad37-42a3-46b8-b98b-18ff2dc2ac8f",
   "metadata": {},
   "outputs": [
    {
     "data": {
      "text/plain": [
       "matrix([[ 0.,  0.,  0.,  0.],\n",
       "        [19.,  0.,  5.,  0.],\n",
       "        [ 0.,  0.,  0.,  0.],\n",
       "        [11.,  8.,  0.,  0.]])"
      ]
     },
     "execution_count": 62,
     "metadata": {},
     "output_type": "execute_result"
    }
   ],
   "source": [
    "nx.to_numpy_matrix(G) # adjacency matrix as numpy matrix; same order as G.nodes list"
   ]
  },
  {
   "cell_type": "code",
   "execution_count": 63,
   "id": "46564676-6f77-4620-9452-72e56370e18d",
   "metadata": {},
   "outputs": [
    {
     "data": {
      "text/html": [
       "<div>\n",
       "<style scoped>\n",
       "    .dataframe tbody tr th:only-of-type {\n",
       "        vertical-align: middle;\n",
       "    }\n",
       "\n",
       "    .dataframe tbody tr th {\n",
       "        vertical-align: top;\n",
       "    }\n",
       "\n",
       "    .dataframe thead th {\n",
       "        text-align: right;\n",
       "    }\n",
       "</style>\n",
       "<table border=\"1\" class=\"dataframe\">\n",
       "  <thead>\n",
       "    <tr style=\"text-align: right;\">\n",
       "      <th></th>\n",
       "      <th>source</th>\n",
       "      <th>target</th>\n",
       "      <th>weight</th>\n",
       "    </tr>\n",
       "  </thead>\n",
       "  <tbody>\n",
       "    <tr>\n",
       "      <th>0</th>\n",
       "      <td>Milan</td>\n",
       "      <td>Dublin</td>\n",
       "      <td>19</td>\n",
       "    </tr>\n",
       "    <tr>\n",
       "      <th>1</th>\n",
       "      <td>Milan</td>\n",
       "      <td>Rome</td>\n",
       "      <td>5</td>\n",
       "    </tr>\n",
       "    <tr>\n",
       "      <th>2</th>\n",
       "      <td>Paris</td>\n",
       "      <td>Milan</td>\n",
       "      <td>8</td>\n",
       "    </tr>\n",
       "    <tr>\n",
       "      <th>3</th>\n",
       "      <td>Paris</td>\n",
       "      <td>Dublin</td>\n",
       "      <td>11</td>\n",
       "    </tr>\n",
       "  </tbody>\n",
       "</table>\n",
       "</div>"
      ],
      "text/plain": [
       "  source  target  weight\n",
       "0  Milan  Dublin      19\n",
       "1  Milan    Rome       5\n",
       "2  Paris   Milan       8\n",
       "3  Paris  Dublin      11"
      ]
     },
     "execution_count": 63,
     "metadata": {},
     "output_type": "execute_result"
    }
   ],
   "source": [
    "nx.to_pandas_edgelist(G)"
   ]
  },
  {
   "cell_type": "code",
   "execution_count": 64,
   "id": "e7355352-5db8-4573-a85b-d5c0e8a0c7b8",
   "metadata": {},
   "outputs": [
    {
     "data": {
      "text/plain": [
       "{'Dublin': {},\n",
       " 'Milan': {'Dublin': {'weight': 19}, 'Rome': {'weight': 5}},\n",
       " 'Rome': {},\n",
       " 'Paris': {'Milan': {'weight': 8}, 'Dublin': {'weight': 11}}}"
      ]
     },
     "execution_count": 64,
     "metadata": {},
     "output_type": "execute_result"
    }
   ],
   "source": [
    "nx.to_dict_of_dicts(G)"
   ]
  },
  {
   "cell_type": "code",
   "execution_count": 65,
   "id": "2082f417-376b-4b21-bdb2-afdbac9d2a9d",
   "metadata": {},
   "outputs": [
    {
     "data": {
      "text/plain": [
       "array([[ 0.,  0.,  0.,  0.],\n",
       "       [19.,  0.,  5.,  0.],\n",
       "       [ 0.,  0.,  0.,  0.],\n",
       "       [11.,  8.,  0.,  0.]])"
      ]
     },
     "execution_count": 65,
     "metadata": {},
     "output_type": "execute_result"
    }
   ],
   "source": [
    "nx.to_numpy_array(G)"
   ]
  },
  {
   "cell_type": "markdown",
   "id": "3b08ec3d-8f00-40a1-bfc9-6e700df15e14",
   "metadata": {},
   "source": [
    "### Plotting Graphs"
   ]
  },
  {
   "cell_type": "code",
   "execution_count": 66,
   "id": "c3723fe0-a79c-4610-899d-70b9e2c10734",
   "metadata": {},
   "outputs": [],
   "source": [
    "def draw_graph(G, nodes_position, weight):\n",
    "    nx.draw(G, nodes_position, with_labels=True, font_size=15, node_size=400, edge_color='gray', arrowsize=30)\n",
    "    if weight:\n",
    "        edge_labels = nx.get_edge_attributes(G, 'weight')\n",
    "    nx.draw_networkx_edge_labels(G, nodes_position, edge_labels=edge_labels)"
   ]
  },
  {
   "cell_type": "code",
   "execution_count": 67,
   "id": "b9749dda-3278-4d83-b557-4fae14ea3078",
   "metadata": {},
   "outputs": [
    {
     "data": {
      "image/png": "[encoded data removed]",
      "text/plain": [
       "<Figure size 432x288 with 1 Axes>"
      ]
     },
     "metadata": {},
     "output_type": "display_data"
    }
   ],
   "source": [
    "G = nx.Graph()\n",
    "V = {'Paris', 'Dublin', 'Milan', 'Rome'}\n",
    "E = [('Paris', 'Dublin', 11), ('Paris', 'Milan', 8), ('Milan', 'Rome', 5), ('Milan', 'Dublin', 19)]\n",
    "G.add_nodes_from(V)\n",
    "G.add_weighted_edges_from(E)\n",
    "node_position = {'Paris': [0,0], 'Dublin': [0,1], 'Milan':[1,0], 'Rome':[1,1]}\n",
    "draw_graph(G, node_position, True)"
   ]
  },
  {
   "cell_type": "markdown",
   "id": "a7a79ef4-604a-4a91-b2f6-b20fcca09ef4",
   "metadata": {},
   "source": [
    "There are several different node positions:\n",
    "-  nx.circular_layout(), bipartite_layout(), kamada_kawai_layout(), etc.."
   ]
  },
  {
   "cell_type": "markdown",
   "id": "033550d6",
   "metadata": {},
   "source": [
    "## Graph Properties\n",
    "- **Integration metrics**: How nodes tend to be interconnected with each other.\n",
    "- **Segregation metrics**: Quantify presence of groups of interconnected nodes, known as communities/modules within a network\n",
    "- **Centrality metrics**: Assess importance of individual nodes inside a network.\n",
    "- **Resilience metrics**: How much a network can maintain/adapt its operational performance when facing failures or other adverse conditions.\n",
    "\n",
    "These metrics are global (overall network), whereaslocal measure individual network elements. The above properties may not account for edge weights in weighted graphs, so we have **weighted and unweighted metrics**.\n",
    "\n",
    "- **distance**: Number of edges to traverse in order to reach a target node from a given source node.\n",
    "- **diameter**: Longest shortest path among all possible shortest paths."
   ]
  },
  {
   "cell_type": "code",
   "execution_count": 68,
   "id": "9d61d14d-ddbf-496e-ac16-c8332c595fe7",
   "metadata": {},
   "outputs": [
    {
     "data": {
      "text/plain": [
       "[1, 3, 4, 5, 7]"
      ]
     },
     "execution_count": 68,
     "metadata": {},
     "output_type": "execute_result"
    }
   ],
   "source": [
    "# compute shortest path between two notes on a graph\n",
    "G = nx.Graph()\n",
    "nodes = {1: 'Dublin', 2: 'Paris', 3: 'Milan', 4: 'Rome', 5: 'Naples', 6: 'Moscow', 7: 'Tokyo'}\n",
    "G.add_nodes_from(nodes.keys())\n",
    "G.add_edges_from([(1,2), (1,3), (2,3), (3,4), (4,5), (5,6), (6,7), (7,5)])\n",
    "\n",
    "path = nx.shortest_path(G, source=1, target=7)\n",
    "path"
   ]
  },
  {
   "cell_type": "markdown",
   "id": "8a22af31",
   "metadata": {},
   "source": [
    "**characteristic path length**: Average of all the shortest path lengths between all possible pair of nodes. <br>\n",
    "This is a commonly used measure of how efficiently information is spread across a network. Networks having shorter characteristic path lengths promote quick transfer of information and reduce costs.\n",
    "\n",
    "However, sometimes it is not possible to compute a path between all nodes in a *disconnected* graph, so for that we use **network efficiency**."
   ]
  },
  {
   "cell_type": "code",
   "execution_count": 69,
   "id": "cbcc5b35",
   "metadata": {},
   "outputs": [
    {
     "data": {
      "text/plain": [
       "2.1904761904761907"
      ]
     },
     "execution_count": 69,
     "metadata": {},
     "output_type": "execute_result"
    }
   ],
   "source": [
    "# compute characteristic path length with networkx\n",
    "nx.average_shortest_path_length(G)"
   ]
  },
  {
   "cell_type": "markdown",
   "id": "e5101a91",
   "metadata": {},
   "source": [
    "-  **global efficiency**: Average of the inverse (1/) shortest path length for all pairs of nodes. Can measure how efficiently information is exchanged across a network. Efficiency is at a max when graph is fully connected, whilst minimal for disconnected graph. Shorter path has a lower measure.\n",
    "-  **local efficiency**: Considering only neighbourhood of node in calculation, without the node itself."
   ]
  },
  {
   "cell_type": "code",
   "execution_count": 70,
   "id": "a2b218c7",
   "metadata": {},
   "outputs": [
    {
     "data": {
      "text/plain": [
       "0.611111111111111"
      ]
     },
     "execution_count": 70,
     "metadata": {},
     "output_type": "execute_result"
    }
   ],
   "source": [
    "nx.global_efficiency(G)"
   ]
  },
  {
   "cell_type": "code",
   "execution_count": 71,
   "id": "f4a6fd8f",
   "metadata": {},
   "outputs": [
    {
     "data": {
      "text/plain": [
       "0.6666666666666667"
      ]
     },
     "execution_count": 71,
     "metadata": {},
     "output_type": "execute_result"
    }
   ],
   "source": [
    "# average local efficiency\n",
    "nx.local_efficiency(G)"
   ]
  },
  {
   "cell_type": "markdown",
   "id": "88d3e390",
   "metadata": {},
   "source": [
    "In a fully connected graph, each node can be reached by another so information exchange is rapid. However if we have a 'circular' graph, many nodes must be traversed to reach the target making it less efficient. **Segregation** metrics will tell us more about the presence of groups.\n",
    "\n",
    "**Clustering Coefficient**: Measure of how much nodes cluster together. Defined as fraction of triangles around a node, equivalent to the fraction of the node's neighbours that are neighbours of each other."
   ]
  },
  {
   "cell_type": "code",
   "execution_count": 72,
   "id": "0d3bdff8",
   "metadata": {},
   "outputs": [
    {
     "data": {
      "text/plain": [
       "0.6666666666666667"
      ]
     },
     "execution_count": 72,
     "metadata": {},
     "output_type": "execute_result"
    }
   ],
   "source": [
    "# global clustering coefficient\n",
    "nx.average_clustering(G)"
   ]
  },
  {
   "cell_type": "code",
   "execution_count": 73,
   "id": "d77b728b",
   "metadata": {},
   "outputs": [
    {
     "data": {
      "text/plain": [
       "{1: 1.0,\n",
       " 2: 1.0,\n",
       " 3: 0.3333333333333333,\n",
       " 4: 0,\n",
       " 5: 0.3333333333333333,\n",
       " 6: 1.0,\n",
       " 7: 1.0}"
      ]
     },
     "execution_count": 73,
     "metadata": {},
     "output_type": "execute_result"
    }
   ],
   "source": [
    "# local clusering coefficient\n",
    "nx.clustering(G)"
   ]
  },
  {
   "cell_type": "code",
   "execution_count": 74,
   "id": "3d8cae23",
   "metadata": {},
   "outputs": [
    {
     "data": {
      "image/png": "[encoded data removed]",
      "text/plain": [
       "<Figure size 432x288 with 1 Axes>"
      ]
     },
     "metadata": {},
     "output_type": "display_data"
    }
   ],
   "source": [
    "nx.draw(G, with_labels=True)"
   ]
  },
  {
   "cell_type": "markdown",
   "id": "d0236f0b",
   "metadata": {},
   "source": [
    "**Transitivity**: Ratio between observed number of **closed triplets** (complete subgraph with three nodes and two edges) and max number of closed triplets in graph."
   ]
  },
  {
   "cell_type": "code",
   "execution_count": 75,
   "id": "a989f34e",
   "metadata": {},
   "outputs": [
    {
     "data": {
      "text/plain": [
       "0.5454545454545454"
      ]
     },
     "execution_count": 75,
     "metadata": {},
     "output_type": "execute_result"
    }
   ],
   "source": [
    "nx.transitivity(G)"
   ]
  },
  {
   "cell_type": "markdown",
   "id": "ece89872",
   "metadata": {},
   "source": [
    "**Modularity**: Quantify division of a network in aggregated sets of highly interconnected nodes. High modular show dense connections within module and sparse connections between."
   ]
  },
  {
   "cell_type": "code",
   "execution_count": 76,
   "id": "ea0fbedc",
   "metadata": {},
   "outputs": [
    {
     "data": {
      "text/plain": [
       "0.3671875"
      ]
     },
     "execution_count": 76,
     "metadata": {},
     "output_type": "execute_result"
    }
   ],
   "source": [
    "# compute modularity from algorithms\n",
    "import networkx.algorithms.community as nx_comm\n",
    "nx_comm.modularity(G, communities=[{1,2,3}, {4,5,6,7}]) # communities is a list of sets"
   ]
  },
  {
   "cell_type": "markdown",
   "id": "608655ea",
   "metadata": {},
   "source": [
    "Each node in a graph has its *own importance*, and we can quantify it using **centrality metrics**.\n",
    "\n",
    "\n",
    "**Degree Centrality**: Directly connected with the *degree* of a node, measuring number of incident edges on a certain node *i*. More connected means a higher degree centrality. If directed, we may consider the **in-degree centrality** and **out-degree centrality** for each node related to the *incoming* and *outgoing* edges respectively."
   ]
  },
  {
   "cell_type": "code",
   "execution_count": 77,
   "id": "f5d5eca9",
   "metadata": {},
   "outputs": [
    {
     "data": {
      "text/plain": [
       "{1: 0.3333333333333333,\n",
       " 2: 0.3333333333333333,\n",
       " 3: 0.5,\n",
       " 4: 0.3333333333333333,\n",
       " 5: 0.5,\n",
       " 6: 0.3333333333333333,\n",
       " 7: 0.3333333333333333}"
      ]
     },
     "execution_count": 77,
     "metadata": {},
     "output_type": "execute_result"
    }
   ],
   "source": [
    "nx.degree_centrality(G)"
   ]
  },
  {
   "cell_type": "markdown",
   "id": "dacf4014",
   "metadata": {},
   "source": [
    "**Closeness Centrality**: Quantify how much a node is close (well connected) to other nodes. Average distance of a node *i* to all other nodes in the network. 1/(sum of the shortestdistances between all nodes i and j)"
   ]
  },
  {
   "cell_type": "code",
   "execution_count": 78,
   "id": "5cb28420",
   "metadata": {},
   "outputs": [
    {
     "data": {
      "text/plain": [
       "{1: 0.4,\n",
       " 2: 0.4,\n",
       " 3: 0.5454545454545454,\n",
       " 4: 0.6,\n",
       " 5: 0.5454545454545454,\n",
       " 6: 0.4,\n",
       " 7: 0.4}"
      ]
     },
     "execution_count": 78,
     "metadata": {},
     "output_type": "execute_result"
    }
   ],
   "source": [
    "nx.closeness_centrality(G)"
   ]
  },
  {
   "cell_type": "markdown",
   "id": "7e4a0079",
   "metadata": {},
   "source": [
    "**Betweenness centrality**: Measures how much a node acts as a bridge between other nodes. So even a node poorly connected can help to keep the whole network connected. \n",
    "Ratio of shortest paths that go through node i against the total number of shortest paths between two nodes. The higher the number of shortest paths go through node i, the higher the betweenness centrality. \n",
    "\n",
    "Centrality metrics tell us how important a node is to a network."
   ]
  },
  {
   "cell_type": "code",
   "execution_count": 79,
   "id": "1bc4352e",
   "metadata": {},
   "outputs": [
    {
     "data": {
      "text/plain": [
       "{1: 0.0,\n",
       " 2: 0.0,\n",
       " 3: 0.5333333333333333,\n",
       " 4: 0.6,\n",
       " 5: 0.5333333333333333,\n",
       " 6: 0.0,\n",
       " 7: 0.0}"
      ]
     },
     "execution_count": 79,
     "metadata": {},
     "output_type": "execute_result"
    }
   ],
   "source": [
    "nx.betweenness_centrality(G)"
   ]
  },
  {
   "cell_type": "markdown",
   "id": "b2cedd32",
   "metadata": {},
   "source": [
    "**Resilience Metrics**\n",
    "\n",
    "**Assortativity Coefficient**: Tendency of nodes being connected to similar nodes. One such way is to use **pearson correlation coefficient** between degrees of directly connected nodes (nodes on two opposite ends of a link). Coefficient assumes positive values when there is a correlation between nodes of a similar degree, and negative values when correlation between nodes of a different degree."
   ]
  },
  {
   "cell_type": "code",
   "execution_count": 80,
   "id": "9eb79038",
   "metadata": {},
   "outputs": [
    {
     "data": {
      "text/plain": [
       "-0.6"
      ]
     },
     "execution_count": 80,
     "metadata": {},
     "output_type": "execute_result"
    }
   ],
   "source": [
    "nx.degree_pearson_correlation_coefficient(G)"
   ]
  },
  {
   "cell_type": "markdown",
   "id": "7433b360",
   "metadata": {},
   "source": [
    "More networkx algorithms can be found here: https://networkx.org/documentation/stable/reference/algorithms/"
   ]
  },
  {
   "cell_type": "code",
   "execution_count": null,
   "id": "514bc955",
   "metadata": {},
   "outputs": [],
   "source": []
  }
 ],
 "metadata": {
  "kernelspec": {
   "display_name": "Python 3.9.13 ('venv': venv)",
   "language": "python",
   "name": "python3"
  },
  "language_info": {
   "codemirror_mode": {
    "name": "ipython",
    "version": 3
   },
   "file_extension": ".py",
   "mimetype": "text/x-python",
   "name": "python",
   "nbconvert_exporter": "python",
   "pygments_lexer": "ipython3",
   "version": "3.9.13"
  },
  "vscode": {
   "interpreter": {
    "hash": "63383c2a68c062c071f75888e0186e64940c33bbd30fa02b08cd99ee71ee0b47"
   }
  }
 },
 "nbformat": 4,
 "nbformat_minor": 5
}
