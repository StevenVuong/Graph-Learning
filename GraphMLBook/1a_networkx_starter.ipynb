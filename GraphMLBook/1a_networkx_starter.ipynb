{
 "cells": [
  {
   "cell_type": "markdown",
   "id": "344c6515-27ec-4b0f-b5cd-9cdd7dcc4d72",
   "metadata": {},
   "source": [
    "# 1) Undirected Graphs"
   ]
  },
  {
   "cell_type": "code",
   "execution_count": 12,
   "id": "87d92478-d205-4925-9c19-ce347d6b4a99",
   "metadata": {},
   "outputs": [],
   "source": [
    "import networkx as nx\n",
    "\n",
    "G = nx.Graph()\n",
    "V = {'Dublin', 'Paris', 'Milan', 'Rome'}\n",
    "E = [('Milan', 'Dublin'), ('Milan', 'Paris'), ('Paris', 'Dublin'), ('Milan', 'Rome')]\n",
    "\n",
    "G.add_nodes_from(V)\n",
    "G.add_edges_from(E)"
   ]
  },
  {
   "cell_type": "code",
   "execution_count": 14,
   "id": "ca67e609-fbf3-45ee-a772-60be7acb40a6",
   "metadata": {},
   "outputs": [
    {
     "data": {
      "image/png": "[encoded data removed]",
      "text/plain": [
       "<Figure size 432x288 with 1 Axes>"
      ]
     },
     "metadata": {},
     "output_type": "display_data"
    }
   ],
   "source": [
    "nx.draw(G, with_labels=True)"
   ]
  },
  {
   "cell_type": "code",
   "execution_count": 15,
   "id": "f8824ceb-df57-4c53-a68e-3935f6fa3636",
   "metadata": {},
   "outputs": [
    {
     "name": "stdout",
     "output_type": "stream",
     "text": [
      "V = ['Rome', 'Paris', 'Milan', 'Dublin']\n",
      "E = [('Rome', 'Milan'), ('Paris', 'Milan'), ('Paris', 'Dublin'), ('Milan', 'Dublin')]\n"
     ]
    }
   ],
   "source": [
    "print(f\"V = {G.nodes}\")\n",
    "print(f\"E = {G.edges}\")"
   ]
  },
  {
   "cell_type": "code",
   "execution_count": 16,
   "id": "b869b6dd-a5a6-4965-82c1-001756a8ce57",
   "metadata": {},
   "outputs": [
    {
     "name": "stdout",
     "output_type": "stream",
     "text": [
      "Graph Order: 4\n",
      "Graph Size: 4\n",
      "Degree of nodes: {'Rome': 1, 'Paris': 2, 'Milan': 3, 'Dublin': 2}\n",
      "Neighbours for nodes {'Rome': ['Milan'], 'Paris': ['Milan', 'Dublin'], 'Milan': ['Dublin', 'Paris', 'Rome'], 'Dublin': ['Milan', 'Paris']}\n"
     ]
    }
   ],
   "source": [
    "print(f\"Graph Order: {G.number_of_nodes()}\")\n",
    "print(f\"Graph Size: {G.number_of_edges()}\")\n",
    "print(f\"Degree of nodes: { {v: G.degree(v) for v in G.nodes} }\")\n",
    "print(f\"Neighbours for nodes { {v: list(G.neighbors(v)) for v in G.nodes} }\")"
   ]
  },
  {
   "cell_type": "code",
   "execution_count": 17,
   "id": "1ef86514-f757-4f9e-aeb0-37cf5c245c52",
   "metadata": {},
   "outputs": [
    {
     "name": "stdout",
     "output_type": "stream",
     "text": [
      "Nodes: ['Rome', 'Paris', 'Milan', 'Dublin']\n",
      "Edges: [('Rome', 'Milan'), ('Paris', 'Milan'), ('Paris', 'Dublin'), ('Milan', 'Dublin')]\n"
     ]
    }
   ],
   "source": [
    "ego_graph_milan = nx.ego_graph(G, \"Milan\")\n",
    "print(f\"Nodes: {ego_graph_milan.nodes}\")\n",
    "print(f\"Edges: {ego_graph_milan.edges}\")"
   ]
  },
  {
   "cell_type": "code",
   "execution_count": 18,
   "id": "59215c09-31be-4e8c-b694-96a1e8d2da28",
   "metadata": {},
   "outputs": [
    {
     "name": "stdout",
     "output_type": "stream",
     "text": [
      "V = ['Rome', 'Paris', 'Milan', 'Dublin', 'London', 'Madrid']\n",
      "E = [('Rome', 'Milan'), ('Rome', 'London'), ('Paris', 'Milan'), ('Paris', 'Dublin'), ('Paris', 'Madrid'), ('Milan', 'Dublin')]\n"
     ]
    }
   ],
   "source": [
    "# Add new nodes and edges\n",
    "new_nodes = {'London', 'Madrid'}\n",
    "new_edges = {('London', 'Rome'), ('Madrid', 'Paris')}\n",
    "G.add_nodes_from(new_nodes)\n",
    "G.add_edges_from(new_edges)\n",
    "print(f\"V = {G.nodes}\")\n",
    "print(f\"E = {G.edges}\")"
   ]
  },
  {
   "cell_type": "code",
   "execution_count": 19,
   "id": "b51866f1-e881-4249-a978-440bbe7b7228",
   "metadata": {},
   "outputs": [
    {
     "name": "stdout",
     "output_type": "stream",
     "text": [
      "V = ['Rome', 'Paris', 'Milan', 'Dublin']\n",
      "E = [('Rome', 'Milan'), ('Paris', 'Milan'), ('Paris', 'Dublin'), ('Milan', 'Dublin')]\n"
     ]
    }
   ],
   "source": [
    "node_remove = {'London', 'Madrid'}\n",
    "G.remove_nodes_from(node_remove)\n",
    "print(f\"V = {G.nodes}\")\n",
    "print(f\"E = {G.edges}\")"
   ]
  },
  {
   "cell_type": "markdown",
   "id": "e3153e87-7989-4593-b1f5-c95b86fc6443",
   "metadata": {},
   "source": [
    "The above also automatically removes edges that contain the removed nodes from the edge list."
   ]
  },
  {
   "cell_type": "code",
   "execution_count": 20,
   "id": "c2181b9d-04d9-4935-a0f5-0839f21dc67f",
   "metadata": {},
   "outputs": [
    {
     "name": "stdout",
     "output_type": "stream",
     "text": [
      "V = ['Rome', 'Paris', 'Milan', 'Dublin']\n",
      "E = [('Rome', 'Milan'), ('Paris', 'Dublin')]\n"
     ]
    }
   ],
   "source": [
    "node_edges = [('Milan', 'Dublin'), ('Milan', 'Paris')]\n",
    "G.remove_edges_from(node_edges)\n",
    "print(f\"V = {G.nodes}\")\n",
    "print(f\"E = {G.edges}\")"
   ]
  },
  {
   "cell_type": "markdown",
   "id": "b238a1cb-0104-49e6-8455-c4d578811452",
   "metadata": {},
   "source": [
    "# 2) Directed Edges\n",
    "\n",
    "-  (v<sub>k</sub>, v<sub>w</sub>) means node v<sub>k</sub> goes into v<sub>w</sub>, which is different from (v<sub>w</sub>, v<sub>k</sub>)\n",
    "-  (v<sub>w</sub>, v<sub>k</sub>) means node v<sub>w</sub> will go into v<sub>k</sub>.\n",
    "    -  v<sub>w</sub> is called the *head*\n",
    "    -  v<sub>k</sub> is called the *tail*\n",
    "  \n",
    "-  **Indegree**: Number of heads adjacent to head end of v. *deg*<sup>-</sup>(v)\n",
    "    -  Number of edges going inwards to a node\n",
    "-  **OutDegree**: Number of tail ends adjacent to v. *deg*<sup>+</sup>(v)\n",
    "    -  Number of edges going outwards from a node"
   ]
  },
  {
   "cell_type": "code",
   "execution_count": 21,
   "id": "72fcdf96-f3eb-4974-a3c7-a5794cda0bc9",
   "metadata": {},
   "outputs": [],
   "source": [
    "G = nx.DiGraph() # for directed graphs\n",
    "V = {'Dublin', 'Paris', 'Milan', 'Rome'}\n",
    "E = [('Milan', 'Dublin'), ('Paris', 'Milan'), ('Paris', 'Dublin'), ('Milan', 'Rome')]\n",
    "G.add_nodes_from(V)\n",
    "G.add_edges_from(E)"
   ]
  },
  {
   "cell_type": "code",
   "execution_count": 24,
   "id": "d0925d96-70c2-45ec-bcfe-3984088430a4",
   "metadata": {},
   "outputs": [
    {
     "data": {
      "image/png": "[encoded data removed]",
      "text/plain": [
       "<Figure size 432x288 with 1 Axes>"
      ]
     },
     "metadata": {},
     "output_type": "display_data"
    }
   ],
   "source": [
    "nx.draw(G, with_labels=True)"
   ]
  },
  {
   "cell_type": "code",
   "execution_count": 23,
   "id": "7da30997-9689-43a5-8146-ad6c5e4447f8",
   "metadata": {},
   "outputs": [
    {
     "name": "stdout",
     "output_type": "stream",
     "text": [
      "Indegree for nodes: {'Rome': 1, 'Paris': 0, 'Milan': 1, 'Dublin': 2}\n",
      "Outdegree for nodes: {'Rome': 0, 'Paris': 2, 'Milan': 2, 'Dublin': 0}\n"
     ]
    }
   ],
   "source": [
    "print(f\"Indegree for nodes: { {v: G.in_degree(v) for v in G.nodes} }\")\n",
    "print(f\"Outdegree for nodes: { {v: G.out_degree(v) for v in G.nodes} }\")"
   ]
  },
  {
   "cell_type": "markdown",
   "id": "65612aaa-5160-4287-83fd-96e928944cfb",
   "metadata": {},
   "source": [
    "# Multigraph\n",
    "Generalisation which allows multiple edges to have same pair of start and end nodes. \n",
    "\n",
    "**multigraph G** defined as `G=(V,E)` where V is a set of nodes and E is a multi-set (a set allowing multiple instances for each of its elements) of edges. This can be a **directed multigraph** if E is a multi-set of ordered couples, otherwise is **undirected multigraph** if E is a multi-set of two-sets."
   ]
  },
  {
   "cell_type": "code",
   "execution_count": 25,
   "id": "14f1f91f-908a-49a4-921b-6f2dde29f78e",
   "metadata": {},
   "outputs": [
    {
     "data": {
      "text/plain": [
       "[0, 1, 0, 0, 0, 1]"
      ]
     },
     "execution_count": 25,
     "metadata": {},
     "output_type": "execute_result"
    }
   ],
   "source": [
    "directed_multi_graph = nx.MultiDiGraph()\n",
    "undirected_multi_graph = nx.MultiGraph()\n",
    "v = {'Dublin', 'Paris', 'Milan', 'Rome'}\n",
    "E = [('Milan', 'Dublin'), ('Milan', 'Dublin'), ('Paris', 'Milan'), ('Paris', 'Dublin'), ('Milan', 'Rome'), ('Milan', 'Rome')]\n",
    "directed_multi_graph.add_nodes_from(V)\n",
    "undirected_multi_graph.add_nodes_from(V)\n",
    "directed_multi_graph.add_edges_from(E)\n",
    "undirected_multi_graph.add_edges_from(E)"
   ]
  },
  {
   "cell_type": "code",
   "execution_count": 26,
   "id": "61c20a2d-9698-4aa6-a2c1-4e1c22576dbf",
   "metadata": {},
   "outputs": [
    {
     "data": {
      "image/png": "[encoded data removed]",
      "text/plain": [
       "<Figure size 432x288 with 1 Axes>"
      ]
     },
     "metadata": {},
     "output_type": "display_data"
    }
   ],
   "source": [
    "nx.draw(directed_multi_graph, with_labels=True)"
   ]
  },
  {
   "cell_type": "code",
   "execution_count": 27,
   "id": "9f1d28f2-2408-4961-a7f5-fa4bf19e3a91",
   "metadata": {},
   "outputs": [
    {
     "data": {
      "image/png": "[encoded data removed]",
      "text/plain": [
       "<Figure size 432x288 with 1 Axes>"
      ]
     },
     "metadata": {},
     "output_type": "display_data"
    }
   ],
   "source": [
    "nx.draw(undirected_multi_graph, with_labels=True)"
   ]
  },
  {
   "cell_type": "markdown",
   "id": "5a4c46fb-f3a0-4472-9368-99a9725a5e67",
   "metadata": {},
   "source": [
    "## Weighted Edges\n",
    "\n",
    "-  **edge-weighted graph** (weighted graph) G is defined as *G=(V,E,w)* where V is a set of nodes, E is a set of edges, and w:E -> ${\\rm I\\!R}$ is a weighted function that assigns at each edge e $ \\in $ E a weight expressed as a real number.\n",
    "-  **node-weighted graph** G is defined as *G=(V,E,w)* where V is a set of nodes, E is a set of edges and w:V -> ${\\rm I\\!R}$ is the weighted function that assigns each node v $ \\in $ V a weight expressed as a real number.\n",
    "\n",
    "Note:\n",
    "-  If E is a set of ordered couples, then we call it a **directed weighted graph**\n",
    "-  If E is a set of two-sets, then we call it a **undirected weighted graph**\n",
    "-  If E is a multi-set, then we call it a **weighted multigraph (directed weighted multigraph)**\n",
    "-  If E is a multi-set of ordered couples, it is an **undirected weighted multigraph**"
   ]
  },
  {
   "cell_type": "code",
   "execution_count": 28,
   "id": "778bbbd6-0313-4360-b797-bb14f75f5f24",
   "metadata": {},
   "outputs": [],
   "source": [
    "# Generate a directed weighted graph\n",
    "G = nx.DiGraph()\n",
    "V = {'Dublin', 'Paris', 'Milan', 'Rome'}\n",
    "E = [('Milan', 'Dublin', 19), ('Paris', 'Milan', 8), ('Paris', 'Dublin', 11), ('Milan', 'Rome', 5)]\n",
    "G.add_nodes_from(V)\n",
    "G.add_weighted_edges_from(E)"
   ]
  },
  {
   "cell_type": "code",
   "execution_count": 57,
   "id": "0bc3557e-f913-4cad-9529-b89ea890f76d",
   "metadata": {},
   "outputs": [
    {
     "data": {
      "text/plain": [
       "{('Paris', 'Milan'): Text(0.09033294333614009, -0.2003203068757814, '8'),\n",
       " ('Paris', 'Dublin'): Text(0.21287602603866096, -0.47206894780812925, '11'),\n",
       " ('Milan', 'Dublin'): Text(0.14773374369631373, -0.32761074531608925, '19'),\n",
       " ('Milan', 'Rome'): Text(-0.21287602603866096, 0.4720689478081293, '5')}"
      ]
     },
     "execution_count": 57,
     "metadata": {},
     "output_type": "execute_result"
    },
    {
     "data": {
      "image/png": "[encoded data removed]",
      "text/plain": [
       "<Figure size 432x288 with 1 Axes>"
      ]
     },
     "metadata": {},
     "output_type": "display_data"
    }
   ],
   "source": [
    "pos = nx.spring_layout(G, seed=7)  # positions for all nodes - seed for reproducibility\n",
    "\n",
    "nx.draw_networkx_nodes(G, pos, node_size=600)\n",
    "nx.draw_networkx_edges(G, pos, edgelist=G.edges, width=2)\n",
    "nx.draw_networkx_labels(G, pos, font_size=10, font_family=\"sans-serif\")\n",
    "edge_labels = nx.get_edge_attributes(G, \"weight\")\n",
    "nx.draw_networkx_edge_labels(G, pos, edge_labels)"
   ]
  },
  {
   "cell_type": "markdown",
   "id": "434b8206-d27a-453b-b337-0d7a8e28aea5",
   "metadata": {},
   "source": [
    "### Bipartite Graphs"
   ]
  },
  {
   "cell_type": "code",
   "execution_count": null,
   "id": "423681b1-3c97-4156-92d7-3852d17893ff",
   "metadata": {},
   "outputs": [],
   "source": []
  }
 ],
 "metadata": {
  "kernelspec": {
   "display_name": "Python 3 (ipykernel)",
   "language": "python",
   "name": "python3"
  },
  "language_info": {
   "codemirror_mode": {
    "name": "ipython",
    "version": 3
   },
   "file_extension": ".py",
   "mimetype": "text/x-python",
   "name": "python",
   "nbconvert_exporter": "python",
   "pygments_lexer": "ipython3",
   "version": "3.9.13"
  }
 },
 "nbformat": 4,
 "nbformat_minor": 5
}
