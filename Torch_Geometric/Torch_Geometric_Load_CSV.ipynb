{
  "nbformat": 4,
  "nbformat_minor": 0,
  "metadata": {
    "colab": {
      "name": "Torch Geometric Load CSV.ipynb",
      "provenance": []
    },
    "kernelspec": {
      "name": "python3",
      "display_name": "Python 3"
    },
    "language_info": {
      "name": "python"
    },
    "accelerator": "GPU"
  },
  "cells": [
    {
      "cell_type": "markdown",
      "source": [
        "src: https://github.com/pyg-team/pytorch_geometric/blob/master/examples/hetero/load_csv.py"
      ],
      "metadata": {
        "id": "Al9zhL1VfNVL"
      }
    },
    {
      "cell_type": "code",
      "source": [
        "!pip install sentence-transformers\n",
        "\n",
        "import os\n",
        "import torch\n",
        "os.environ['TORCH'] = torch.__version__\n",
        "print(torch.__version__)\n",
        "\n",
        "!pip install -q torch-scatter -f https://data.pyg.org/whl/torch-${TORCH}.html\n",
        "!pip install -q torch-sparse -f https://data.pyg.org/whl/torch-${TORCH}.html\n",
        "!pip install -q git+https://github.com/pyg-team/pytorch_geometric.git"
      ],
      "metadata": {
        "id": "Mi9cBWSpajg_"
      },
      "execution_count": null,
      "outputs": []
    },
    {
      "cell_type": "code",
      "execution_count": 2,
      "metadata": {
        "id": "RWjFYpHtaLzR"
      },
      "outputs": [],
      "source": [
        "import os.path as osp\n",
        "\n",
        "import pandas as pd\n",
        "import torch\n",
        "from sentence_transformers import SentenceTransformer\n",
        "\n",
        "from torch_geometric.data import HeteroData, download_url, extract_zip\n",
        "from torch_geometric.transforms import RandomLinkSplit, ToUndirected"
      ]
    },
    {
      "cell_type": "code",
      "source": [
        "url = 'https://files.grouplens.org/datasets/movielens/ml-latest-small.zip'\n",
        "root =  './data/MovieLens'\n",
        "extract_zip(download_url(url, root), root)\n",
        "movie_path = osp.join(root, 'ml-latest-small', 'movies.csv')\n",
        "rating_path = osp.join(root, 'ml-latest-small', 'ratings.csv')"
      ],
      "metadata": {
        "colab": {
          "base_uri": "https://localhost:8080/"
        },
        "id": "23vkwJ3WabYg",
        "outputId": "62c491ce-ebb8-41af-ae3b-768966bfa1b7"
      },
      "execution_count": 4,
      "outputs": [
        {
          "output_type": "stream",
          "name": "stderr",
          "text": [
            "Downloading https://files.grouplens.org/datasets/movielens/ml-latest-small.zip\n",
            "Extracting ./data/MovieLens/ml-latest-small.zip\n"
          ]
        }
      ]
    },
    {
      "cell_type": "code",
      "source": [
        "def load_node_csv(path, index_col, encoders=None, **kwargs):\n",
        "    df = pd.read_csv(path, index_col=index_col, **kwargs)\n",
        "    mapping = {index: i for i, index in enumerate(df.index.unique())}\n",
        "\n",
        "    x = None\n",
        "    if encoders is not None:\n",
        "        xs = [encoder(df[col]) for col, encoder in encoders.items()]\n",
        "        x = torch.cat(xs, dim=-1)\n",
        "\n",
        "    return x, mapping\n",
        "\n",
        "def load_edge_csv(path, src_index_col, src_mapping, dst_index_col, dst_mapping,\n",
        "                  encoders=None, **kwargs):\n",
        "    df = pd.read_csv(path, **kwargs)\n",
        "\n",
        "    src = [src_mapping[index] for index in df[src_index_col]]\n",
        "    dst = [dst_mapping[index] for index in df[dst_index_col]]\n",
        "    edge_index = torch.tensor([src, dst])\n",
        "\n",
        "    edge_attr = None\n",
        "    if encoders is not None:\n",
        "        edge_attrs = [encoder(df[col]) for col, encoder in encoders.items()]\n",
        "        edge_attr = torch.cat(edge_attrs, dim=-1)\n",
        "\n",
        "    return edge_index, edge_attr"
      ],
      "metadata": {
        "id": "t5pSeejcaeT-"
      },
      "execution_count": 5,
      "outputs": []
    },
    {
      "cell_type": "code",
      "source": [
        "class SequenceEncoder(object):\n",
        "    # The 'SequenceEncoder' encodes raw column strings into embeddings.\n",
        "    def __init__(self, model_name='all-MiniLM-L6-v2', device=None):\n",
        "        self.device = device\n",
        "        self.model = SentenceTransformer(model_name, device=device)\n",
        "\n",
        "    @torch.no_grad()\n",
        "    def __call__(self, df):\n",
        "        x = self.model.encode(df.values, show_progress_bar=True,\n",
        "                              convert_to_tensor=True, device=self.device)\n",
        "        return x.cpu()\n",
        "\n",
        "\n",
        "class GenresEncoder(object):\n",
        "    # The 'GenreEncoder' splits the raw column strings by 'sep' and converts\n",
        "    # individual elements to categorical labels.\n",
        "    def __init__(self, sep='|'):\n",
        "        self.sep = sep\n",
        "\n",
        "    def __call__(self, df):\n",
        "        genres = set(g for col in df.values for g in col.split(self.sep))\n",
        "        mapping = {genre: i for i, genre in enumerate(genres)}\n",
        "\n",
        "        x = torch.zeros(len(df), len(mapping))\n",
        "        for i, col in enumerate(df.values):\n",
        "            for genre in col.split(self.sep):\n",
        "                x[i, mapping[genre]] = 1\n",
        "        return x\n",
        "\n",
        "\n",
        "class IdentityEncoder(object):\n",
        "    # The 'IdentityEncoder' takes the raw column values and converts them to\n",
        "    # PyTorch tensors.\n",
        "    def __init__(self, dtype=None):\n",
        "        self.dtype = dtype\n",
        "\n",
        "    def __call__(self, df):\n",
        "        return torch.from_numpy(df.values).view(-1, 1).to(self.dtype)\n"
      ],
      "metadata": {
        "id": "74DqA6aqb_gd"
      },
      "execution_count": 6,
      "outputs": []
    },
    {
      "cell_type": "code",
      "source": [
        "\n",
        "import os.path as osp\n",
        "\n",
        "import pandas as pd\n",
        "import torch\n",
        "from sentence_transformers import SentenceTransformer\n",
        "\n",
        "from torch_geometric.data import HeteroData, download_url, extract_zip\n",
        "from torch_geometric.transforms import RandomLinkSplit, ToUndirected\n",
        "\n",
        "url = 'https://files.grouplens.org/datasets/movielens/ml-latest-small.zip'\n",
        "root = osp.join(osp.dirname(osp.realpath(__file__)), '../../data/MovieLens')\n",
        "extract_zip(download_url(url, root), root)\n",
        "movie_path = osp.join(root, 'ml-latest-small', 'movies.csv')\n",
        "rating_path = osp.join(root, 'ml-latest-small', 'ratings.csv')\n",
        "\n",
        "\n",
        "def load_node_csv(path, index_col, encoders=None, **kwargs):\n",
        "    df = pd.read_csv(path, index_col=index_col, **kwargs)\n",
        "    mapping = {index: i for i, index in enumerate(df.index.unique())}\n",
        "\n",
        "    x = None\n",
        "    if encoders is not None:\n",
        "        xs = [encoder(df[col]) for col, encoder in encoders.items()]\n",
        "        x = torch.cat(xs, dim=-1)\n",
        "\n",
        "    return x, mapping\n",
        "\n",
        "\n",
        "def load_edge_csv(path, src_index_col, src_mapping, dst_index_col, dst_mapping,\n",
        "                  encoders=None, **kwargs):\n",
        "    df = pd.read_csv(path, **kwargs)\n",
        "\n",
        "    src = [src_mapping[index] for index in df[src_index_col]]\n",
        "    dst = [dst_mapping[index] for index in df[dst_index_col]]\n",
        "    edge_index = torch.tensor([src, dst])\n",
        "\n",
        "    edge_attr = None\n",
        "    if encoders is not None:\n",
        "        edge_attrs = [encoder(df[col]) for col, encoder in encoders.items()]\n",
        "        edge_attr = torch.cat(edge_attrs, dim=-1)\n",
        "\n",
        "    return edge_index, edge_attr\n",
        "\n",
        "\n",
        "class SequenceEncoder(object):\n",
        "    # The 'SequenceEncoder' encodes raw column strings into embeddings.\n",
        "    def __init__(self, model_name='all-MiniLM-L6-v2', device=None):\n",
        "        self.device = device\n",
        "        self.model = SentenceTransformer(model_name, device=device)\n",
        "\n",
        "    @torch.no_grad()\n",
        "    def __call__(self, df):\n",
        "        x = self.model.encode(df.values, show_progress_bar=True,\n",
        "                              convert_to_tensor=True, device=self.device)\n",
        "        return x.cpu()\n",
        "\n",
        "\n",
        "class GenresEncoder(object):\n",
        "    # The 'GenreEncoder' splits the raw column strings by 'sep' and converts\n",
        "    # individual elements to categorical labels.\n",
        "    def __init__(self, sep='|'):\n",
        "        self.sep = sep\n",
        "\n",
        "    def __call__(self, df):\n",
        "        genres = set(g for col in df.values for g in col.split(self.sep))\n",
        "        mapping = {genre: i for i, genre in enumerate(genres)}\n",
        "\n",
        "        x = torch.zeros(len(df), len(mapping))\n",
        "        for i, col in enumerate(df.values):\n",
        "            for genre in col.split(self.sep):\n",
        "                x[i, mapping[genre]] = 1\n",
        "        return x\n",
        "\n",
        "\n",
        "class IdentityEncoder(object):\n",
        "    # The 'IdentityEncoder' takes the raw column values and converts them to\n",
        "    # PyTorch tensors.\n",
        "    def __init__(self, dtype=None):\n",
        "        self.dtype = dtype\n",
        "\n",
        "    def __call__(self, df):\n",
        "        return torch.from_numpy(df.values).view(-1, 1).to(self.dtype)"
      ],
      "metadata": {
        "id": "6DTOuAG4cGrr"
      },
      "execution_count": null,
      "outputs": []
    },
    {
      "cell_type": "code",
      "source": [
        "# mapping between index and user id\n",
        "user_x, user_mapping = load_node_csv(rating_path, index_col='userId')"
      ],
      "metadata": {
        "id": "7tWDm70ocMKN"
      },
      "execution_count": 10,
      "outputs": []
    },
    {
      "cell_type": "code",
      "source": [
        "# encode title with sequence encoder\n",
        "# encode genre with genre encoder\n",
        "# mapping is index to movie id\n",
        "# movie_x is concatenated embeddings for the given movie\n",
        "movie_x, movie_mapping = load_node_csv(\n",
        "    movie_path, index_col='movieId', encoders={\n",
        "        'title': SequenceEncoder(),\n",
        "        'genres': GenresEncoder()\n",
        "    })\n"
      ],
      "metadata": {
        "id": "Yp090teqcLAC"
      },
      "execution_count": null,
      "outputs": []
    },
    {
      "cell_type": "code",
      "source": [
        "# edge index is all the edges between user id and movie id (2, 100_836)\n",
        "# edge label is the rating for each edge\n",
        "edge_index, edge_label = load_edge_csv(\n",
        "    rating_path,\n",
        "    src_index_col='userId',\n",
        "    src_mapping=user_mapping,\n",
        "    dst_index_col='movieId',\n",
        "    dst_mapping=movie_mapping,\n",
        "    encoders={'rating': IdentityEncoder(dtype=torch.long)},\n",
        ")"
      ],
      "metadata": {
        "id": "f3UtTLZLdMAO"
      },
      "execution_count": 21,
      "outputs": []
    },
    {
      "cell_type": "code",
      "source": [
        "# create hetero data object\n",
        "data = HeteroData()\n",
        "data['user'].num_nodes = len(user_mapping)  # Users do not have any features.\n",
        "data['movie'].x = movie_x\n",
        "data['user', 'rates', 'movie'].edge_index = edge_index # assign edges\n",
        "data['user', 'rates', 'movie'].edge_label = edge_label # assign labels to the edges\n",
        "print(data)"
      ],
      "metadata": {
        "colab": {
          "base_uri": "https://localhost:8080/"
        },
        "id": "3aGth0wYeFMB",
        "outputId": "26f7f178-592f-4b6f-cef0-0144d02f3284"
      },
      "execution_count": 30,
      "outputs": [
        {
          "output_type": "stream",
          "name": "stdout",
          "text": [
            "HeteroData(\n",
            "  \u001b[1muser\u001b[0m={ num_nodes=610 },\n",
            "  \u001b[1mmovie\u001b[0m={ x=[9742, 404] },\n",
            "  \u001b[1m(user, rates, movie)\u001b[0m={\n",
            "    edge_index=[2, 100836],\n",
            "    edge_label=[100836, 1]\n",
            "  }\n",
            ")\n"
          ]
        }
      ]
    },
    {
      "cell_type": "code",
      "source": [
        "# We can now convert `data` into an appropriate format for training a\n",
        "# graph-based machine learning model:\n",
        "\n",
        "# 1. Add a reverse ('movie', 'rev_rates', 'user') relation for message passing.\n",
        "data = ToUndirected()(data)\n",
        "del data['movie', 'rev_rates', 'user'].edge_label  # Remove \"reverse\" label.\n",
        "\n",
        "# 2. Perform a link-level split into training, validation, and test edges.\n",
        "transform = RandomLinkSplit(\n",
        "    num_val=0.05,\n",
        "    num_test=0.1,\n",
        "    neg_sampling_ratio=0.0,\n",
        "    edge_types=[('user', 'rates', 'movie')],\n",
        "    rev_edge_types=[('movie', 'rev_rates', 'user')],\n",
        ")\n",
        "train_data, val_data, test_data = transform(data)\n",
        "print(train_data)\n",
        "print(val_data)\n",
        "print(test_data)"
      ],
      "metadata": {
        "colab": {
          "base_uri": "https://localhost:8080/"
        },
        "id": "d8G5YPlxe1sP",
        "outputId": "316f59fa-e372-4e3c-a812-2485e510ce81"
      },
      "execution_count": 31,
      "outputs": [
        {
          "output_type": "stream",
          "name": "stdout",
          "text": [
            "HeteroData(\n",
            "  \u001b[1muser\u001b[0m={ num_nodes=610 },\n",
            "  \u001b[1mmovie\u001b[0m={ x=[9742, 404] },\n",
            "  \u001b[1m(user, rates, movie)\u001b[0m={\n",
            "    edge_index=[2, 85712],\n",
            "    edge_label=[85712, 1],\n",
            "    edge_label_index=[2, 85712]\n",
            "  },\n",
            "  \u001b[1m(movie, rev_rates, user)\u001b[0m={ edge_index=[2, 85712] }\n",
            ")\n",
            "HeteroData(\n",
            "  \u001b[1muser\u001b[0m={ num_nodes=610 },\n",
            "  \u001b[1mmovie\u001b[0m={ x=[9742, 404] },\n",
            "  \u001b[1m(user, rates, movie)\u001b[0m={\n",
            "    edge_index=[2, 85712],\n",
            "    edge_label=[5041, 1],\n",
            "    edge_label_index=[2, 5041]\n",
            "  },\n",
            "  \u001b[1m(movie, rev_rates, user)\u001b[0m={ edge_index=[2, 85712] }\n",
            ")\n",
            "HeteroData(\n",
            "  \u001b[1muser\u001b[0m={ num_nodes=610 },\n",
            "  \u001b[1mmovie\u001b[0m={ x=[9742, 404] },\n",
            "  \u001b[1m(user, rates, movie)\u001b[0m={\n",
            "    edge_index=[2, 90753],\n",
            "    edge_label=[10083, 1],\n",
            "    edge_label_index=[2, 10083]\n",
            "  },\n",
            "  \u001b[1m(movie, rev_rates, user)\u001b[0m={ edge_index=[2, 90753] }\n",
            ")\n"
          ]
        }
      ]
    }
  ]
}