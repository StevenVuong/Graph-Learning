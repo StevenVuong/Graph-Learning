{
  "nbformat": 4,
  "nbformat_minor": 0,
  "metadata": {
    "colab": {
      "name": "6. GNN Explanation.ipynb",
      "provenance": [],
      "collapsed_sections": []
    },
    "kernelspec": {
      "display_name": "Python 3",
      "name": "python3"
    }
  },
  "cells": [
    {
      "cell_type": "code",
      "metadata": {
        "colab": {
          "base_uri": "https://localhost:8080/"
        },
        "id": "F1op-CbyLuN4",
        "outputId": "17c129c3-50c7-410c-a19c-8f6aa713411b"
      },
      "source": [
        "# Install required packages.\n",
        "import os\n",
        "import torch\n",
        "os.environ['TORCH'] = torch.__version__\n",
        "print(torch.__version__)\n",
        "\n",
        "!pip install -q torch-scatter -f https://data.pyg.org/whl/torch-${TORCH}.html\n",
        "!pip install -q torch-sparse -f https://data.pyg.org/whl/torch-${TORCH}.html\n",
        "!pip install -q git+https://github.com/pyg-team/pytorch_geometric.git\n",
        "!pip install -q captum\n",
        "\n",
        "# Helper function for visualization.\n",
        "%matplotlib inline\n",
        "import matplotlib.pyplot as plt"
      ],
      "execution_count": 1,
      "outputs": [
        {
          "output_type": "stream",
          "name": "stdout",
          "text": [
            "1.11.0+cu113\n",
            "\u001b[K     |████████████████████████████████| 7.9 MB 2.7 MB/s \n",
            "\u001b[K     |████████████████████████████████| 3.5 MB 3.1 MB/s \n",
            "\u001b[?25h  Building wheel for torch-geometric (setup.py) ... \u001b[?25l\u001b[?25hdone\n",
            "\u001b[K     |████████████████████████████████| 1.4 MB 5.2 MB/s \n",
            "\u001b[?25h"
          ]
        }
      ]
    },
    {
      "cell_type": "markdown",
      "metadata": {
        "id": "nMTL0kk0seBw"
      },
      "source": [
        "# Explaining GNN Model Predictions using Captum\n",
        "\n",
        "In this tutorial we demonstrate how to apply feature attribution methods to graphs. Specifically, we try to find the most important edges for each instance prediction.  \n",
        "\n",
        "We use the Mutagenicity dataset from [TUDatasets](https://chrsmrrs.github.io/datasets/). This dataset consists of 4337 molecule graphs where the task is to predict the molecule mutagenicity."
      ]
    },
    {
      "cell_type": "markdown",
      "metadata": {
        "id": "mJtgD2A1uJAa"
      },
      "source": [
        "## Loading the dataset\n",
        "\n",
        "We load the dataset and use 10% of the data as the test split."
      ]
    },
    {
      "cell_type": "code",
      "metadata": {
        "colab": {
          "base_uri": "https://localhost:8080/"
        },
        "id": "SE2iREv4q2dL",
        "outputId": "d31c3d18-d8fd-4c23-d9da-8a05a534f000"
      },
      "source": [
        "from torch_geometric.loader import DataLoader\n",
        "from torch_geometric.datasets import TUDataset\n",
        "\n",
        "path = '.'\n",
        "dataset = TUDataset(path, name='Mutagenicity').shuffle()\n",
        "test_dataset = dataset[:len(dataset) // 10]\n",
        "train_dataset = dataset[len(dataset) // 10:]\n",
        "test_loader = DataLoader(test_dataset, batch_size=128)\n",
        "train_loader = DataLoader(train_dataset, batch_size=128)"
      ],
      "execution_count": 2,
      "outputs": [
        {
          "output_type": "stream",
          "name": "stderr",
          "text": [
            "Downloading https://www.chrsmrrs.com/graphkerneldatasets/Mutagenicity.zip\n",
            "Extracting ./Mutagenicity/Mutagenicity.zip\n",
            "Processing...\n",
            "Done!\n"
          ]
        }
      ]
    },
    {
      "cell_type": "markdown",
      "metadata": {
        "id": "g35SSQ3oukNM"
      },
      "source": [
        "## Visualizing the data\n",
        "\n",
        "We define some utility functions for visualizing the molecules and draw a random molecule."
      ]
    },
    {
      "cell_type": "code",
      "metadata": {
        "id": "9Hh3YNASuYxm"
      },
      "source": [
        "import networkx as nx\n",
        "import numpy as np\n",
        "\n",
        "from torch_geometric.utils import to_networkx\n",
        "\n",
        "\n",
        "def draw_molecule(g, edge_mask=None, draw_edge_labels=False):\n",
        "    g = g.copy().to_undirected()\n",
        "    node_labels = {}\n",
        "    for u, data in g.nodes(data=True):\n",
        "        node_labels[u] = data['name']\n",
        "    pos = nx.planar_layout(g)\n",
        "    pos = nx.spring_layout(g, pos=pos)\n",
        "    if edge_mask is None:\n",
        "        edge_color = 'black'\n",
        "        widths = None\n",
        "    else:\n",
        "        edge_color = [edge_mask[(u, v)] for u, v in g.edges()]\n",
        "        widths = [x * 10 for x in edge_color]\n",
        "    nx.draw(g, pos=pos, labels=node_labels, width=widths,\n",
        "            edge_color=edge_color, edge_cmap=plt.cm.Blues,\n",
        "            node_color='azure')\n",
        "    \n",
        "    if draw_edge_labels and edge_mask is not None:\n",
        "        edge_labels = {k: ('%.2f' % v) for k, v in edge_mask.items()}    \n",
        "        nx.draw_networkx_edge_labels(g, pos, edge_labels=edge_labels,\n",
        "                                    font_color='red')\n",
        "    plt.show()\n",
        "\n",
        "\n",
        "def to_molecule(data):\n",
        "    ATOM_MAP = ['C', 'O', 'Cl', 'H', 'N', 'F',\n",
        "                'Br', 'S', 'P', 'I', 'Na', 'K', 'Li', 'Ca']\n",
        "    g = to_networkx(data, node_attrs=['x'])\n",
        "    for u, data in g.nodes(data=True):\n",
        "        data['name'] = ATOM_MAP[data['x'].index(1.0)]\n",
        "        del data['x']\n",
        "    return g\n"
      ],
      "execution_count": 3,
      "outputs": []
    },
    {
      "cell_type": "markdown",
      "metadata": {
        "id": "cJ3JuTH1vV1V"
      },
      "source": [
        "## Sample visualization\n",
        "\n",
        "We sample a single molecule from train_dataset and visualize it"
      ]
    },
    {
      "cell_type": "code",
      "metadata": {
        "colab": {
          "base_uri": "https://localhost:8080/",
          "height": 391
        },
        "id": "4Z2uE7zVuhXU",
        "outputId": "14795a19-032e-4836-b07d-b5fe6b594e7f"
      },
      "source": [
        "import random\n",
        "\n",
        "data = random.choice([t for t in train_dataset])\n",
        "mol = to_molecule(data)\n",
        "plt.figure(figsize=(10, 5))\n",
        "draw_molecule(mol)"
      ],
      "execution_count": null,
      "outputs": [
        {
          "data": {
            "image/png": "[encoded data removed]",
            "text/plain": [
              "<Figure size 720x360 with 1 Axes>"
            ]
          },
          "metadata": {},
          "output_type": "display_data"
        }
      ]
    },
    {
      "cell_type": "markdown",
      "metadata": {
        "id": "6kZo9g1hwCGG"
      },
      "source": [
        "## Training the model\n",
        "\n",
        "In the next section, we train a GNN model with 5 convolution layers. We use GraphConv which supports `edge_weight` as a parameter. Many convolution layers in Pytorch Geometric supoort this argument."
      ]
    },
    {
      "cell_type": "markdown",
      "metadata": {
        "id": "GBVIOfMCCHAb"
      },
      "source": [
        "### Define the model"
      ]
    },
    {
      "cell_type": "code",
      "metadata": {
        "id": "iI1qpFUhrA2p"
      },
      "source": [
        "import torch\n",
        "from torch.nn import Linear\n",
        "import torch.nn.functional as F\n",
        "\n",
        "from torch_geometric.nn import GraphConv, global_add_pool\n",
        "\n",
        "class Net(torch.nn.Module):\n",
        "    def __init__(self, dim):\n",
        "        super(Net, self).__init__()\n",
        "\n",
        "        num_features = dataset.num_features\n",
        "        self.dim = dim\n",
        "\n",
        "        self.conv1 = GraphConv(num_features, dim)\n",
        "        self.conv2 = GraphConv(dim, dim)\n",
        "        self.conv3 = GraphConv(dim, dim)\n",
        "        self.conv4 = GraphConv(dim, dim)\n",
        "        self.conv5 = GraphConv(dim, dim)\n",
        "\n",
        "        self.lin1 = Linear(dim, dim)\n",
        "        self.lin2 = Linear(dim, dataset.num_classes)\n",
        "\n",
        "    def forward(self, x, edge_index, batch, edge_weight=None):\n",
        "        x = self.conv1(x, edge_index, edge_weight).relu()\n",
        "        x = self.conv2(x, edge_index, edge_weight).relu()\n",
        "        x = self.conv3(x, edge_index, edge_weight).relu()\n",
        "        x = self.conv4(x, edge_index, edge_weight).relu()\n",
        "        x = self.conv5(x, edge_index, edge_weight).relu()\n",
        "        x = global_add_pool(x, batch)\n",
        "        x = self.lin1(x).relu()\n",
        "        x = F.dropout(x, p=0.5, training=self.training)\n",
        "        x = self.lin2(x)\n",
        "        return F.log_softmax(x, dim=-1)\n"
      ],
      "execution_count": 4,
      "outputs": []
    },
    {
      "cell_type": "markdown",
      "metadata": {
        "id": "L3WOZ40OCKO5"
      },
      "source": [
        "### Define train and test functions"
      ]
    },
    {
      "cell_type": "code",
      "metadata": {
        "id": "ExNsODp3rKjN"
      },
      "source": [
        "def train(epoch):\n",
        "    model.train()\n",
        "\n",
        "    if epoch == 51:\n",
        "        for param_group in optimizer.param_groups:\n",
        "            param_group['lr'] = 0.5 * param_group['lr']\n",
        "\n",
        "    loss_all = 0\n",
        "    for data in train_loader:\n",
        "        data = data.to(device)\n",
        "        optimizer.zero_grad()\n",
        "        output = model(data.x, data.edge_index, data.batch)\n",
        "        loss = F.nll_loss(output, data.y)\n",
        "        loss.backward()\n",
        "        loss_all += loss.item() * data.num_graphs\n",
        "        optimizer.step()\n",
        "    return loss_all / len(train_dataset)\n",
        "\n",
        "\n",
        "def test(loader):\n",
        "    model.eval()\n",
        "\n",
        "    correct = 0\n",
        "    for data in loader:\n",
        "        data = data.to(device)\n",
        "        output = model(data.x, data.edge_index, data.batch)\n",
        "        pred = output.max(dim=1)[1]\n",
        "        correct += pred.eq(data.y).sum().item()\n",
        "    return correct / len(loader.dataset)"
      ],
      "execution_count": 5,
      "outputs": []
    },
    {
      "cell_type": "markdown",
      "metadata": {
        "id": "rsv9CQ6hCNMI"
      },
      "source": [
        "### Train the model for 100 epochs\n",
        "\n",
        "The accuracy should be around 80% in the end"
      ]
    },
    {
      "cell_type": "code",
      "metadata": {
        "colab": {
          "base_uri": "https://localhost:8080/"
        },
        "id": "4imSoTlMrQdN",
        "outputId": "eaee63d0-3dd2-4dd0-c4fd-5440b72c53b2"
      },
      "source": [
        "device = torch.device('cuda' if torch.cuda.is_available() else 'cpu')\n",
        "model = Net(dim=32).to(device)\n",
        "optimizer = torch.optim.Adam(model.parameters(), lr=0.001)\n",
        "\n",
        "for epoch in range(1, 101):\n",
        "    loss = train(epoch)\n",
        "    train_acc = test(train_loader)\n",
        "    test_acc = test(test_loader)\n",
        "    print(f'Epoch: {epoch:03d}, Loss: {loss:.4f}, '\n",
        "          f'Train Acc: {train_acc:.4f}, Test Acc: {test_acc:.4f}')\n"
      ],
      "execution_count": 6,
      "outputs": [
        {
          "output_type": "stream",
          "name": "stdout",
          "text": [
            "Epoch: 001, Loss: 0.7476, Train Acc: 0.6519, Test Acc: 0.6513\n",
            "Epoch: 002, Loss: 0.6264, Train Acc: 0.6844, Test Acc: 0.7275\n",
            "Epoch: 003, Loss: 0.6003, Train Acc: 0.7113, Test Acc: 0.7275\n",
            "Epoch: 004, Loss: 0.5893, Train Acc: 0.7223, Test Acc: 0.7413\n",
            "Epoch: 005, Loss: 0.5676, Train Acc: 0.7362, Test Acc: 0.7229\n",
            "Epoch: 006, Loss: 0.5592, Train Acc: 0.7336, Test Acc: 0.7321\n",
            "Epoch: 007, Loss: 0.5388, Train Acc: 0.7592, Test Acc: 0.7875\n",
            "Epoch: 008, Loss: 0.5248, Train Acc: 0.7669, Test Acc: 0.7806\n",
            "Epoch: 009, Loss: 0.5240, Train Acc: 0.7700, Test Acc: 0.7737\n",
            "Epoch: 010, Loss: 0.5161, Train Acc: 0.7782, Test Acc: 0.7783\n",
            "Epoch: 011, Loss: 0.5073, Train Acc: 0.7815, Test Acc: 0.7991\n",
            "Epoch: 012, Loss: 0.5040, Train Acc: 0.7610, Test Acc: 0.7714\n",
            "Epoch: 013, Loss: 0.4946, Train Acc: 0.7756, Test Acc: 0.7783\n",
            "Epoch: 014, Loss: 0.4930, Train Acc: 0.7971, Test Acc: 0.8129\n",
            "Epoch: 015, Loss: 0.4745, Train Acc: 0.8015, Test Acc: 0.8222\n",
            "Epoch: 016, Loss: 0.4695, Train Acc: 0.8097, Test Acc: 0.8129\n",
            "Epoch: 017, Loss: 0.4612, Train Acc: 0.8058, Test Acc: 0.8129\n",
            "Epoch: 018, Loss: 0.4618, Train Acc: 0.8207, Test Acc: 0.8360\n",
            "Epoch: 019, Loss: 0.4448, Train Acc: 0.8276, Test Acc: 0.8291\n",
            "Epoch: 020, Loss: 0.4431, Train Acc: 0.8145, Test Acc: 0.8222\n",
            "Epoch: 021, Loss: 0.4528, Train Acc: 0.8286, Test Acc: 0.8314\n",
            "Epoch: 022, Loss: 0.4380, Train Acc: 0.8327, Test Acc: 0.8314\n",
            "Epoch: 023, Loss: 0.4385, Train Acc: 0.8345, Test Acc: 0.8453\n",
            "Epoch: 024, Loss: 0.4203, Train Acc: 0.8327, Test Acc: 0.8268\n",
            "Epoch: 025, Loss: 0.4185, Train Acc: 0.8368, Test Acc: 0.8268\n",
            "Epoch: 026, Loss: 0.4168, Train Acc: 0.8340, Test Acc: 0.8268\n",
            "Epoch: 027, Loss: 0.4201, Train Acc: 0.8402, Test Acc: 0.8245\n",
            "Epoch: 028, Loss: 0.4143, Train Acc: 0.8348, Test Acc: 0.8222\n",
            "Epoch: 029, Loss: 0.4119, Train Acc: 0.8332, Test Acc: 0.8129\n",
            "Epoch: 030, Loss: 0.4084, Train Acc: 0.8425, Test Acc: 0.8245\n",
            "Epoch: 031, Loss: 0.4017, Train Acc: 0.8473, Test Acc: 0.8406\n",
            "Epoch: 032, Loss: 0.3983, Train Acc: 0.8435, Test Acc: 0.8268\n",
            "Epoch: 033, Loss: 0.3924, Train Acc: 0.8409, Test Acc: 0.8199\n",
            "Epoch: 034, Loss: 0.3899, Train Acc: 0.8458, Test Acc: 0.8176\n",
            "Epoch: 035, Loss: 0.3920, Train Acc: 0.8468, Test Acc: 0.8176\n",
            "Epoch: 036, Loss: 0.3836, Train Acc: 0.8332, Test Acc: 0.8060\n",
            "Epoch: 037, Loss: 0.3822, Train Acc: 0.8455, Test Acc: 0.8199\n",
            "Epoch: 038, Loss: 0.3787, Train Acc: 0.8563, Test Acc: 0.8222\n",
            "Epoch: 039, Loss: 0.3782, Train Acc: 0.8548, Test Acc: 0.8360\n",
            "Epoch: 040, Loss: 0.3672, Train Acc: 0.8566, Test Acc: 0.8337\n",
            "Epoch: 041, Loss: 0.3681, Train Acc: 0.8435, Test Acc: 0.8245\n",
            "Epoch: 042, Loss: 0.3714, Train Acc: 0.8455, Test Acc: 0.8129\n",
            "Epoch: 043, Loss: 0.3695, Train Acc: 0.8558, Test Acc: 0.8222\n",
            "Epoch: 044, Loss: 0.3642, Train Acc: 0.8609, Test Acc: 0.8245\n",
            "Epoch: 045, Loss: 0.3574, Train Acc: 0.8560, Test Acc: 0.8129\n",
            "Epoch: 046, Loss: 0.3666, Train Acc: 0.8645, Test Acc: 0.8199\n",
            "Epoch: 047, Loss: 0.3626, Train Acc: 0.8655, Test Acc: 0.8291\n",
            "Epoch: 048, Loss: 0.3586, Train Acc: 0.8645, Test Acc: 0.8245\n",
            "Epoch: 049, Loss: 0.3660, Train Acc: 0.8648, Test Acc: 0.8430\n",
            "Epoch: 050, Loss: 0.3516, Train Acc: 0.8691, Test Acc: 0.8360\n",
            "Epoch: 051, Loss: 0.3355, Train Acc: 0.8586, Test Acc: 0.8360\n",
            "Epoch: 052, Loss: 0.3304, Train Acc: 0.8630, Test Acc: 0.8291\n",
            "Epoch: 053, Loss: 0.3323, Train Acc: 0.8522, Test Acc: 0.8268\n",
            "Epoch: 054, Loss: 0.3346, Train Acc: 0.8599, Test Acc: 0.8268\n",
            "Epoch: 055, Loss: 0.3314, Train Acc: 0.8532, Test Acc: 0.8291\n",
            "Epoch: 056, Loss: 0.3351, Train Acc: 0.8550, Test Acc: 0.8268\n",
            "Epoch: 057, Loss: 0.3239, Train Acc: 0.8619, Test Acc: 0.8314\n",
            "Epoch: 058, Loss: 0.3243, Train Acc: 0.8594, Test Acc: 0.8314\n",
            "Epoch: 059, Loss: 0.3144, Train Acc: 0.8627, Test Acc: 0.8337\n",
            "Epoch: 060, Loss: 0.3109, Train Acc: 0.8624, Test Acc: 0.8360\n",
            "Epoch: 061, Loss: 0.3104, Train Acc: 0.8671, Test Acc: 0.8314\n",
            "Epoch: 062, Loss: 0.3123, Train Acc: 0.8655, Test Acc: 0.8360\n",
            "Epoch: 063, Loss: 0.3095, Train Acc: 0.8704, Test Acc: 0.8360\n",
            "Epoch: 064, Loss: 0.3084, Train Acc: 0.8655, Test Acc: 0.8383\n",
            "Epoch: 065, Loss: 0.3089, Train Acc: 0.8742, Test Acc: 0.8406\n",
            "Epoch: 066, Loss: 0.3086, Train Acc: 0.8709, Test Acc: 0.8383\n",
            "Epoch: 067, Loss: 0.3050, Train Acc: 0.8719, Test Acc: 0.8337\n",
            "Epoch: 068, Loss: 0.3019, Train Acc: 0.8755, Test Acc: 0.8291\n",
            "Epoch: 069, Loss: 0.2985, Train Acc: 0.8791, Test Acc: 0.8337\n",
            "Epoch: 070, Loss: 0.2968, Train Acc: 0.8732, Test Acc: 0.8337\n",
            "Epoch: 071, Loss: 0.2980, Train Acc: 0.8699, Test Acc: 0.8245\n",
            "Epoch: 072, Loss: 0.2994, Train Acc: 0.8691, Test Acc: 0.8291\n",
            "Epoch: 073, Loss: 0.2973, Train Acc: 0.8788, Test Acc: 0.8245\n",
            "Epoch: 074, Loss: 0.2936, Train Acc: 0.8655, Test Acc: 0.8152\n",
            "Epoch: 075, Loss: 0.2877, Train Acc: 0.8819, Test Acc: 0.8268\n",
            "Epoch: 076, Loss: 0.2854, Train Acc: 0.8691, Test Acc: 0.8268\n",
            "Epoch: 077, Loss: 0.2935, Train Acc: 0.8730, Test Acc: 0.8222\n",
            "Epoch: 078, Loss: 0.2910, Train Acc: 0.8794, Test Acc: 0.8268\n",
            "Epoch: 079, Loss: 0.2845, Train Acc: 0.8845, Test Acc: 0.8360\n",
            "Epoch: 080, Loss: 0.2832, Train Acc: 0.8847, Test Acc: 0.8314\n",
            "Epoch: 081, Loss: 0.2893, Train Acc: 0.8809, Test Acc: 0.8222\n",
            "Epoch: 082, Loss: 0.2813, Train Acc: 0.8701, Test Acc: 0.8268\n",
            "Epoch: 083, Loss: 0.2802, Train Acc: 0.8668, Test Acc: 0.8199\n",
            "Epoch: 084, Loss: 0.2811, Train Acc: 0.8806, Test Acc: 0.8222\n",
            "Epoch: 085, Loss: 0.2752, Train Acc: 0.8786, Test Acc: 0.8199\n",
            "Epoch: 086, Loss: 0.2760, Train Acc: 0.8794, Test Acc: 0.8199\n",
            "Epoch: 087, Loss: 0.2709, Train Acc: 0.8835, Test Acc: 0.8199\n",
            "Epoch: 088, Loss: 0.2729, Train Acc: 0.8796, Test Acc: 0.8176\n",
            "Epoch: 089, Loss: 0.2799, Train Acc: 0.8975, Test Acc: 0.8268\n",
            "Epoch: 090, Loss: 0.2751, Train Acc: 0.8691, Test Acc: 0.8152\n",
            "Epoch: 091, Loss: 0.2713, Train Acc: 0.8801, Test Acc: 0.8176\n",
            "Epoch: 092, Loss: 0.2721, Train Acc: 0.8840, Test Acc: 0.8222\n",
            "Epoch: 093, Loss: 0.2651, Train Acc: 0.8783, Test Acc: 0.8152\n",
            "Epoch: 094, Loss: 0.2647, Train Acc: 0.8827, Test Acc: 0.8199\n",
            "Epoch: 095, Loss: 0.2663, Train Acc: 0.8791, Test Acc: 0.8199\n",
            "Epoch: 096, Loss: 0.2657, Train Acc: 0.8881, Test Acc: 0.8222\n",
            "Epoch: 097, Loss: 0.2696, Train Acc: 0.8847, Test Acc: 0.8199\n",
            "Epoch: 098, Loss: 0.2709, Train Acc: 0.8855, Test Acc: 0.8291\n",
            "Epoch: 099, Loss: 0.2659, Train Acc: 0.8804, Test Acc: 0.8314\n",
            "Epoch: 100, Loss: 0.2664, Train Acc: 0.8722, Test Acc: 0.8106\n"
          ]
        }
      ]
    },
    {
      "cell_type": "markdown",
      "metadata": {
        "id": "PzX9xwFxCTff"
      },
      "source": [
        "## Explaining the predictions\n",
        "\n",
        "Now we look at two popular attribution methods. First, we calculate the gradient of the output with respect to the edge weights $w_{e_i}$. Edge weights are initially one for all edges.\n",
        "For the saliency method, we use the absolute value of the gradient as the attribution value for each edge:\n",
        "\n",
        "$$\n",
        "Attribution_{e_i} = |\\frac{\\partial F(x)}{\\partial w_{e_i}}|\n",
        "$$\n",
        "\n",
        "Where $x$ is the input and $F(x)$ is the output of the GNN model on input $x$.\n",
        "\n",
        "For Integrated Gradients method, we interpolate between the current input and a baseline input where the weight of all edges is zero and accumulate the gradient values for each edge:\n",
        "\n",
        "$$\n",
        "Attribution_{e_i} = \\int_{\\alpha =0}^1 \\frac{\\partial F(x_{\\alpha)}}{\\partial w_{e_i}} d\\alpha\n",
        "$$\n",
        "\n",
        "Where $x_{\\alpha}$ is the same as the original input graph but the weight of all edges is set to $\\alpha$. Integrated Gradients complete formulation is more complicated but since our initial edge weights are equal to one and the baseline is zero, it can be simplified to the formulation above. You can read more about this method [here](https://arxiv.org/abs/1703.01365). Of course, this can not be calculated directly and is approximated by a discrete sum.\n",
        "\n",
        "We use the [captum](https://captum.ai/) library for calculating the attribution values. We define the `model_forward` function which calculates the `batch` argument assuming that we are only explaining a single graph at a time.\n",
        "\n"
      ]
    },
    {
      "cell_type": "code",
      "metadata": {
        "id": "Wz6B1NgorzAX"
      },
      "source": [
        "from captum.attr import Saliency, IntegratedGradients\n",
        "\n",
        "def model_forward(edge_mask, data):\n",
        "    batch = torch.zeros(data.x.shape[0], dtype=int).to(device)\n",
        "    out = model(data.x, data.edge_index, batch, edge_mask)\n",
        "    return out\n",
        "\n",
        "\n",
        "def explain(method, data, target=0):\n",
        "    input_mask = torch.ones(data.edge_index.shape[1]).requires_grad_(True).to(device)\n",
        "    if method == 'ig':\n",
        "        ig = IntegratedGradients(model_forward)\n",
        "        mask = ig.attribute(input_mask, target=target,\n",
        "                            additional_forward_args=(data,),\n",
        "                            internal_batch_size=data.edge_index.shape[1])\n",
        "    elif method == 'saliency':\n",
        "        saliency = Saliency(model_forward)\n",
        "        mask = saliency.attribute(input_mask, target=target,\n",
        "                                  additional_forward_args=(data,))\n",
        "    else:\n",
        "        raise Exception('Unknown explanation method')\n",
        "\n",
        "    edge_mask = np.abs(mask.cpu().detach().numpy())\n",
        "    if edge_mask.max() > 0:  # avoid division by zero\n",
        "        edge_mask = edge_mask / edge_mask.max()\n",
        "    return edge_mask"
      ],
      "execution_count": 7,
      "outputs": []
    },
    {
      "cell_type": "markdown",
      "metadata": {
        "id": "0FPGLRtSFacR"
      },
      "source": [
        "Finally we take a random sample from the test dataset and run the explanation methods. For a simpler visualization, we make the graph undirected and merge the explanations of each edge in both directions.\n",
        "\n",
        "It is known that NO2 substructure makes the molecules mutagenic in many cases and you can verify this by the model explanations.\n",
        "\n",
        "Mutagenic molecules have label 0 in this dataset and we only sample from those molecules but you can change the code and see the explanations for the other class as well.\n",
        "\n",
        "In this visualization, edge colors and thickness represent the importance. You can also see the numeric value by passing `draw_edge_labels` to `draw_molecule` function.\n",
        "\n",
        "As you can see Integrated Gradients tend to create more accurate explanations."
      ]
    },
    {
      "cell_type": "code",
      "metadata": {
        "colab": {
          "base_uri": "https://localhost:8080/",
          "height": 621
        },
        "id": "Z1mJVbKorh5y",
        "outputId": "29a80c03-7bd5-48f5-dffd-2bf5a82b5fd1"
      },
      "source": [
        "import random\n",
        "from collections import defaultdict\n",
        "\n",
        "def aggregate_edge_directions(edge_mask, data):\n",
        "    edge_mask_dict = defaultdict(float)\n",
        "    for val, u, v in list(zip(edge_mask, *data.edge_index)):\n",
        "        u, v = u.item(), v.item()\n",
        "        if u > v:\n",
        "            u, v = v, u\n",
        "        edge_mask_dict[(u, v)] += val\n",
        "    return edge_mask_dict\n",
        "    \n",
        "\n",
        "data = random.choice([t for t in test_dataset if not t.y.item()])\n",
        "mol = to_molecule(data)\n",
        "\n",
        "for title, method in [('Integrated Gradients', 'ig'), ('Saliency', 'saliency')]:\n",
        "    edge_mask = explain(method, data, target=0)\n",
        "    edge_mask_dict = aggregate_edge_directions(edge_mask, data)\n",
        "    plt.figure(figsize=(10, 5))\n",
        "    plt.title(title)\n",
        "    draw_molecule(mol, edge_mask_dict)"
      ],
      "execution_count": 8,
      "outputs": [
        {
          "output_type": "display_data",
          "data": {
            "text/plain": [
              "<Figure size 720x360 with 1 Axes>"
            ],
            "image/png": "[encoded data removed]"
          },
          "metadata": {}
        },
        {
          "output_type": "display_data",
          "data": {
            "text/plain": [
              "<Figure size 720x360 with 1 Axes>"
            ],
            "image/png": "[encoded data removed]"
          },
          "metadata": {}
        }
      ]
    },
    {
      "cell_type": "code",
      "source": [
        ""
      ],
      "metadata": {
        "id": "gTLuV2WuZys6"
      },
      "execution_count": null,
      "outputs": []
    }
  ]
}